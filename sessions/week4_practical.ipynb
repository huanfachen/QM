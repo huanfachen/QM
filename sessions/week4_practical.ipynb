{
  "cells": [
    {
      "cell_type": "markdown",
      "metadata": {},
      "source": [
        "# Practical 4: Practising practical Linear Algebra\n",
        "\n",
        "This week is focussed on the key ideas from linear algebra which are the\n",
        "building blocks of regression, computational modelling and machine\n",
        "learning.\n",
        "\n",
        "## To add a callout-note\n",
        "\n",
        "> **Note**\n",
        ">\n",
        "> Don’t be intimidated by the maths!\n",
        ">\n",
        "> Even if you’re struggling with the maths try to focus on what you\n",
        "> think the code is doing.\n",
        "\n",
        "In the tutorial we’re going to explore the mathematical concepts from\n",
        "the lecture through an example.\n",
        "\n",
        "## A problem with bike parts\n",
        "\n",
        "### Background\n",
        "\n",
        "A factory produces three products:\n",
        "\n",
        "-   $x$ — handlebars  \n",
        "-   $y$ — brakes  \n",
        "-   $z$ — wheels\n",
        "\n",
        "From **each unit of aluminium** they can produce: 4 of $x$, 3 of $y$,\n",
        "and 8 of $z$.  \n",
        "From **each unit of rubber** they can produce: 1 of $x$, 100 of $y$, and\n",
        "9 of $z$.  \n",
        "From **each unit of paint** they can produce: 9 of $x$, 0 of $y$, and 2\n",
        "of $z$.\n",
        "\n",
        "Suppose the factory has:  \n",
        "- $a=100$ units of aluminium,  \n",
        "- $r=300$ units of rubber,  \n",
        "- $p=150$ units of paint.\n",
        "\n",
        "How many of each product $x, y, z$ can they produce?\n",
        "\n",
        "### Linear equations\n",
        "\n",
        "We can express the resource constraints as a system of equations:\n",
        "\n",
        "$$\n",
        "4x + 3y + 8z &= a, \n",
        "x + 100y + 9z &= r, \n",
        "9x + 0y + 2z &= p.\n",
        "$$\n",
        "\n",
        "### Matrix form\n",
        "\n",
        "This can be written compactly as:\n",
        "\n",
        "\\$\\$"
      ],
      "id": "c3722d42-456b-4e57-b90d-a210bf4df551"
    },
    {
      "cell_type": "raw",
      "metadata": {
        "raw_mimetype": "tex"
      },
      "source": [
        "\\begin{pmatrix}\n",
        "4 & 3 & 8 \\\\\n",
        "1 & 100 & 9 \\\\\n",
        "9 & 0 & 2\n",
        "\\end{pmatrix}"
      ],
      "id": "7dae1a05-cdf9-4794-ba23-778a58927eab"
    },
    {
      "cell_type": "raw",
      "metadata": {
        "raw_mimetype": "tex"
      },
      "source": [
        "\\begin{pmatrix}x\\\\y\\\\z\\end{pmatrix}"
      ],
      "id": "e59bfdac-da95-4f36-abf0-074fe75e77bb"
    },
    {
      "cell_type": "markdown",
      "metadata": {},
      "source": [
        "="
      ],
      "id": "39804f7b-a44d-4ff6-9892-699b5d64438e"
    },
    {
      "cell_type": "raw",
      "metadata": {
        "raw_mimetype": "tex"
      },
      "source": [
        "\\begin{pmatrix}a\\\\r\\\\p\\end{pmatrix}"
      ],
      "id": "5a159baf-e2a4-4f8d-9659-c8c24f30901b"
    },
    {
      "cell_type": "markdown",
      "metadata": {},
      "source": [
        ". \\$\\$\n",
        "\n",
        "That is, $$\n",
        "M\\bar{x} =b \n",
        "$$\n",
        "\n",
        "Where\n",
        "\n",
        "$$\n",
        "M = \n",
        "\\begin{pmatrix}\n",
        "4 & 3 & 8 \\\\\n",
        "1 & 100 & 9 \\\\\n",
        "9 & 0 & 2\n",
        "\\end{pmatrix}\n",
        "$$\n",
        "\n",
        "$$\n",
        "\\bar{x} = \\begin{pmatrix}x\\\\y\\\\z\\end{pmatrix}\n",
        "$$\n",
        "\n",
        "and $$\n",
        "b = \\begin{pmatrix}a\\\\r\\\\p\\end{pmatrix}.\n",
        "$$\n",
        "\n",
        "### Writing this is Python\n",
        "\n",
        "Let’s start by importing the libraries we need in Python."
      ],
      "id": "ee45b65e-73f2-4778-ad4a-59272809da26"
    },
    {
      "cell_type": "code",
      "execution_count": 1,
      "metadata": {},
      "outputs": [],
      "source": [
        "import numpy as np\n",
        "import plotly.graph_objects as go"
      ],
      "id": "9580d082"
    },
    {
      "cell_type": "markdown",
      "metadata": {},
      "source": [
        "We can write this same information in Python by creating variables."
      ],
      "id": "15fb29fa-a3ac-4f90-b4b1-2d7a4d71b99d"
    },
    {
      "cell_type": "code",
      "execution_count": 2,
      "metadata": {},
      "outputs": [],
      "source": [
        "# Coefficient matrix\n",
        "M = np.array([[4, 3, 8],\n",
        "              [1, 100, 9],\n",
        "              [9, 0, 2]], dtype=float)\n",
        "\n",
        "# Resource availability\n",
        "# [a, r, p]\n",
        "b = np.array([100.0, 300.0, 150.0], dtype=float)  "
      ],
      "id": "5b42f3b9"
    },
    {
      "cell_type": "markdown",
      "metadata": {},
      "source": [
        "In Python matrices are represented as an array of arrays (\\[\\] within\n",
        "other \\[\\]) - each array \\[\\] is a row of the matrix.\n",
        "\n",
        "## Solving the equations\n",
        "\n",
        "We can use in-built functions in Python to solve the system of linear\n",
        "equations. The library `np.linalg` provides us with all the matrix\n",
        "operations we need.\n",
        "\n",
        "### Checking the determinant\n",
        "\n",
        "From the lecture we saw that in order to solve a system of linear\n",
        "equations the corresponding coefficient matrix must be invertible - and\n",
        "this requires the determinant to be non-zero. So let’s start by checking\n",
        "the determinant of M is non-zero."
      ],
      "id": "094450a1-19f3-498d-b23f-77960e28bf1f"
    },
    {
      "cell_type": "code",
      "execution_count": 3,
      "metadata": {},
      "outputs": [
        {
          "output_type": "stream",
          "name": "stdout",
          "text": [
            "-6163.000000000011"
          ]
        }
      ],
      "source": [
        "# Calculate the determinant of M\n",
        "det_M = np.linalg.det(M)\n",
        "\n",
        "print(det_M)"
      ],
      "id": "06aeb372"
    },
    {
      "cell_type": "markdown",
      "metadata": {},
      "source": [
        "The det(M) is non-zero! This means that matrix M is invertible.\n",
        "\n",
        "### Inverting the matrix\n",
        "\n",
        "Now let’s calculate the inverse of M.\n",
        "\n",
        "> **Note**\n",
        ">\n",
        "> Remember: The inverse of a matrix M is denoted M^-1 and has the\n",
        "> property that M \\* M^-1 = I, where I is the identity matrix."
      ],
      "id": "9158452e-c62f-4f63-aef1-e69eeb93679a"
    },
    {
      "cell_type": "code",
      "execution_count": 4,
      "metadata": {},
      "outputs": [
        {
          "output_type": "stream",
          "name": "stdout",
          "text": [
            "[[-0.03245173  0.00097355  0.12542593]\n",
            " [-0.01281843  0.01038455  0.00454324]\n",
            " [ 0.14603278 -0.00438098 -0.06441668]]"
          ]
        }
      ],
      "source": [
        "# Invert M\n",
        "M_inv = np.linalg.inv(M)\n",
        "\n",
        "print(M_inv)"
      ],
      "id": "f6867914"
    },
    {
      "cell_type": "markdown",
      "metadata": {},
      "source": [
        "### The identity matrix\n",
        "\n",
        "Let’s check that $MM^{-1}= I$, where I is the 3x3 identity matrix:\n",
        "\n",
        "$$\n",
        "\\begin{pmatrix}\n",
        "1 & 0 & 0 \\\\\n",
        "0 & 1 & 0 \\\\\n",
        "0 & 0 & 1\n",
        "\\end{pmatrix}\n",
        "$$"
      ],
      "id": "b1c4b360-6a19-4c82-b47f-49633f787833"
    },
    {
      "cell_type": "code",
      "execution_count": 5,
      "metadata": {},
      "outputs": [
        {
          "output_type": "stream",
          "name": "stdout",
          "text": [
            "[[ 1.00000000e+00  6.93889390e-18  0.00000000e+00]\n",
            " [-2.22044605e-16  1.00000000e+00 -1.38777878e-17]\n",
            " [ 0.00000000e+00  0.00000000e+00  1.00000000e+00]]"
          ]
        }
      ],
      "source": [
        "# Multiply M by its inverse\n",
        "\n",
        "MM_inv = np.dot(M, M_inv)\n",
        "print(MM_inv)"
      ],
      "id": "52835b71"
    },
    {
      "cell_type": "markdown",
      "metadata": {},
      "source": [
        "Hmmmm… that’s weird. It’s not quite the identity matrix.\n",
        "\n",
        "The reason it’s not quite the dientity matrix is because we are using\n",
        "floating point values (`dtype=float`) in `Python` - which means there’s\n",
        "always going to be a small error - i.e. epsilon - $\\epsilon$)\n",
        "\n",
        "Rounding the matrix we see that it is very close to the identity."
      ],
      "id": "1f6707af-8af4-4c1e-8d03-30914fb20cf9"
    },
    {
      "cell_type": "code",
      "execution_count": 6,
      "metadata": {},
      "outputs": [
        {
          "output_type": "stream",
          "name": "stdout",
          "text": [
            "[[ 1.  0.  0.]\n",
            " [-0.  1. -0.]\n",
            " [ 0.  0.  1.]]"
          ]
        }
      ],
      "source": [
        "print(MM_inv.round(2))"
      ],
      "id": "1981a104"
    },
    {
      "cell_type": "markdown",
      "metadata": {},
      "source": [
        "Phew - it is the identity matrix!\n",
        "\n",
        "### Let’s solve it!\n",
        "\n",
        "As we saw in the lectures, we can get $x$ as follows:\n",
        "\n",
        "$$\n",
        "x = M^{-1}b\n",
        "$$\n",
        "\n",
        "We use the function `np.dot()` to take the [dot\n",
        "product](https://www.mathsisfun.com/algebra/matrix-multiplying.html)."
      ],
      "id": "9eaa8ca3-543f-46ff-b2dc-1c97dde7f171"
    },
    {
      "cell_type": "code",
      "execution_count": 7,
      "metadata": {},
      "outputs": [
        {
          "output_type": "stream",
          "name": "stdout",
          "text": [
            "[15.86078209  2.51500892  3.62648061]"
          ]
        }
      ],
      "source": [
        "# do M^-1 * b to get x_bar\n",
        "x_bar = np.dot(M_inv, b)\n",
        "\n",
        "print(x_bar)"
      ],
      "id": "ddf8f42d"
    },
    {
      "cell_type": "markdown",
      "metadata": {},
      "source": [
        "So we see that we can make 15.9 handlebrars, 2.5 brakes and 3.6 wheels.\n",
        "Which really limits the factories production to just one bike (or a\n",
        "tricycle).\n",
        "\n",
        "### Let’s solve it again!\n",
        "\n",
        "So above we calculated each step of the process. Alternatively we can\n",
        "solve the equations using `numpy`s linear algebra solver, which skips\n",
        "most of the steps."
      ],
      "id": "f7adcc77-1896-40d8-9ff5-1e54c3740f6b"
    },
    {
      "cell_type": "code",
      "execution_count": 8,
      "metadata": {},
      "outputs": [
        {
          "output_type": "stream",
          "name": "stdout",
          "text": [
            "[15.86078209  2.51500892  3.62648061]"
          ]
        }
      ],
      "source": [
        "## Solve the equations using numpy's linear algebra solver\n",
        "x_bar = np.linalg.solve(M, b)\n",
        "\n",
        "print(x_bar)"
      ],
      "id": "fa4d47f4"
    },
    {
      "cell_type": "markdown",
      "metadata": {},
      "source": [
        "## Visualising\n",
        "\n",
        "In 2-dimensions and 3-dimensions we can visualise the solution to our\n",
        "set of equations. For two equations the solution will be the point where\n",
        "the two lines intersect. In three dimensiosn the solution is the\n",
        "intersection of the three planes described by the equation.\n",
        "\n",
        "We can plot our equations in 3D space to see this."
      ],
      "id": "922264bc-b690-44f4-b9dd-16e1dd840861"
    },
    {
      "cell_type": "code",
      "execution_count": 9,
      "metadata": {},
      "outputs": [],
      "source": [
        "# Coefficients and resources\n",
        "a, r, p = 100, 300, 150\n",
        "\n",
        "# Define grid\n",
        "x = np.linspace(0, 30, 50)\n",
        "y = np.linspace(0, 30, 50)\n",
        "X, Y = np.meshgrid(x, y)\n",
        "\n",
        "# Constraint surfaces\n",
        "Z1 = (a - 4*X - 3*Y) / 8\n",
        "Z2 = (r - X - 100*Y) / 9\n",
        "Z3 = (p - 9*X) / 2\n",
        "\n",
        "# Solve system\n",
        "M = np.array([[4, 3, 8],\n",
        "              [1,100, 9],\n",
        "              [9, 0, 2]], dtype=float)\n",
        "b = np.array([a, r, p], dtype=float)\n",
        "solution = np.linalg.solve(M, b)"
      ],
      "id": "2cddc2e7"
    },
    {
      "cell_type": "markdown",
      "metadata": {},
      "source": [
        "And now we can plot the intersecting planes."
      ],
      "id": "5c6c62c7-9f9d-4697-98a6-9756012ef931"
    },
    {
      "cell_type": "code",
      "execution_count": 10,
      "metadata": {},
      "outputs": [
        {
          "output_type": "display_data",
          "metadata": {},
          "data": {
            "text/html": [
              "        <script type=\"text/javascript\">\n",
              "        window.PlotlyConfig = {MathJaxConfig: 'local'};\n",
              "        if (window.MathJax && window.MathJax.Hub && window.MathJax.Hub.Config) {window.MathJax.Hub.Config({SVG: {font: \"STIX-Web\"}});}\n",
              "        </script>\n",
              "        <script type=\"module\">import \"https://cdn.plot.ly/plotly-3.1.0.min\"</script>\n",
              "        "
            ]
          }
        },
        {
          "output_type": "display_data",
          "metadata": {},
          "data": {
            "text/html": [
              "<div>            <script src=\"https://cdnjs.cloudflare.com/ajax/libs/mathjax/2.7.5/MathJax.js?config=TeX-AMS-MML_SVG\"></script><script type=\"text/javascript\">if (window.MathJax && window.MathJax.Hub && window.MathJax.Hub.Config) {window.MathJax.Hub.Config({SVG: {font: \"STIX-Web\"}});}</script>                <script type=\"text/javascript\">window.PlotlyConfig = {MathJaxConfig: 'local'};</script>\n",
              "        <script charset=\"utf-8\" src=\"https://cdn.plot.ly/plotly-3.1.0.min.js\" integrity=\"sha256-Ei4740bWZhaUTQuD6q9yQlgVCMPBz6CZWhevDYPv93A=\" crossorigin=\"anonymous\"></script>                <div id=\"765ef330-e49d-45eb-82b6-d84bbe832e77\" class=\"plotly-graph-div\" style=\"height:525px; width:100%;\"></div>            <script type=\"text/javascript\">                window.PLOTLYENV=window.PLOTLYENV || {};                                if (document.getElementById(\"765ef330-e49d-45eb-82b6-d84bbe832e77\")) {                    Plotly.newPlot(                        \"765ef330-e49d-45eb-82b6-d84bbe832e77\",                        [{\"colorscale\":[[0.0,\"rgb(247,251,255)\"],[0.125,\"rgb(222,235,247)\"],[0.25,\"rgb(198,219,239)\"],[0.375,\"rgb(158,202,225)\"],[0.5,\"rgb(107,174,214)\"],[0.625,\"rgb(66,146,198)\"],[0.75,\"rgb(33,113,181)\"],[0.875,\"rgb(8,81,156)\"],[1.0,\"rgb(8,48,107)\"]],\"name\":\"Aluminium\",\"opacity\":0.5,\"x\":{\"dtype\":\"f8\",\"bdata\":\"AAAAAAAAAADmFLycgpfjP+YUvJyCl\\u002fM\\u002fWR8a60Nj\\u002fT\\u002fmFLycgpcDQCAa60NjfQhAWR8a60NjDUBJkiRJkiQRQOYUvJyClxNAg5dT8HIKFkAgGutDY30YQLycgpdT8BpAWR8a60NjHUD2obE+NNYfQEmSJEmSJCFAmFPwcgpeIkDmFLycgpcjQDTWh8b60CRAg5dT8HIKJkDRWB8a60MnQCAa60NjfShAbtu2bdu2KUC8nIKXU\\u002fAqQAteTsHLKSxAWR8a60NjLUCn4OUUvJwuQPahsT401i9AorE+NNaHMEBJkiRJkiQxQPByCl5OwTFAmFPwcgpeMkA\\u002fNNaHxvoyQOYUvJyClzNAjfWhsT40NEA01ofG+tA0QNy2bdu2bTVAg5dT8HIKNkAqeDkFL6c2QNFYHxrrQzdAeDkFL6fgN0AgGutDY304QMf60FgfGjlAbtu2bdu2OUAVvJyCl1M6QLycgpdT8DpAY31orA+NO0ALXk7Byyk8QLI+NNaHxjxAWR8a60NjPUAAAAAAAAA+QA==\"},\"y\":{\"dtype\":\"f8\",\"bdata\":\"AAAAAAAAAADmFLycgpfjP+YUvJyCl\\u002fM\\u002fWR8a60Nj\\u002fT\\u002fmFLycgpcDQCAa60NjfQhAWR8a60NjDUBJkiRJkiQRQOYUvJyClxNAg5dT8HIKFkAgGutDY30YQLycgpdT8BpAWR8a60NjHUD2obE+NNYfQEmSJEmSJCFAmFPwcgpeIkDmFLycgpcjQDTWh8b60CRAg5dT8HIKJkDRWB8a60MnQCAa60NjfShAbtu2bdu2KUC8nIKXU\\u002fAqQAteTsHLKSxAWR8a60NjLUCn4OUUvJwuQPahsT401i9AorE+NNaHMEBJkiRJkiQxQPByCl5OwTFAmFPwcgpeMkA\\u002fNNaHxvoyQOYUvJyClzNAjfWhsT40NEA01ofG+tA0QNy2bdu2bTVAg5dT8HIKNkAqeDkFL6c2QNFYHxrrQzdAeDkFL6fgN0AgGutDY304QMf60FgfGjlAbtu2bdu2OUAVvJyCl1M6QLycgpdT8DpAY31orA+NO0ALXk7Byyk8QLI+NNaHxjxAWR8a60NjPUAAAAAAAAA+QA==\"},\"z\":{\"dtype\":\"f8\",\"bdata\":\"AAAAAAAAKUBZHxrrQ2MoQLI+NNaHxidACl5OwcspJ0BjfWisD40mQLycgpdT8CVAFbycgpdTJUBu27Zt27YkQMb60FgfGiRAHxrrQ2N9I0B4OQUvp+AiQNFYHxrrQyJAKng5BS+nIUCCl1PwcgohQNy2bdu2bSBAaKwPjfWhH0Aa60NjfWgeQMwpeDkFLx1AfWisD431G0Avp+DlFLwaQODlFLycghlAkiRJkiRJGEBEY31orA8XQPWhsT401hVAp+DlFLycFEBZHxrrQ2MTQApeTsHLKRJAvJyCl1PwEEDctm3btm0PQEA01ofG+gxAoLE+NNaHCkAEL6fg5RQIQGisD431oQVAzCl4OQUvA0Awp+DlFLwAQCBJkiRJkvw\\u002f6ENjfWis9z+wPjTWh8byP\\u002fByCl5Owes\\u002fgGisD4314T8AvJyCl1PQPwDH+tBYH6q\\u002fwG3btm3b1r9QwcspeDnlv8DLKXg5Be+\\u002fGOtDY31o9L9Y8HIKXk75v5D1obE+NP6\\u002fZH1orA+NAcAAAAAAAAAEwIOXU\\u002fByiihA3LZt27btJ0A11ofG+lAnQI31obE+tCZA5hS8nIIXJkA\\u002fNNaHxnolQJhT8HIK3iRA8XIKXk5BJEBJkiRJkqQjQKKxPjTWByNA+9BYHxprIkBU8HIKXs4hQK0PjfWhMSFABS+n4OWUIEC9nIKXU\\u002fAfQG3btm3bth5AHxrrQ2N9HUDRWB8a60McQIKXU\\u002fByChtANNaHxvrQGUDlFLycgpcYQJdT8HIKXhdASZIkSZIkFkD60FgfGusUQKwPjfWhsRNAXk7Byyl4EkAPjfWhsT4RQMHLKXg5BRBA5hS8nIKXDUBKkiRJkiQLQKoPjfWhsQhADo31obE+BkByCl5OwcsDQNaHxvrQWAFAdQpeTsHL\\u002fT81BS+n4OX4P\\u002f3\\u002f\\u002f\\u002f\\u002f\\u002f\\u002f\\u002fM\\u002fivWhsT407j8a60NjfWjkP1TByyl4OdU\\u002fOMX60Fgfmj+MaKwPjfXRv7Y+NNaHxuK\\u002fJkmSJEmS7L\\u002fLKXg5BS\\u002fzvwMvp+DlFPi\\u002fQzTWh8b6\\u002fL++nIKXU\\u002fAAwFofGutDYwPA9qGxPjTWBcAFL6fg5RQoQF5OwcspeCdAt23btm3bJkAPjfWhsT4mQGisD431oSVAwcspeDkFJUAa60NjfWgkQHMKXk7ByyNAyyl4OQUvI0AkSZIkSZIiQH1orA+N9SFA1ofG+tBYIUAvp+DlFLwgQIfG+tBYHyBAwsspeDkFH0ByCl5OwcsdQCRJkiRJkhxA1ofG+tBYG0CHxvrQWB8aQDkFL6fg5RhA6kNjfWisF0CcgpdT8HIWQE7Byyl4ORVA\\u002f\\u002f\\u002f\\u002f\\u002f\\u002f\\u002f\\u002fE0CxPjTWh8YSQGN9aKwPjRFAFLycgpdTEECN9aGxPjQOQPFyCl5OwQtAVfByCl5OCUC1bdu2bdsGQBnrQ2N9aARAfWisD431AUDCyyl4OQX\\u002fP4rG+tBYH\\u002fo\\u002fSsHLKXg59T8SvJyCl1PwP7Rt27Zt2+Y\\u002fh8b60Fgf2j+cxvrQWB+6P7LG+tBYH8q\\u002fHLycgpdT4L+MxvrQWB\\u002fqv35orA+N9fG\\u002ftm3btm3b9r\\u002fucgpeTsH7vxe8nIKXUwDAsz401ofGAsBPwcspeDkFwOtDY31orAfAiMb60FifJ0Dh5RS8nAInQDoFL6fgZSZAkiRJkiTJJUDrQ2N9aCwlQERjfWisjyRAnYKXU\\u002fDyI0D2obE+NFYjQE7Byyl4uSJAp+DlFLwcIkAAAAAAAIAhQFkfGutD4yBAsj401odGIEAUvJyCl1MfQMj60FgfGh5AeDkFL6fgHEAqeDkFL6cbQNy2bdu2bRpAjfWhsT40GUA\\u002fNNaHxvoXQPByCl5OwRZAorE+NNaHFUBU8HIKXk4UQAUvp+DlFBNAt23btm3bEUBprA+N9aEQQDPWh8b60A5Al1PwcgpeDED70FgfGusJQF9OwcspeAdAv8speDkFBUAjSZIkSZICQIfG+tBYHwBA1ofG+tBY+z+egpdT8HL2P159aKwPjfE\\u002fTfByCl5O6T+6yyl4OQXfP7Rt27Zt28Y\\u002fDLycgpdTwL8GcwpeTsHbv\\u002fNDY31orOe\\u002fMqfg5RS88L9qrA+N9aH1v6KxPjTWh\\u002fq\\u002f2rZt27Zt\\u002f78NXk7ByykCwKng5RS8nATARWN9aKwPB8Dh5RS8nIIJwApeTsHLKSdAY31orA+NJkC8nIKXU\\u002fAlQBS8nIKXUyVAbdu2bdu2JEDG+tBYHxokQB8a60NjfSNAeDkFL6fgIkDQWB8a60MiQCl4OQUvpyFAgpdT8HIKIUDbtm3btm0gQGmsD431oR9AGetDY31oHkDNKXg5BS8dQH1orA+N9RtAL6fg5RS8GkDh5RS8nIIZQJIkSZIkSRhARGN9aKwPF0D1obE+NNYVQKfg5RS8nBRAWR8a60NjE0AKXk7ByykSQLycgpdT8BBA3LZt27ZtD0A+NNaHxvoMQKKxPjTWhwpABi+n4OUUCEBqrA+N9aEFQMopeDkFLwNALqfg5RS8AEAkSZIkSZL8P+xDY31orPc\\u002ftD401ofG8j\\u002fncgpeTsHrP3dorA+N9eE\\u002fDrycgpdT0D+QxvrQWB+qv7Jt27Zt29a\\u002fWcHLKXg55b\\u002fJyyl4OQXvvxzrQ2N9aPS\\u002fVPByCl5O+b+M9aGxPjT+v2J9aKwPjQHAAgAAAAAABMCegpdT8HIGwDoFL6fg5QjA1ofG+tBYC8CN9aGxPrQmQOYUvJyCFyZAPzTWh8Z6JUCXU\\u002fByCt4kQPByCl5OQSRASZIkSZKkI0CisT401gcjQPvQWB8aayJAU\\u002fByCl7OIUCsD431oTEhQAUvp+DllCBAvJyCl1PwH0Bu27Zt27YeQB4a60NjfR1A0lgfGutDHECCl1PwcgobQDTWh8b60BlA5hS8nIKXGECXU\\u002fByCl4XQEmSJEmSJBZA+tBYHxrrFECsD431obETQF5OwcspeBJAD431obE+EUDByyl4OQUQQOYUvJyClw1ASJIkSZIkC0CsD431obEIQBCN9aGxPgZAdApeTsHLA0DUh8b60FgBQHAKXk7By\\u002f0\\u002fOAUvp+Dl+D8AAAAAAAD0P5D1obE+NO4\\u002fEOtDY31o5D9AwcspeDnVPwDG+tBYH5o\\u002fgGisD4310b+wPjTWh8bivzBJkiRJkuy\\u002f0Cl4OQUv878IL6fg5RT4v0A01ofG+vy\\u002fvJyCl1PwAMBYHxrrQ2MDwPihsT401gXAlCRJkiRJCMAwp+DlFLwKwMwpeDkFLw3AEI31obE+JkBprA+N9aElQMLLKXg5BSVAGutDY31oJEBzCl5OwcsjQMwpeDkFLyNAJUmSJEmSIkB+aKwPjfUhQNaHxvrQWCFAL6fg5RS8IECIxvrQWB8gQMHLKXg5BR9AcwpeTsHLHUAjSZIkSZIcQNeHxvrQWBtAh8b60FgfGkA5BS+n4OUYQOtDY31orBdAnIKXU\\u002fByFkBOwcspeDkVQP\\u002f\\u002f\\u002f\\u002f\\u002f\\u002f\\u002fxNAsT401ofGEkBjfWisD40RQBS8nIKXUxBAjPWhsT40DkDwcgpeTsELQFLwcgpeTglAtm3btm3bBkAa60NjfWgEQH5orA+N9QFAvcspeDkF\\u002fz+FxvrQWB\\u002f6P03Byyl4OfU\\u002fFbycgpdT8D+6bdu2bdvmP3TG+tBYH9o\\u002fUMb60Fgfuj+YxvrQWB\\u002fKvxa8nIKXU+C\\u002fhsb60Fgf6r+DaKwPjfXxv7tt27Zt2\\u002fa\\u002f83IKXk7B+78WvJyCl1MAwLI+NNaHxgLATsHLKXg5BcDuQ2N9aKwHwIrG+tBYHwrAJkmSJEmSDMDCyyl4OQUPwJIkSZIkySVA60NjfWgsJUBEY31orI8kQJyCl1Pw8iNA9aGxPjRWI0BOwcspeLkiQKfg5RS8HCJAAAAAAACAIUBYHxrrQ+MgQLE+NNaHRiBAFLycgpdTH0DG+tBYHxoeQHg5BS+n4BxAKHg5BS+nG0Dctm3btm0aQIz1obE+NBlAPjTWh8b6F0DwcgpeTsEWQKKxPjTWhxVAVPByCl5OFEAEL6fg5RQTQLZt27Zt2xFAaKwPjfWhEEAz1ofG+tAOQJdT8HIKXgxA+9BYHxrrCUBdTsHLKXgHQMHLKXg5BQVAJUmSJEmSAkCJxvrQWB8AQNKHxvrQWPs\\u002fmoKXU\\u002fBy9j9ifWisD43xP1TwcgpeTuk\\u002fyMspeDkF3z+Qbdu2bdvGPzC8nIKXU8C\\u002f+HIKXk7B27\\u002fsQ2N9aKznvy6n4OUUvPC\\u002fbqwPjfWh9b+msT401of6v962bdu2bf+\\u002fC15OwcspAsCn4OUUvJwEwENjfWisDwfA4+UUvJyCCcB\\u002faKwPjfULwBvrQ2N9aA7A3LZt27ZtEMAVvJyCl1MlQG7btm3btiRAx\\u002frQWB8aJEAfGutDY30jQHg5BS+n4CJA0VgfGutDIkAqeDkFL6chQIOXU\\u002fByCiFA27Zt27ZtIEBorA+N9aEfQBrrQ2N9aB5AzCl4OQUvHUB+aKwPjfUbQC6n4OUUvBpA4uUUvJyCGUCSJEmSJEkYQERjfWisDxdA9qGxPjTWFUCn4OUUvJwUQFkfGutDYxNACl5OwcspEkC8nIKXU\\u002fAQQNy2bdu2bQ9APjTWh8b6DECisT401ocKQAYvp+DlFAhAaKwPjfWhBUDMKXg5BS8DQDCn4OUUvABAJ0mSJEmS\\u002fD\\u002fnQ2N9aKz3P68+NNaHxvI\\u002f7nIKXk7B6z9+aKwPjfXhPxy8nIKXU9A\\u002fIMf60Fgfqr\\u002fEbdu2bdvWv1LByyl4OeW\\u002fwsspeDkF778Z60NjfWj0v1nwcgpeTvm\\u002fkfWhsT40\\u002fr9kfWisD40BwAAAAAAAAATAnIKXU\\u002fByBsA4BS+n4OUIwNiHxvrQWAvAdApeTsHLDcCIxvrQWB8QwNaHxvrQWBHAmFPwcgreJEDwcgpeTkEkQEqSJEmSpCNAorE+NNYHI0D60FgfGmsiQFTwcgpeziFArA+N9aExIUAGL6fg5ZQgQLucgpdT8B9Abdu2bdu2HkAfGutDY30dQNFYHxrrQxxAg5dT8HIKG0Az1ofG+tAZQOcUvJyClxhAl1PwcgpeF0BJkiRJkiQWQPvQWB8a6xRArA+N9aGxE0BeTsHLKXgSQA+N9aGxPhFAwcspeDkFEEDmFLycgpcNQEiSJEmSJAtArA+N9aGxCEAQjfWhsT4GQHIKXk7BywNA1ofG+tBYAUB0Cl5Owcv9PzwFL6fg5fg\\u002f\\u002fP\\u002f\\u002f\\u002f\\u002f\\u002f\\u002f8z+I9aGxPjTuPxjrQ2N9aOQ\\u002fUMHLKXg51T8Ax\\u002frQWB+aP5BorA+N9dG\\u002fuD401ofG4r8oSZIkSZLsv8wpeDkFL\\u002fO\\u002fBC+n4OUU+L9ENNaHxvr8v76cgpdT8ADAWh8a60NjA8D2obE+NNYFwJIkSZIkSQjALqfg5RS8CsDOKXg5BS8NwGqsD431oQ\\u002fAg5dT8HIKEcDRWB8a60MSwBrrQ2N9aCRAcwpeTsHLI0DMKXg5BS8jQCRJkiRJkiJAfWisD431IUDWh8b60FghQC+n4OUUvCBAiMb60FgfIEDAyyl4OQUfQHIKXk7Byx1AJEmSJEmSHEDWh8b60FgbQIjG+tBYHxpAOAUvp+DlGEDsQ2N9aKwXQJyCl1PwchZATsHLKXg5FUAAAAAAAAAUQLE+NNaHxhJAY31orA+NEUAUvJyCl1MQQIz1obE+NA5A8HIKXk7BC0BS8HIKXk4JQLZt27Zt2wZAGutDY31oBEB8aKwPjfUBQMDLKXg5Bf8\\u002fiMb60Fgf+j9QwcspeDn1PxC8nIKXU\\u002fA\\u002fsG3btm3b5j+AxvrQWB\\u002faP4DG+tBYH7o\\u002fgMb60Fgfyr8gvJyCl1Pgv5DG+tBYH+q\\u002fgGisD4318b+4bdu2bdv2v\\u002fByCl5Owfu\\u002fGLycgpdTAMC0PjTWh8YCwFDByyl4OQXA7ENjfWisB8CIxvrQWB8KwCRJkiRJkgzAxMspeDkFD8Awp+DlFLwQwH5orA+N9RHAzCl4OQUvE8CdgpdT8PIjQPahsT40ViNAT8HLKXi5IkCn4OUUvBwiQAAAAAAAgCFAWR8a60PjIECyPjTWh0YgQBa8nIKXUx9AxvrQWB8aHkB4OQUvp+AcQCp4OQUvpxtA3LZt27ZtGkCO9aGxPjQZQD401ofG+hdA8nIKXk7BFkCisT401ocVQFTwcgpeThRABi+n4OUUE0C2bdu2bdsRQGisD431oRBAM9aHxvrQDkCXU\\u002fByCl4MQPvQWB8a6wlAXU7Byyl4B0DByyl4OQUFQCVJkiRJkgJAh8b60FgfAEDWh8b60Fj7P56Cl1PwcvY\\u002fZn1orA+N8T9M8HIKXk7pP7jLKXg5Bd8\\u002fsG3btm3bxj8QvJyCl1PAv+hyCl5Owdu\\u002f9ENjfWis578yp+DlFLzwv2qsD431ofW\\u002forE+NNaH+r\\u002fatm3btm3\\u002fvw1eTsHLKQLAqeDlFLycBMBFY31orA8HwOHlFLycggnAfWisD431C8AZ60NjfWgOwNy2bdu2bRDAKng5BS+nEcB4OQUvp+ASwMb60FgfGhTAHxrrQ2N9I0B4OQUvp+AiQNFYHxrrQyJAKXg5BS+nIUCCl1PwcgohQNu2bdu2bSBAaKwPjfWhH0Aa60NjfWgeQMopeDkFLx1AfGisD431G0Aup+DlFLwaQODlFLycghlAkiRJkiRJGEBCY31orA8XQPahsT401hVApuDlFLycFEBYHxrrQ2MTQApeTsHLKRJAvJyCl1PwEEDbtm3btm0PQD001ofG+gxAobE+NNaHCkAFL6fg5RQIQGesD431oQVAyyl4OQUvA0Avp+DlFLwAQCJJkiRJkvw\\u002f6kNjfWis9z+yPjTWh8byP\\u002fRyCl5Owes\\u002fdGisD4314T8IvJyCl1PQP8DG+tBYH6q\\u002fuG3btm3b1r9MwcspeDnlv8zLKXg5Be+\\u002fHutDY31o9L9W8HIKXk75v471obE+NP6\\u002fY31orA+NAcADAAAAAAAEwJ+Cl1PwcgbAOwUvp+DlCMDXh8b60FgLwHMKXk7Byw3AiMb60FgfEMDYh8b60FgRwCZJkiRJkhLAdApeTsHLE8DCyyl4OQUVwKKxPjTWByNA+9BYHxprIkBU8HIKXs4hQKwPjfWhMSFABS+n4OWUIEC8nIKXU\\u002fAfQG7btm3bth5AIBrrQ2N9HUDQWB8a60McQIKXU\\u002fByChtANNaHxvrQGUDmFLycgpcYQJhT8HIKXhdASJIkSZIkFkD80FgfGusUQKwPjfWhsRNAXk7Byyl4EkAQjfWhsT4RQMHLKXg5BRBA5hS8nIKXDUBIkiRJkiQLQKwPjfWhsQhAEI31obE+BkByCl5OwcsDQNaHxvrQWAFAdApeTsHL\\u002fT84BS+n4OX4PwAAAAAAAPQ\\u002fkPWhsT407j8g60NjfWjkP0DByyl4OdU\\u002fAMb60Fgfmj+AaKwPjfXRv7A+NNaHxuK\\u002fIEmSJEmS7L\\u002fQKXg5BS\\u002fzvwgvp+DlFPi\\u002fQDTWh8b6\\u002fL+8nIKXU\\u002fAAwFgfGutDYwPA+KGxPjTWBcCUJEmSJEkIwDCn4OUUvArAzCl4OQUvDcBorA+N9aEPwIKXU\\u002fByChHA0lgfGutDEsAgGutDY30TwG7btm3bthTAvJyCl1PwFcAkSZIkSZIiQH5orA+N9SFA1ofG+tBYIUAup+DlFLwgQIjG+tBYHyBAwcspeDkFH0BzCl5OwcsdQCVJkiRJkhxA1YfG+tBYG0CHxvrQWB8aQDkFL6fg5RhA60NjfWisF0CdgpdT8HIWQE3Byyl4ORVAAQAAAAAAFECxPjTWh8YSQGN9aKwPjRFAFbycgpdTEECM9aGxPjQOQPByCl5OwQtAUvByCl5OCUC2bdu2bdsGQBrrQ2N9aARAfGisD431AUDAyyl4OQX\\u002fP4jG+tBYH\\u002fo\\u002fTMHLKXg59T8UvJyCl1PwP7ht27Zt2+Y\\u002fkMb60Fgf2j9AxvrQWB+6P6DG+tBYH8q\\u002fGLycgpdT4L+IxvrQWB\\u002fqv3xorA+N9fG\\u002fvG3btm3b9r\\u002f0cgpeTsH7vxa8nIKXUwDAsj401ofGAsBOwcspeDkFwO5DY31orAfAisb60FgfCsAmSZIkSZIMwMLLKXg5BQ\\u002fAL6fg5RS8EMB9aKwPjfURwM0peDkFLxPAG+tDY31oFMBprA+N9aEVwLdt27Zt2xbAp+DlFLwcIkAAAAAAAIAhQFkfGutD4yBAsT401odGIEAUvJyCl1MfQMb60FgfGh5AeDkFL6fgHEAqeDkFL6cbQNq2bdu2bRpAjPWhsT40GUA+NNaHxvoXQPByCl5OwRZAorE+NNaHFUBS8HIKXk4UQAYvp+DlFBNAtm3btm3bEUBorA+N9aEQQDTWh8b60A5AllPwcgpeDED60FgfGusJQFxOwcspeAdAwMspeDkFBUAkSZIkSZICQIbG+tBYHwBA1IfG+tBY+z+cgpdT8HL2P2B9aKwPjfE\\u002fUPByCl5O6T\\u002fAyyl4OQXfP8Bt27Zt28Y\\u002fQLycgpdTwL8AcwpeTsHbv\\u002fBDY31orOe\\u002fMKfg5RS88L9orA+N9aH1v6ixPjTWh\\u002fq\\u002f4LZt27Zt\\u002f78MXk7ByykCwKjg5RS8nATARGN9aKwPB8Dk5RS8nIIJwIBorA+N9QvAHOtDY31oDsDctm3btm0QwCp4OQUvpxHAeDkFL6fgEsDI+tBYHxoUwBa8nIKXUxXAZH1orA+NFsCyPjTWh8YXwCp4OQUvpyFAg5dT8HIKIUDctm3btm0gQGisD431oR9AGutDY31oHkDMKXg5BS8dQH5orA+N9RtAMKfg5RS8GkDg5RS8nIIZQJIkSZIkSRhARGN9aKwPF0D2obE+NNYVQKjg5RS8nBRAWB8a60NjE0AMXk7ByykSQLycgpdT8BBA27Zt27ZtD0A\\u002fNNaHxvoMQKGxPjTWhwpABS+n4OUUCEBnrA+N9aEFQMspeDkFLwNAL6fg5RS8AEAiSZIkSZL8P+pDY31orPc\\u002fsj401ofG8j\\u002fscgpeTsHrP3xorA+N9eE\\u002fGLycgpdT0D9AxvrQWB+qv8ht27Zt29a\\u002fVMHLKXg55b\\u002fEyyl4OQXvvxrrQ2N9aPS\\u002fUvByCl5O+b+S9aGxPjT+v2V9aKwPjQHAAQAAAAAABMCdgpdT8HIGwDkFL6fg5QjA2YfG+tBYC8B1Cl5OwcsNwIjG+tBYHxDA1ofG+tBYEcAkSZIkSZISwHIKXk7ByxPAwsspeDkFFcAQjfWhsT4WwF5OwcspeBfArA+N9aGxGMCsD431oTEhQAYvp+DllCBAvZyCl1PwH0Bt27Zt27YeQB8a60NjfR1A0VgfGutDHECDl1PwcgobQDXWh8b60BlA5RS8nIKXGECXU\\u002fByCl4XQEmSJEmSJBZA+9BYHxrrFECtD431obETQF1OwcspeBJAEY31obE+EUDByyl4OQUQQOYUvJyClw1ASpIkSZIkC0CsD431obEIQBCN9aGxPgZAcgpeTsHLA0DWh8b60FgBQHQKXk7By\\u002f0\\u002fOAUvp+Dl+D8AAAAAAAD0P5D1obE+NO4\\u002fGOtDY31o5D9QwcspeDnVPwDH+tBYH5o\\u002fcGisD4310b+4PjTWh8bivyhJkiRJkuy\\u002fzCl4OQUv878EL6fg5RT4vzw01ofG+vy\\u002fvpyCl1PwAMBaHxrrQ2MDwPahsT401gXAkiRJkiRJCMAup+DlFLwKwM4peDkFLw3AaqwPjfWhD8CDl1PwcgoRwNFYHxrrQxLAHxrrQ2N9E8Bt27Zt27YUwL2cgpdT8BXAC15OwcspF8BZHxrrQ2MYwKfg5RS8nBnAL6fg5RS8IECIxvrQWB8gQMLLKXg5BR9AcgpeTsHLHUAkSZIkSZIcQNaHxvrQWBtAiMb60FgfGkA6BS+n4OUYQOpDY31orBdAnIKXU\\u002fByFkBOwcspeDkVQAAAAAAAABRAsj401ofGEkBifWisD40RQBa8nIKXUxBAjPWhsT40DkDwcgpeTsELQFTwcgpeTglAtm3btm3bBkAa60NjfWgEQHxorA+N9QFAwMspeDkF\\u002fz+IxvrQWB\\u002f6P0zByyl4OfU\\u002fFLycgpdT8D+4bdu2bdvmP4DG+tBYH9o\\u002fgMb60Fgfuj+AxvrQWB\\u002fKvxC8nIKXU+C\\u002fkMb60Fgf6r+AaKwPjfXxv7ht27Zt2\\u002fa\\u002f8HIKXk7B+78UvJyCl1MAwLQ+NNaHxgLAUMHLKXg5BcDsQ2N9aKwHwIjG+tBYHwrAJEmSJEmSDMDEyyl4OQUPwDCn4OUUvBDAfmisD431EcDMKXg5BS8TwBrrQ2N9aBTAaKwPjfWhFcC4bdu2bdsWwAYvp+DlFBjAVPByCl5OGcCisT401ocawLI+NNaHRiBAFbycgpdTH0DH+tBYHxoeQHc5BS+n4BxAKXg5BS+nG0Dbtm3btm0aQI31obE+NBlAPzTWh8b6F0DvcgpeTsEWQKGxPjTWhxVAU\\u002fByCl5OFEAFL6fg5RQTQLdt27Zt2xFAZ6wPjfWhEEA21ofG+tAOQJZT8HIKXgxA+tBYHxrrCUBeTsHLKXgHQMDLKXg5BQVAJEmSJEmSAkCGxvrQWB8AQNSHxvrQWPs\\u002fnIKXU\\u002fBy9j9gfWisD43xP1DwcgpeTuk\\u002fwMspeDkF3z+gbdu2bdvGPyC8nIKXU8C\\u002f8HIKXk7B27\\u002foQ2N9aKznvzSn4OUUvPC\\u002fbKwPjfWh9b+ksT401of6v9y2bdu2bf+\\u002fCl5OwcspAsCq4OUUvJwEwEZjfWisDwfA4uUUvJyCCcB+aKwPjfULwBrrQ2N9aA7A3bZt27ZtEMAreDkFL6cRwHk5BS+n4BLAx\\u002frQWB8aFMAVvJyCl1MVwGN9aKwPjRbAsz401ofGF8ABAAAAAAAZwE\\u002fByyl4ORrAnYKXU\\u002fByG8BorA+N9aEfQBrrQ2N9aB5AzCl4OQUvHUB8aKwPjfUbQC6n4OUUvBpA4OUUvJyCGUCSJEmSJEkYQERjfWisDxdA9KGxPjTWFUCm4OUUvJwUQFgfGutDYxNACl5OwcspEkC8nIKXU\\u002fAQQNi2bdu2bQ9AQDTWh8b6DECgsT401ocKQAQvp+DlFAhAaKwPjfWhBUDKKXg5BS8DQC6n4OUUvABAIEmSJEmS\\u002fD\\u002foQ2N9aKz3P7A+NNaHxvI\\u002f6HIKXk7B6z94aKwPjfXhPxC8nIKXU9A\\u002fAMf60Fgfqr\\u002fAbdu2bdvWv1DByyl4OeW\\u002fwMspeDkF778g60NjfWj0v1jwcgpeTvm\\u002fkPWhsT40\\u002fr9kfWisD40BwAAAAAAAAATAoIKXU\\u002fByBsA8BS+n4OUIwNiHxvrQWAvAdApeTsHLDcCIxvrQWB8QwNiHxvrQWBHAJkmSJEmSEsB0Cl5OwcsTwMLLKXg5BRXAEI31obE+FsBeTsHLKXgXwK4PjfWhsRjA\\u002fNBYHxrrGcBKkiRJkiQbwJhT8HIKXhzAbtu2bdu2HkAgGutDY30dQNJYHxrrQxxAgpdT8HIKG0A01ofG+tAZQOYUvJyClxhAmFPwcgpeF0BKkiRJkiQWQPrQWB8a6xRArA+N9aGxE0BeTsHLKXgSQBCN9aGxPhFAwsspeDkFEEDkFLycgpcNQEySJEmSJAtArA+N9aGxCEAQjfWhsT4GQHQKXk7BywNA1ofG+tBYAUB0Cl5Owcv9PzgFL6fg5fg\\u002fAAAAAAAA9D+Q9aGxPjTuPxjrQ2N9aOQ\\u002fUMHLKXg51T8Ax\\u002frQWB+aP4BorA+N9dG\\u002fsD401ofG4r8gSZIkSZLsv8gpeDkFL\\u002fO\\u002fCC+n4OUU+L9ANNaHxvr8v7ycgpdT8ADAWB8a60NjA8D0obE+NNYFwJQkSZIkSQjAMKfg5RS8CsDMKXg5BS8NwGisD431oQ\\u002fAgpdT8HIKEcDSWB8a60MSwCAa60NjfRPAbtu2bdu2FMC8nIKXU\\u002fAVwApeTsHLKRfAWB8a60NjGMCo4OUUvJwZwPahsT401hrARGN9aKwPHMCSJEmSJEkdwHMKXk7Byx1AJUmSJEmSHEDXh8b60FgbQIfG+tBYHxpAOQUvp+DlGEDrQ2N9aKwXQJ2Cl1PwchZAT8HLKXg5FUD\\u002f\\u002f\\u002f\\u002f\\u002f\\u002f\\u002f8TQLE+NNaHxhJAY31orA+NEUAVvJyCl1MQQI71obE+NA5A7nIKXk7BC0BW8HIKXk4JQLZt27Zt2wZAGutDY31oBEB+aKwPjfUBQMDLKXg5Bf8\\u002fiMb60Fgf+j9MwcspeDn1PxS8nIKXU\\u002fA\\u002fuG3btm3b5j+AxvrQWB\\u002faP4DG+tBYH7o\\u002fgMb60Fgfyr8YvJyCl1Pgv4jG+tBYH+q\\u002ffGisD4318b+0bdu2bdv2v\\u002fRyCl5Owfu\\u002fFrycgpdTAMCyPjTWh8YCwE7Byyl4OQXA6kNjfWisB8CKxvrQWB8KwCZJkiRJkgzAwsspeDkFD8Avp+DlFLwQwH1orA+N9RHAzSl4OQUvE8Ab60NjfWgUwGmsD431oRXAt23btm3bFsAFL6fg5RQYwFPwcgpeThnAo7E+NNaHGsDxcgpeTsEbwD801ofG+hzAjfWhsT40HsB4OQUvp+AcQCp4OQUvpxtA3LZt27ZtGkCM9aGxPjQZQD401ofG+hdA8HIKXk7BFkCisT401ocVQFTwcgpeThRABC+n4OUUE0C2bdu2bdsRQGisD431oRBANNaHxvrQDkCYU\\u002fByCl4MQPjQWB8a6wlAYE7Byyl4B0DAyyl4OQUFQCRJkiRJkgJAiMb60FgfAEDUh8b60Fj7P5yCl1PwcvY\\u002fYH1orA+N8T9Q8HIKXk7pP8DLKXg5Bd8\\u002foG3btm3bxj8gvJyCl1PAv\\u002fByCl5Owdu\\u002f8ENjfWis578wp+DlFLzwv2isD431ofW\\u002foLE+NNaH+r\\u002fgtm3btm3\\u002fvwxeTsHLKQLAqODlFLycBMBEY31orA8HwODlFLycggnAgGisD431C8Ac60NjfWgOwNy2bdu2bRDAKng5BS+nEcB4OQUvp+ASwMj60FgfGhTAFrycgpdTFcBkfWisD40WwLI+NNaHxhfAAAAAAAAAGcBOwcspeDkawJ6Cl1PwchvA7ENjfWisHMA6BS+n4OUdwIjG+tBYHx\\u002fAfWisD431G0Avp+DlFLwaQOHlFLycghlAkSRJkiRJGEBDY31orA8XQPWhsT401hVAp+DlFLycFEBZHxrrQ2MTQAleTsHLKRJAu5yCl1PwEEDatm3btm0PQD401ofG+gxAorE+NNaHCkACL6fg5RQIQGqsD431oQVAyil4OQUvA0Aup+DlFLwAQCRJkiRJkvw\\u002f6ENjfWis9z+wPjTWh8byP+hyCl5Owes\\u002feGisD4314T8QvJyCl1PQPwDH+tBYH6q\\u002fwG3btm3b1r9QwcspeDnlv8jLKXg5Be+\\u002fHOtDY31o9L9U8HIKXk75v4z1obE+NP6\\u002fZn1orA+NAcACAAAAAAAEwJ6Cl1PwcgbAOgUvp+DlCMDWh8b60FgLwHYKXk7Byw3Aicb60FgfEMDXh8b60FgRwCVJkiRJkhLAcwpeTsHLE8DDyyl4OQUVwBGN9aGxPhbAX07Byyl4F8CtD431obEYwPvQWB8a6xnASZIkSZIkG8CZU\\u002fByCl4cwOcUvJyClx3ANdaHxvrQHsDCyyl4OQUgwIOXU\\u002fByChtANdaHxvrQGUDnFLycgpcYQJdT8HIKXhdASZIkSZIkFkD70FgfGusUQK0PjfWhsRNAX07Byyl4EkAPjfWhsT4RQMHLKXg5BRBA5hS8nIKXDUBKkiRJkiQLQK4PjfWhsQhADo31obE+BkB2Cl5OwcsDQNaHxvrQWAFAdApeTsHL\\u002fT88BS+n4OX4PwAAAAAAAPQ\\u002fkPWhsT407j8Y60NjfWjkP1DByyl4OdU\\u002fAMf60Fgfmj+AaKwPjfXRv7A+NNaHxuK\\u002fIEmSJEmS7L\\u002fMKXg5BS\\u002fzvwQvp+DlFPi\\u002fPDTWh8b6\\u002fL+6nIKXU\\u002fAAwFofGutDYwPA9qGxPjTWBcCSJEmSJEkIwC6n4OUUvArAyil4OQUvDcBqrA+N9aEPwIOXU\\u002fByChHA0VgfGutDEsAfGutDY30TwG3btm3bthTAvZyCl1PwFcALXk7ByykXwFkfGutDYxjAp+DlFLycGcD1obE+NNYawENjfWisDxzAkyRJkiRJHcDh5RS8nIIewC+n4OUUvB\\u002fAPjTWh8Z6IMCIxvrQWB8aQDoFL6fg5RhA7ENjfWisF0CcgpdT8HIWQE7Byyl4ORVAAAAAAAAAFECyPjTWh8YSQGR9aKwPjRFAFLycgpdTEECM9aGxPjQOQPByCl5OwQtAVPByCl5OCUC4bdu2bdsGQBjrQ2N9aARAgGisD431AUDAyyl4OQX\\u002fP4jG+tBYH\\u002fo\\u002fUMHLKXg59T8UvJyCl1PwP7ht27Zt2+Y\\u002fgMb60Fgf2j+AxvrQWB+6P4DG+tBYH8q\\u002fGLycgpdT4L+IxvrQWB\\u002fqv3xorA+N9fG\\u002fuG3btm3b9r\\u002fwcgpeTsH7vxS8nIKXUwDAsD401ofGAsBQwcspeDkFwOxDY31orAfAiMb60FgfCsAkSZIkSZIMwMDLKXg5BQ\\u002fAMKfg5RS8EMB+aKwPjfURwMwpeDkFLxPAGutDY31oFMBorA+N9aEVwLht27Zt2xbABi+n4OUUGMBU8HIKXk4ZwKKxPjTWhxrA8HIKXk7BG8A+NNaHxvocwI71obE+NB7A3LZt27ZtH8AVvJyCl1MgwLycgpdT8CDAjfWhsT40GUA\\u002fNNaHxvoXQPFyCl5OwRZAobE+NNaHFUBT8HIKXk4UQAUvp+DlFBNAt23btm3bEUBprA+N9aEQQDLWh8b60A5AllPwcgpeDED60FgfGusJQF5OwcspeAdAwsspeDkFBUAiSZIkSZICQIrG+tBYHwBA1IfG+tBY+z+cgpdT8HL2P2R9aKwPjfE\\u002fUPByCl5O6T\\u002fAyyl4OQXfP6Bt27Zt28Y\\u002fILycgpdTwL\\u002fwcgpeTsHbv\\u002fBDY31orOe\\u002fMKfg5RS88L9orA+N9aH1v6SxPjTWh\\u002fq\\u002f3LZt27Zt\\u002f78KXk7ByykCwKbg5RS8nATARmN9aKwPB8Di5RS8nIIJwH5orA+N9QvAGutDY31oDsDbtm3btm0QwCt4OQUvpxHAeTkFL6fgEsDH+tBYHxoUwBW8nIKXUxXAY31orA+NFsCzPjTWh8YXwAEAAAAAABnAT8HLKXg5GsCdgpdT8HIbwOtDY31orBzAOQUvp+DlHcCJxvrQWB8fwOxDY31oLCDAkiRJkiTJIMA6BS+n4GUhwJIkSZIkSRhARGN9aKwPF0D2obE+NNYVQKbg5RS8nBRAWB8a60NjE0AKXk7ByykSQLycgpdT8BBA3LZt27ZtD0A8NNaHxvoMQKCxPjTWhwpABC+n4OUUCEBorA+N9aEFQMwpeDkFLwNALKfg5RS8AEAoSZIkSZL8P+hDY31orPc\\u002fsD401ofG8j\\u002fwcgpeTsHrP3horA+N9eE\\u002fELycgpdT0D8Ax\\u002frQWB+qv8Bt27Zt29a\\u002fUMHLKXg55b\\u002fIyyl4OQXvvxzrQ2N9aPS\\u002fVPByCl5O+b+Q9aGxPjT+v2R9aKwPjQHAAAAAAAAABMCcgpdT8HIGwDwFL6fg5QjA2IfG+tBYC8B0Cl5OwcsNwIjG+tBYHxDA1ofG+tBYEcAmSZIkSZISwHQKXk7ByxPAwsspeDkFFcAQjfWhsT4WwF5OwcspeBfArg+N9aGxGMD80FgfGusZwEqSJEmSJBvAmFPwcgpeHMDmFLycgpcdwDTWh8b60B7AwsspeDkFIMBprA+N9aEgwBCN9aGxPiHAt23btm3bIcCYU\\u002fByCl4XQEqSJEmSJBZA\\u002fNBYHxrrFECsD431obETQF5OwcspeBJAEI31obE+EUDCyyl4OQUQQOgUvJyClw1ASJIkSZIkC0CsD431obEIQBCN9aGxPgZAdApeTsHLA0DYh8b60FgBQHAKXk7By\\u002f0\\u002fQAUvp+Dl+D8AAAAAAAD0P5D1obE+NO4\\u002fIOtDY31o5D9QwcspeDnVPwDH+tBYH5o\\u002fgGisD4310b+wPjTWh8bivyBJkiRJkuy\\u002fzCl4OQUv878EL6fg5RT4vzw01ofG+vy\\u002fvJyCl1PwAMBYHxrrQ2MDwPShsT401gXAkCRJkiRJCMAwp+DlFLwKwMwpeDkFLw3AaKwPjfWhD8CCl1PwcgoRwNBYHxrrQxLAIBrrQ2N9E8Bu27Zt27YUwLycgpdT8BXACl5OwcspF8BYHxrrQ2MYwKjg5RS8nBnA9qGxPjTWGsBEY31orA8cwJIkSZIkSR3A4OUUvJyCHsAup+DlFLwfwD801ofGeiDA5hS8nIIXIcCN9aGxPrQhwDTWh8b6UCLAnIKXU\\u002fByFkBOwcspeDkVQAAAAAAAABRAsD401ofGEkBifWisD40RQBS8nIKXUxBAjPWhsT40DkDwcgpeTsELQFDwcgpeTglAtG3btm3bBkAY60NjfWgEQHxorA+N9QFAwMspeDkF\\u002fz+AxvrQWB\\u002f6P1DByyl4OfU\\u002fELycgpdT8D+wbdu2bdvmP4DG+tBYH9o\\u002fQMb60Fgfuj+gxvrQWB\\u002fKvyC8nIKXU+C\\u002fkMb60Fgf6r+AaKwPjfXxv7xt27Zt2\\u002fa\\u002f9HIKXk7B+78WvJyCl1MAwLQ+NNaHxgLAUMHLKXg5BcDsQ2N9aKwHwIjG+tBYHwrAKEmSJEmSDMDEyyl4OQUPwDCn4OUUvBDAfmisD431EcDMKXg5BS8TwBzrQ2N9aBTAaqwPjfWhFcC4bdu2bdsWwAYvp+DlFBjAVPByCl5OGcCksT401ocawPJyCl5OwRvAQDTWh8b6HMCO9aGxPjQewNy2bdu2bR\\u002fAFbycgpdTIMC9nIKXU\\u002fAgwGR9aKwPjSHAC15OwcspIsCyPjTWh8YiwKKxPjTWhxVAVPByCl5OFEAGL6fg5RQTQLZt27Zt2xFAaKwPjfWhEEA01ofG+tAOQJhT8HIKXgxA\\u002fNBYHxrrCUBcTsHLKXgHQMDLKXg5BQVAJEmSJEmSAkCIxvrQWB8AQNiHxvrQWPs\\u002fmIKXU\\u002fBy9j9ofWisD43xP1DwcgpeTuk\\u002fwMspeDkF3z\\u002fAbdu2bdvGPyC8nIKXU8C\\u002f8HIKXk7B27\\u002fwQ2N9aKznvzCn4OUUvPC\\u002faKwPjfWh9b+ksT401of6v9y2bdu2bf+\\u002fCl5OwcspAsCo4OUUvJwEwERjfWisDwfA4OUUvJyCCcB8aKwPjfULwBzrQ2N9aA7A3LZt27ZtEMAqeDkFL6cRwHg5BS+n4BLAxvrQWB8aFMAWvJyCl1MVwGR9aKwPjRbAsj401ofGF8AAAAAAAAAZwE7Byyl4ORrAnoKXU\\u002fByG8DsQ2N9aKwcwDoFL6fg5R3AiMb60FgfH8DrQ2N9aCwgwJIkSZIkySDAOgUvp+BlIcDh5RS8nAIiwIjG+tBYnyLAL6fg5RQ8I8Cn4OUUvJwUQFkfGutDYxNAC15OwcspEkC7nIKXU\\u002fAQQNq2bdu2bQ9APjTWh8b6DECisT401ocKQAYvp+DlFAhAZqwPjfWhBUDKKXg5BS8DQC6n4OUUvABAJEmSJEmS\\u002fD\\u002fsQ2N9aKz3P6w+NNaHxvI\\u002f+HIKXk7B6z94aKwPjfXhPxC8nIKXU9A\\u002fgMb60Fgfqr\\u002fAbdu2bdvWv1DByyl4OeW\\u002fyMspeDkF778c60NjfWj0v1TwcgpeTvm\\u002fkPWhsT40\\u002fr9kfWisD40BwAAAAAAAAATAnoKXU\\u002fByBsA6BS+n4OUIwNaHxvrQWAvAcgpeTsHLDcCJxvrQWB8QwNeHxvrQWBHAJUmSJEmSEsBzCl5OwcsTwMHLKXg5BRXAEY31obE+FsBfTsHLKXgXwK0PjfWhsRjA+9BYHxrrGcBJkiRJkiQbwJlT8HIKXhzA5xS8nIKXHcA11ofG+tAewMLLKXg5BSDAaKwPjfWhIMAQjfWhsT4hwLht27Zt2yHAXk7Byyl4IsAGL6fg5RQjwKwPjfWhsSPArA+N9aGxE0BeTsHLKXgSQBCN9aGxPhFAwMspeDkFEEDkFLycgpcNQEiSJEmSJAtArA+N9aGxCEAQjfWhsT4GQHAKXk7BywNA1IfG+tBYAUBwCl5Owcv9PzgFL6fg5fg\\u002fAAAAAAAA9D+A9aGxPjTuPyDrQ2N9aOQ\\u002fQMHLKXg51T8AxvrQWB+aP4BorA+N9dG\\u002fuD401ofG4r8oSZIkSZLsv9ApeDkFL\\u002fO\\u002fCC+n4OUU+L9ANNaHxvr8v76cgpdT8ADAWh8a60NjA8D2obE+NNYFwJQkSZIkSQjAMKfg5RS8CsDMKXg5BS8NwGisD431oQ\\u002fAhJdT8HIKEcDSWB8a60MSwCAa60NjfRPAbtu2bdu2FMC8nIKXU\\u002fAVwAxeTsHLKRfAWh8a60NjGMCo4OUUvJwZwPahsT401hrARGN9aKwPHMCUJEmSJEkdwOLlFLycgh7AMKfg5RS8H8A\\u002fNNaHxnogwOYUvJyCFyHAjfWhsT60IcA11ofG+lAiwNy2bdu27SLAg5dT8HKKI8AqeDkFLyckwLI+NNaHxhJAZH1orA+NEUAWvJyCl1MQQIz1obE+NA5A8HIKXk7BC0BU8HIKXk4JQLht27Zt2wZAHOtDY31oBEB8aKwPjfUBQMDLKXg5Bf8\\u002fiMb60Fgf+j9QwcspeDn1Pxi8nIKXU\\u002fA\\u002fsG3btm3b5j+gxvrQWB\\u002faP4DG+tBYH7o\\u002fgMb60Fgfyr8QvJyCl1Pgv4jG+tBYH+q\\u002ffGisD4318b+4bdu2bdv2v\\u002fByCl5Owfu\\u002fFLycgpdTAMCyPjTWh8YCwE7Byyl4OQXA6kNjfWisB8CIxvrQWB8KwCRJkiRJkgzAwMspeDkFD8Aup+DlFLwQwH5orA+N9RHAzCl4OQUvE8Aa60NjfWgUwGisD431oRXAtm3btm3bFsAGL6fg5RQYwFTwcgpeThnAorE+NNaHGsDwcgpeTsEbwD401ofG+hzAjvWhsT40HsDctm3btm0fwBW8nIKXUyDAvJyCl1PwIMBjfWisD40hwApeTsHLKSLAsj401ofGIsBZHxrrQ2MjwAAAAAAAACTAp+DlFLycJMC2bdu2bdsRQGisD431oRBANNaHxvrQDkCUU\\u002fByCl4MQPjQWB8a6wlAXE7Byyl4B0DAyyl4OQUFQCRJkiRJkgJAhMb60FgfAEDQh8b60Fj7P5iCl1PwcvY\\u002fYH1orA+N8T9Q8HIKXk7pP6DLKXg5Bd8\\u002fwG3btm3bxj9AvJyCl1PAvwBzCl5Owdu\\u002f8ENjfWis5780p+DlFLzwv2ysD431ofW\\u002fqLE+NNaH+r\\u002fgtm3btm3\\u002fvwxeTsHLKQLAquDlFLycBMBGY31orA8HwOLlFLycggnAgGisD431C8Ac60NjfWgOwNy2bdu2bRDAKng5BS+nEcB6OQUvp+ASwMj60FgfGhTAFrycgpdTFcBkfWisD40WwLI+NNaHxhfAAgAAAAAAGcBQwcspeDkawJ6Cl1PwchvA7ENjfWisHMA6BS+n4OUdwIrG+tBYHx\\u002fA7ENjfWgsIMCTJEmSJMkgwDoFL6fgZSHA4eUUvJwCIsCIxvrQWJ8iwDCn4OUUPCPA14fG+tDYI8B+aKwPjXUkwCVJkiRJEiXAvJyCl1PwEEDctm3btm0PQEA01ofG+gxAoLE+NNaHCkAEL6fg5RQIQGisD431oQVAzCl4OQUvA0Awp+DlFLwAQCBJkiRJkvw\\u002f6ENjfWis9z+wPjTWh8byP\\u002fByCl5Owes\\u002fgGisD4314T8AvJyCl1PQPwDG+tBYH6q\\u002fwG3btm3b1r9QwcspeDnlv8DLKXg5Be+\\u002fHOtDY31o9L9U8HIKXk75v5D1obE+NP6\\u002fZH1orA+NAcAAAAAAAAAEwJ6Cl1PwcgbAOgUvp+DlCMDWh8b60FgLwHQKXk7Byw3AiMb60FgfEMDWh8b60FgRwCRJkiRJkhLAdApeTsHLE8DCyyl4OQUVwBCN9aGxPhbAXk7Byyl4F8CsD431obEYwPzQWB8a6xnASpIkSZIkG8CYU\\u002fByCl4cwOYUvJyClx3ANNaHxvrQHsDCyyl4OQUgwGmsD431oSDAEI31obE+IcC3bdu2bdshwF5OwcspeCLABS+n4OUUI8CtD431obEjwFTwcgpeTiTA+9BYHxrrJMCisT401oclwMDLKXg5BRBA5BS8nIKXDUBIkiRJkiQLQKgPjfWhsQhADI31obE+BkBwCl5OwcsDQNSHxvrQWAFAcApeTsHL\\u002fT8wBS+n4OX4P\\u002fj\\u002f\\u002f\\u002f\\u002f\\u002f\\u002f\\u002fM\\u002fgPWhsT407j8Q60NjfWjkP0DByyl4OdU\\u002fAMT60Fgfmj+AaKwPjfXRv8A+NNaHxuK\\u002fMEmSJEmS7L\\u002fQKXg5BS\\u002fzvwwvp+DlFPi\\u002fRDTWh8b6\\u002fL\\u002fAnIKXU\\u002fAAwFwfGutDYwPA+KGxPjTWBcCWJEmSJEkIwDKn4OUUvArAzil4OQUvDcBsrA+N9aEPwISXU\\u002fByChHA0lgfGutDEsAgGutDY30TwHDbtm3bthTAvpyCl1PwFcAMXk7ByykXwFofGutDYxjAqODlFLycGcD4obE+NNYawEZjfWisDxzAlCRJkiRJHcDi5RS8nIIewDCn4OUUvB\\u002fAQDTWh8Z6IMDnFLycghchwI71obE+tCHANdaHxvpQIsDctm3btu0iwIOXU\\u002fByiiPAK3g5BS8nJMDSWB8a68MkwHk5BS+nYCXAIBrrQ2P9JcCM9aGxPjQOQPByCl5OwQtAVPByCl5OCUC0bdu2bdsGQBjrQ2N9aARAfGisD431AUDAyyl4OQX\\u002fP4jG+tBYH\\u002fo\\u002fSMHLKXg59T8QvJyCl1PwP7Bt27Zt2+Y\\u002fgMb60Fgf2j+AxvrQWB+6P8DG+tBYH8q\\u002fELycgpdT4L+QxvrQWB\\u002fqv4BorA+N9fG\\u002fuG3btm3b9r\\u002f0cgpeTsH7vxa8nIKXUwDAtD401ofGAsBQwcspeDkFwOxDY31orAfAisb60FgfCsAmSZIkSZIMwMLLKXg5BQ\\u002fAMKfg5RS8EMB+aKwPjfURwMwpeDkFLxPAGutDY31oFMBqrA+N9aEVwLht27Zt2xbABi+n4OUUGMBU8HIKXk4ZwKKxPjTWhxrA8nIKXk7BG8BANNaHxvocwI71obE+NB7A3LZt27ZtH8AVvJyCl1MgwL2cgpdT8CDAZH1orA+NIcALXk7ByykiwLI+NNaHxiLAWR8a60NjI8AAAAAAAAAkwKjg5RS8nCTAT8HLKXg5JcD2obE+NNYlwJ2Cl1PwcibAmFPwcgpeDED80FgfGusJQGBOwcspeAdAwMspeDkFBUAkSZIkSZICQIjG+tBYHwBA2IfG+tBY+z+ggpdT8HL2P2B9aKwPjfE\\u002fUPByCl5O6T\\u002fAyyl4OQXfP8Bt27Zt28Y\\u002fALycgpdTwL8AcwpeTsHbv+BDY31orOe\\u002fMKfg5RS88L9orA+N9aH1v6CxPjTWh\\u002fq\\u002f3LZt27Zt\\u002f78KXk7ByykCwKjg5RS8nATARGN9aKwPB8Dg5RS8nIIJwH5orA+N9QvAGutDY31oDsDbtm3btm0QwCp4OQUvpxHAeDkFL6fgEsDG+tBYHxoUwBS8nIKXUxXAZH1orA+NFsCyPjTWh8YXwAAAAAAAABnATsHLKXg5GsCcgpdT8HIbwOxDY31orBzAOgUvp+DlHcCIxvrQWB8fwOtDY31oLCDAkiRJkiTJIMA6BS+n4GUhwOHlFLycAiLAiMb60FifIsAvp+DlFDwjwNaHxvrQ2CPAfWisD411JMAlSZIkSRIlwMwpeDkFryXAcwpeTsFLJsAa60NjfegmwKCxPjTWhwpABC+n4OUUCEBorA+N9aEFQMgpeDkFLwNALKfg5RS8AEAgSZIkSZL8P+hDY31orPc\\u002fsD401ofG8j\\u002fgcgpeTsHrP3BorA+N9eE\\u002fALycgpdT0D8Ax\\u002frQWB+qv8Bt27Zt29a\\u002fYMHLKXg55b\\u002fAyyl4OQXvvyDrQ2N9aPS\\u002fWPByCl5O+b+Q9aGxPjT+v2Z9aKwPjQHAAgAAAAAABMCggpdT8HIGwDwFL6fg5QjA2IfG+tBYC8B2Cl5OwcsNwInG+tBYHxDA14fG+tBYEcAmSZIkSZISwHQKXk7ByxPAwsspeDkFFcAQjfWhsT4WwGBOwcspeBfArg+N9aGxGMD80FgfGusZwEqSJEmSJBvAmFPwcgpeHMDoFLycgpcdwDbWh8b60B7AwsspeDkFIMBprA+N9aEgwBCN9aGxPiHAuG3btm3bIcBfTsHLKXgiwAYvp+DlFCPArQ+N9aGxI8BU8HIKXk4kwPvQWB8a6yTAo7E+NNaHJcBKkiRJkiQmwPFyCl5OwSbAmFPwcgpeJ8CsD431obEIQBCN9aGxPgZAdApeTsHLA0DUh8b60FgBQHAKXk7By\\u002f0\\u002fOAUvp+Dl+D8AAAAAAAD0P5D1obE+NO4\\u002fEOtDY31o5D9AwcspeDnVPwDG+tBYH5o\\u002fgGisD4310b+wPjTWh8bivzBJkiRJkuy\\u002fyCl4OQUv878IL6fg5RT4v0A01ofG+vy\\u002fvJyCl1PwAMBaHxrrQ2MDwPahsT401gXAlCRJkiRJCMAwp+DlFLwKwMwpeDkFLw3AaqwPjfWhD8CDl1PwcgoRwNFYHxrrQxLAIBrrQ2N9E8Bu27Zt27YUwLycgpdT8BXACl5OwcspF8BaHxrrQ2MYwKjg5RS8nBnA9qGxPjTWGsBEY31orA8cwJIkSZIkSR3A4uUUvJyCHsAwp+DlFLwfwD801ofGeiDA5hS8nIIXIcCN9aGxPrQhwDXWh8b6UCLA3LZt27btIsCDl1PwcoojwCp4OQUvJyTA0VgfGuvDJMB4OQUvp2AlwCAa60Nj\\u002fSXAx\\u002frQWB+aJsBu27Zt2zYnwBW8nIKX0yfAuG3btm3bBkAc60NjfWgEQIBorA+N9QFAwMspeDkF\\u002fz+IxvrQWB\\u002f6P1DByyl4OfU\\u002fGLycgpdT8D\\u002fAbdu2bdvmP4DG+tBYH9o\\u002fgMb60Fgfuj+AxvrQWB\\u002fKvxC8nIKXU+C\\u002fgMb60Fgf6r+AaKwPjfXxv7Bt27Zt2\\u002fa\\u002f8HIKXk7B+78UvJyCl1MAwLA+NNaHxgLATsHLKXg5BcDqQ2N9aKwHwIjG+tBYHwrAJEmSJEmSDMDAyyl4OQUPwC+n4OUUvBDAfWisD431EcDLKXg5BS8TwBrrQ2N9aBTAaKwPjfWhFcC2bdu2bdsWwAQvp+DlFBjAVPByCl5OGcCisT401ocawPByCl5OwRvAPjTWh8b6HMCM9aGxPjQewNy2bdu2bR\\u002fAFbycgpdTIMC8nIKXU\\u002fAgwGN9aKwPjSHACl5OwcspIsCyPjTWh8YiwFkfGutDYyPAAAAAAAAAJMCn4OUUvJwkwE7Byyl4OSXA9aGxPjTWJcCdgpdT8HImwERjfWisDyfA60NjfWisJ8CSJEmSJEkowMDLKXg5BQVAJEmSJEmSAkCIxvrQWB8AQNCHxvrQWPs\\u002fmIKXU\\u002fBy9j9gfWisD43xP1DwcgpeTuk\\u002fwMspeDkF3z+Abdu2bdvGP0C8nIKXU8C\\u002fAHMKXk7B27\\u002fwQ2N9aKznvzCn4OUUvPC\\u002fcKwPjfWh9b+gsT401of6v+C2bdu2bf+\\u002fDF5OwcspAsCo4OUUvJwEwEZjfWisDwfA4uUUvJyCCcCAaKwPjfULwBzrQ2N9aA7A3LZt27ZtEMAreDkFL6cRwHk5BS+n4BLAx\\u002frQWB8aFMAWvJyCl1MVwGR9aKwPjRbAsj401ofGF8AAAAAAAAAZwFDByyl4ORrAnoKXU\\u002fByG8DsQ2N9aKwcwDoFL6fg5R3AiMb60FgfH8DsQ2N9aCwgwJMkSZIkySDAOgUvp+BlIcDh5RS8nAIiwIjG+tBYnyLAMKfg5RQ8I8DXh8b60NgjwH5orA+NdSTAJUmSJEkSJcDMKXg5Ba8lwHMKXk7BSybAG+tDY33oJsDCyyl4OYUnwGmsD431ISjAEI31obG+KMDMKXg5BS8DQDCn4OUUvABAKEmSJEmS\\u002fD\\u002foQ2N9aKz3P7A+NNaHxvI\\u002f8HIKXk7B6z+AaKwPjfXhPyC8nIKXU9A\\u002fAMf60Fgfqr\\u002fAbdu2bdvWv1DByyl4OeW\\u002fwMspeDkF778Y60NjfWj0v1jwcgpeTvm\\u002fiPWhsT40\\u002fr9kfWisD40BwAAAAAAAAATAnIKXU\\u002fByBsA6BS+n4OUIwNaHxvrQWAvAdApeTsHLDcCIxvrQWB8QwNaHxvrQWBHAJUmSJEmSEsBzCl5OwcsTwMHLKXg5BRXAEI31obE+FsBeTsHLKXgXwKwPjfWhsRjA+tBYHxrrGcBKkiRJkiQbwJhT8HIKXhzA5hS8nIKXHcA01ofG+tAewMHLKXg5BSDAaawPjfWhIMAQjfWhsT4hwLdt27Zt2yHAXk7Byyl4IsAFL6fg5RQjwK0PjfWhsSPAVPByCl5OJMD70FgfGuskwKKxPjTWhyXASZIkSZIkJsDwcgpeTsEmwJhT8HIKXifAPzTWh8b6J8DmFLycgpcowI31obE+NCnA2IfG+tBYAUB4Cl5Owcv9P0AFL6fg5fg\\u002fAAAAAAAA9D+Q9aGxPjTuPyDrQ2N9aOQ\\u002fYMHLKXg51T8AyPrQWB+aP4BorA+N9dG\\u002fsD401ofG4r8gSZIkSZLsv8gpeDkFL\\u002fO\\u002fAC+n4OUU+L9ANNaHxvr8v7icgpdT8ADAWB8a60NjA8D0obE+NNYFwJAkSZIkSQjALqfg5RS8CsDKKXg5BS8NwGisD431oQ\\u002fAgpdT8HIKEcDQWB8a60MSwB8a60NjfRPAbdu2bdu2FMC7nIKXU\\u002fAVwApeTsHLKRfAWB8a60NjGMCm4OUUvJwZwPShsT401hrARGN9aKwPHMCSJEmSJEkdwODlFLycgh7ALqfg5RS8H8A+NNaHxnogwOYUvJyCFyHAjfWhsT60IcA01ofG+lAiwNu2bdu27SLAgpdT8HKKI8AqeDkFLyckwNFYHxrrwyTAeDkFL6dgJcAfGutDY\\u002f0lwMb60FgfmibAbdu2bds2J8AVvJyCl9MnwLycgpdTcCjAY31orA8NKcAKXk7By6kpwMDLKXg5Bf8\\u002fiMb60Fgf+j9QwcspeDn1PxC8nIKXU\\u002fA\\u002fsG3btm3b5j+AxvrQWB\\u002faP4DG+tBYH7o\\u002fgMb60Fgfyr8gvJyCl1Pgv5DG+tBYH+q\\u002fgGisD4318b+4bdu2bdv2v\\u002fByCl5Owfu\\u002fGLycgpdTAMCwPjTWh8YCwFDByyl4OQXA7ENjfWisB8CIxvrQWB8KwCZJkiRJkgzAwsspeDkFD8Awp+DlFLwQwH5orA+N9RHAzCl4OQUvE8Ab60NjfWgUwGmsD431oRXAt23btm3bFsAGL6fg5RQYwFTwcgpeThnAorE+NNaHGsDwcgpeTsEbwEA01ofG+hzAjvWhsT40HsDctm3btm0fwBW8nIKXUyDAvJyCl1PwIMBkfWisD40hwAteTsHLKSLAsj401ofGIsBZHxrrQ2MjwAAAAAAAACTAqODlFLycJMBPwcspeDklwPahsT401iXAnYKXU\\u002fByJsBEY31orA8nwOtDY31orCfAkyRJkiRJKMA6BS+n4OUowOHlFLycginAiMb60FgfKsDQh8b60Fj7P5iCl1PwcvY\\u002fYH1orA+N8T9A8HIKXk7pP6DLKXg5Bd8\\u002fgG3btm3bxj9AvJyCl1PAvwBzCl5Owdu\\u002fAERjfWis5784p+DlFLzwv3CsD431ofW\\u002fqLE+NNaH+r\\u002fgtm3btm3\\u002fvxBeTsHLKQLAqODlFLycBMBIY31orA8HwOTlFLycggnAgGisD431C8Ae60NjfWgOwN22bdu2bRDALHg5BS+nEcB6OQUvp+ASwMj60FgfGhTAF7ycgpdTFcBlfWisD40WwLM+NNaHxhfAAgAAAAAAGcBQwcspeDkawJ6Cl1PwchvA7ENjfWisHMA8BS+n4OUdwIrG+tBYHx\\u002fA7ENjfWgsIMCTJEmSJMkgwDoFL6fgZSHA4uUUvJwCIsCJxvrQWJ8iwDCn4OUUPCPA14fG+tDYI8B+aKwPjXUkwCZJkiRJEiXAzSl4OQWvJcB0Cl5OwUsmwBvrQ2N96CbAwsspeDmFJ8BprA+N9SEowBGN9aGxvijAuG3btm1bKcBfTsHLKfgpwAYvp+DllCrA6ENjfWis9z+wPjTWh8byP\\u002fByCl5Owes\\u002fcGisD4314T8AvJyCl1PQPwDH+tBYH6q\\u002fwG3btm3b1r9QwcspeDnlv9DLKXg5Be+\\u002fIOtDY31o9L9Y8HIKXk75v5D1obE+NP6\\u002fZH1orA+NAcAEAAAAAAAEwJyCl1PwcgbAPAUvp+DlCMDYh8b60FgLwHQKXk7Byw3Aicb60FgfEMDXh8b60FgRwCZJkiRJkhLAdApeTsHLE8DCyyl4OQUVwBGN9aGxPhbAX07Byyl4F8CtD431obEYwPzQWB8a6xnASpIkSZIkG8CYU\\u002fByCl4cwOYUvJyClx3ANtaHxvrQHsDCyyl4OQUgwGmsD431oSDAEI31obE+IcC3bdu2bdshwF9OwcspeCLABi+n4OUUI8CtD431obEjwFTwcgpeTiTA+9BYHxrrJMCjsT401oclwEqSJEmSJCbA8XIKXk7BJsCYU\\u002fByCl4nwD801ofG+ifA5hS8nIKXKMCO9aGxPjQpwDXWh8b60CnA3LZt27ZtKsCDl1PwcgorwAAAAAAAAPQ\\u002fkPWhsT407j8g60NjfWjkP0DByyl4OdU\\u002fAMb60Fgfmj+AaKwPjfXRv7A+NNaHxuK\\u002fIEmSJEmS7L\\u002fQKXg5BS\\u002fzvwgvp+DlFPi\\u002fQDTWh8b6\\u002fL+8nIKXU\\u002fAAwFgfGutDYwPA+KGxPjTWBcCQJEmSJEkIwDCn4OUUvArAzCl4OQUvDcBorA+N9aEPwIOXU\\u002fByChHA0VgfGutDEsAgGutDY30TwG7btm3bthTAvJyCl1PwFcALXk7ByykXwFkfGutDYxjAp+DlFLycGcD2obE+NNYawERjfWisDxzAkiRJkiRJHcDg5RS8nIIewDCn4OUUvB\\u002fAPzTWh8Z6IMDmFLycghchwI31obE+tCHANNaHxvpQIsDctm3btu0iwIOXU\\u002fByiiPAKng5BS8nJMDRWB8a68MkwHg5BS+nYCXAIBrrQ2P9JcDH+tBYH5omwG7btm3bNifAFbycgpfTJ8C8nIKXU3AowGN9aKwPDSnAC15OwcupKcCyPjTWh0YqwFkfGutD4yrAAAAAAACAK8A=\",\"shape\":\"50, 50\"},\"type\":\"surface\"},{\"colorscale\":[[0.0,\"rgb(255,245,235)\"],[0.125,\"rgb(254,230,206)\"],[0.25,\"rgb(253,208,162)\"],[0.375,\"rgb(253,174,107)\"],[0.5,\"rgb(253,141,60)\"],[0.625,\"rgb(241,105,19)\"],[0.75,\"rgb(217,72,1)\"],[0.875,\"rgb(166,54,3)\"],[1.0,\"rgb(127,39,4)\"]],\"name\":\"Rubber\",\"opacity\":0.5,\"x\":{\"dtype\":\"f8\",\"bdata\":\"AAAAAAAAAADmFLycgpfjP+YUvJyCl\\u002fM\\u002fWR8a60Nj\\u002fT\\u002fmFLycgpcDQCAa60NjfQhAWR8a60NjDUBJkiRJkiQRQOYUvJyClxNAg5dT8HIKFkAgGutDY30YQLycgpdT8BpAWR8a60NjHUD2obE+NNYfQEmSJEmSJCFAmFPwcgpeIkDmFLycgpcjQDTWh8b60CRAg5dT8HIKJkDRWB8a60MnQCAa60NjfShAbtu2bdu2KUC8nIKXU\\u002fAqQAteTsHLKSxAWR8a60NjLUCn4OUUvJwuQPahsT401i9AorE+NNaHMEBJkiRJkiQxQPByCl5OwTFAmFPwcgpeMkA\\u002fNNaHxvoyQOYUvJyClzNAjfWhsT40NEA01ofG+tA0QNy2bdu2bTVAg5dT8HIKNkAqeDkFL6c2QNFYHxrrQzdAeDkFL6fgN0AgGutDY304QMf60FgfGjlAbtu2bdu2OUAVvJyCl1M6QLycgpdT8DpAY31orA+NO0ALXk7Byyk8QLI+NNaHxjxAWR8a60NjPUAAAAAAAAA+QA==\"},\"y\":{\"dtype\":\"f8\",\"bdata\":\"AAAAAAAAAADmFLycgpfjP+YUvJyCl\\u002fM\\u002fWR8a60Nj\\u002fT\\u002fmFLycgpcDQCAa60NjfQhAWR8a60NjDUBJkiRJkiQRQOYUvJyClxNAg5dT8HIKFkAgGutDY30YQLycgpdT8BpAWR8a60NjHUD2obE+NNYfQEmSJEmSJCFAmFPwcgpeIkDmFLycgpcjQDTWh8b60CRAg5dT8HIKJkDRWB8a60MnQCAa60NjfShAbtu2bdu2KUC8nIKXU\\u002fAqQAteTsHLKSxAWR8a60NjLUCn4OUUvJwuQPahsT401i9AorE+NNaHMEBJkiRJkiQxQPByCl5OwTFAmFPwcgpeMkA\\u002fNNaHxvoyQOYUvJyClzNAjfWhsT40NEA01ofG+tA0QNy2bdu2bTVAg5dT8HIKNkAqeDkFL6c2QNFYHxrrQzdAeDkFL6fgN0AgGutDY304QMf60FgfGjlAbtu2bdu2OUAVvJyCl1M6QLycgpdT8DpAY31orA+NO0ALXk7Byyk8QLI+NNaHxjxAWR8a60NjPUAAAAAAAAA+QA==\"},\"z\":{\"dtype\":\"f8\",\"bdata\":\"q6qqqqqqQEBprA+N9aFAQCaudG9AmUBA5K\\u002fZUYuQQECisT401odAQGCzoxYhf0BAHbUI+Wt2QEDctm3btm1AQJm40r0BZUBAV7o3oExcQEAVvJyCl1NAQNO9AWXiSkBAkb9mRy1CQEBOwcspeDlAQAzDMAzDMEBAysSV7g0oQECIxvrQWB9AQEXIX7OjFkBABMrEle4NQEDByyl4OQVAQP6aHbUI+T9Ae57neZ7nP0D1obE+NNY\\u002fQHKlewPKxD9A7KhFyF+zP0BprA+N9aE\\u002fQOSv2VGLkD9AYLOjFiF\\u002fP0Dbtm3btm0\\u002fQFe6N6BMXD9A0r0BZeJKP0BOwcspeDk\\u002fQMvEle4NKD9ARchfs6MWP0DCyyl4OQU\\u002fQDzP8zzP8z5AudK9AWXiPkA01ofG+tA+QLDZUYuQvz5AK90bUCauPkCn4OUUvJw+QCTkr9lRiz5Anud5nud5PkAb60NjfWg+QJXuDSgTVz5AEvLX7KhFPkCM9aGxPjQ+QAn5a3bUIj5AhPw1O2oRPkAAAAAAAAA+QKKxPjTWhzpAHrUI+Wt2OkCZuNK9AWU6QBW8nIKXUzpAkL9mRy1COkAMwzAMwzA6QIfG+tBYHzpABMrEle4NOkB+zY5ahPw5QPvQWB8a6zlAd9Qi5K\\u002fZOUDy1+yoRcg5QG7btm3btjlA6d6AMnGlOUBl4kr3BpQ5QODlFLycgjlAXOnegDJxOUDX7KhFyF85QFTwcgpeTjlAzvM8z\\u002fM8OUBL9waUiSs5QMf60FgfGjlAQv6aHbUIOUC+AWXiSvc4QDkFL6fg5ThAtQj5a3bUOEAwDMMwDMM4QKwPjfWhsThAJxNXujegOECkFiF\\u002fzY44QB4a60NjfThAmx21CPlrOEAXIX\\u002fNjlo4QJIkSZIkSThADigTV7o3OECJK90bUCY4QAUvp+DlFDhAgDJxpXsDOED8NTtqEfI3QHc5BS+n4DdA9DzP8zzPN0BwQJm40r03QOtDY31orDdAZ0ctQv6aN0DiSvcGlIk3QF5OwcspeDdA2VGLkL9mN0BVVVVVVVU3QNBYHxrrQzdATFzp3oAyN0DuDSgTV7ozQGsR8tfsqDNA5RS8nIKXM0BiGIZhGIYzQNwbUCaudDNAWR8a60NjM0DUIuSv2VEzQFAmrnRvQDNAyyl4OQUvM0BHLUL+mh0zQMQwDMMwDDNAPjTWh8b6MkC7N6BMXOkyQDU7ahHy1zJAsj401ofGMkAsQv6aHbUyQKlFyF+zozJAJEmSJEmSMkCgTFzp3oAyQBtQJq50bzJAl1PwcgpeMkAUV7o3oEwyQI5ahPw1OzJAC15OwcspMkCFYRiGYRgyQAJl4kr3BjJAfGisD431MUD5a3bUIuQxQHRvQJm40jFA8HIKXk7BMUBrdtQi5K8xQOd5nud5njFAZH1orA+NMUDegDJxpXsxQFuE\\u002fDU7ajFA1YfG+tBYMUBSi5C\\u002fZkcxQMyOWoT8NTFASZIkSZIkMUDEle4NKBMxQECZuNK9ATFAvJyCl1PwMEA3oExc6d4wQLSjFiF\\u002fzTBALqfg5RS8MECrqqqqqqowQCWudG9AmTBAorE+NNaHMEActQj5a3YwQJm40r0BZTBAddQi5K\\u002fZKUBu27Zt27YpQGTiSvcGlClAXOnegDJxKUBS8HIKXk4pQEv3BpSJKylAQP6aHbUIKUA5BS+n4OUoQC4MwzAMwyhAJxNXujegKEAgGutDY30oQBUhf82OWihADigTV7o3KEAEL6fg5RQoQPw1O2oR8idA8jzP8zzPJ0DrQ2N9aKwnQOBK9waUiSdA2VGLkL9mJ0DOWB8a60MnQMdfs6MWISdAwGZHLUL+JkC1bdu2bdsmQK50b0CZuCZApHsDysSVJkCcgpdT8HImQJKJK90bUCZAi5C\\u002fZkctJkCAl1PwcgomQHme53me5yVAbqV7A8rEJUBnrA+N9aElQGCzoxYhfyVAVbo3oExcJUBOwcspeDklQETIX7OjFiVAPM\\u002fzPM\\u002fzJEAy1ofG+tAkQCvdG1AmriRAIOSv2VGLJEAZ60NjfWgkQBLy1+yoRSRAB\\u002flrdtQiJEAAAAAAAAAkQPUGlIkr3SNA7g0oE1e6I0DkFLycgpcjQNwbUCaudCNA0iLkr9lRI0DLKXg5BS8jQCAa60NjfRhAEigTV7o3GED8NTtqEfIXQO5DY31orBdA2VGLkL9mF0DLX7OjFiEXQLVt27Zt2xZAp3sDysSVFkCSiSvdG1AWQISXU\\u002fByChZAdaV7A8rEFUBgs6MWIX8VQFLByyl4ORVAPM\\u002fzPM\\u002fzFEAu3RtQJq4UQBnrQ2N9aBRAC\\u002flrdtQiFED1BpSJK90TQOcUvJyClxNA0iLkr9lRE0DEMAzDMAwTQLU+NNaHxhJAoExc6d6AEkCSWoT8NTsSQHxorA+N9RFAbnbUIuSvEUBZhPw1O2oRQEuSJEmSJBFANaBMXOneEEAnrnRvQJkQQBK8nIKXUxBABMrEle4NEEDrr9lRi5APQMDLKXg5BQ9ApOd5nud5DkB5A8rEle4NQFwfGutDYw1AMjtqEfLXDEAVV7o3oEwMQOtyCl5OwQtAzo5ahPw1C0CyqqqqqqoKQIfG+tBYHwpAa+JK9waUCUBA\\u002fpodtQgJQCQa60NjfQhA+TU7ahHyB0DcUYuQv2YHQLJt27Zt2wZAlYkr3RtQBkCOpXsDysTlvwA2O2oR8ue\\u002fq8b60Fgf6r8cV7o3oEzsv8fneZ7nee6\\u002fHLycgpdT8L9yhPw1O2rxv6tMXOnegPK\\u002fABW8nIKX87853RtQJq70v3KlewPKxPW\\u002fx23btm3b9r8ANjtqEfL3v1X+mh21CPm\\u002fjsb60Fgf+r\\u002fkjlqE\\u002fDX7vxxXujegTPy\\u002fch8a60Nj\\u002fb+r53me53n+vwCw2VGLkP+\\u002fHLycgpdTAMA5oExc6d4AwGSE\\u002fDU7agHAgGisD431AcCrTFzp3oACwMcwDMMwDAPA8hS8nIKXA8AO+Wt21CIEwDndG1AmrgTAVcHLKXg5BcCApXsDysQFwJyJK90bUAbAuW3btm3bBsDkUYuQv2YHwAA2O2oR8gfAKxrrQ2N9CMBH\\u002fpodtQgJwHLiSvcGlAnAjsb60FgfCsC5qqqqqqoKwNWOWoT8NQvA8nIKXk7BC8AcV7o3oEwMwDk7ahHy1wzAZB8a60NjDcCAA8rEle4NwKvneZ7neQ7Ax8speDkFD8Dyr9lRi5APwAfKxJXuDRDAgAPKxJXuHcCO9aGxPjQewKTneZ7neR7AstlRi5C\\u002fHsDHyyl4OQUfwNW9AWXiSh\\u002fA66\\u002fZUYuQH8D5obE+NNYfwAfKxJXuDSDADsMwDMMwIMAVvJyCl1MgwCC1CPlrdiDAJ650b0CZIMAyp+DlFLwgwDmgTFzp3iDARJm40r0BIcBLkiRJkiQhwFWLkL9mRyHAXIT8NTtqIcBnfWisD40hwG521CLkryHAdW9AmbjSIcCAaKwPjfUhwIdhGIZhGCLAklqE\\u002fDU7IsCZU\\u002fByCl4iwKRMXOnegCLAq0XIX7OjIsC1PjTWh8YiwLw3oExc6SLAxzAMwzAMI8DOKXg5BS8jwNUi5K\\u002fZUSPA4BtQJq50I8DnFLycgpcjwPINKBNXuiPA+QaUiSvdI8AEAAAAAAAkwAv5a3bUIiTAFfLX7KhFJMAc60NjfWgkwCTkr9lRiyTALt0bUCauJMA11ofG+tAkwEDP8zzP8yTAR8hfs6MWJcBSwcspeDklwFm6N6BMXCXAZLOjFiF\\u002fJcBrrA+N9aElwCRJkiRJkizAK0L+mh21LMA1O2oR8tcswDw01ofG+izARy1C\\u002fpodLcBOJq50b0AtwFkfGutDYy3AYBiGYRiGLcBrEfLX7KgtwHIKXk7Byy3AeQPKxJXuLcCE\\u002fDU7ahEuwIv1obE+NC7Ale4NKBNXLsCc53me53kuwKfg5RS8nC7ArtlRi5C\\u002fLsC50r0BZeIuwMDLKXg5BS\\u002fAy8SV7g0oL8DSvQFl4kovwNm2bdu2bS\\u002fA5K\\u002fZUYuQL8DrqEXIX7MvwPWhsT401i\\u002fA\\u002fJodtQj5L8AEysSV7g0wwIfG+tBYHzDADMMwDMMwMMCQv2ZHLUIwwBW8nIKXUzDAmbjSvQFlMMActQj5a3YwwKKxPjTWhzDAJa50b0CZMMCrqqqqqqowwC6n4OUUvDDAtKMWIX\\u002fNMMA3oExc6d4wwLycgpdT8DDAQJm40r0BMcDEle4NKBMxwEmSJEmSJDHAzI5ahPw1McBSi5C\\u002fZkcxwNWHxvrQWDHAW4T8NTtqMcDegDJxpXsxwGR9aKwPjTHA53me53meMcBFyF+zoxY1wMnEle4NKDXATsHLKXg5NcDSvQFl4ko1wFe6N6BMXDXA27Zt27ZtNcBgs6MWIX81wOSv2VGLkDXAaawPjfWhNcDsqEXIX7M1wHClewPKxDXA9aGxPjTWNcB5nud5nuc1wP6aHbUI+TXAgpdT8HIKNsAHlIkr3Rs2wIuQv2ZHLTbAEI31obE+NsCUiSvdG1A2wBmGYRiGYTbAnIKXU\\u002fByNsAgf82OWoQ2wKV7A8rElTbAKXg5BS+nNsCudG9Ambg2wDJxpXsDyjbAt23btm3bNsA7ahHy1+w2wMBmRy1C\\u002fjbARGN9aKwPN8DJX7OjFiE3wExc6d6AMjfA0FgfGutDN8BVVVVVVVU3wNlRi5C\\u002fZjfAXk7Byyl4N8DiSvcGlIk3wGdHLUL+mjfA60NjfWisN8BwQJm40r03wPQ8z\\u002fM8zzfAdzkFL6fgN8D8NTtqEfI3wIAycaV7AzjABS+n4OUUOMCJK90bUCY4wA4oE1e6NzjAkiRJkiRJOMAXIX\\u002fNjlo4wJsdtQj5azjA+Wt21CLkO8B8aKwPjfU7wAJl4kr3BjzAhWEYhmEYPMALXk7Byyk8wI5ahPw1OzzAFFe6N6BMPMCXU\\u002fByCl48wBxQJq50bzzAoExc6d6APMAkSZIkSZI8wKlFyF+zozzALEL+mh21PMCyPjTWh8Y8wDU7ahHy1zzAuzegTFzpPMA+NNaHxvo8wMQwDMMwDD3ARy1C\\u002fpodPcDMKXg5BS89wFAmrnRvQD3A1CLkr9lRPcBZHxrrQ2M9wNwbUCaudD3AYhiGYRiGPcDlFLycgpc9wGsR8tfsqD3A7g0oE1e6PcB0Cl5Owcs9wPcGlIkr3T3AfAPKxJXuPcAAAAAAAAA+wIT8NTtqET7ACflrdtQiPsCM9aGxPjQ+wBLy1+yoRT7Ale4NKBNXPsAb60NjfWg+wJ7neZ7neT7AJOSv2VGLPsCn4OUUvJw+wCvdG1Amrj7AsNlRi5C\\u002fPsA01ofG+tA+wLnSvQFl4j7APM\\u002fzPM\\u002fzPsDCyyl4OQU\\u002fwEXIX7OjFj\\u002fAy8SV7g0oP8BOwcspeDk\\u002fwNeHxvrQWEHAGYZhGIZhQcBchPw1O2pBwJ2Cl1PwckHA4IAycaV7QcAif82OWoRBwGR9aKwPjUHApnsDysSVQcDpeZ7neZ5BwCt4OQUvp0HAbHbUIuSvQcCvdG9AmbhBwPFyCl5OwUHANHGlewPKQcB1b0CZuNJBwLht27Zt20HA+mt21CLkQcA8ahHy1+xBwH5orA+N9UHAwWZHLUL+QcADZeJK9wZCwERjfWisD0LAh2EYhmEYQsDJX7OjFiFCwAxeTsHLKULATVzp3oAyQsCQWoT8NTtCwNJYHxrrQ0LAFFe6N6BMQsBWVVVVVVVCwJlT8HIKXkLA21GLkL9mQsAcUCaudG9CwF9OwcspeELAoUxc6d6AQsDkSvcGlIlCwCVJkiRJkkLAaEctQv6aQsCqRchfs6NCwOxDY31orELALkL+mh21QsBwQJm40r1CwLM+NNaHxkLA9DzP8zzPQsA3O2oR8tdCwHk5BS+n4ELAvDegTFzpQsD9NTtqEfJCwEA01ofG+kLAgjJxpXsDQ8Cw2VGLkL9EwPLX7KhFyETANNaHxvrQRMB21CLkr9lEwLnSvQFl4kTA+9BYHxrrRMA9z\\u002fM8z\\u002fNEwH\\u002fNjlqE\\u002fETAwsspeDkFRcAEysSV7g1FwEXIX7OjFkXAiMb60FgfRcDKxJXuDShFwAzDMAzDMEXATsHLKXg5RcCRv2ZHLUJFwNO9AWXiSkXAFbycgpdTRcBXujegTFxFwJq40r0BZUXA3LZt27ZtRcAdtQj5a3ZFwGCzoxYhf0XAorE+NNaHRcDkr9lRi5BFwCaudG9AmUXAaawPjfWhRcCrqqqqqqpFwO2oRchfs0XAL6fg5RS8RcBypXsDysRFwLSjFiF\\u002fzUXA9aGxPjTWRcA4oExc6d5FwHqe53me50XAvJyCl1PwRcD+mh21CPlFwEGZuNK9AUbAg5dT8HIKRsDFle4NKBNGwAeUiSvdG0bASZIkSZIkRsCMkL9mRy1GwM2OWoT8NUbAEI31obE+RsBSi5C\\u002fZkdGwJSJK90bUEbA1ofG+tBYRsAZhmEYhmFGwFuE\\u002fDU7akbAiyvdG1AmSMDMKXg5BS9IwA8oE1e6N0jAUSaudG9ASMCUJEmSJElIwNUi5K\\u002fZUUjAGCF\\u002fzY5aSMBaHxrrQ2NIwJwdtQj5a0jA3htQJq50SMAgGutDY31IwGMYhmEYhkjApBYhf82OSMDnFLycgpdIwCkTV7o3oEjAbBHy1+yoSMCtD431obFIwPANKBNXukjAMgzDMAzDSMB0Cl5OwctIwLYI+Wt21EjA+AaUiSvdSMA7BS+n4OVIwHwDysSV7kjAvwFl4kr3SMABAAAAAABJwET+mh21CEnAhfw1O2oRScDI+tBYHxpJwAr5a3bUIknATPcGlIkrScCO9aGxPjRJwNDzPM\\u002fzPEnAE\\u002fLX7KhFScBU8HIKXk5JwJfuDSgTV0nA2eyoRchfScAc60NjfWhJwF3p3oAycUnAoOd5nud5ScDi5RS8nIJJwCTkr9lRi0nAZuJK9waUScCo4OUUvJxJwOvegDJxpUnALN0bUCauScBv27Zt27ZJwLHZUYuQv0nA9NfsqEXIScA11ofG+tBJwGR9aKwPjUvApXsDysSVS8DoeZ7neZ5LwCp4OQUvp0vAbHbUIuSvS8CudG9AmbhLwPFyCl5OwUvAM3GlewPKS8B1b0CZuNJLwLdt27Zt20vA+Wt21CLkS8A8ahHy1+xLwH1orA+N9UvAwGZHLUL+S8ACZeJK9wZMwERjfWisD0zAhmEYhmEYTMDJX7OjFiFMwAteTsHLKUzATVzp3oAyTMCPWoT8NTtMwNFYHxrrQ0zAFFe6N6BMTMBVVVVVVVVMwJhT8HIKXkzA2lGLkL9mTMAcUCaudG9MwF5OwcspeEzAoExc6d6ATMDkSvcGlIlMwCVJkiRJkkzAZ0ctQv6aTMCpRchfs6NMwOtDY31orEzALkL+mh21TMBwQJm40r1MwLI+NNaHxkzA9TzP8zzPTMA1O2oR8tdMwHk5BS+n4EzAuzegTFzpTMD8NTtqEfJMwEA01ofG+kzAgDJxpXsDTcDEMAzDMAxNwAUvp+DlFE3ARy1C\\u002fpodTcCLK90bUCZNwMwpeDkFL03ADigTV7o3TcA8z\\u002fM8z\\u002fNOwH7NjlqE\\u002fE7AwMspeDkFT8AEysSV7g1PwEXIX7OjFk\\u002fAh8b60FgfT8DLxJXuDShPwAvDMAzDME\\u002fATsHLKXg5T8CQv2ZHLUJPwNK9AWXiSk\\u002fAFbycgpdTT8BVujegTFxPwJm40r0BZU\\u002fA27Zt27ZtT8ActQj5a3ZPwGCzoxYhf0\\u002fAorE+NNaHT8Dkr9lRi5BPwCeudG9AmU\\u002fAZ6wPjfWhT8CrqqqqqqpPwOyoRchfs0\\u002fALqfg5RS8T8BypXsDysRPwLKjFiF\\u002fzU\\u002fA9aGxPjTWT8A3oExc6d5PwHme53me50\\u002fAvJyCl1PwT8D+mh21CPlPwKBMXOneAFDAwcspeDkFUMDiSvcGlAlQwATKxJXuDVDAJEmSJEkSUMBFyF+zoxZQwGdHLUL+GlDAh8b60FgfUMCpRchfsyNQwMrEle4NKFDA60NjfWgsUMAMwzAMwzBQwCxC\\u002fpodNVDATsHLKXg5UMBvQJm40j1QwJC\\u002fZkctQlDAsj401odGUMDTvQFl4kpQwPQ8z\\u002fM8T1DAjJC\\u002fZkctUcCtD431oTFRwM6OWoT8NVHA8A0oE1c6UcARjfWhsT5RwDIMwzAMQ1HAVIuQv2ZHUcB0Cl5OwUtRwJWJK90bUFHAtgj5a3ZUUcDXh8b60FhRwPkGlIkrXVHAGYZhGIZhUcA7BS+n4GVRwFyE\\u002fDU7alHAfAPKxJVuUcCegpdT8HJRwL8BZeJKd1HA4IAycaV7UcACAAAAAIBRwCJ\\u002fzY5ahFHARP6aHbWIUcBkfWisD41RwIX8NTtqkVHAp3sDysSVUcDH+tBYH5pRwOl5nud5nlHACvlrdtSiUcAreDkFL6dRwEz3BpSJq1HAbXbUIuSvUcCO9aGxPrRRwK90b0CZuFHA0PM8z\\u002fO8UcDycgpeTsFRwBPy1+yoxVHANHGlewPKUcBV8HIKXs5RwHVvQJm40lHAl+4NKBPXUcC4bdu2bdtRwNnsqEXI31HA+2t21CLkUcAb60NjfehRwDxqEfLX7FHAXenegDLxUcB+aKwPjfVRwKDneZ7n+VHAwWZHLUL+UcDi5RS8nAJSwHg5BS+n4FLAmbjSvQHlUsC7N6BMXOlSwNu2bdu27VLA\\u002fDU7ahHyUsAdtQj5a\\u002fZSwD401ofG+lLAYLOjFiH\\u002fUsCBMnGlewNTwKKxPjTWB1PAwzAMwzAMU8Dkr9lRixBTwAUvp+DlFFPAJq50b0AZU8BHLUL+mh1TwGmsD431IVPAiSvdG1AmU8CrqqqqqipTwMwpeDkFL1PA7KhFyF8zU8AOKBNXujdTwC6n4OUUPFPAUCaudG9AU8BxpXsDykRTwJIkSZIkSVPAtKMWIX9NU8DUIuSv2VFTwPWhsT40VlPAFyF\\u002fzY5aU8A3oExc6V5TwFkfGutDY1PAep7neZ5nU8CbHbUI+WtTwLycgpdTcFPA3BtQJq50U8D+mh21CHlTwB8a60NjfVPAQJm40r2BU8BiGIZhGIZTwIOXU\\u002fByilPApBYhf82OU8DEle4NKJNTwOUUvJyCl1PAB5SJK92bU8AoE1e6N6BTwEmSJEmSpFPAaxHy1+yoU8CLkL9mR61TwKwPjfWhsVPAzY5ahPy1U8Bl4kr3BpRUwIZhGIZhmFTAp+DlFLycVMDJX7OjFqFUwOregDJxpVTAC15OwcupVMAs3RtQJq5UwExc6d6AslTAbtu2bdu2VMCPWoT8NbtUwLDZUYuQv1TA0lgfGuvDVMDy1+yoRchUwBRXujegzFTANNaHxvrQVMBVVVVVVdVUwHfUIuSv2VTAmFPwcgreVMC50r0BZeJUwNtRi5C\\u002f5lTA+9BYHxrrVMAcUCaudO9UwD3P8zzP81TAXk7Byyn4VMCAzY5ahPxUwKBMXOneAFXAwsspeDkFVcDjSvcGlAlVwATKxJXuDVXAJUmSJEkSVcBGyF+zoxZVwGdHLUL+GlXAiMb60FgfVcCpRchfsyNVwMvEle4NKFXA7ENjfWgsVcAMwzAMwzBVwC5C\\u002fpodNVXATsHLKXg5VcBwQJm40j1VwJG\\u002fZkctQlXAsj401odGVcDUvQFl4kpVwPQ8z\\u002fM8T1XAFbycgpdTVcA2O2oR8ldVwFe6N6BMXFXAeTkFL6dgVcCauNK9AWVVwLs3oExcaVXAUouQv2ZHVsBzCl5OwUtWwJSJK90bUFbAtQj5a3ZUVsDWh8b60FhWwPcGlIkrXVbAGYZhGIZhVsA5BS+n4GVWwFuE\\u002fDU7albAfAPKxJVuVsCcgpdT8HJWwL4BZeJKd1bA3oAycaV7VsAAAAAAAIBWwCF\\u002fzY5ahFbAQv6aHbWIVsBkfWisD41WwIT8NTtqkVbApXsDysSVVsDH+tBYH5pWwOd5nud5nlbACflrdtSiVsAqeDkFL6dWwEv3BpSJq1bAbHbUIuSvVsCM9aGxPrRWwK50b0CZuFbAz\\u002fM8z\\u002fO8VsDwcgpeTsFWwBLy1+yoxVbAM3GlewPKVsBU8HIKXs5WwHRvQJm40lbAle4NKBPXVsC3bdu2bdtWwNjsqEXI31bA+Wt21CLkVsAb60NjfehWwDtqEfLX7FbAXOnegDLxVsB9aKwPjfVWwJ7neZ7n+VbAwGZHLUL+VsDg5RS8nAJXwAJl4kr3BlfAI+Sv2VELV8BEY31orA9XwGXiSvcGFFfAhmEYhmEYV8Cn4OUUvBxXwD401ofG+lfAX7OjFiH\\u002fV8CAMnGlewNYwKKxPjTWB1jAwzAMwzAMWMDkr9lRixBYwAUvp+DlFFjAJa50b0AZWMBHLUL+mh1YwGisD431IVjAiSvdG1AmWMCrqqqqqipYwMspeDkFL1jA7KhFyF8zWMANKBNXujdYwC6n4OUUPFjAUCaudG9AWMBxpXsDykRYwJIkSZIkSVjAtKMWIX9NWMDUIuSv2VFYwPWhsT40VljAFiF\\u002fzY5aWMA3oExc6V5YwFkfGutDY1jAeZ7neZ5nWMCbHbUI+WtYwLycgpdTcFjA3BtQJq50WMD+mh21CHlYwB8a60NjfVjAQJm40r2BWMBhGIZhGIZYwIKXU\\u002fByiljApBYhf82OWMDEle4NKJNYwOUUvJyCl1jAB5SJK92bWMAnE1e6N6BYwEmSJEmSpFjAahHy1+yoWMCLkL9mR61YwKwPjfWhsVjAzI5ahPy1WMDuDSgTV7pYwA+N9aGxvljAMAzDMAzDWMBSi5C\\u002fZsdYwHMKXk7By1jAlIkr3RvQWMAs3RtQJq5ZwE1c6d6AslnAbtu2bdu2WcCQWoT8NbtZwLHZUYuQv1nA0lgfGuvDWcD01+yoRchZwBRXujegzFnANdaHxvrQWcBWVVVVVdVZwHfUIuSv2VnAmVPwcgreWcC50r0BZeJZwNtRi5C\\u002f5lnA\\u002fNBYHxrrWcAcUCaudO9ZwD7P8zzP81nAX07Byyn4WcCAzY5ahPxZwKJMXOneAFrAwsspeDkFWsDkSvcGlAlawATKxJXuDVrAJUmSJEkSWsBHyF+zoxZawGdHLUL+GlrAicb60FgfWsCqRchfsyNawMvEle4NKFrA7ENjfWgsWsANwzAMwzBawC5C\\u002fpodNVrAT8HLKXg5WsBwQJm40j1awJK\\u002fZkctQlrAsz401odGWsDUvQFl4kpawPU8z\\u002fM8T1rAFbycgpdTWsA3O2oR8ldawFi6N6BMXFrAeTkFL6dgWsCbuNK9AWVawLs3oExcaVrA3LZt27ZtWsD9NTtqEXJawB61CPlrdlrAQDTWh8Z6WsBhs6MWIX9awIIycaV7g1rAGYZhGIZhW8A6BS+n4GVbwFuE\\u002fDU7alvAfAPKxJVuW8CdgpdT8HJbwL4BZeJKd1vA4IAycaV7W8AAAAAAAIBbwCJ\\u002fzY5ahFvAQ\\u002f6aHbWIW8BkfWisD41bwIX8NTtqkVvApXsDysSVW8DH+tBYH5pbwOh5nud5nlvACflrdtSiW8AreDkFL6dbwEz3BpSJq1vAbHbUIuSvW8CO9aGxPrRbwK50b0CZuFvA0PM8z\\u002fO8W8DxcgpeTsFbwBLy1+yoxVvANHGlewPKW8BU8HIKXs5bwHVvQJm40lvAlu4NKBPXW8C3bdu2bdtbwNnsqEXI31vA+mt21CLkW8Ab60NjfehbwDxqEfLX7FvAXOnegDLxW8B+aKwPjfVbwJ\\u002fneZ7n+VvAwGZHLUL+W8Di5RS8nAJcwAJl4kr3BlzAJOSv2VELXMBEY31orA9cwGXiSvcGFFzAh2EYhmEYXMCn4OUUvBxcwMlfs6MWIVzA6t6AMnElXMALXk7ByylcwCzdG1AmLlzATVzp3oAyXMBu27Zt2zZcwAUvp+DlFF3AJ650b0AZXcBHLUL+mh1dwGmsD431IV3AiyvdG1AmXcCrqqqqqipdwMwpeDkFL13A7KhFyF8zXcAOKBNXujddwC6n4OUUPF3AUCaudG9AXcBypXsDykRdwJIkSZIkSV3AtKMWIX9NXcDVIuSv2VFdwPWhsT40Vl3AFyF\\u002fzY5aXcA5oExc6V5dwFkfGutDY13Ae57neZ5nXcCbHbUI+WtdwLycgpdTcF3A3BtQJq50XcD+mh21CHldwCAa60NjfV3AQJm40r2BXcBiGIZhGIZdwISXU\\u002fByil3ApBYhf82OXcDFle4NKJNdwOcUvJyCl13AB5SJK92bXcAnE1e6N6BdwEmSJEmSpF3AaxHy1+yoXcCLkL9mR61dwKwPjfWhsV3Azo5ahPy1XcDuDSgTV7pdwBCN9aGxvl3AMgzDMAzDXcBSi5C\\u002fZsddwHQKXk7By13AlIkr3RvQXcC1CPlrdtRdwNWHxvrQ2F3A9waUiSvdXcAZhmEYhuFdwDkFL6fg5V3AW4T8NTvqXcD01+yoRchewBVXujegzF7ANdaHxvrQXsBXVVVVVdVewHnUIuSv2V7AmVPwcgreXsC70r0BZeJewNtRi5C\\u002f5l7A\\u002fNBYHxrrXsAcUCaudO9ewD7P8zzP817AYE7Byyn4XsCAzY5ahPxewKJMXOneAF\\u002fAxMspeDkFX8DkSvcGlAlfwAXKxJXuDV\\u002fAJ0mSJEkSX8BHyF+zoxZfwGlHLUL+Gl\\u002fAicb60FgfX8CrRchfsyNfwMvEle4NKF\\u002fA7ENjfWgsX8AOwzAMwzBfwC5C\\u002fpodNV\\u002fAUMHLKXg5X8ByQJm40j1fwJK\\u002fZkctQl\\u002fAtD401odGX8DVvQFl4kpfwPU8z\\u002fM8T1\\u002fAFbycgpdTX8A3O2oR8ldfwFm6N6BMXF\\u002fAeTkFL6dgX8CbuNK9AWVfwLw3oExcaV\\u002fA3LZt27ZtX8D+NTtqEXJfwCC1CPlrdl\\u002fAQDTWh8Z6X8Bis6MWIX9fwIIycaV7g1\\u002fApLE+NNaHX8DEMAzDMIxfwOWv2VGLkF\\u002fABy+n4OWUX8AnrnRvQJlfwEktQv6anV\\u002fAcECZuNI9YMAAAAAAAEBgwJG\\u002fZkctQmDAIn\\u002fNjlpEYMCyPjTWh0ZgwEP+mh21SGDA1L0BZeJKYMBkfWisD01gwPQ8z\\u002fM8T2DAhfw1O2pRYMAVvJyCl1NgwKZ7A8rEVWDANjtqEfJXYMDH+tBYH1pgwFe6N6BMXGDA6Hme53leYMB5OQUvp2BgwAn5a3bUYmDAmrjSvQFlYMAreDkFL2dgwLs3oExcaWDATPcGlIlrYMDctm3btm1gwGx21CLkb2DA\\u002fTU7ahFyYMCN9aGxPnRgwB61CPlrdmDArnRvQJl4YMA\\u002fNNaHxnpgwNDzPM\\u002fzfGDAYLOjFiF\\u002fYMDxcgpeToFgwIIycaV7g2DAEvLX7KiFYMCjsT401odgwDRxpXsDimDAxDAMwzCMYMBU8HIKXo5gwOSv2VGLkGDAdW9AmbiSYMAFL6fg5ZRgwJbuDSgTl2DAJ650b0CZYMC3bdu2bZtgwEgtQv6anWDA2eyoRcifYMBprA+N9aFgwPprdtQipGDAiyvdG1CmYMAb60NjfahgwOUUvJyCF2HAddQi5K8ZYcAGlIkr3RthwJdT8HIKHmHAJxNXujcgYcC40r0BZSJhwEmSJEmSJGHA2VGLkL8mYcBqEfLX7ChhwPvQWB8aK2HAi5C\\u002fZkctYcAcUCaudC9hwKwPjfWhMWHAPM\\u002fzPM8zYcDMjlqE\\u002fDVhwF1OwcspOGHA7g0oE1c6YcB+zY5ahDxhwA+N9aGxPmHAoExc6d5AYcAwDMMwDENhwMHLKXg5RWHAUouQv2ZHYcDiSvcGlElhwHMKXk7BS2HAA8rEle5NYcCUiSvdG1BhwCRJkiRJUmHAtAj5a3ZUYcBFyF+zo1ZhwNWHxvrQWGHAZkctQv5aYcD3BpSJK11hwIfG+tBYX2HAGIZhGIZhYcCpRchfs2NhwDkFL6fgZWHAysSV7g1oYcBahPw1O2phwOtDY31obGHAewPKxJVuYcAMwzAMw3BhwJyCl1PwcmHALEL+mh11YcC9AWXiSndhwE7Byyl4eWHA3oAycaV7YcBvQJm40n1hwAAAAAAAgGHAkL9mRy2CYcBc6d6AMvFhwOyoRchf82HAfWisD431YcAOKBNXuvdhwJ7neZ7n+WHAL6fg5RT8YcDAZkctQv5hwFAmrnRvAGLA4eUUvJwCYsBypXsDygRiwAJl4kr3BmLAkyRJkiQJYsAj5K\\u002fZUQtiwLSjFiF\\u002fDWLARGN9aKwPYsDUIuSv2RFiwGXiSvcGFGLA9aGxPjQWYsCGYRiGYRhiwBchf82OGmLAp+DlFLwcYsA4oExc6R5iwMlfs6MWIWLAWR8a60MjYsDq3oAycSViwHqe53meJ2LAC15OwcspYsCbHbUI+StiwCzdG1AmLmLAvJyCl1MwYsBMXOnegDJiwN0bUCauNGLAbtu2bds2YsD+mh21CDliwI9ahPw1O2LAIBrrQ2M9YsCw2VGLkD9iwEGZuNK9QWLA0VgfGutDYsBiGIZhGEZiwPLX7KhFSGLAg5dT8HJKYsAUV7o3oExiwKQWIX\\u002fNTmLANNaHxvpQYsDFle4NKFNiwFVVVVVVVWLA5hS8nIJXYsB31CLkr1liwAeUiSvdW2LA070BZeLKYsBkfWisD81iwPQ8z\\u002fM8z2LAhPw1O2rRYsAVvJyCl9NiwKV7A8rE1WLANjtqEfLXYsDG+tBYH9piwFe6N6BM3GLA53me53neYsB4OQUvp+BiwAn5a3bU4mLAmbjSvQHlYsAqeDkFL+diwLs3oExc6WLAS\\u002fcGlInrYsDctm3btu1iwGx21CLk72LA\\u002fDU7ahHyYsCN9aGxPvRiwB21CPlr9mLArnRvQJn4YsA+NNaHxvpiwM\\u002fzPM\\u002fz\\u002fGLAYLOjFiH\\u002fYsDwcgpeTgFjwIEycaV7A2PAEvLX7KgFY8CisT401gdjwDNxpXsDCmPAxDAMwzAMY8BU8HIKXg5jwOSv2VGLEGPAdG9AmbgSY8AFL6fg5RRjwJXuDSgTF2PAJq50b0AZY8C3bdu2bRtjwEctQv6aHWPA2OyoRcgfY8BprA+N9SFjwPlrdtQiJGPAiivdG1AmY8Aa60NjfShjwKuqqqqqKmPAO2oR8tcsY8DMKXg5BS9jwFzp3oAyMWPA7KhFyF8zY8B9aKwPjTVjwEmSJEmSpGPA2VGLkL+mY8BqEfLX7KhjwPvQWB8aq2PAi5C\\u002fZketY8AcUCaudK9jwKwPjfWhsWPAPM\\u002fzPM+zY8DNjlqE\\u002fLVjwF5OwcspuGPA7g0oE1e6Y8B\\u002fzY5ahLxjwA+N9aGxvmPAoExc6d7AY8AwDMMwDMNjwMHLKXg5xWPAUouQv2bHY8DiSvcGlMljwHMKXk7By2PABMrEle7NY8CUiSvdG9BjwCRJkiRJ0mPAtQj5a3bUY8BFyF+zo9ZjwNaHxvrQ2GPAZkctQv7aY8D3BpSJK91jwIfG+tBY32PAGIZhGIbhY8CpRchfs+NjwDkFL6fg5WPAysSV7g3oY8BbhPw1O+pjwOtDY31o7GPAfAPKxJXuY8AMwzAMw\\u002fBjwJyCl1Pw8mPALUL+mh31Y8C9AWXiSvdjwE7Byyl4+WPA3oAycaX7Y8BvQJm40v1jwAAAAAAAAGTAkL9mRy0CZMAhf82OWgRkwLI+NNaHBmTAQv6aHbUIZMDTvQFl4gpkwGR9aKwPDWTA9DzP8zwPZMC\\u002fZkctQn5kwFAmrnRvgGTA4OUUvJyCZMBxpXsDyoRkwAJl4kr3hmTAkiRJkiSJZMAj5K\\u002fZUYtkwLOjFiF\\u002fjWTARGN9aKyPZMDUIuSv2ZFkwGTiSvcGlGTA9aGxPjSWZMCFYRiGYZhkwBYhf82OmmTAp+DlFLycZMA3oExc6Z5kwMhfs6MWoWTAWR8a60OjZMDp3oAycaVkwHqe53mep2TACl5OwcupZMCbHbUI+atkwCvdG1AmrmTAvJyCl1OwZMBMXOnegLJkwNwbUCautGTAbdu2bdu2ZMD+mh21CLlkwI5ahPw1u2TAHxrrQ2O9ZMCw2VGLkL9kwECZuNK9wWTA0FgfGuvDZMBhGIZhGMZkwPLX7KhFyGTAgpdT8HLKZMATV7o3oMxkwKQWIX\\u002fNzmTANNaHxvrQZMDEle4NKNNkwFVVVVVV1WTA5RS8nILXZMB21CLkr9lkwAaUiSvd22TAl1PwcgreZMAnE1e6N+BkwLjSvQFl4mTASZIkSZLkZMDZUYuQv+ZkwGoR8tfs6GTANztqEfJXZcDH+tBYH1plwFi6N6BMXGXA6Xme53leZcB5OQUvp2BlwAr5a3bUYmXAm7jSvQFlZcAreDkFL2dlwLw3oExcaWXATPcGlIlrZcDctm3btm1lwG121CLkb2XA\\u002fTU7ahFyZcCO9aGxPnRlwB61CPlrdmXAr3RvQJl4ZcBANNaHxnplwNDzPM\\u002fzfGXAYbOjFiF\\u002fZcDycgpeToFlwIIycaV7g2XAE\\u002fLX7KiFZcCksT401odlwDRxpXsDimXAxDAMwzCMZcBU8HIKXo5lwOWv2VGLkGXAdW9AmbiSZcAGL6fg5ZRlwJfuDSgTl2XAJ650b0CZZcC4bdu2bZtlwEktQv6anWXA2eyoRcifZcBqrA+N9aFlwPtrdtQipGXAiyvdG1CmZcAc60NjfahlwKyqqqqqqmXAPGoR8tesZcDMKXg5Ba9lwF3p3oAysWXA7qhFyF+zZcB+aKwPjbVlwA8oE1e6t2XAoOd5nue5ZcAwp+DlFLxlwMFmRy1CvmXAUiaudG\\u002fAZcDi5RS8nMJlwKwPjfWhMWbAPM\\u002fzPM8zZsDNjlqE\\u002fDVmwF5OwcspOGbA7g0oE1c6ZsB\\u002fzY5ahDxmwBCN9aGxPmbAoExc6d5AZsAxDMMwDENmwMLLKXg5RWbAUouQv2ZHZsDjSvcGlElmwHMKXk7BS2bABMrEle5NZsCUiSvdG1BmwCRJkiRJUmbAtQj5a3ZUZsBFyF+zo1ZmwNaHxvrQWGbAZ0ctQv5aZsD3BpSJK11mwIjG+tBYX2bAGYZhGIZhZsCpRchfs2NmwDoFL6fgZWbAysSV7g1oZsBbhPw1O2pmwOtDY31obGbAfAPKxJVuZsAMwzAMw3BmwJyCl1PwcmbALUL+mh11ZsC+AWXiSndmwE7Byyl4eWbA34AycaV7ZsBwQJm40n1mwAAAAAAAgGbAkb9mRy2CZsAhf82OWoRmwLI+NNaHhmbAQv6aHbWIZsDTvQFl4opmwGR9aKwPjWbA9DzP8zyPZsCE\\u002fDU7apFmwBW8nIKXk2bApXsDysSVZsA2O2oR8pdmwMf60FgfmmbAV7o3oEycZsAj5K\\u002fZUQtnwLSjFiF\\u002fDWfARGN9aKwPZ8DUIuSv2RFnwGXiSvcGFGfA9aGxPjQWZ8CGYRiGYRhnwBYhf82OGmfAp+DlFLwcZ8A3oExc6R5nwMhfs6MWIWfAWR8a60MjZ8Dp3oAycSVnwHqe53meJ2fAC15OwcspZ8CbHbUI+StnwCzdG1AmLmfAvJyCl1MwZ8BMXOnegDJnwN0bUCauNGfAbdu2bds2Z8D+mh21CDlnwI5ahPw1O2fAHxrrQ2M9Z8Cw2VGLkD9nwECZuNK9QWfA0VgfGutDZ8BiGIZhGEZnwPLX7KhFSGfAg5dT8HJKZ8AUV7o3oExnwKQWIX\\u002fNTmfANNaHxvpQZ8DEle4NKFNnwFVVVVVVVWfA5RS8nIJXZ8B21CLkr1lnwAeUiSvdW2fAl1PwcgpeZ8AoE1e6N2BnwLnSvQFlYmfASZIkSZJkZ8DaUYuQv2ZnwGoR8tfsaGfA+9BYHxprZ8CLkL9mR21nwBxQJq50b2fArA+N9aFxZ8A8z\\u002fM8z3NnwM2OWoT8dWfAmbjSvQHlZ8ApeDkFL+dnwLo3oExc6WfAS\\u002fcGlInrZ8Dbtm3btu1nwGx21CLk72fA\\u002fDU7ahHyZ8CM9aGxPvRnwB21CPlr9mfArnRvQJn4Z8A+NNaHxvpnwM\\u002fzPM\\u002fz\\u002fGfAX7OjFiH\\u002fZ8DwcgpeTgFowIAycaV7A2jAEfLX7KgFaMCisT401gdowDJxpXsDCmjAwzAMwzAMaMBU8HIKXg5owOSv2VGLEGjAdG9AmbgSaMAFL6fg5RRowJXuDSgTF2jAJq50b0AZaMC2bdu2bRtowEctQv6aHWjA1+yoRcgfaMBorA+N9SFowPlrdtQiJGjAiSvdG1AmaMAa60NjfShowKuqqqqqKmjAO2oR8tcsaMDMKXg5BS9owFzp3oAyMWjA7KhFyF8zaMB9aKwPjTVowA0oE1e6N2jAnud5nuc5aMAup+DlFDxowL9mRy1CPmjAUCaudG9AaMDg5RS8nEJowHGlewPKRGjAAmXiSvdGaMCSJEmSJElowCPkr9lRS2jAtKMWIX9NaMBEY31orE9owBCN9aGxvmjAoExc6d7AaMAxDMMwDMNowMLLKXg5xWjAUouQv2bHaMDjSvcGlMlowHQKXk7By2jABMrEle7NaMCUiSvdG9BowCVJkiRJ0mjAtQj5a3bUaMBGyF+zo9ZowNaHxvrQ2GjAZ0ctQv7aaMD3BpSJK91owIjG+tBY32jAGYZhGIbhaMCpRchfs+NowDoFL6fg5WjAy8SV7g3oaMBbhPw1O+powOxDY31o7GjAfAPKxJXuaMAMwzAMw\\u002fBowJ2Cl1Pw8mjALUL+mh31aMC+AWXiSvdowE7Byyl4+WjA34AycaX7aMBwQJm40v1owAAAAAAAAGnAkb9mRy0CacAif82OWgRpwLI+NNaHBmnAQ\\u002f6aHbUIacDUvQFl4gppwGR9aKwPDWnA9DzP8zwPacCE\\u002fDU7ahFpwBW8nIKXE2nApXsDysQVacA2O2oR8hdpwMf60FgfGmnAV7o3oEwcacDoeZ7neR5pwHk5BS+nIGnACflrdtQiacCauNK9ASVpwCt4OQUvJ2nAuzegTFwpacCHYRiGYZhpwBchf82OmmnAqODlFLycacA5oExc6Z5pwMlfs6MWoWnAWh8a60OjacDr3oAycaVpwHue53mep2nADF5OwcupacCcHbUI+atpwCzdG1AmrmnAvZyCl1OwacBNXOnegLJpwN4bUCautGnAbtu2bdu2acD\\u002fmh21CLlpwJBahPw1u2nAIBrrQ2O9acCx2VGLkL9pwEKZuNK9wWnA0lgfGuvDacBjGIZhGMZpwPTX7KhFyGnAhJdT8HLKacAUV7o3oMxpwKQWIX\\u002fNzmnANdaHxvrQacDFle4NKNNpwFZVVVVV1WnA5xS8nILXacB31CLkr9lpwAiUiSvd22nAmVPwcgreacApE1e6N+BpwLrSvQFl4mnAS5IkSZLkacDbUYuQv+ZpwGwR8tfs6GnA\\u002fNBYHxrracCMkL9mR+1pwBxQJq5072nArQ+N9aHxacA+z\\u002fM8z\\u002fNpwM6OWoT89WnAX07Byyn4acDwDSgTV\\u002fppwIDNjlqE\\u002fGnAEY31obH+acCiTFzp3gBqwDIMwzAMA2rA\\u002fDU7ahFyasCM9aGxPnRqwB21CPlrdmrArnRvQJl4asA+NNaHxnpqwM\\u002fzPM\\u002fzfGrAYLOjFiF\\u002fasDwcgpeToFqwIEycaV7g2rAEvLX7KiFasCisT401odqwDNxpXsDimrAwzAMwzCMasBU8HIKXo5qwOSv2VGLkGrAdG9AmbiSasAFL6fg5ZRqwJXuDSgTl2rAJq50b0CZasC3bdu2bZtqwEctQv6anWrA2OyoRcifasBprA+N9aFqwPlrdtQipGrAiivdG1CmasAa60NjfahqwKuqqqqqqmrAO2oR8tesasDMKXg5Ba9qwFzp3oAysWrA7KhFyF+zasB9aKwPjbVqwA4oE1e6t2rAnud5nue5asAvp+DlFLxqwMBmRy1CvmrAUCaudG\\u002fAasDh5RS8nMJqwHGlewPKxGrAAmXiSvfGasCSJEmSJMlqwCPkr9lRy2rAtKMWIX\\u002fNasBEY31orM9qwNQi5K\\u002fZ0WrAZeJK9wbUasD1obE+NNZqwIZhGIZh2GrAFyF\\u002fzY7aasCn4OUUvNxqwHQKXk7BS2vABMrEle5Na8CUiSvdG1BrwCVJkiRJUmvAtQj5a3ZUa8BGyF+zo1ZrwNeHxvrQWGvAZ0ctQv5aa8D4BpSJK11rwInG+tBYX2vAGYZhGIZha8CqRchfs2NrwDoFL6fgZWvAy8SV7g1oa8BbhPw1O2prwOxDY31obGvAfAPKxJVua8AMwzAMw3BrwJ2Cl1PwcmvALkL+mh11a8C+AWXiSndrwE\\u002fByyl4eWvA4IAycaV7a8BwQJm40n1rwAEAAAAAgGvAkb9mRy2Ca8Aif82OWoRrwLI+NNaHhmvAQ\\u002f6aHbWIa8DUvQFl4oprwGR9aKwPjWvA9DzP8zyPa8CF\\u002fDU7apFrwBW8nIKXk2vApnsDysSVa8A3O2oR8pdrwMf60FgfmmvAWLo3oEyca8DoeZ7neZ5rwHk5BS+noGvACflrdtSia8CauNK9AaVrwCt4OQUvp2vAuzegTFypa8BM9waUiatrwNy2bdu2rWvAbHbUIuSva8D9NTtqEbJrwI71obE+tGvAHrUI+Wu2a8Dp3oAycSVswHme53meJ2zACl5OwcspbMCbHbUI+StswCvdG1AmLmzAvJyCl1MwbMBMXOnegDJswNwbUCauNGzAbdu2bds2bMD+mh21CDlswI5ahPw1O2zAHxrrQ2M9bMCv2VGLkD9swECZuNK9QWzA0FgfGutDbMBhGIZhGEZswPLX7KhFSGzAgpdT8HJKbMATV7o3oExswKQWIX\\u002fNTmzANNaHxvpQbMDEle4NKFNswFVVVVVVVWzA5RS8nIJXbMB21CLkr1lswAaUiSvdW2zAl1PwcgpebMAnE1e6N2BswLjSvQFlYmzASZIkSZJkbMDZUYuQv2ZswGoR8tfsaGzA+9BYHxprbMCLkL9mR21swBxQJq50b2zArA+N9aFxbMA8z\\u002fM8z3NswMyOWoT8dWzAXk7Byyl4bMDuDSgTV3pswH7NjlqEfGzADo31obF+bMCgTFzp3oBswDAMwzAMg2zAwMspeDmFbMBSi5C\\u002fZodswOJK9waUiWzAcgpeTsGLbMAEysSV7o1swJSJK90bkGzAYLOjFiH\\u002fbMDwcgpeTgFtwIIycaV7A23AEvLX7KgFbcCisT401gdtwDJxpXsDCm3AxDAMwzAMbcBU8HIKXg5twOSv2VGLEG3AdW9AmbgSbcAFL6fg5RRtwJXuDSgTF23AJ650b0AZbcC3bdu2bRttwEctQv6aHW3A2eyoRcgfbcBprA+N9SFtwPlrdtQiJG3AiyvdG1AmbcAb60NjfShtwKuqqqqqKm3AO2oR8tcsbcDMKXg5BS9twFzp3oAyMW3A7KhFyF8zbcB+aKwPjTVtwA4oE1e6N23Anud5nuc5bcAwp+DlFDxtwMBmRy1CPm3AUCaudG9AbcDg5RS8nEJtwHKlewPKRG3AAmXiSvdGbcCSJEmSJEltwCTkr9lRS23AtKMWIX9NbcBEY31orE9twNUi5K\\u002fZUW3AZeJK9wZUbcD1obE+NFZtwIdhGIZhWG3AFyF\\u002fzY5abcCn4OUUvFxtwDmgTFzpXm3AyV+zoxZhbcBZHxrrQ2NtwOnegDJxZW3Ae57neZ5nbcALXk7By2ltwNeHxvrQ2G3AZ0ctQv7abcD5BpSJK91twInG+tBY323AGYZhGIbhbcCrRchfs+NtwDsFL6fg5W3Ay8SV7g3obcBchPw1O+ptwOxDY31o7G3AfAPKxJXubcAMwzAMw\\u002fBtwJ6Cl1Pw8m3ALkL+mh31bcC+AWXiSvdtwFDByyl4+W3A4IAycaX7bcBwQJm40v1twAAAAAAAAG7Akr9mRy0CbsAif82OWgRuwLI+NNaHBm7ARP6aHbUIbsDUvQFl4gpuwGR9aKwPDW7A9TzP8zwPbsCF\\u002fDU7ahFuwBW8nIKXE27Ap3sDysQVbsA3O2oR8hduwMf60FgfGm7AWbo3oEwcbsDpeZ7neR5uwHk5BS+nIG7ACflrdtQibsCbuNK9ASVuwCt4OQUvJ27AuzegTFwpbsBM9waUiStuwNy2bdu2LW7AbHbUIuQvbsD8NTtqETJuwI71obE+NG7AHrUI+Ws2bsCudG9AmThuwEA01ofGOm7A0PM8z\\u002fM8bsBgs6MWIT9uwPJyCl5OQW7AgjJxpXtDbsBMXOnegLJuwNwbUCautG7Abtu2bdu2bsD+mh21CLluwI5ahPw1u27AIBrrQ2O9bsCw2VGLkL9uwECZuNK9wW7A0lgfGuvDbsBiGIZhGMZuwPLX7KhFyG7AgpdT8HLKbsAUV7o3oMxuwKQWIX\\u002fNzm7ANNaHxvrQbsDFle4NKNNuwFVVVVVV1W7A5RS8nILXbsB11CLkr9luwAeUiSvd227Al1PwcgrebsAnE1e6N+BuwLnSvQFl4m7ASZIkSZLkbsDZUYuQv+ZuwGsR8tfs6G7A+9BYHxrrbsCLkL9mR+1uwBxQJq50727ArA+N9aHxbsA8z\\u002fM8z\\u002fNuwM6OWoT89W7AXk7Byyn4bsDuDSgTV\\u002fpuwH7NjlqE\\u002fG7AEI31obH+bsCgTFzp3gBvwDAMwzAMA2\\u002fAwsspeDkFb8BSi5C\\u002fZgdvwOJK9waUCW\\u002fAcgpeTsELb8AEysSV7g1vwJSJK90bEG\\u002fAJEmSJEkSb8C1CPlrdhRvwEXIX7OjFm\\u002fA1YfG+tAYb8BnRy1C\\u002fhpvwPcGlIkrHW\\u002fAxDAMwzCMb8BU8HIKXo5vwOWv2VGLkG\\u002fAdW9AmbiSb8AFL6fg5ZRvwJXuDSgTl2\\u002fAJ650b0CZb8C3bdu2bZtvwEctQv6anW\\u002fA2eyoRcifb8BprA+N9aFvwPlrdtQipG\\u002fAiyvdG1Cmb8Ab60NjfahvwKuqqqqqqm\\u002fAPGoR8tesb8DMKXg5Ba9vwFzp3oAysW\\u002fA7qhFyF+zb8B+aKwPjbVvwA4oE1e6t2\\u002fAnud5nue5b8Awp+DlFLxvwMBmRy1Cvm\\u002fAUCaudG\\u002fAb8Di5RS8nMJvwHKlewPKxG\\u002fAAmXiSvfGb8CUJEmSJMlvwCTkr9lRy2\\u002fAtKMWIX\\u002fNb8BEY31orM9vwNUi5K\\u002fZ0W\\u002fAZeJK9wbUb8D1obE+NNZvwIdhGIZh2G\\u002fAFyF\\u002fzY7ab8Cn4OUUvNxvwDmgTFzp3m\\u002fAyV+zoxbhb8BZHxrrQ+NvwOvegDJx5W\\u002fAe57neZ7nb8ALXk7By+lvwJwdtQj562\\u002fALN0bUCbub8C8nIKXU\\u002fBvwExc6d6A8m\\u002fA3htQJq70b8Bu27Zt2\\u002fZvwJyCl1PwMnDAZOJK9wY0cMAtQv6aHTVwwPWhsT40NnDAvQFl4ko3cMCFYRiGYThwwE7Byyl4OXDAFiF\\u002fzY46cMDegDJxpTtwwKfg5RS8PHDAb0CZuNI9cMA3oExc6T5wwAAAAAAAQHDAyF+zoxZBcMCQv2ZHLUJwwFkfGutDQ3DAIX\\u002fNjlpEcMDp3oAycUVwwLI+NNaHRnDAep7neZ5HcMBC\\u002fpodtUhwwApeTsHLSXDA070BZeJKcMCbHbUI+UtwwGN9aKwPTXDALN0bUCZOcMD0PM\\u002fzPE9wwLycgpdTUHDAhPw1O2pRcMBMXOnegFJwwBS8nIKXU3DA3BtQJq5UcMClewPKxFVwwG3btm3bVnDANTtqEfJXcMD+mh21CFlwwMb60FgfWnDAjlqE\\u002fDVbcMBXujegTFxwwB8a60NjXXDA53me53lecMCw2VGLkF9wwHg5BS+nYHDAQJm40r1hcMAJ+Wt21GJwwNFYHxrrY3DAmbjSvQFlcMBhGIZhGGZwwCp4OQUvZ3DA8tfsqEVocMDY7KhFyJ9wwKBMXOneoHDAaawPjfWhcMAxDMMwDKNwwPlrdtQipHDAwsspeDmlcMCKK90bUKZwwFKLkL9mp3DAG+tDY32ocMDjSvcGlKlwwKuqqqqqqnDAcwpeTsGrcMA8ahHy16xwwATKxJXurXDAzCl4OQWvcMCUiSvdG7BwwFzp3oAysXDAJEmSJEmycMDsqEXIX7NwwLUI+Wt2tHDAfWisD421cMBFyF+zo7ZwwA4oE1e6t3DA1ofG+tC4cMCe53me57lwwGdHLUL+unDAL6fg5RS8cMD3BpSJK71wwMBmRy1CvnDAiMb60Fi\\u002fcMBQJq50b8BwwBmGYRiGwXDA4eUUvJzCcMCpRchfs8NwwHGlewPKxHDAOgUvp+DFcMACZeJK98ZwwMrEle4NyHDAkyRJkiTJcMBbhPw1O8pwwCPkr9lRy3DA60NjfWjMcMC0oxYhf81wwHwDysSVznDARGN9aKzPcMAMwzAMw9BwwNQi5K\\u002fZ0XDAnIKXU\\u002fDScMBl4kr3BtRwwC1C\\u002fpod1XDAE1e6N6AMccDbtm3btg1xwKQWIX\\u002fNDnHAbHbUIuQPccA01ofG+hBxwPw1O2oREnHAxJXuDSgTccCM9aGxPhRxwFVVVVVVFXHAHbUI+WsWccDlFLycghdxwK10b0CZGHHAdtQi5K8ZccA+NNaHxhpxwAaUiSvdG3HAz\\u002fM8z\\u002fMcccCXU\\u002fByCh5xwF+zoxYhH3HAJxNXujcgccDwcgpeTiFxwLjSvQFlInHAgDJxpXsjccBJkiRJkiRxwBHy1+yoJXHA2VGLkL8mccCisT401idxwGoR8tfsKHHAMnGlewMqccD70FgfGitxwMMwDMMwLHHAi5C\\u002fZkctccBU8HIKXi5xwBxQJq50L3HA5K\\u002fZUYswccCsD431oTFxwHRvQJm4MnHAPM\\u002fzPM8zccAEL6fg5TRxwM2OWoT8NXHAle4NKBM3ccBdTsHLKThxwCWudG9AOXHA7g0oE1c6ccC2bdu2bTtxwH7NjlqEPHHARy1C\\u002fpo9ccAPjfWhsT5xwNfsqEXIP3HAoExc6d5AccBorA+N9UFxwE\\u002fByyl4eXHAFyF\\u002fzY56ccDggDJxpXtxwKjg5RS8fHHAcECZuNJ9ccA5oExc6X5xwAEAAAAAgHHAyV+zoxaBccCSv2ZHLYJxwFofGutDg3HAIn\\u002fNjlqEccDq3oAycYVxwLM+NNaHhnHAe57neZ6HccBD\\u002fpodtYhxwAxeTsHLiXHA1L0BZeKKccCcHbUI+YtxwGR9aKwPjXHALN0bUCaOccD0PM\\u002fzPI9xwLycgpdTkHHAhfw1O2qRccBNXOnegJJxwBW8nIKXk3HA3htQJq6UccCmewPKxJVxwG7btm3blnHANztqEfKXccD\\u002fmh21CJlxwMf60FgfmnHAkFqE\\u002fDWbccBYujegTJxxwCAa60NjnXHA6Hme53meccCx2VGLkJ9xwHk5BS+noHHAQZm40r2hccAK+Wt21KJxwNJYHxrro3HAmrjSvQGlccBiGIZhGKZxwCt4OQUvp3HA89fsqEWoccC7N6BMXKlxwISXU\\u002fByqnHATPcGlImrccAUV7o3oKxxwNy2bdu2rXHApBYhf82uccCKK90bUOZxwFKLkL9m53HAG+tDY33occDjSvcGlOlxwKuqqqqq6nHAdApeTsHrccA8ahHy1+xxwATKxJXu7XHAzCl4OQXvccCUiSvdG\\u002fBxwFzp3oAy8XHAJEmSJEnyccDtqEXIX\\u002fNxwLUI+Wt29HHAfWisD431ccBGyF+zo\\u002fZxwA4oE1e693HA1ofG+tD4ccCe53me5\\u002flxwGdHLUL++nHAL6fg5RT8ccD3BpSJK\\u002f1xwMBmRy1C\\u002fnHAiMb60Fj\\u002fccBQJq50bwBywBmGYRiGAXLA4eUUvJwCcsCpRchfswNywHKlewPKBHLAOgUvp+AFcsACZeJK9wZywMvEle4NCHLAkyRJkiQJcsBbhPw1OwpywCPkr9lRC3LA7ENjfWgMcsC0oxYhfw1ywHwDysSVDnLARGN9aKwPcsAMwzAMwxBywNQi5K\\u002fZEXLAnIKXU\\u002fAScsBl4kr3BhRywC1C\\u002fpodFXLA9aGxPjQWcsC+AWXiShdywIZhGIZhGHLATsHLKXgZcsAXIX\\u002fNjhpywN+AMnGlG3LAxZXuDShTcsCN9aGxPlRywFZVVVVVVXLAHrUI+WtWcsDmFLycgldywK50b0CZWHLAd9Qi5K9ZcsA\\u002fNNaHxlpywAeUiSvdW3LA0PM8z\\u002fNccsCYU\\u002fByCl5ywGCzoxYhX3LAKRNXujdgcsDxcgpeTmFywLnSvQFlYnLAgjJxpXtjcsBKkiRJkmRywBLy1+yoZXLA21GLkL9mcsCjsT401mdywGsR8tfsaHLAM3GlewNqcsD80FgfGmtywMQwDMMwbHLAjJC\\u002fZkdtcsBU8HIKXm5ywBxQJq50b3LA5K\\u002fZUYtwcsCtD431oXFywHVvQJm4cnLAPc\\u002fzPM9zcsAFL6fg5XRywM6OWoT8dXLAlu4NKBN3csBeTsHLKXhywCeudG9AeXLA7w0oE1d6csC3bdu2bXtywIDNjlqEfHLASC1C\\u002fpp9csAQjfWhsX5ywNnsqEXIf3LAoUxc6d6AcsBprA+N9YFywDIMwzAMg3LA+mt21CKEcsDCyyl4OYVywIor3RtQhnLAU4uQv2aHcsAb60NjfYhywAAAAAAAwHLAyF+zoxbBcsCRv2ZHLcJywFkfGutDw3LAIX\\u002fNjlrEcsDp3oAyccVywLI+NNaHxnLAep7neZ7HcsBC\\u002fpodtchywAteTsHLyXLA070BZeLKcsCbHbUI+ctywGR9aKwPzXLALN0bUCbOcsD0PM\\u002fzPM9ywLycgpdT0HLAhPw1O2rRcsBMXOnegNJywBW8nIKX03LA3RtQJq7UcsClewPKxNVywG3btm3b1nLANjtqEfLXcsD+mh21CNlywMb60Fgf2nLAj1qE\\u002fDXbcsBXujegTNxywB8a60Nj3XLA6Hme53necsCw2VGLkN9ywHg5BS+n4HLAQJm40r3hcsAJ+Wt21OJywNFYHxrr43LAmbjSvQHlcsBiGIZhGOZywCp4OQUv53LA8tfsqEXocsC7N6BMXOlywIOXU\\u002fBy6nLAS\\u002fcGlInrcsAUV7o3oOxywNy2bdu27XLApBYhf83ucsBsdtQi5O9ywDTWh8b68HLA\\u002fDU7ahHycsDEle4NKPNywI31obE+9HLAVVVVVVX1csA=\",\"shape\":\"50, 50\"},\"type\":\"surface\"},{\"colorscale\":[[0.0,\"rgb(247,252,245)\"],[0.125,\"rgb(229,245,224)\"],[0.25,\"rgb(199,233,192)\"],[0.375,\"rgb(161,217,155)\"],[0.5,\"rgb(116,196,118)\"],[0.625,\"rgb(65,171,93)\"],[0.75,\"rgb(35,139,69)\"],[0.875,\"rgb(0,109,44)\"],[1.0,\"rgb(0,68,27)\"]],\"name\":\"Paint\",\"opacity\":0.5,\"x\":{\"dtype\":\"f8\",\"bdata\":\"AAAAAAAAAADmFLycgpfjP+YUvJyCl\\u002fM\\u002fWR8a60Nj\\u002fT\\u002fmFLycgpcDQCAa60NjfQhAWR8a60NjDUBJkiRJkiQRQOYUvJyClxNAg5dT8HIKFkAgGutDY30YQLycgpdT8BpAWR8a60NjHUD2obE+NNYfQEmSJEmSJCFAmFPwcgpeIkDmFLycgpcjQDTWh8b60CRAg5dT8HIKJkDRWB8a60MnQCAa60NjfShAbtu2bdu2KUC8nIKXU\\u002fAqQAteTsHLKSxAWR8a60NjLUCn4OUUvJwuQPahsT401i9AorE+NNaHMEBJkiRJkiQxQPByCl5OwTFAmFPwcgpeMkA\\u002fNNaHxvoyQOYUvJyClzNAjfWhsT40NEA01ofG+tA0QNy2bdu2bTVAg5dT8HIKNkAqeDkFL6c2QNFYHxrrQzdAeDkFL6fgN0AgGutDY304QMf60FgfGjlAbtu2bdu2OUAVvJyCl1M6QLycgpdT8DpAY31orA+NO0ALXk7Byyk8QLI+NNaHxjxAWR8a60NjPUAAAAAAAAA+QA==\"},\"y\":{\"dtype\":\"f8\",\"bdata\":\"AAAAAAAAAADmFLycgpfjP+YUvJyCl\\u002fM\\u002fWR8a60Nj\\u002fT\\u002fmFLycgpcDQCAa60NjfQhAWR8a60NjDUBJkiRJkiQRQOYUvJyClxNAg5dT8HIKFkAgGutDY30YQLycgpdT8BpAWR8a60NjHUD2obE+NNYfQEmSJEmSJCFAmFPwcgpeIkDmFLycgpcjQDTWh8b60CRAg5dT8HIKJkDRWB8a60MnQCAa60NjfShAbtu2bdu2KUC8nIKXU\\u002fAqQAteTsHLKSxAWR8a60NjLUCn4OUUvJwuQPahsT401i9AorE+NNaHMEBJkiRJkiQxQPByCl5OwTFAmFPwcgpeMkA\\u002fNNaHxvoyQOYUvJyClzNAjfWhsT40NEA01ofG+tA0QNy2bdu2bTVAg5dT8HIKNkAqeDkFL6c2QNFYHxrrQzdAeDkFL6fgN0AgGutDY304QMf60FgfGjlAbtu2bdu2OUAVvJyCl1M6QLycgpdT8DpAY31orA+NO0ALXk7Byyk8QLI+NNaHxjxAWR8a60NjPUAAAAAAAAA+QA==\"},\"z\":{\"dtype\":\"f8\",\"bdata\":\"AAAAAADAUkBEY31orA9SQIjG+tBYX1FAzCl4OQWvUEAfGutDY\\u002f1PQKfg5RS8nE5AL6fg5RQ8TUC3bdu2bdtLQD401ofGekpAxvrQWB8aSUBOwcspeLlHQNaHxvrQWEZAXk7Byyn4REDmFLycgpdDQG7btm3bNkJA9aGxPjTWQED60FgfGus+QAxeTsHLKTxAGutDY31oOUAqeDkFL6c2QDgFL6fg5TNASJIkSZIkMUCwPjTWh8YsQNBYHxrrQydA8HIKXk7BIUAgGutDY30YQMCcgpdT8ApAABW8nIKX4z9AkiRJkiQBwOAUvJyClxPAsODlFLycHsA41ofG+tAkwBi8nIKXUyrA+KGxPjTWL8DoQ2N9aKwywOC2bdu2bTXAzCl4OQUvOMC8nIKXU\\u002fA6wKwPjfWhsT3ATsHLKXg5QMDI+tBYH5pBwEA01ofG+kLAuG3btm1bRMAwp+DlFLxFwKjg5RS8HEfAHhrrQ2N9SMCYU\\u002fByCt5JwBCN9aGxPkvAiMb60FifTMAAAAAAAABOwAAAAAAAwFJARGN9aKwPUkCIxvrQWF9RQMwpeDkFr1BAHxrrQ2P9T0Cn4OUUvJxOQC+n4OUUPE1At23btm3bS0A+NNaHxnpKQMb60FgfGklATsHLKXi5R0DWh8b60FhGQF5Owcsp+ERA5hS8nIKXQ0Bu27Zt2zZCQPWhsT401kBA+tBYHxrrPkAMXk7Byyk8QBrrQ2N9aDlAKng5BS+nNkA4BS+n4OUzQEiSJEmSJDFAsD401ofGLEDQWB8a60MnQPByCl5OwSFAIBrrQ2N9GEDAnIKXU\\u002fAKQAAVvJyCl+M\\u002fQJIkSZIkAcDgFLycgpcTwLDg5RS8nB7AONaHxvrQJMAYvJyCl1MqwPihsT401i\\u002fA6ENjfWisMsDgtm3btm01wMwpeDkFLzjAvJyCl1PwOsCsD431obE9wE7Byyl4OUDAyPrQWB+aQcBANNaHxvpCwLht27ZtW0TAMKfg5RS8RcCo4OUUvBxHwB4a60NjfUjAmFPwcgreScAQjfWhsT5LwIjG+tBYn0zAAAAAAAAATsAAAAAAAMBSQERjfWisD1JAiMb60FhfUUDMKXg5Ba9QQB8a60Nj\\u002fU9Ap+DlFLycTkAvp+DlFDxNQLdt27Zt20tAPjTWh8Z6SkDG+tBYHxpJQE7Byyl4uUdA1ofG+tBYRkBeTsHLKfhEQOYUvJyCl0NAbtu2bds2QkD1obE+NNZAQPrQWB8a6z5ADF5OwcspPEAa60NjfWg5QCp4OQUvpzZAOAUvp+DlM0BIkiRJkiQxQLA+NNaHxixA0FgfGutDJ0DwcgpeTsEhQCAa60NjfRhAwJyCl1PwCkAAFbycgpfjP0CSJEmSJAHA4BS8nIKXE8Cw4OUUvJwewDjWh8b60CTAGLycgpdTKsD4obE+NNYvwOhDY31orDLA4LZt27ZtNcDMKXg5BS84wLycgpdT8DrArA+N9aGxPcBOwcspeDlAwMj60FgfmkHAQDTWh8b6QsC4bdu2bVtEwDCn4OUUvEXAqODlFLwcR8AeGutDY31IwJhT8HIK3knAEI31obE+S8CIxvrQWJ9MwAAAAAAAAE7AAAAAAADAUkBEY31orA9SQIjG+tBYX1FAzCl4OQWvUEAfGutDY\\u002f1PQKfg5RS8nE5AL6fg5RQ8TUC3bdu2bdtLQD401ofGekpAxvrQWB8aSUBOwcspeLlHQNaHxvrQWEZAXk7Byyn4REDmFLycgpdDQG7btm3bNkJA9aGxPjTWQED60FgfGus+QAxeTsHLKTxAGutDY31oOUAqeDkFL6c2QDgFL6fg5TNASJIkSZIkMUCwPjTWh8YsQNBYHxrrQydA8HIKXk7BIUAgGutDY30YQMCcgpdT8ApAABW8nIKX4z9AkiRJkiQBwOAUvJyClxPAsODlFLycHsA41ofG+tAkwBi8nIKXUyrA+KGxPjTWL8DoQ2N9aKwywOC2bdu2bTXAzCl4OQUvOMC8nIKXU\\u002fA6wKwPjfWhsT3ATsHLKXg5QMDI+tBYH5pBwEA01ofG+kLAuG3btm1bRMAwp+DlFLxFwKjg5RS8HEfAHhrrQ2N9SMCYU\\u002fByCt5JwBCN9aGxPkvAiMb60FifTMAAAAAAAABOwAAAAAAAwFJARGN9aKwPUkCIxvrQWF9RQMwpeDkFr1BAHxrrQ2P9T0Cn4OUUvJxOQC+n4OUUPE1At23btm3bS0A+NNaHxnpKQMb60FgfGklATsHLKXi5R0DWh8b60FhGQF5Owcsp+ERA5hS8nIKXQ0Bu27Zt2zZCQPWhsT401kBA+tBYHxrrPkAMXk7Byyk8QBrrQ2N9aDlAKng5BS+nNkA4BS+n4OUzQEiSJEmSJDFAsD401ofGLEDQWB8a60MnQPByCl5OwSFAIBrrQ2N9GEDAnIKXU\\u002fAKQAAVvJyCl+M\\u002fQJIkSZIkAcDgFLycgpcTwLDg5RS8nB7AONaHxvrQJMAYvJyCl1MqwPihsT401i\\u002fA6ENjfWisMsDgtm3btm01wMwpeDkFLzjAvJyCl1PwOsCsD431obE9wE7Byyl4OUDAyPrQWB+aQcBANNaHxvpCwLht27ZtW0TAMKfg5RS8RcCo4OUUvBxHwB4a60NjfUjAmFPwcgreScAQjfWhsT5LwIjG+tBYn0zAAAAAAAAATsAAAAAAAMBSQERjfWisD1JAiMb60FhfUUDMKXg5Ba9QQB8a60Nj\\u002fU9Ap+DlFLycTkAvp+DlFDxNQLdt27Zt20tAPjTWh8Z6SkDG+tBYHxpJQE7Byyl4uUdA1ofG+tBYRkBeTsHLKfhEQOYUvJyCl0NAbtu2bds2QkD1obE+NNZAQPrQWB8a6z5ADF5OwcspPEAa60NjfWg5QCp4OQUvpzZAOAUvp+DlM0BIkiRJkiQxQLA+NNaHxixA0FgfGutDJ0DwcgpeTsEhQCAa60NjfRhAwJyCl1PwCkAAFbycgpfjP0CSJEmSJAHA4BS8nIKXE8Cw4OUUvJwewDjWh8b60CTAGLycgpdTKsD4obE+NNYvwOhDY31orDLA4LZt27ZtNcDMKXg5BS84wLycgpdT8DrArA+N9aGxPcBOwcspeDlAwMj60FgfmkHAQDTWh8b6QsC4bdu2bVtEwDCn4OUUvEXAqODlFLwcR8AeGutDY31IwJhT8HIK3knAEI31obE+S8CIxvrQWJ9MwAAAAAAAAE7AAAAAAADAUkBEY31orA9SQIjG+tBYX1FAzCl4OQWvUEAfGutDY\\u002f1PQKfg5RS8nE5AL6fg5RQ8TUC3bdu2bdtLQD401ofGekpAxvrQWB8aSUBOwcspeLlHQNaHxvrQWEZAXk7Byyn4REDmFLycgpdDQG7btm3bNkJA9aGxPjTWQED60FgfGus+QAxeTsHLKTxAGutDY31oOUAqeDkFL6c2QDgFL6fg5TNASJIkSZIkMUCwPjTWh8YsQNBYHxrrQydA8HIKXk7BIUAgGutDY30YQMCcgpdT8ApAABW8nIKX4z9AkiRJkiQBwOAUvJyClxPAsODlFLycHsA41ofG+tAkwBi8nIKXUyrA+KGxPjTWL8DoQ2N9aKwywOC2bdu2bTXAzCl4OQUvOMC8nIKXU\\u002fA6wKwPjfWhsT3ATsHLKXg5QMDI+tBYH5pBwEA01ofG+kLAuG3btm1bRMAwp+DlFLxFwKjg5RS8HEfAHhrrQ2N9SMCYU\\u002fByCt5JwBCN9aGxPkvAiMb60FifTMAAAAAAAABOwAAAAAAAwFJARGN9aKwPUkCIxvrQWF9RQMwpeDkFr1BAHxrrQ2P9T0Cn4OUUvJxOQC+n4OUUPE1At23btm3bS0A+NNaHxnpKQMb60FgfGklATsHLKXi5R0DWh8b60FhGQF5Owcsp+ERA5hS8nIKXQ0Bu27Zt2zZCQPWhsT401kBA+tBYHxrrPkAMXk7Byyk8QBrrQ2N9aDlAKng5BS+nNkA4BS+n4OUzQEiSJEmSJDFAsD401ofGLEDQWB8a60MnQPByCl5OwSFAIBrrQ2N9GEDAnIKXU\\u002fAKQAAVvJyCl+M\\u002fQJIkSZIkAcDgFLycgpcTwLDg5RS8nB7AONaHxvrQJMAYvJyCl1MqwPihsT401i\\u002fA6ENjfWisMsDgtm3btm01wMwpeDkFLzjAvJyCl1PwOsCsD431obE9wE7Byyl4OUDAyPrQWB+aQcBANNaHxvpCwLht27ZtW0TAMKfg5RS8RcCo4OUUvBxHwB4a60NjfUjAmFPwcgreScAQjfWhsT5LwIjG+tBYn0zAAAAAAAAATsAAAAAAAMBSQERjfWisD1JAiMb60FhfUUDMKXg5Ba9QQB8a60Nj\\u002fU9Ap+DlFLycTkAvp+DlFDxNQLdt27Zt20tAPjTWh8Z6SkDG+tBYHxpJQE7Byyl4uUdA1ofG+tBYRkBeTsHLKfhEQOYUvJyCl0NAbtu2bds2QkD1obE+NNZAQPrQWB8a6z5ADF5OwcspPEAa60NjfWg5QCp4OQUvpzZAOAUvp+DlM0BIkiRJkiQxQLA+NNaHxixA0FgfGutDJ0DwcgpeTsEhQCAa60NjfRhAwJyCl1PwCkAAFbycgpfjP0CSJEmSJAHA4BS8nIKXE8Cw4OUUvJwewDjWh8b60CTAGLycgpdTKsD4obE+NNYvwOhDY31orDLA4LZt27ZtNcDMKXg5BS84wLycgpdT8DrArA+N9aGxPcBOwcspeDlAwMj60FgfmkHAQDTWh8b6QsC4bdu2bVtEwDCn4OUUvEXAqODlFLwcR8AeGutDY31IwJhT8HIK3knAEI31obE+S8CIxvrQWJ9MwAAAAAAAAE7AAAAAAADAUkBEY31orA9SQIjG+tBYX1FAzCl4OQWvUEAfGutDY\\u002f1PQKfg5RS8nE5AL6fg5RQ8TUC3bdu2bdtLQD401ofGekpAxvrQWB8aSUBOwcspeLlHQNaHxvrQWEZAXk7Byyn4REDmFLycgpdDQG7btm3bNkJA9aGxPjTWQED60FgfGus+QAxeTsHLKTxAGutDY31oOUAqeDkFL6c2QDgFL6fg5TNASJIkSZIkMUCwPjTWh8YsQNBYHxrrQydA8HIKXk7BIUAgGutDY30YQMCcgpdT8ApAABW8nIKX4z9AkiRJkiQBwOAUvJyClxPAsODlFLycHsA41ofG+tAkwBi8nIKXUyrA+KGxPjTWL8DoQ2N9aKwywOC2bdu2bTXAzCl4OQUvOMC8nIKXU\\u002fA6wKwPjfWhsT3ATsHLKXg5QMDI+tBYH5pBwEA01ofG+kLAuG3btm1bRMAwp+DlFLxFwKjg5RS8HEfAHhrrQ2N9SMCYU\\u002fByCt5JwBCN9aGxPkvAiMb60FifTMAAAAAAAABOwAAAAAAAwFJARGN9aKwPUkCIxvrQWF9RQMwpeDkFr1BAHxrrQ2P9T0Cn4OUUvJxOQC+n4OUUPE1At23btm3bS0A+NNaHxnpKQMb60FgfGklATsHLKXi5R0DWh8b60FhGQF5Owcsp+ERA5hS8nIKXQ0Bu27Zt2zZCQPWhsT401kBA+tBYHxrrPkAMXk7Byyk8QBrrQ2N9aDlAKng5BS+nNkA4BS+n4OUzQEiSJEmSJDFAsD401ofGLEDQWB8a60MnQPByCl5OwSFAIBrrQ2N9GEDAnIKXU\\u002fAKQAAVvJyCl+M\\u002fQJIkSZIkAcDgFLycgpcTwLDg5RS8nB7AONaHxvrQJMAYvJyCl1MqwPihsT401i\\u002fA6ENjfWisMsDgtm3btm01wMwpeDkFLzjAvJyCl1PwOsCsD431obE9wE7Byyl4OUDAyPrQWB+aQcBANNaHxvpCwLht27ZtW0TAMKfg5RS8RcCo4OUUvBxHwB4a60NjfUjAmFPwcgreScAQjfWhsT5LwIjG+tBYn0zAAAAAAAAATsAAAAAAAMBSQERjfWisD1JAiMb60FhfUUDMKXg5Ba9QQB8a60Nj\\u002fU9Ap+DlFLycTkAvp+DlFDxNQLdt27Zt20tAPjTWh8Z6SkDG+tBYHxpJQE7Byyl4uUdA1ofG+tBYRkBeTsHLKfhEQOYUvJyCl0NAbtu2bds2QkD1obE+NNZAQPrQWB8a6z5ADF5OwcspPEAa60NjfWg5QCp4OQUvpzZAOAUvp+DlM0BIkiRJkiQxQLA+NNaHxixA0FgfGutDJ0DwcgpeTsEhQCAa60NjfRhAwJyCl1PwCkAAFbycgpfjP0CSJEmSJAHA4BS8nIKXE8Cw4OUUvJwewDjWh8b60CTAGLycgpdTKsD4obE+NNYvwOhDY31orDLA4LZt27ZtNcDMKXg5BS84wLycgpdT8DrArA+N9aGxPcBOwcspeDlAwMj60FgfmkHAQDTWh8b6QsC4bdu2bVtEwDCn4OUUvEXAqODlFLwcR8AeGutDY31IwJhT8HIK3knAEI31obE+S8CIxvrQWJ9MwAAAAAAAAE7AAAAAAADAUkBEY31orA9SQIjG+tBYX1FAzCl4OQWvUEAfGutDY\\u002f1PQKfg5RS8nE5AL6fg5RQ8TUC3bdu2bdtLQD401ofGekpAxvrQWB8aSUBOwcspeLlHQNaHxvrQWEZAXk7Byyn4REDmFLycgpdDQG7btm3bNkJA9aGxPjTWQED60FgfGus+QAxeTsHLKTxAGutDY31oOUAqeDkFL6c2QDgFL6fg5TNASJIkSZIkMUCwPjTWh8YsQNBYHxrrQydA8HIKXk7BIUAgGutDY30YQMCcgpdT8ApAABW8nIKX4z9AkiRJkiQBwOAUvJyClxPAsODlFLycHsA41ofG+tAkwBi8nIKXUyrA+KGxPjTWL8DoQ2N9aKwywOC2bdu2bTXAzCl4OQUvOMC8nIKXU\\u002fA6wKwPjfWhsT3ATsHLKXg5QMDI+tBYH5pBwEA01ofG+kLAuG3btm1bRMAwp+DlFLxFwKjg5RS8HEfAHhrrQ2N9SMCYU\\u002fByCt5JwBCN9aGxPkvAiMb60FifTMAAAAAAAABOwAAAAAAAwFJARGN9aKwPUkCIxvrQWF9RQMwpeDkFr1BAHxrrQ2P9T0Cn4OUUvJxOQC+n4OUUPE1At23btm3bS0A+NNaHxnpKQMb60FgfGklATsHLKXi5R0DWh8b60FhGQF5Owcsp+ERA5hS8nIKXQ0Bu27Zt2zZCQPWhsT401kBA+tBYHxrrPkAMXk7Byyk8QBrrQ2N9aDlAKng5BS+nNkA4BS+n4OUzQEiSJEmSJDFAsD401ofGLEDQWB8a60MnQPByCl5OwSFAIBrrQ2N9GEDAnIKXU\\u002fAKQAAVvJyCl+M\\u002fQJIkSZIkAcDgFLycgpcTwLDg5RS8nB7AONaHxvrQJMAYvJyCl1MqwPihsT401i\\u002fA6ENjfWisMsDgtm3btm01wMwpeDkFLzjAvJyCl1PwOsCsD431obE9wE7Byyl4OUDAyPrQWB+aQcBANNaHxvpCwLht27ZtW0TAMKfg5RS8RcCo4OUUvBxHwB4a60NjfUjAmFPwcgreScAQjfWhsT5LwIjG+tBYn0zAAAAAAAAATsAAAAAAAMBSQERjfWisD1JAiMb60FhfUUDMKXg5Ba9QQB8a60Nj\\u002fU9Ap+DlFLycTkAvp+DlFDxNQLdt27Zt20tAPjTWh8Z6SkDG+tBYHxpJQE7Byyl4uUdA1ofG+tBYRkBeTsHLKfhEQOYUvJyCl0NAbtu2bds2QkD1obE+NNZAQPrQWB8a6z5ADF5OwcspPEAa60NjfWg5QCp4OQUvpzZAOAUvp+DlM0BIkiRJkiQxQLA+NNaHxixA0FgfGutDJ0DwcgpeTsEhQCAa60NjfRhAwJyCl1PwCkAAFbycgpfjP0CSJEmSJAHA4BS8nIKXE8Cw4OUUvJwewDjWh8b60CTAGLycgpdTKsD4obE+NNYvwOhDY31orDLA4LZt27ZtNcDMKXg5BS84wLycgpdT8DrArA+N9aGxPcBOwcspeDlAwMj60FgfmkHAQDTWh8b6QsC4bdu2bVtEwDCn4OUUvEXAqODlFLwcR8AeGutDY31IwJhT8HIK3knAEI31obE+S8CIxvrQWJ9MwAAAAAAAAE7AAAAAAADAUkBEY31orA9SQIjG+tBYX1FAzCl4OQWvUEAfGutDY\\u002f1PQKfg5RS8nE5AL6fg5RQ8TUC3bdu2bdtLQD401ofGekpAxvrQWB8aSUBOwcspeLlHQNaHxvrQWEZAXk7Byyn4REDmFLycgpdDQG7btm3bNkJA9aGxPjTWQED60FgfGus+QAxeTsHLKTxAGutDY31oOUAqeDkFL6c2QDgFL6fg5TNASJIkSZIkMUCwPjTWh8YsQNBYHxrrQydA8HIKXk7BIUAgGutDY30YQMCcgpdT8ApAABW8nIKX4z9AkiRJkiQBwOAUvJyClxPAsODlFLycHsA41ofG+tAkwBi8nIKXUyrA+KGxPjTWL8DoQ2N9aKwywOC2bdu2bTXAzCl4OQUvOMC8nIKXU\\u002fA6wKwPjfWhsT3ATsHLKXg5QMDI+tBYH5pBwEA01ofG+kLAuG3btm1bRMAwp+DlFLxFwKjg5RS8HEfAHhrrQ2N9SMCYU\\u002fByCt5JwBCN9aGxPkvAiMb60FifTMAAAAAAAABOwAAAAAAAwFJARGN9aKwPUkCIxvrQWF9RQMwpeDkFr1BAHxrrQ2P9T0Cn4OUUvJxOQC+n4OUUPE1At23btm3bS0A+NNaHxnpKQMb60FgfGklATsHLKXi5R0DWh8b60FhGQF5Owcsp+ERA5hS8nIKXQ0Bu27Zt2zZCQPWhsT401kBA+tBYHxrrPkAMXk7Byyk8QBrrQ2N9aDlAKng5BS+nNkA4BS+n4OUzQEiSJEmSJDFAsD401ofGLEDQWB8a60MnQPByCl5OwSFAIBrrQ2N9GEDAnIKXU\\u002fAKQAAVvJyCl+M\\u002fQJIkSZIkAcDgFLycgpcTwLDg5RS8nB7AONaHxvrQJMAYvJyCl1MqwPihsT401i\\u002fA6ENjfWisMsDgtm3btm01wMwpeDkFLzjAvJyCl1PwOsCsD431obE9wE7Byyl4OUDAyPrQWB+aQcBANNaHxvpCwLht27ZtW0TAMKfg5RS8RcCo4OUUvBxHwB4a60NjfUjAmFPwcgreScAQjfWhsT5LwIjG+tBYn0zAAAAAAAAATsAAAAAAAMBSQERjfWisD1JAiMb60FhfUUDMKXg5Ba9QQB8a60Nj\\u002fU9Ap+DlFLycTkAvp+DlFDxNQLdt27Zt20tAPjTWh8Z6SkDG+tBYHxpJQE7Byyl4uUdA1ofG+tBYRkBeTsHLKfhEQOYUvJyCl0NAbtu2bds2QkD1obE+NNZAQPrQWB8a6z5ADF5OwcspPEAa60NjfWg5QCp4OQUvpzZAOAUvp+DlM0BIkiRJkiQxQLA+NNaHxixA0FgfGutDJ0DwcgpeTsEhQCAa60NjfRhAwJyCl1PwCkAAFbycgpfjP0CSJEmSJAHA4BS8nIKXE8Cw4OUUvJwewDjWh8b60CTAGLycgpdTKsD4obE+NNYvwOhDY31orDLA4LZt27ZtNcDMKXg5BS84wLycgpdT8DrArA+N9aGxPcBOwcspeDlAwMj60FgfmkHAQDTWh8b6QsC4bdu2bVtEwDCn4OUUvEXAqODlFLwcR8AeGutDY31IwJhT8HIK3knAEI31obE+S8CIxvrQWJ9MwAAAAAAAAE7AAAAAAADAUkBEY31orA9SQIjG+tBYX1FAzCl4OQWvUEAfGutDY\\u002f1PQKfg5RS8nE5AL6fg5RQ8TUC3bdu2bdtLQD401ofGekpAxvrQWB8aSUBOwcspeLlHQNaHxvrQWEZAXk7Byyn4REDmFLycgpdDQG7btm3bNkJA9aGxPjTWQED60FgfGus+QAxeTsHLKTxAGutDY31oOUAqeDkFL6c2QDgFL6fg5TNASJIkSZIkMUCwPjTWh8YsQNBYHxrrQydA8HIKXk7BIUAgGutDY30YQMCcgpdT8ApAABW8nIKX4z9AkiRJkiQBwOAUvJyClxPAsODlFLycHsA41ofG+tAkwBi8nIKXUyrA+KGxPjTWL8DoQ2N9aKwywOC2bdu2bTXAzCl4OQUvOMC8nIKXU\\u002fA6wKwPjfWhsT3ATsHLKXg5QMDI+tBYH5pBwEA01ofG+kLAuG3btm1bRMAwp+DlFLxFwKjg5RS8HEfAHhrrQ2N9SMCYU\\u002fByCt5JwBCN9aGxPkvAiMb60FifTMAAAAAAAABOwAAAAAAAwFJARGN9aKwPUkCIxvrQWF9RQMwpeDkFr1BAHxrrQ2P9T0Cn4OUUvJxOQC+n4OUUPE1At23btm3bS0A+NNaHxnpKQMb60FgfGklATsHLKXi5R0DWh8b60FhGQF5Owcsp+ERA5hS8nIKXQ0Bu27Zt2zZCQPWhsT401kBA+tBYHxrrPkAMXk7Byyk8QBrrQ2N9aDlAKng5BS+nNkA4BS+n4OUzQEiSJEmSJDFAsD401ofGLEDQWB8a60MnQPByCl5OwSFAIBrrQ2N9GEDAnIKXU\\u002fAKQAAVvJyCl+M\\u002fQJIkSZIkAcDgFLycgpcTwLDg5RS8nB7AONaHxvrQJMAYvJyCl1MqwPihsT401i\\u002fA6ENjfWisMsDgtm3btm01wMwpeDkFLzjAvJyCl1PwOsCsD431obE9wE7Byyl4OUDAyPrQWB+aQcBANNaHxvpCwLht27ZtW0TAMKfg5RS8RcCo4OUUvBxHwB4a60NjfUjAmFPwcgreScAQjfWhsT5LwIjG+tBYn0zAAAAAAAAATsAAAAAAAMBSQERjfWisD1JAiMb60FhfUUDMKXg5Ba9QQB8a60Nj\\u002fU9Ap+DlFLycTkAvp+DlFDxNQLdt27Zt20tAPjTWh8Z6SkDG+tBYHxpJQE7Byyl4uUdA1ofG+tBYRkBeTsHLKfhEQOYUvJyCl0NAbtu2bds2QkD1obE+NNZAQPrQWB8a6z5ADF5OwcspPEAa60NjfWg5QCp4OQUvpzZAOAUvp+DlM0BIkiRJkiQxQLA+NNaHxixA0FgfGutDJ0DwcgpeTsEhQCAa60NjfRhAwJyCl1PwCkAAFbycgpfjP0CSJEmSJAHA4BS8nIKXE8Cw4OUUvJwewDjWh8b60CTAGLycgpdTKsD4obE+NNYvwOhDY31orDLA4LZt27ZtNcDMKXg5BS84wLycgpdT8DrArA+N9aGxPcBOwcspeDlAwMj60FgfmkHAQDTWh8b6QsC4bdu2bVtEwDCn4OUUvEXAqODlFLwcR8AeGutDY31IwJhT8HIK3knAEI31obE+S8CIxvrQWJ9MwAAAAAAAAE7AAAAAAADAUkBEY31orA9SQIjG+tBYX1FAzCl4OQWvUEAfGutDY\\u002f1PQKfg5RS8nE5AL6fg5RQ8TUC3bdu2bdtLQD401ofGekpAxvrQWB8aSUBOwcspeLlHQNaHxvrQWEZAXk7Byyn4REDmFLycgpdDQG7btm3bNkJA9aGxPjTWQED60FgfGus+QAxeTsHLKTxAGutDY31oOUAqeDkFL6c2QDgFL6fg5TNASJIkSZIkMUCwPjTWh8YsQNBYHxrrQydA8HIKXk7BIUAgGutDY30YQMCcgpdT8ApAABW8nIKX4z9AkiRJkiQBwOAUvJyClxPAsODlFLycHsA41ofG+tAkwBi8nIKXUyrA+KGxPjTWL8DoQ2N9aKwywOC2bdu2bTXAzCl4OQUvOMC8nIKXU\\u002fA6wKwPjfWhsT3ATsHLKXg5QMDI+tBYH5pBwEA01ofG+kLAuG3btm1bRMAwp+DlFLxFwKjg5RS8HEfAHhrrQ2N9SMCYU\\u002fByCt5JwBCN9aGxPkvAiMb60FifTMAAAAAAAABOwAAAAAAAwFJARGN9aKwPUkCIxvrQWF9RQMwpeDkFr1BAHxrrQ2P9T0Cn4OUUvJxOQC+n4OUUPE1At23btm3bS0A+NNaHxnpKQMb60FgfGklATsHLKXi5R0DWh8b60FhGQF5Owcsp+ERA5hS8nIKXQ0Bu27Zt2zZCQPWhsT401kBA+tBYHxrrPkAMXk7Byyk8QBrrQ2N9aDlAKng5BS+nNkA4BS+n4OUzQEiSJEmSJDFAsD401ofGLEDQWB8a60MnQPByCl5OwSFAIBrrQ2N9GEDAnIKXU\\u002fAKQAAVvJyCl+M\\u002fQJIkSZIkAcDgFLycgpcTwLDg5RS8nB7AONaHxvrQJMAYvJyCl1MqwPihsT401i\\u002fA6ENjfWisMsDgtm3btm01wMwpeDkFLzjAvJyCl1PwOsCsD431obE9wE7Byyl4OUDAyPrQWB+aQcBANNaHxvpCwLht27ZtW0TAMKfg5RS8RcCo4OUUvBxHwB4a60NjfUjAmFPwcgreScAQjfWhsT5LwIjG+tBYn0zAAAAAAAAATsAAAAAAAMBSQERjfWisD1JAiMb60FhfUUDMKXg5Ba9QQB8a60Nj\\u002fU9Ap+DlFLycTkAvp+DlFDxNQLdt27Zt20tAPjTWh8Z6SkDG+tBYHxpJQE7Byyl4uUdA1ofG+tBYRkBeTsHLKfhEQOYUvJyCl0NAbtu2bds2QkD1obE+NNZAQPrQWB8a6z5ADF5OwcspPEAa60NjfWg5QCp4OQUvpzZAOAUvp+DlM0BIkiRJkiQxQLA+NNaHxixA0FgfGutDJ0DwcgpeTsEhQCAa60NjfRhAwJyCl1PwCkAAFbycgpfjP0CSJEmSJAHA4BS8nIKXE8Cw4OUUvJwewDjWh8b60CTAGLycgpdTKsD4obE+NNYvwOhDY31orDLA4LZt27ZtNcDMKXg5BS84wLycgpdT8DrArA+N9aGxPcBOwcspeDlAwMj60FgfmkHAQDTWh8b6QsC4bdu2bVtEwDCn4OUUvEXAqODlFLwcR8AeGutDY31IwJhT8HIK3knAEI31obE+S8CIxvrQWJ9MwAAAAAAAAE7AAAAAAADAUkBEY31orA9SQIjG+tBYX1FAzCl4OQWvUEAfGutDY\\u002f1PQKfg5RS8nE5AL6fg5RQ8TUC3bdu2bdtLQD401ofGekpAxvrQWB8aSUBOwcspeLlHQNaHxvrQWEZAXk7Byyn4REDmFLycgpdDQG7btm3bNkJA9aGxPjTWQED60FgfGus+QAxeTsHLKTxAGutDY31oOUAqeDkFL6c2QDgFL6fg5TNASJIkSZIkMUCwPjTWh8YsQNBYHxrrQydA8HIKXk7BIUAgGutDY30YQMCcgpdT8ApAABW8nIKX4z9AkiRJkiQBwOAUvJyClxPAsODlFLycHsA41ofG+tAkwBi8nIKXUyrA+KGxPjTWL8DoQ2N9aKwywOC2bdu2bTXAzCl4OQUvOMC8nIKXU\\u002fA6wKwPjfWhsT3ATsHLKXg5QMDI+tBYH5pBwEA01ofG+kLAuG3btm1bRMAwp+DlFLxFwKjg5RS8HEfAHhrrQ2N9SMCYU\\u002fByCt5JwBCN9aGxPkvAiMb60FifTMAAAAAAAABOwAAAAAAAwFJARGN9aKwPUkCIxvrQWF9RQMwpeDkFr1BAHxrrQ2P9T0Cn4OUUvJxOQC+n4OUUPE1At23btm3bS0A+NNaHxnpKQMb60FgfGklATsHLKXi5R0DWh8b60FhGQF5Owcsp+ERA5hS8nIKXQ0Bu27Zt2zZCQPWhsT401kBA+tBYHxrrPkAMXk7Byyk8QBrrQ2N9aDlAKng5BS+nNkA4BS+n4OUzQEiSJEmSJDFAsD401ofGLEDQWB8a60MnQPByCl5OwSFAIBrrQ2N9GEDAnIKXU\\u002fAKQAAVvJyCl+M\\u002fQJIkSZIkAcDgFLycgpcTwLDg5RS8nB7AONaHxvrQJMAYvJyCl1MqwPihsT401i\\u002fA6ENjfWisMsDgtm3btm01wMwpeDkFLzjAvJyCl1PwOsCsD431obE9wE7Byyl4OUDAyPrQWB+aQcBANNaHxvpCwLht27ZtW0TAMKfg5RS8RcCo4OUUvBxHwB4a60NjfUjAmFPwcgreScAQjfWhsT5LwIjG+tBYn0zAAAAAAAAATsAAAAAAAMBSQERjfWisD1JAiMb60FhfUUDMKXg5Ba9QQB8a60Nj\\u002fU9Ap+DlFLycTkAvp+DlFDxNQLdt27Zt20tAPjTWh8Z6SkDG+tBYHxpJQE7Byyl4uUdA1ofG+tBYRkBeTsHLKfhEQOYUvJyCl0NAbtu2bds2QkD1obE+NNZAQPrQWB8a6z5ADF5OwcspPEAa60NjfWg5QCp4OQUvpzZAOAUvp+DlM0BIkiRJkiQxQLA+NNaHxixA0FgfGutDJ0DwcgpeTsEhQCAa60NjfRhAwJyCl1PwCkAAFbycgpfjP0CSJEmSJAHA4BS8nIKXE8Cw4OUUvJwewDjWh8b60CTAGLycgpdTKsD4obE+NNYvwOhDY31orDLA4LZt27ZtNcDMKXg5BS84wLycgpdT8DrArA+N9aGxPcBOwcspeDlAwMj60FgfmkHAQDTWh8b6QsC4bdu2bVtEwDCn4OUUvEXAqODlFLwcR8AeGutDY31IwJhT8HIK3knAEI31obE+S8CIxvrQWJ9MwAAAAAAAAE7AAAAAAADAUkBEY31orA9SQIjG+tBYX1FAzCl4OQWvUEAfGutDY\\u002f1PQKfg5RS8nE5AL6fg5RQ8TUC3bdu2bdtLQD401ofGekpAxvrQWB8aSUBOwcspeLlHQNaHxvrQWEZAXk7Byyn4REDmFLycgpdDQG7btm3bNkJA9aGxPjTWQED60FgfGus+QAxeTsHLKTxAGutDY31oOUAqeDkFL6c2QDgFL6fg5TNASJIkSZIkMUCwPjTWh8YsQNBYHxrrQydA8HIKXk7BIUAgGutDY30YQMCcgpdT8ApAABW8nIKX4z9AkiRJkiQBwOAUvJyClxPAsODlFLycHsA41ofG+tAkwBi8nIKXUyrA+KGxPjTWL8DoQ2N9aKwywOC2bdu2bTXAzCl4OQUvOMC8nIKXU\\u002fA6wKwPjfWhsT3ATsHLKXg5QMDI+tBYH5pBwEA01ofG+kLAuG3btm1bRMAwp+DlFLxFwKjg5RS8HEfAHhrrQ2N9SMCYU\\u002fByCt5JwBCN9aGxPkvAiMb60FifTMAAAAAAAABOwAAAAAAAwFJARGN9aKwPUkCIxvrQWF9RQMwpeDkFr1BAHxrrQ2P9T0Cn4OUUvJxOQC+n4OUUPE1At23btm3bS0A+NNaHxnpKQMb60FgfGklATsHLKXi5R0DWh8b60FhGQF5Owcsp+ERA5hS8nIKXQ0Bu27Zt2zZCQPWhsT401kBA+tBYHxrrPkAMXk7Byyk8QBrrQ2N9aDlAKng5BS+nNkA4BS+n4OUzQEiSJEmSJDFAsD401ofGLEDQWB8a60MnQPByCl5OwSFAIBrrQ2N9GEDAnIKXU\\u002fAKQAAVvJyCl+M\\u002fQJIkSZIkAcDgFLycgpcTwLDg5RS8nB7AONaHxvrQJMAYvJyCl1MqwPihsT401i\\u002fA6ENjfWisMsDgtm3btm01wMwpeDkFLzjAvJyCl1PwOsCsD431obE9wE7Byyl4OUDAyPrQWB+aQcBANNaHxvpCwLht27ZtW0TAMKfg5RS8RcCo4OUUvBxHwB4a60NjfUjAmFPwcgreScAQjfWhsT5LwIjG+tBYn0zAAAAAAAAATsAAAAAAAMBSQERjfWisD1JAiMb60FhfUUDMKXg5Ba9QQB8a60Nj\\u002fU9Ap+DlFLycTkAvp+DlFDxNQLdt27Zt20tAPjTWh8Z6SkDG+tBYHxpJQE7Byyl4uUdA1ofG+tBYRkBeTsHLKfhEQOYUvJyCl0NAbtu2bds2QkD1obE+NNZAQPrQWB8a6z5ADF5OwcspPEAa60NjfWg5QCp4OQUvpzZAOAUvp+DlM0BIkiRJkiQxQLA+NNaHxixA0FgfGutDJ0DwcgpeTsEhQCAa60NjfRhAwJyCl1PwCkAAFbycgpfjP0CSJEmSJAHA4BS8nIKXE8Cw4OUUvJwewDjWh8b60CTAGLycgpdTKsD4obE+NNYvwOhDY31orDLA4LZt27ZtNcDMKXg5BS84wLycgpdT8DrArA+N9aGxPcBOwcspeDlAwMj60FgfmkHAQDTWh8b6QsC4bdu2bVtEwDCn4OUUvEXAqODlFLwcR8AeGutDY31IwJhT8HIK3knAEI31obE+S8CIxvrQWJ9MwAAAAAAAAE7AAAAAAADAUkBEY31orA9SQIjG+tBYX1FAzCl4OQWvUEAfGutDY\\u002f1PQKfg5RS8nE5AL6fg5RQ8TUC3bdu2bdtLQD401ofGekpAxvrQWB8aSUBOwcspeLlHQNaHxvrQWEZAXk7Byyn4REDmFLycgpdDQG7btm3bNkJA9aGxPjTWQED60FgfGus+QAxeTsHLKTxAGutDY31oOUAqeDkFL6c2QDgFL6fg5TNASJIkSZIkMUCwPjTWh8YsQNBYHxrrQydA8HIKXk7BIUAgGutDY30YQMCcgpdT8ApAABW8nIKX4z9AkiRJkiQBwOAUvJyClxPAsODlFLycHsA41ofG+tAkwBi8nIKXUyrA+KGxPjTWL8DoQ2N9aKwywOC2bdu2bTXAzCl4OQUvOMC8nIKXU\\u002fA6wKwPjfWhsT3ATsHLKXg5QMDI+tBYH5pBwEA01ofG+kLAuG3btm1bRMAwp+DlFLxFwKjg5RS8HEfAHhrrQ2N9SMCYU\\u002fByCt5JwBCN9aGxPkvAiMb60FifTMAAAAAAAABOwAAAAAAAwFJARGN9aKwPUkCIxvrQWF9RQMwpeDkFr1BAHxrrQ2P9T0Cn4OUUvJxOQC+n4OUUPE1At23btm3bS0A+NNaHxnpKQMb60FgfGklATsHLKXi5R0DWh8b60FhGQF5Owcsp+ERA5hS8nIKXQ0Bu27Zt2zZCQPWhsT401kBA+tBYHxrrPkAMXk7Byyk8QBrrQ2N9aDlAKng5BS+nNkA4BS+n4OUzQEiSJEmSJDFAsD401ofGLEDQWB8a60MnQPByCl5OwSFAIBrrQ2N9GEDAnIKXU\\u002fAKQAAVvJyCl+M\\u002fQJIkSZIkAcDgFLycgpcTwLDg5RS8nB7AONaHxvrQJMAYvJyCl1MqwPihsT401i\\u002fA6ENjfWisMsDgtm3btm01wMwpeDkFLzjAvJyCl1PwOsCsD431obE9wE7Byyl4OUDAyPrQWB+aQcBANNaHxvpCwLht27ZtW0TAMKfg5RS8RcCo4OUUvBxHwB4a60NjfUjAmFPwcgreScAQjfWhsT5LwIjG+tBYn0zAAAAAAAAATsAAAAAAAMBSQERjfWisD1JAiMb60FhfUUDMKXg5Ba9QQB8a60Nj\\u002fU9Ap+DlFLycTkAvp+DlFDxNQLdt27Zt20tAPjTWh8Z6SkDG+tBYHxpJQE7Byyl4uUdA1ofG+tBYRkBeTsHLKfhEQOYUvJyCl0NAbtu2bds2QkD1obE+NNZAQPrQWB8a6z5ADF5OwcspPEAa60NjfWg5QCp4OQUvpzZAOAUvp+DlM0BIkiRJkiQxQLA+NNaHxixA0FgfGutDJ0DwcgpeTsEhQCAa60NjfRhAwJyCl1PwCkAAFbycgpfjP0CSJEmSJAHA4BS8nIKXE8Cw4OUUvJwewDjWh8b60CTAGLycgpdTKsD4obE+NNYvwOhDY31orDLA4LZt27ZtNcDMKXg5BS84wLycgpdT8DrArA+N9aGxPcBOwcspeDlAwMj60FgfmkHAQDTWh8b6QsC4bdu2bVtEwDCn4OUUvEXAqODlFLwcR8AeGutDY31IwJhT8HIK3knAEI31obE+S8CIxvrQWJ9MwAAAAAAAAE7AAAAAAADAUkBEY31orA9SQIjG+tBYX1FAzCl4OQWvUEAfGutDY\\u002f1PQKfg5RS8nE5AL6fg5RQ8TUC3bdu2bdtLQD401ofGekpAxvrQWB8aSUBOwcspeLlHQNaHxvrQWEZAXk7Byyn4REDmFLycgpdDQG7btm3bNkJA9aGxPjTWQED60FgfGus+QAxeTsHLKTxAGutDY31oOUAqeDkFL6c2QDgFL6fg5TNASJIkSZIkMUCwPjTWh8YsQNBYHxrrQydA8HIKXk7BIUAgGutDY30YQMCcgpdT8ApAABW8nIKX4z9AkiRJkiQBwOAUvJyClxPAsODlFLycHsA41ofG+tAkwBi8nIKXUyrA+KGxPjTWL8DoQ2N9aKwywOC2bdu2bTXAzCl4OQUvOMC8nIKXU\\u002fA6wKwPjfWhsT3ATsHLKXg5QMDI+tBYH5pBwEA01ofG+kLAuG3btm1bRMAwp+DlFLxFwKjg5RS8HEfAHhrrQ2N9SMCYU\\u002fByCt5JwBCN9aGxPkvAiMb60FifTMAAAAAAAABOwAAAAAAAwFJARGN9aKwPUkCIxvrQWF9RQMwpeDkFr1BAHxrrQ2P9T0Cn4OUUvJxOQC+n4OUUPE1At23btm3bS0A+NNaHxnpKQMb60FgfGklATsHLKXi5R0DWh8b60FhGQF5Owcsp+ERA5hS8nIKXQ0Bu27Zt2zZCQPWhsT401kBA+tBYHxrrPkAMXk7Byyk8QBrrQ2N9aDlAKng5BS+nNkA4BS+n4OUzQEiSJEmSJDFAsD401ofGLEDQWB8a60MnQPByCl5OwSFAIBrrQ2N9GEDAnIKXU\\u002fAKQAAVvJyCl+M\\u002fQJIkSZIkAcDgFLycgpcTwLDg5RS8nB7AONaHxvrQJMAYvJyCl1MqwPihsT401i\\u002fA6ENjfWisMsDgtm3btm01wMwpeDkFLzjAvJyCl1PwOsCsD431obE9wE7Byyl4OUDAyPrQWB+aQcBANNaHxvpCwLht27ZtW0TAMKfg5RS8RcCo4OUUvBxHwB4a60NjfUjAmFPwcgreScAQjfWhsT5LwIjG+tBYn0zAAAAAAAAATsAAAAAAAMBSQERjfWisD1JAiMb60FhfUUDMKXg5Ba9QQB8a60Nj\\u002fU9Ap+DlFLycTkAvp+DlFDxNQLdt27Zt20tAPjTWh8Z6SkDG+tBYHxpJQE7Byyl4uUdA1ofG+tBYRkBeTsHLKfhEQOYUvJyCl0NAbtu2bds2QkD1obE+NNZAQPrQWB8a6z5ADF5OwcspPEAa60NjfWg5QCp4OQUvpzZAOAUvp+DlM0BIkiRJkiQxQLA+NNaHxixA0FgfGutDJ0DwcgpeTsEhQCAa60NjfRhAwJyCl1PwCkAAFbycgpfjP0CSJEmSJAHA4BS8nIKXE8Cw4OUUvJwewDjWh8b60CTAGLycgpdTKsD4obE+NNYvwOhDY31orDLA4LZt27ZtNcDMKXg5BS84wLycgpdT8DrArA+N9aGxPcBOwcspeDlAwMj60FgfmkHAQDTWh8b6QsC4bdu2bVtEwDCn4OUUvEXAqODlFLwcR8AeGutDY31IwJhT8HIK3knAEI31obE+S8CIxvrQWJ9MwAAAAAAAAE7AAAAAAADAUkBEY31orA9SQIjG+tBYX1FAzCl4OQWvUEAfGutDY\\u002f1PQKfg5RS8nE5AL6fg5RQ8TUC3bdu2bdtLQD401ofGekpAxvrQWB8aSUBOwcspeLlHQNaHxvrQWEZAXk7Byyn4REDmFLycgpdDQG7btm3bNkJA9aGxPjTWQED60FgfGus+QAxeTsHLKTxAGutDY31oOUAqeDkFL6c2QDgFL6fg5TNASJIkSZIkMUCwPjTWh8YsQNBYHxrrQydA8HIKXk7BIUAgGutDY30YQMCcgpdT8ApAABW8nIKX4z9AkiRJkiQBwOAUvJyClxPAsODlFLycHsA41ofG+tAkwBi8nIKXUyrA+KGxPjTWL8DoQ2N9aKwywOC2bdu2bTXAzCl4OQUvOMC8nIKXU\\u002fA6wKwPjfWhsT3ATsHLKXg5QMDI+tBYH5pBwEA01ofG+kLAuG3btm1bRMAwp+DlFLxFwKjg5RS8HEfAHhrrQ2N9SMCYU\\u002fByCt5JwBCN9aGxPkvAiMb60FifTMAAAAAAAABOwAAAAAAAwFJARGN9aKwPUkCIxvrQWF9RQMwpeDkFr1BAHxrrQ2P9T0Cn4OUUvJxOQC+n4OUUPE1At23btm3bS0A+NNaHxnpKQMb60FgfGklATsHLKXi5R0DWh8b60FhGQF5Owcsp+ERA5hS8nIKXQ0Bu27Zt2zZCQPWhsT401kBA+tBYHxrrPkAMXk7Byyk8QBrrQ2N9aDlAKng5BS+nNkA4BS+n4OUzQEiSJEmSJDFAsD401ofGLEDQWB8a60MnQPByCl5OwSFAIBrrQ2N9GEDAnIKXU\\u002fAKQAAVvJyCl+M\\u002fQJIkSZIkAcDgFLycgpcTwLDg5RS8nB7AONaHxvrQJMAYvJyCl1MqwPihsT401i\\u002fA6ENjfWisMsDgtm3btm01wMwpeDkFLzjAvJyCl1PwOsCsD431obE9wE7Byyl4OUDAyPrQWB+aQcBANNaHxvpCwLht27ZtW0TAMKfg5RS8RcCo4OUUvBxHwB4a60NjfUjAmFPwcgreScAQjfWhsT5LwIjG+tBYn0zAAAAAAAAATsAAAAAAAMBSQERjfWisD1JAiMb60FhfUUDMKXg5Ba9QQB8a60Nj\\u002fU9Ap+DlFLycTkAvp+DlFDxNQLdt27Zt20tAPjTWh8Z6SkDG+tBYHxpJQE7Byyl4uUdA1ofG+tBYRkBeTsHLKfhEQOYUvJyCl0NAbtu2bds2QkD1obE+NNZAQPrQWB8a6z5ADF5OwcspPEAa60NjfWg5QCp4OQUvpzZAOAUvp+DlM0BIkiRJkiQxQLA+NNaHxixA0FgfGutDJ0DwcgpeTsEhQCAa60NjfRhAwJyCl1PwCkAAFbycgpfjP0CSJEmSJAHA4BS8nIKXE8Cw4OUUvJwewDjWh8b60CTAGLycgpdTKsD4obE+NNYvwOhDY31orDLA4LZt27ZtNcDMKXg5BS84wLycgpdT8DrArA+N9aGxPcBOwcspeDlAwMj60FgfmkHAQDTWh8b6QsC4bdu2bVtEwDCn4OUUvEXAqODlFLwcR8AeGutDY31IwJhT8HIK3knAEI31obE+S8CIxvrQWJ9MwAAAAAAAAE7AAAAAAADAUkBEY31orA9SQIjG+tBYX1FAzCl4OQWvUEAfGutDY\\u002f1PQKfg5RS8nE5AL6fg5RQ8TUC3bdu2bdtLQD401ofGekpAxvrQWB8aSUBOwcspeLlHQNaHxvrQWEZAXk7Byyn4REDmFLycgpdDQG7btm3bNkJA9aGxPjTWQED60FgfGus+QAxeTsHLKTxAGutDY31oOUAqeDkFL6c2QDgFL6fg5TNASJIkSZIkMUCwPjTWh8YsQNBYHxrrQydA8HIKXk7BIUAgGutDY30YQMCcgpdT8ApAABW8nIKX4z9AkiRJkiQBwOAUvJyClxPAsODlFLycHsA41ofG+tAkwBi8nIKXUyrA+KGxPjTWL8DoQ2N9aKwywOC2bdu2bTXAzCl4OQUvOMC8nIKXU\\u002fA6wKwPjfWhsT3ATsHLKXg5QMDI+tBYH5pBwEA01ofG+kLAuG3btm1bRMAwp+DlFLxFwKjg5RS8HEfAHhrrQ2N9SMCYU\\u002fByCt5JwBCN9aGxPkvAiMb60FifTMAAAAAAAABOwAAAAAAAwFJARGN9aKwPUkCIxvrQWF9RQMwpeDkFr1BAHxrrQ2P9T0Cn4OUUvJxOQC+n4OUUPE1At23btm3bS0A+NNaHxnpKQMb60FgfGklATsHLKXi5R0DWh8b60FhGQF5Owcsp+ERA5hS8nIKXQ0Bu27Zt2zZCQPWhsT401kBA+tBYHxrrPkAMXk7Byyk8QBrrQ2N9aDlAKng5BS+nNkA4BS+n4OUzQEiSJEmSJDFAsD401ofGLEDQWB8a60MnQPByCl5OwSFAIBrrQ2N9GEDAnIKXU\\u002fAKQAAVvJyCl+M\\u002fQJIkSZIkAcDgFLycgpcTwLDg5RS8nB7AONaHxvrQJMAYvJyCl1MqwPihsT401i\\u002fA6ENjfWisMsDgtm3btm01wMwpeDkFLzjAvJyCl1PwOsCsD431obE9wE7Byyl4OUDAyPrQWB+aQcBANNaHxvpCwLht27ZtW0TAMKfg5RS8RcCo4OUUvBxHwB4a60NjfUjAmFPwcgreScAQjfWhsT5LwIjG+tBYn0zAAAAAAAAATsAAAAAAAMBSQERjfWisD1JAiMb60FhfUUDMKXg5Ba9QQB8a60Nj\\u002fU9Ap+DlFLycTkAvp+DlFDxNQLdt27Zt20tAPjTWh8Z6SkDG+tBYHxpJQE7Byyl4uUdA1ofG+tBYRkBeTsHLKfhEQOYUvJyCl0NAbtu2bds2QkD1obE+NNZAQPrQWB8a6z5ADF5OwcspPEAa60NjfWg5QCp4OQUvpzZAOAUvp+DlM0BIkiRJkiQxQLA+NNaHxixA0FgfGutDJ0DwcgpeTsEhQCAa60NjfRhAwJyCl1PwCkAAFbycgpfjP0CSJEmSJAHA4BS8nIKXE8Cw4OUUvJwewDjWh8b60CTAGLycgpdTKsD4obE+NNYvwOhDY31orDLA4LZt27ZtNcDMKXg5BS84wLycgpdT8DrArA+N9aGxPcBOwcspeDlAwMj60FgfmkHAQDTWh8b6QsC4bdu2bVtEwDCn4OUUvEXAqODlFLwcR8AeGutDY31IwJhT8HIK3knAEI31obE+S8CIxvrQWJ9MwAAAAAAAAE7AAAAAAADAUkBEY31orA9SQIjG+tBYX1FAzCl4OQWvUEAfGutDY\\u002f1PQKfg5RS8nE5AL6fg5RQ8TUC3bdu2bdtLQD401ofGekpAxvrQWB8aSUBOwcspeLlHQNaHxvrQWEZAXk7Byyn4REDmFLycgpdDQG7btm3bNkJA9aGxPjTWQED60FgfGus+QAxeTsHLKTxAGutDY31oOUAqeDkFL6c2QDgFL6fg5TNASJIkSZIkMUCwPjTWh8YsQNBYHxrrQydA8HIKXk7BIUAgGutDY30YQMCcgpdT8ApAABW8nIKX4z9AkiRJkiQBwOAUvJyClxPAsODlFLycHsA41ofG+tAkwBi8nIKXUyrA+KGxPjTWL8DoQ2N9aKwywOC2bdu2bTXAzCl4OQUvOMC8nIKXU\\u002fA6wKwPjfWhsT3ATsHLKXg5QMDI+tBYH5pBwEA01ofG+kLAuG3btm1bRMAwp+DlFLxFwKjg5RS8HEfAHhrrQ2N9SMCYU\\u002fByCt5JwBCN9aGxPkvAiMb60FifTMAAAAAAAABOwAAAAAAAwFJARGN9aKwPUkCIxvrQWF9RQMwpeDkFr1BAHxrrQ2P9T0Cn4OUUvJxOQC+n4OUUPE1At23btm3bS0A+NNaHxnpKQMb60FgfGklATsHLKXi5R0DWh8b60FhGQF5Owcsp+ERA5hS8nIKXQ0Bu27Zt2zZCQPWhsT401kBA+tBYHxrrPkAMXk7Byyk8QBrrQ2N9aDlAKng5BS+nNkA4BS+n4OUzQEiSJEmSJDFAsD401ofGLEDQWB8a60MnQPByCl5OwSFAIBrrQ2N9GEDAnIKXU\\u002fAKQAAVvJyCl+M\\u002fQJIkSZIkAcDgFLycgpcTwLDg5RS8nB7AONaHxvrQJMAYvJyCl1MqwPihsT401i\\u002fA6ENjfWisMsDgtm3btm01wMwpeDkFLzjAvJyCl1PwOsCsD431obE9wE7Byyl4OUDAyPrQWB+aQcBANNaHxvpCwLht27ZtW0TAMKfg5RS8RcCo4OUUvBxHwB4a60NjfUjAmFPwcgreScAQjfWhsT5LwIjG+tBYn0zAAAAAAAAATsAAAAAAAMBSQERjfWisD1JAiMb60FhfUUDMKXg5Ba9QQB8a60Nj\\u002fU9Ap+DlFLycTkAvp+DlFDxNQLdt27Zt20tAPjTWh8Z6SkDG+tBYHxpJQE7Byyl4uUdA1ofG+tBYRkBeTsHLKfhEQOYUvJyCl0NAbtu2bds2QkD1obE+NNZAQPrQWB8a6z5ADF5OwcspPEAa60NjfWg5QCp4OQUvpzZAOAUvp+DlM0BIkiRJkiQxQLA+NNaHxixA0FgfGutDJ0DwcgpeTsEhQCAa60NjfRhAwJyCl1PwCkAAFbycgpfjP0CSJEmSJAHA4BS8nIKXE8Cw4OUUvJwewDjWh8b60CTAGLycgpdTKsD4obE+NNYvwOhDY31orDLA4LZt27ZtNcDMKXg5BS84wLycgpdT8DrArA+N9aGxPcBOwcspeDlAwMj60FgfmkHAQDTWh8b6QsC4bdu2bVtEwDCn4OUUvEXAqODlFLwcR8AeGutDY31IwJhT8HIK3knAEI31obE+S8CIxvrQWJ9MwAAAAAAAAE7AAAAAAADAUkBEY31orA9SQIjG+tBYX1FAzCl4OQWvUEAfGutDY\\u002f1PQKfg5RS8nE5AL6fg5RQ8TUC3bdu2bdtLQD401ofGekpAxvrQWB8aSUBOwcspeLlHQNaHxvrQWEZAXk7Byyn4REDmFLycgpdDQG7btm3bNkJA9aGxPjTWQED60FgfGus+QAxeTsHLKTxAGutDY31oOUAqeDkFL6c2QDgFL6fg5TNASJIkSZIkMUCwPjTWh8YsQNBYHxrrQydA8HIKXk7BIUAgGutDY30YQMCcgpdT8ApAABW8nIKX4z9AkiRJkiQBwOAUvJyClxPAsODlFLycHsA41ofG+tAkwBi8nIKXUyrA+KGxPjTWL8DoQ2N9aKwywOC2bdu2bTXAzCl4OQUvOMC8nIKXU\\u002fA6wKwPjfWhsT3ATsHLKXg5QMDI+tBYH5pBwEA01ofG+kLAuG3btm1bRMAwp+DlFLxFwKjg5RS8HEfAHhrrQ2N9SMCYU\\u002fByCt5JwBCN9aGxPkvAiMb60FifTMAAAAAAAABOwAAAAAAAwFJARGN9aKwPUkCIxvrQWF9RQMwpeDkFr1BAHxrrQ2P9T0Cn4OUUvJxOQC+n4OUUPE1At23btm3bS0A+NNaHxnpKQMb60FgfGklATsHLKXi5R0DWh8b60FhGQF5Owcsp+ERA5hS8nIKXQ0Bu27Zt2zZCQPWhsT401kBA+tBYHxrrPkAMXk7Byyk8QBrrQ2N9aDlAKng5BS+nNkA4BS+n4OUzQEiSJEmSJDFAsD401ofGLEDQWB8a60MnQPByCl5OwSFAIBrrQ2N9GEDAnIKXU\\u002fAKQAAVvJyCl+M\\u002fQJIkSZIkAcDgFLycgpcTwLDg5RS8nB7AONaHxvrQJMAYvJyCl1MqwPihsT401i\\u002fA6ENjfWisMsDgtm3btm01wMwpeDkFLzjAvJyCl1PwOsCsD431obE9wE7Byyl4OUDAyPrQWB+aQcBANNaHxvpCwLht27ZtW0TAMKfg5RS8RcCo4OUUvBxHwB4a60NjfUjAmFPwcgreScAQjfWhsT5LwIjG+tBYn0zAAAAAAAAATsAAAAAAAMBSQERjfWisD1JAiMb60FhfUUDMKXg5Ba9QQB8a60Nj\\u002fU9Ap+DlFLycTkAvp+DlFDxNQLdt27Zt20tAPjTWh8Z6SkDG+tBYHxpJQE7Byyl4uUdA1ofG+tBYRkBeTsHLKfhEQOYUvJyCl0NAbtu2bds2QkD1obE+NNZAQPrQWB8a6z5ADF5OwcspPEAa60NjfWg5QCp4OQUvpzZAOAUvp+DlM0BIkiRJkiQxQLA+NNaHxixA0FgfGutDJ0DwcgpeTsEhQCAa60NjfRhAwJyCl1PwCkAAFbycgpfjP0CSJEmSJAHA4BS8nIKXE8Cw4OUUvJwewDjWh8b60CTAGLycgpdTKsD4obE+NNYvwOhDY31orDLA4LZt27ZtNcDMKXg5BS84wLycgpdT8DrArA+N9aGxPcBOwcspeDlAwMj60FgfmkHAQDTWh8b6QsC4bdu2bVtEwDCn4OUUvEXAqODlFLwcR8AeGutDY31IwJhT8HIK3knAEI31obE+S8CIxvrQWJ9MwAAAAAAAAE7AAAAAAADAUkBEY31orA9SQIjG+tBYX1FAzCl4OQWvUEAfGutDY\\u002f1PQKfg5RS8nE5AL6fg5RQ8TUC3bdu2bdtLQD401ofGekpAxvrQWB8aSUBOwcspeLlHQNaHxvrQWEZAXk7Byyn4REDmFLycgpdDQG7btm3bNkJA9aGxPjTWQED60FgfGus+QAxeTsHLKTxAGutDY31oOUAqeDkFL6c2QDgFL6fg5TNASJIkSZIkMUCwPjTWh8YsQNBYHxrrQydA8HIKXk7BIUAgGutDY30YQMCcgpdT8ApAABW8nIKX4z9AkiRJkiQBwOAUvJyClxPAsODlFLycHsA41ofG+tAkwBi8nIKXUyrA+KGxPjTWL8DoQ2N9aKwywOC2bdu2bTXAzCl4OQUvOMC8nIKXU\\u002fA6wKwPjfWhsT3ATsHLKXg5QMDI+tBYH5pBwEA01ofG+kLAuG3btm1bRMAwp+DlFLxFwKjg5RS8HEfAHhrrQ2N9SMCYU\\u002fByCt5JwBCN9aGxPkvAiMb60FifTMAAAAAAAABOwAAAAAAAwFJARGN9aKwPUkCIxvrQWF9RQMwpeDkFr1BAHxrrQ2P9T0Cn4OUUvJxOQC+n4OUUPE1At23btm3bS0A+NNaHxnpKQMb60FgfGklATsHLKXi5R0DWh8b60FhGQF5Owcsp+ERA5hS8nIKXQ0Bu27Zt2zZCQPWhsT401kBA+tBYHxrrPkAMXk7Byyk8QBrrQ2N9aDlAKng5BS+nNkA4BS+n4OUzQEiSJEmSJDFAsD401ofGLEDQWB8a60MnQPByCl5OwSFAIBrrQ2N9GEDAnIKXU\\u002fAKQAAVvJyCl+M\\u002fQJIkSZIkAcDgFLycgpcTwLDg5RS8nB7AONaHxvrQJMAYvJyCl1MqwPihsT401i\\u002fA6ENjfWisMsDgtm3btm01wMwpeDkFLzjAvJyCl1PwOsCsD431obE9wE7Byyl4OUDAyPrQWB+aQcBANNaHxvpCwLht27ZtW0TAMKfg5RS8RcCo4OUUvBxHwB4a60NjfUjAmFPwcgreScAQjfWhsT5LwIjG+tBYn0zAAAAAAAAATsA=\",\"shape\":\"50, 50\"},\"type\":\"surface\"},{\"marker\":{\"color\":\"red\",\"size\":6},\"mode\":\"markers\",\"name\":\"Solution\",\"x\":[15.860782086646115],\"y\":[2.515008924225215],\"z\":[3.626480610092489],\"type\":\"scatter3d\"}],                        {\"template\":{\"data\":{\"histogram2dcontour\":[{\"type\":\"histogram2dcontour\",\"colorbar\":{\"outlinewidth\":0,\"ticks\":\"\"},\"colorscale\":[[0.0,\"#0d0887\"],[0.1111111111111111,\"#46039f\"],[0.2222222222222222,\"#7201a8\"],[0.3333333333333333,\"#9c179e\"],[0.4444444444444444,\"#bd3786\"],[0.5555555555555556,\"#d8576b\"],[0.6666666666666666,\"#ed7953\"],[0.7777777777777778,\"#fb9f3a\"],[0.8888888888888888,\"#fdca26\"],[1.0,\"#f0f921\"]]}],\"choropleth\":[{\"type\":\"choropleth\",\"colorbar\":{\"outlinewidth\":0,\"ticks\":\"\"}}],\"histogram2d\":[{\"type\":\"histogram2d\",\"colorbar\":{\"outlinewidth\":0,\"ticks\":\"\"},\"colorscale\":[[0.0,\"#0d0887\"],[0.1111111111111111,\"#46039f\"],[0.2222222222222222,\"#7201a8\"],[0.3333333333333333,\"#9c179e\"],[0.4444444444444444,\"#bd3786\"],[0.5555555555555556,\"#d8576b\"],[0.6666666666666666,\"#ed7953\"],[0.7777777777777778,\"#fb9f3a\"],[0.8888888888888888,\"#fdca26\"],[1.0,\"#f0f921\"]]}],\"heatmap\":[{\"type\":\"heatmap\",\"colorbar\":{\"outlinewidth\":0,\"ticks\":\"\"},\"colorscale\":[[0.0,\"#0d0887\"],[0.1111111111111111,\"#46039f\"],[0.2222222222222222,\"#7201a8\"],[0.3333333333333333,\"#9c179e\"],[0.4444444444444444,\"#bd3786\"],[0.5555555555555556,\"#d8576b\"],[0.6666666666666666,\"#ed7953\"],[0.7777777777777778,\"#fb9f3a\"],[0.8888888888888888,\"#fdca26\"],[1.0,\"#f0f921\"]]}],\"contourcarpet\":[{\"type\":\"contourcarpet\",\"colorbar\":{\"outlinewidth\":0,\"ticks\":\"\"}}],\"contour\":[{\"type\":\"contour\",\"colorbar\":{\"outlinewidth\":0,\"ticks\":\"\"},\"colorscale\":[[0.0,\"#0d0887\"],[0.1111111111111111,\"#46039f\"],[0.2222222222222222,\"#7201a8\"],[0.3333333333333333,\"#9c179e\"],[0.4444444444444444,\"#bd3786\"],[0.5555555555555556,\"#d8576b\"],[0.6666666666666666,\"#ed7953\"],[0.7777777777777778,\"#fb9f3a\"],[0.8888888888888888,\"#fdca26\"],[1.0,\"#f0f921\"]]}],\"surface\":[{\"type\":\"surface\",\"colorbar\":{\"outlinewidth\":0,\"ticks\":\"\"},\"colorscale\":[[0.0,\"#0d0887\"],[0.1111111111111111,\"#46039f\"],[0.2222222222222222,\"#7201a8\"],[0.3333333333333333,\"#9c179e\"],[0.4444444444444444,\"#bd3786\"],[0.5555555555555556,\"#d8576b\"],[0.6666666666666666,\"#ed7953\"],[0.7777777777777778,\"#fb9f3a\"],[0.8888888888888888,\"#fdca26\"],[1.0,\"#f0f921\"]]}],\"mesh3d\":[{\"type\":\"mesh3d\",\"colorbar\":{\"outlinewidth\":0,\"ticks\":\"\"}}],\"scatter\":[{\"fillpattern\":{\"fillmode\":\"overlay\",\"size\":10,\"solidity\":0.2},\"type\":\"scatter\"}],\"parcoords\":[{\"type\":\"parcoords\",\"line\":{\"colorbar\":{\"outlinewidth\":0,\"ticks\":\"\"}}}],\"scatterpolargl\":[{\"type\":\"scatterpolargl\",\"marker\":{\"colorbar\":{\"outlinewidth\":0,\"ticks\":\"\"}}}],\"bar\":[{\"error_x\":{\"color\":\"#2a3f5f\"},\"error_y\":{\"color\":\"#2a3f5f\"},\"marker\":{\"line\":{\"color\":\"#E5ECF6\",\"width\":0.5},\"pattern\":{\"fillmode\":\"overlay\",\"size\":10,\"solidity\":0.2}},\"type\":\"bar\"}],\"scattergeo\":[{\"type\":\"scattergeo\",\"marker\":{\"colorbar\":{\"outlinewidth\":0,\"ticks\":\"\"}}}],\"scatterpolar\":[{\"type\":\"scatterpolar\",\"marker\":{\"colorbar\":{\"outlinewidth\":0,\"ticks\":\"\"}}}],\"histogram\":[{\"marker\":{\"pattern\":{\"fillmode\":\"overlay\",\"size\":10,\"solidity\":0.2}},\"type\":\"histogram\"}],\"scattergl\":[{\"type\":\"scattergl\",\"marker\":{\"colorbar\":{\"outlinewidth\":0,\"ticks\":\"\"}}}],\"scatter3d\":[{\"type\":\"scatter3d\",\"line\":{\"colorbar\":{\"outlinewidth\":0,\"ticks\":\"\"}},\"marker\":{\"colorbar\":{\"outlinewidth\":0,\"ticks\":\"\"}}}],\"scattermap\":[{\"type\":\"scattermap\",\"marker\":{\"colorbar\":{\"outlinewidth\":0,\"ticks\":\"\"}}}],\"scattermapbox\":[{\"type\":\"scattermapbox\",\"marker\":{\"colorbar\":{\"outlinewidth\":0,\"ticks\":\"\"}}}],\"scatterternary\":[{\"type\":\"scatterternary\",\"marker\":{\"colorbar\":{\"outlinewidth\":0,\"ticks\":\"\"}}}],\"scattercarpet\":[{\"type\":\"scattercarpet\",\"marker\":{\"colorbar\":{\"outlinewidth\":0,\"ticks\":\"\"}}}],\"carpet\":[{\"aaxis\":{\"endlinecolor\":\"#2a3f5f\",\"gridcolor\":\"white\",\"linecolor\":\"white\",\"minorgridcolor\":\"white\",\"startlinecolor\":\"#2a3f5f\"},\"baxis\":{\"endlinecolor\":\"#2a3f5f\",\"gridcolor\":\"white\",\"linecolor\":\"white\",\"minorgridcolor\":\"white\",\"startlinecolor\":\"#2a3f5f\"},\"type\":\"carpet\"}],\"table\":[{\"cells\":{\"fill\":{\"color\":\"#EBF0F8\"},\"line\":{\"color\":\"white\"}},\"header\":{\"fill\":{\"color\":\"#C8D4E3\"},\"line\":{\"color\":\"white\"}},\"type\":\"table\"}],\"barpolar\":[{\"marker\":{\"line\":{\"color\":\"#E5ECF6\",\"width\":0.5},\"pattern\":{\"fillmode\":\"overlay\",\"size\":10,\"solidity\":0.2}},\"type\":\"barpolar\"}],\"pie\":[{\"automargin\":true,\"type\":\"pie\"}]},\"layout\":{\"autotypenumbers\":\"strict\",\"colorway\":[\"#636efa\",\"#EF553B\",\"#00cc96\",\"#ab63fa\",\"#FFA15A\",\"#19d3f3\",\"#FF6692\",\"#B6E880\",\"#FF97FF\",\"#FECB52\"],\"font\":{\"color\":\"#2a3f5f\"},\"hovermode\":\"closest\",\"hoverlabel\":{\"align\":\"left\"},\"paper_bgcolor\":\"white\",\"plot_bgcolor\":\"#E5ECF6\",\"polar\":{\"bgcolor\":\"#E5ECF6\",\"angularaxis\":{\"gridcolor\":\"white\",\"linecolor\":\"white\",\"ticks\":\"\"},\"radialaxis\":{\"gridcolor\":\"white\",\"linecolor\":\"white\",\"ticks\":\"\"}},\"ternary\":{\"bgcolor\":\"#E5ECF6\",\"aaxis\":{\"gridcolor\":\"white\",\"linecolor\":\"white\",\"ticks\":\"\"},\"baxis\":{\"gridcolor\":\"white\",\"linecolor\":\"white\",\"ticks\":\"\"},\"caxis\":{\"gridcolor\":\"white\",\"linecolor\":\"white\",\"ticks\":\"\"}},\"coloraxis\":{\"colorbar\":{\"outlinewidth\":0,\"ticks\":\"\"}},\"colorscale\":{\"sequential\":[[0.0,\"#0d0887\"],[0.1111111111111111,\"#46039f\"],[0.2222222222222222,\"#7201a8\"],[0.3333333333333333,\"#9c179e\"],[0.4444444444444444,\"#bd3786\"],[0.5555555555555556,\"#d8576b\"],[0.6666666666666666,\"#ed7953\"],[0.7777777777777778,\"#fb9f3a\"],[0.8888888888888888,\"#fdca26\"],[1.0,\"#f0f921\"]],\"sequentialminus\":[[0.0,\"#0d0887\"],[0.1111111111111111,\"#46039f\"],[0.2222222222222222,\"#7201a8\"],[0.3333333333333333,\"#9c179e\"],[0.4444444444444444,\"#bd3786\"],[0.5555555555555556,\"#d8576b\"],[0.6666666666666666,\"#ed7953\"],[0.7777777777777778,\"#fb9f3a\"],[0.8888888888888888,\"#fdca26\"],[1.0,\"#f0f921\"]],\"diverging\":[[0,\"#8e0152\"],[0.1,\"#c51b7d\"],[0.2,\"#de77ae\"],[0.3,\"#f1b6da\"],[0.4,\"#fde0ef\"],[0.5,\"#f7f7f7\"],[0.6,\"#e6f5d0\"],[0.7,\"#b8e186\"],[0.8,\"#7fbc41\"],[0.9,\"#4d9221\"],[1,\"#276419\"]]},\"xaxis\":{\"gridcolor\":\"white\",\"linecolor\":\"white\",\"ticks\":\"\",\"title\":{\"standoff\":15},\"zerolinecolor\":\"white\",\"automargin\":true,\"zerolinewidth\":2},\"yaxis\":{\"gridcolor\":\"white\",\"linecolor\":\"white\",\"ticks\":\"\",\"title\":{\"standoff\":15},\"zerolinecolor\":\"white\",\"automargin\":true,\"zerolinewidth\":2},\"scene\":{\"xaxis\":{\"backgroundcolor\":\"#E5ECF6\",\"gridcolor\":\"white\",\"linecolor\":\"white\",\"showbackground\":true,\"ticks\":\"\",\"zerolinecolor\":\"white\",\"gridwidth\":2},\"yaxis\":{\"backgroundcolor\":\"#E5ECF6\",\"gridcolor\":\"white\",\"linecolor\":\"white\",\"showbackground\":true,\"ticks\":\"\",\"zerolinecolor\":\"white\",\"gridwidth\":2},\"zaxis\":{\"backgroundcolor\":\"#E5ECF6\",\"gridcolor\":\"white\",\"linecolor\":\"white\",\"showbackground\":true,\"ticks\":\"\",\"zerolinecolor\":\"white\",\"gridwidth\":2}},\"shapedefaults\":{\"line\":{\"color\":\"#2a3f5f\"}},\"annotationdefaults\":{\"arrowcolor\":\"#2a3f5f\",\"arrowhead\":0,\"arrowwidth\":1},\"geo\":{\"bgcolor\":\"white\",\"landcolor\":\"#E5ECF6\",\"subunitcolor\":\"white\",\"showland\":true,\"showlakes\":true,\"lakecolor\":\"white\"},\"title\":{\"x\":0.05},\"mapbox\":{\"style\":\"light\"},\"margin\":{\"b\":0,\"l\":0,\"r\":0,\"t\":30}}},\"scene\":{\"xaxis\":{\"title\":{\"text\":\"Handlebars (x)\"}},\"yaxis\":{\"title\":{\"text\":\"Brakes (y)\"}},\"zaxis\":{\"title\":{\"text\":\"Wheels (z)\"}}},\"title\":{\"text\":\"Interactive 3D Production Constraints\"}},                        {\"responsive\": true}                    ).then(function(){\n",
              "                            \n",
              "var gd = document.getElementById('765ef330-e49d-45eb-82b6-d84bbe832e77');\n",
              "var x = new MutationObserver(function (mutations, observer) {{\n",
              "        var display = window.getComputedStyle(gd).display;\n",
              "        if (!display || display === 'none') {{\n",
              "            console.log([gd, 'removed!']);\n",
              "            Plotly.purge(gd);\n",
              "            observer.disconnect();\n",
              "        }}\n",
              "}});\n",
              "\n",
              "// Listen for the removal of the full notebook cells\n",
              "var notebookContainer = gd.closest('#notebook-container');\n",
              "if (notebookContainer) {{\n",
              "    x.observe(notebookContainer, {childList: true});\n",
              "}}\n",
              "\n",
              "// Listen for the clearing of the current output cell\n",
              "var outputEl = gd.closest('.output');\n",
              "if (outputEl) {{\n",
              "    x.observe(outputEl, {childList: true});\n",
              "}}\n",
              "\n",
              "                        })                };            </script>        </div>"
            ]
          }
        }
      ],
      "source": [
        "# Create interactive 3D plot\n",
        "fig = go.Figure()\n",
        "\n",
        "fig.add_surface(x=x, y=y, z=Z1, opacity=0.5, colorscale=\"Blues\", name=\"Aluminium\")\n",
        "fig.add_surface(x=x, y=y, z=Z2, opacity=0.5, colorscale=\"Oranges\", name=\"Rubber\")\n",
        "fig.add_surface(x=x, y=y, z=Z3, opacity=0.5, colorscale=\"Greens\", name=\"Paint\")\n",
        "\n",
        "# Add solution point\n",
        "fig.add_trace(go.Scatter3d(x=[solution[0]], y=[solution[1]], z=[solution[2]],\n",
        "                           mode=\"markers\", marker=dict(size=6, color=\"red\"),\n",
        "                           name=\"Solution\"))\n",
        "\n",
        "fig.update_layout(\n",
        "    scene=dict(\n",
        "        xaxis_title=\"Handlebars (x)\",\n",
        "        yaxis_title=\"Brakes (y)\",\n",
        "        zaxis_title=\"Wheels (z)\"\n",
        "    ),\n",
        "    title=\"Interactive 3D Production Constraints\"\n",
        ")\n",
        "\n",
        "fig.show()"
      ],
      "id": "63d66672"
    },
    {
      "cell_type": "markdown",
      "metadata": {},
      "source": [
        "## Conclusions\n",
        "\n",
        "Here we solved a set of linear equations using algebra. Solving sets of\n",
        "liunear equations is closely related to regression, a topic we will\n",
        "learn about in week 6.\n",
        "\n",
        "## Extension\n",
        "\n",
        "Try and implement an OLS regression for the data….\n",
        "\n",
        "## You’re Done!\n",
        "\n",
        "Congratulations on completing the linear algebra practical! If you are\n",
        "still working on it, take your time.\n",
        "\n",
        "Don’t worry here about understanding every detail of the maths - the\n",
        "goal here is to help with some baseline understanding of the maths so\n",
        "that it’s easier to read maths you might come across in further\n",
        "research. Focus on each of the operations we looked at - do you know\n",
        "what is being calculated here? Why is that a useful thing to calculate?\n",
        "\n",
        "It takes time to learn - remember practice makes perfect!"
      ],
      "id": "2b44ed67-4ff0-4899-b31a-2d2b6a93e39f"
    }
  ],
  "nbformat": 4,
  "nbformat_minor": 5,
  "metadata": {
    "kernelspec": {
      "name": "python3",
      "display_name": "Python 3 (ipykernel)",
      "language": "python",
      "path": "/opt/hostedtoolcache/Python/3.10.18/x64/share/jupyter/kernels/python3"
    },
    "language_info": {
      "name": "python",
      "codemirror_mode": {
        "name": "ipython",
        "version": "3"
      },
      "file_extension": ".py",
      "mimetype": "text/x-python",
      "nbconvert_exporter": "python",
      "pygments_lexer": "ipython3",
      "version": "3.10.18"
    }
  }
}