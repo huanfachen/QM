{
  "cells": [
    {
      "cell_type": "markdown",
      "metadata": {},
      "source": [
        "# Practical 4: Practising practical Linear Algebra\n",
        "\n",
        "This week is focussed on the key ideas from linear algebra which are the\n",
        "building blocks of regression, computational modelling and machine\n",
        "learning.\n",
        "\n",
        "> **Note**\n",
        ">\n",
        "> Don’t be intimidated by the maths!\n",
        ">\n",
        "> Even if you’re struggling with the maths try to focus on what you\n",
        "> think the code is doing.\n",
        "\n",
        "In the tutorial we’re going to explore the mathematical concepts from\n",
        "the lecture through an example.\n",
        "\n",
        "## A problem with bike parts\n",
        "\n",
        "### Background\n",
        "\n",
        "A factory specialises in producing parts for bicycles: handlebars,\n",
        "brakes and wheels.\n",
        "\n",
        "-   $x_1$ — the number of handlebars they can make  \n",
        "-   $x_2$ — the number of brakes they can make\n",
        "-   $x_3$ — the number of wheels they can make\n",
        "\n",
        "These require resources to be made: aluminium, rubber and paint.\n",
        "\n",
        "For **each handlebar** they need 8 units of aluminium, 4 units of rubber\n",
        "and 4 units of paint. For **each brake** they need 1 unit of aluminium,\n",
        "1 unit of rubber and 1 unit of paint. For **each wheel** they need 10\n",
        "units of aluminium, 23 units of rubber, and 5 units of paint.\n",
        "\n",
        "![](https://huanfachen.github.io/QM/sessions/L4_images/bike_factory.jpg)\n",
        "\n",
        "The factory is having problems with the supply of raw materials. On a\n",
        "given day they have: - $b_1=400$ units of aluminium,  \n",
        "- $b_2=750$ units of rubber,  \n",
        "- $b_3=200$ units of paint.\n",
        "\n",
        "What is the optimal number of each bike part that they can produce?\n",
        "\n",
        "### Linear equations\n",
        "\n",
        "We can express the resource constraints as a system of equations. If\n",
        "they are producing $x_1, x_2, x_3$ units of each part we need:\n",
        "\n",
        "$$\n",
        "8x_1 + x_2 + 10x_3\n",
        "$$\n",
        "\n",
        "of aluminium.\n",
        "\n",
        "$$\n",
        "4x_1 + x_2 + 23x_3\n",
        "$$\n",
        "\n",
        "of rubber.\n",
        "\n",
        "$$\n",
        "4x_1 + x_2 + 5x_3\n",
        "$$\n",
        "\n",
        "of paint.\n",
        "\n",
        "Given the contraints of raw materials we can have:\n",
        "\n",
        "$$\n",
        "8x_1 + x_2 + 10x_3 = b_1 = 400\n",
        "\\\\ 4x_1 + x_2 + 23x_3 = b_2 = 750\n",
        "\\\\ 4x_1 + x_2 + 5x_3 = b_3 = 200\n",
        "$$\n",
        "\n",
        "### Matrix form\n",
        "\n",
        "This can be written compactly as:\n",
        "\n",
        "$$\n",
        "\\begin{pmatrix}\n",
        "8 & 1 & 10 \\\\\n",
        "4 & 1 & 23 \\\\\n",
        "4 & 1 & 5\n",
        "\\end{pmatrix}\n",
        "\\begin{pmatrix}x_1\\\\x_2\\\\x_3\\end{pmatrix}\n",
        "=\n",
        "\\begin{pmatrix}b_1\\\\b_2\\\\b_3\\end{pmatrix}.\n",
        "$$\n",
        "\n",
        "That is, $$\n",
        "Mx =b \n",
        "$$\n",
        "\n",
        "Where $M$ is the coefficient matrix,\n",
        "\n",
        "$$\n",
        "M = \n",
        "\\begin{pmatrix}\n",
        "8 & 1 & 10 \\\\\n",
        "4 & 1 & 23 \\\\\n",
        "4 & 1 & 5\n",
        "\\end{pmatrix}\n",
        "$$\n",
        "\n",
        "$x$ is the vector of the number of each part, i.e. the variables in our\n",
        "equation:\n",
        "\n",
        "$$\n",
        "x = \\begin{pmatrix}x\\\\y\\\\z\\end{pmatrix}\n",
        "$$\n",
        "\n",
        "and $b$ is the resource constraint:\n",
        "\n",
        "$$\n",
        "b = \\begin{pmatrix}b_1\\\\b_2\\\\b_3\\end{pmatrix}.\n",
        "$$\n",
        "\n",
        "### Writing this is Python\n",
        "\n",
        "Let’s start by importing the libraries we need in Python."
      ],
      "id": "dab6c304-1283-4b51-b6eb-59673b30b2ac"
    },
    {
      "cell_type": "code",
      "execution_count": 1,
      "metadata": {},
      "outputs": [],
      "source": [
        "import numpy as np\n",
        "import plotly.graph_objects as go"
      ],
      "id": "572402c7"
    },
    {
      "cell_type": "markdown",
      "metadata": {},
      "source": [
        "We can write this same information in Python by creating variables."
      ],
      "id": "ece33653-484d-4f44-a395-f93fe87f0109"
    },
    {
      "cell_type": "code",
      "execution_count": 2,
      "metadata": {},
      "outputs": [],
      "source": [
        "# Coefficient matrix\n",
        "# M \n",
        "M = np.array([[8, 1, 10],\n",
        "              [4, 1, 23],\n",
        "              [4, 1, 5]], dtype=float)\n",
        "\n",
        "# Resource availability\n",
        "# [b_1, b_2, b_3]\n",
        "b = np.array([400, 750, 200], dtype=float)  "
      ],
      "id": "ff6aa1fe"
    },
    {
      "cell_type": "markdown",
      "metadata": {},
      "source": [
        "In Python matrices are represented as an array of arrays (\\[\\] within\n",
        "other \\[\\]) - each array \\[\\] is a row of the matrix.\n",
        "\n",
        "## Solving the equations\n",
        "\n",
        "We can use in-built functions in Python to solve the system of linear\n",
        "equations. The library `np.linalg` provides us with all the matrix\n",
        "operations we need.\n",
        "\n",
        "### Checking the determinant\n",
        "\n",
        "From the lecture we saw that in order to solve a system of linear\n",
        "equations the corresponding coefficient matrix must be invertible - and\n",
        "this requires the determinant to be non-zero. So let’s start by checking\n",
        "the determinant of M is non-zero."
      ],
      "id": "89fa907b-c183-43a5-84eb-dd0266de263a"
    },
    {
      "cell_type": "code",
      "execution_count": 3,
      "metadata": {},
      "outputs": [
        {
          "output_type": "stream",
          "name": "stdout",
          "text": [
            "-71.99999999999994"
          ]
        }
      ],
      "source": [
        "# Calculate the determinant of M\n",
        "det_M = np.linalg.det(M)\n",
        "\n",
        "print(det_M)"
      ],
      "id": "7a92a843"
    },
    {
      "cell_type": "markdown",
      "metadata": {},
      "source": [
        "The det(M) is non-zero! This means that matrix M is invertible.\n",
        "\n",
        "### Inverting the matrix\n",
        "\n",
        "Now let’s calculate the inverse of M.\n",
        "\n",
        "> **Note**\n",
        ">\n",
        "> Remember: The inverse of a matrix M is denoted M^-1 and has the\n",
        "> property that M \\* M^-1 = I, where I is the identity matrix."
      ],
      "id": "ce1f8e91-9e67-43cc-9af2-914c7f96d011"
    },
    {
      "cell_type": "code",
      "execution_count": 4,
      "metadata": {},
      "outputs": [
        {
          "output_type": "stream",
          "name": "stdout",
          "text": [
            "[[ 0.25       -0.06944444 -0.18055556]\n",
            " [-1.          0.          2.        ]\n",
            " [-0.          0.05555556 -0.05555556]]"
          ]
        }
      ],
      "source": [
        "# Invert M\n",
        "M_inv = np.linalg.inv(M)\n",
        "\n",
        "print(M_inv)"
      ],
      "id": "51553efc"
    },
    {
      "cell_type": "markdown",
      "metadata": {},
      "source": [
        "### The identity matrix\n",
        "\n",
        "Let’s check that $MM^{-1}= I$, where I is the 3x3 identity matrix:\n",
        "\n",
        "$$\n",
        "\\begin{pmatrix}\n",
        "1 & 0 & 0 \\\\\n",
        "0 & 1 & 0 \\\\\n",
        "0 & 0 & 1\n",
        "\\end{pmatrix}\n",
        "$$"
      ],
      "id": "de221b9c-443c-49f2-bb27-94cd84d5de2a"
    },
    {
      "cell_type": "code",
      "execution_count": 5,
      "metadata": {},
      "outputs": [
        {
          "output_type": "stream",
          "name": "stdout",
          "text": [
            "[[ 1.00000000e+00 -5.55111512e-17  5.55111512e-17]\n",
            " [ 0.00000000e+00  1.00000000e+00 -2.77555756e-17]\n",
            " [ 0.00000000e+00 -2.77555756e-17  1.00000000e+00]]"
          ]
        }
      ],
      "source": [
        "# Multiply M by its inverse\n",
        "\n",
        "MM_inv = np.dot(M, M_inv)\n",
        "print(MM_inv)"
      ],
      "id": "f2beed6e"
    },
    {
      "cell_type": "markdown",
      "metadata": {},
      "source": [
        "Hmmmm… that’s weird. It’s not quite the identity matrix.\n",
        "\n",
        "The reason it’s not quite the dientity matrix is because we are using\n",
        "floating point values (`dtype=float`) in `Python` - which means there’s\n",
        "always going to be a small error - i.e. epsilon - $\\epsilon$)\n",
        "\n",
        "Rounding the matrix we see that it is very close to the identity."
      ],
      "id": "1b1fc02f-bd63-425a-a352-8686c8624258"
    },
    {
      "cell_type": "code",
      "execution_count": 6,
      "metadata": {},
      "outputs": [
        {
          "output_type": "stream",
          "name": "stdout",
          "text": [
            "[[ 1. -0.  0.]\n",
            " [ 0.  1. -0.]\n",
            " [ 0. -0.  1.]]"
          ]
        }
      ],
      "source": [
        "print(MM_inv.round(2))"
      ],
      "id": "141510cf"
    },
    {
      "cell_type": "markdown",
      "metadata": {},
      "source": [
        "Phew - it is the identity matrix!\n",
        "\n",
        "### Let’s solve it!\n",
        "\n",
        "As we saw in the lectures, we can get $x$ as follows:\n",
        "\n",
        "$$\n",
        "x = M^{-1}b\n",
        "$$\n",
        "\n",
        "We use the function `np.dot()` to take the [dot\n",
        "product](https://www.mathsisfun.com/algebra/matrix-multiplying.html)."
      ],
      "id": "2add1e70-563c-46ee-a308-e9bec0e6a268"
    },
    {
      "cell_type": "code",
      "execution_count": 7,
      "metadata": {},
      "outputs": [
        {
          "output_type": "stream",
          "name": "stdout",
          "text": [
            "[11.81  0.   30.56]"
          ]
        }
      ],
      "source": [
        "# do M^-1 * b to get x_bar\n",
        "x = np.dot(M_inv, b)\n",
        "\n",
        "print(np.round(x,2))"
      ],
      "id": "db671379"
    },
    {
      "cell_type": "markdown",
      "metadata": {},
      "source": [
        "So we see that the optimal use of resources is to make 11 handlebrars, 0\n",
        "brakes and 30 wheels. Potentially some terrifying brake-less bikes!\n",
        "\n",
        "### Let’s solve it again!\n",
        "\n",
        "So above we calculated each step of the process. Alternatively we can\n",
        "solve the equations using `numpy`s linear algebra solver, which skips\n",
        "most of the steps."
      ],
      "id": "d505a77d-129f-4122-a999-d12b11129308"
    },
    {
      "cell_type": "code",
      "execution_count": 8,
      "metadata": {},
      "outputs": [
        {
          "output_type": "stream",
          "name": "stdout",
          "text": [
            "[11.81  0.   30.56]"
          ]
        }
      ],
      "source": [
        "## Solve the equations using numpy's linear algebra solver\n",
        "x = np.linalg.solve(M, b)\n",
        "\n",
        "print(np.round(x, 2))"
      ],
      "id": "cfd4f59e"
    },
    {
      "cell_type": "markdown",
      "metadata": {},
      "source": [
        "## Visualising\n",
        "\n",
        "In 2-dimensions and 3-dimensions we can visualise the solution to our\n",
        "set of equations. For two equations the solution will be the point where\n",
        "the two lines intersect. In three dimensiosn the solution is the\n",
        "intersection of the three planes described by the equation.\n",
        "\n",
        "We can plot our equations in 3D space to see this. We we-write the\n",
        "equations as"
      ],
      "id": "1731d165-bd09-4167-b24c-0943b3b89c6b"
    },
    {
      "cell_type": "code",
      "execution_count": 9,
      "metadata": {},
      "outputs": [
        {
          "output_type": "display_data",
          "metadata": {},
          "data": {
            "text/html": [
              "        <script type=\"text/javascript\">\n",
              "        window.PlotlyConfig = {MathJaxConfig: 'local'};\n",
              "        if (window.MathJax && window.MathJax.Hub && window.MathJax.Hub.Config) {window.MathJax.Hub.Config({SVG: {font: \"STIX-Web\"}});}\n",
              "        </script>\n",
              "        <script type=\"module\">import \"https://cdn.plot.ly/plotly-3.1.0.min\"</script>\n",
              "        "
            ]
          }
        },
        {
          "output_type": "display_data",
          "metadata": {},
          "data": {
            "text/html": [
              "<div>            <script src=\"https://cdnjs.cloudflare.com/ajax/libs/mathjax/2.7.5/MathJax.js?config=TeX-AMS-MML_SVG\"></script><script type=\"text/javascript\">if (window.MathJax && window.MathJax.Hub && window.MathJax.Hub.Config) {window.MathJax.Hub.Config({SVG: {font: \"STIX-Web\"}});}</script>                <script type=\"text/javascript\">window.PlotlyConfig = {MathJaxConfig: 'local'};</script>\n",
              "        <script charset=\"utf-8\" src=\"https://cdn.plot.ly/plotly-3.1.0.min.js\" integrity=\"sha256-Ei4740bWZhaUTQuD6q9yQlgVCMPBz6CZWhevDYPv93A=\" crossorigin=\"anonymous\"></script>                <div id=\"2c86eb25-cea9-461d-9c38-9c5211943c14\" class=\"plotly-graph-div\" style=\"height:525px; width:100%;\"></div>            <script type=\"text/javascript\">                window.PLOTLYENV=window.PLOTLYENV || {};                                if (document.getElementById(\"2c86eb25-cea9-461d-9c38-9c5211943c14\")) {                    Plotly.newPlot(                        \"2c86eb25-cea9-461d-9c38-9c5211943c14\",                        [{\"colorscale\":[[0.0,\"rgb(247,251,255)\"],[0.125,\"rgb(222,235,247)\"],[0.25,\"rgb(198,219,239)\"],[0.375,\"rgb(158,202,225)\"],[0.5,\"rgb(107,174,214)\"],[0.625,\"rgb(66,146,198)\"],[0.75,\"rgb(33,113,181)\"],[0.875,\"rgb(8,81,156)\"],[1.0,\"rgb(8,48,107)\"]],\"name\":\"Aluminium\",\"opacity\":0.5,\"x\":{\"dtype\":\"f8\",\"bdata\":\"AAAAAAAAAADmFLycgpfjP+YUvJyCl\\u002fM\\u002fWR8a60Nj\\u002fT\\u002fmFLycgpcDQCAa60NjfQhAWR8a60NjDUBJkiRJkiQRQOYUvJyClxNAg5dT8HIKFkAgGutDY30YQLycgpdT8BpAWR8a60NjHUD2obE+NNYfQEmSJEmSJCFAmFPwcgpeIkDmFLycgpcjQDTWh8b60CRAg5dT8HIKJkDRWB8a60MnQCAa60NjfShAbtu2bdu2KUC8nIKXU\\u002fAqQAteTsHLKSxAWR8a60NjLUCn4OUUvJwuQPahsT401i9AorE+NNaHMEBJkiRJkiQxQPByCl5OwTFAmFPwcgpeMkA\\u002fNNaHxvoyQOYUvJyClzNAjfWhsT40NEA01ofG+tA0QNy2bdu2bTVAg5dT8HIKNkAqeDkFL6c2QNFYHxrrQzdAeDkFL6fgN0AgGutDY304QMf60FgfGjlAbtu2bdu2OUAVvJyCl1M6QLycgpdT8DpAY31orA+NO0ALXk7Byyk8QLI+NNaHxjxAWR8a60NjPUAAAAAAAAA+QA==\"},\"y\":{\"dtype\":\"f8\",\"bdata\":\"AAAAAAAAAADmFLycgpfjP+YUvJyCl\\u002fM\\u002fWR8a60Nj\\u002fT\\u002fmFLycgpcDQCAa60NjfQhAWR8a60NjDUBJkiRJkiQRQOYUvJyClxNAg5dT8HIKFkAgGutDY30YQLycgpdT8BpAWR8a60NjHUD2obE+NNYfQEmSJEmSJCFAmFPwcgpeIkDmFLycgpcjQDTWh8b60CRAg5dT8HIKJkDRWB8a60MnQCAa60NjfShAbtu2bdu2KUC8nIKXU\\u002fAqQAteTsHLKSxAWR8a60NjLUCn4OUUvJwuQPahsT401i9AorE+NNaHMEBJkiRJkiQxQPByCl5OwTFAmFPwcgpeMkA\\u002fNNaHxvoyQOYUvJyClzNAjfWhsT40NEA01ofG+tA0QNy2bdu2bTVAg5dT8HIKNkAqeDkFL6c2QNFYHxrrQzdAeDkFL6fgN0AgGutDY304QMf60FgfGjlAbtu2bdu2OUAVvJyCl1M6QLycgpdT8DpAY31orA+NO0ALXk7Byyk8QLI+NNaHxjxAWR8a60NjPUAAAAAAAAA+QA==\"},\"z\":{\"dtype\":\"f8\",\"bdata\":\"AAAAAAAAREDwcgpeTsFDQOHlFLycgkNA0VgfGutDQ0DCyyl4OQVDQLI+NNaHxkJAorE+NNaHQkCSJEmSJElCQIKXU\\u002fByCkJAcwpeTsHLQUBjfWisD41BQFPwcgpeTkFARGN9aKwPQUA01ofG+tBAQCVJkiRJkkBAFbycgpdTQEAFL6fg5RRAQOtDY31orD9Ayyl4OQUvP0CtD431obE+QI31obE+ND5Abdu2bdu2PUBOwcspeDk9QC6n4OUUvDxAEI31obE+PEDwcgpeTsE7QNBYHxrrQztAsj401ofGOkCTJEmSJEk6QHMKXk7ByzlAU\\u002fByCl5OOUA01ofG+tA4QBW8nIKXUzhA9qGxPjTWN0DWh8b60Fg3QLZt27Zt2zZAl1PwcgpeNkB4OQUvp+A1QFkfGutDYzVAOgUvp+DlNEAa60NjfWg0QPrQWB8a6zNA27Zt27ZtM0C8nIKXU\\u002fAyQJ2Cl1PwcjJAfmisD431MUBeTsHLKXgxQD401ofG+jBAHxrrQ2N9MEAAAAAAAAAwQF5Owcsp+ENATsHLKXi5Q0A\\u002fNNaHxnpDQC+n4OUUPENAIBrrQ2P9QkAQjfWhsb5CQAAAAAAAgEJA8XIKXk5BQkDh5RS8nAJCQNJYHxrrw0FAwsspeDmFQUCyPjTWh0ZBQKKxPjTWB0FAkiRJkiTJQECDl1PwcopAQHMKXk7BS0BAY31orA8NQECo4OUUvJw\\u002fQIjG+tBYHz9AaqwPjfWhPkBKkiRJkiQ+QCp4OQUvpz1AC15OwcspPUDrQ2N9aKw8QM0peDkFLzxArQ+N9aGxO0CN9aGxPjQ7QG7btm3btjpAUMHLKXg5OkAwp+DlFLw5QA+N9aGxPjlA8HIKXk7BOEDRWB8a60M4QLI+NNaHxjdAkiRJkiRJN0ByCl5Owcs2QFPwcgpeTjZANNaHxvrQNUAVvJyCl1M1QPahsT401jRA1ofG+tBYNEC2bdu2bdszQJdT8HIKXjNAeDkFL6fgMkBZHxrrQ2MyQDoFL6fg5TFAGutDY31oMUD60FgfGuswQNu2bdu2bTBAeDkFL6fgL0C8nIKXU\\u002fBDQKwPjfWhsUNAnYKXU\\u002fByQ0CN9aGxPjRDQH5orA+N9UJAbtu2bdu2QkBeTsHLKXhCQE7Byyl4OUJAPjTWh8b6QUAvp+DlFLxBQB8a60NjfUFAD431obE+QUAAAAAAAABBQPByCl5OwUBA4eUUvJyCQEDRWB8a60NAQMHLKXg5BUBAY31orA+NP0BDY31orA8\\u002fQCVJkiRJkj5ABS+n4OUUPkDlFLycgpc9QMb60FgfGj1ApuDlFLycPECIxvrQWB88QGisD431oTtASJIkSZIkO0AqeDkFL6c6QAteTsHLKTpA60NjfWisOUDLKXg5BS85QKwPjfWhsThAjfWhsT40OEBu27Zt27Y3QE7Byyl4OTdALqfg5RS8NkAPjfWhsT42QPByCl5OwTVA0VgfGutDNUCyPjTWh8Y0QJIkSZIkSTRAcgpeTsHLM0BT8HIKXk4zQDTWh8b60DJAFbycgpdTMkD2obE+NNYxQNaHxvrQWDFAtm3btm3bMECXU\\u002fByCl4wQPByCl5OwS9AGutDY33oQ0AKXk7By6lDQPvQWB8aa0NA60NjfWgsQ0Dctm3btu1CQMwpeDkFr0JAvJyCl1NwQkCtD431oTFCQJ2Cl1Pw8kFAjvWhsT60QUB+aKwPjXVBQG7btm3bNkFAXk7Byyn4QEBOwcspeLlAQD801ofGekBAL6fg5RQ8QEA+NNaHxvo\\u002fQCAa60NjfT9AAAAAAAAAP0Di5RS8nII+QMLLKXg5BT5AorE+NNaHPUCDl1Pwcgo9QGN9aKwPjTxARWN9aKwPPEAlSZIkSZI7QAUvp+DlFDtA5hS8nIKXOkDI+tBYHxo6QKjg5RS8nDlAh8b60FgfOUBorA+N9aE4QEmSJEmSJDhAKng5BS+nN0AKXk7Byyk3QOpDY31orDZAyyl4OQUvNkCsD431obE1QI31obE+NDVAbtu2bdu2NEBOwcspeDk0QC6n4OUUvDNAD431obE+M0DwcgpeTsEyQNFYHxrrQzJAsj401ofGMUCSJEmSJEkxQHIKXk7ByzBAU\\u002fByCl5OMEBorA+N9aEvQHg5BS+n4ENAaKwPjfWhQ0BZHxrrQ2NDQEmSJEmSJENAOgUvp+DlQkAqeDkFL6dCQBrrQ2N9aEJACl5OwcspQkD60FgfGutBQOtDY31orEFA27Zt27ZtQUDLKXg5BS9BQLycgpdT8EBArA+N9aGxQECdgpdT8HJAQI31obE+NEBA+tBYHxrrP0Dbtm3btm0\\u002fQLucgpdT8D5AnYKXU\\u002fByPkB9aKwPjfU9QF1OwcspeD1APjTWh8b6PEAeGutDY308QAAAAAAAADxA4OUUvJyCO0DAyyl4OQU7QKKxPjTWhzpAg5dT8HIKOkBjfWisD405QENjfWisDzlAJEmSJEmSOEAFL6fg5RQ4QOYUvJyClzdAxvrQWB8aN0Cm4OUUvJw2QIfG+tBYHzZAaKwPjfWhNUBJkiRJkiQ1QCp4OQUvpzRACl5OwcspNEDqQ2N9aKwzQMspeDkFLzNArA+N9aGxMkCN9aGxPjQyQG7btm3btjFATsHLKXg5MUAup+DlFLwwQA+N9aGxPjBA4OUUvJyCL0DWh8b60NhDQMb60FgfmkNAt23btm1bQ0Cn4OUUvBxDQJhT8HIK3kJAiMb60FifQkB4OQUvp2BCQGmsD431IUJAWR8a60PjQUBKkiRJkqRBQDoFL6fgZUFAKng5BS8nQUAa60NjfehAQApeTsHLqUBA+9BYHxprQEDrQ2N9aCxAQLZt27Zt2z9AmFPwcgpeP0B4OQUvp+A+QFofGutDYz5AOgUvp+DlPUAa60NjfWg9QPvQWB8a6zxA27Zt27ZtPEC9nIKXU\\u002fA7QJ2Cl1PwcjtAfWisD431OkBeTsHLKXg6QEA01ofG+jlAIBrrQ2N9OUAAAAAAAAA5QODlFLycgjhAwsspeDkFOECisT401oc3QIOXU\\u002fByCjdAY31orA+NNkBDY31orA82QCVJkiRJkjVABS+n4OUUNUDmFLycgpc0QMb60FgfGjRApuDlFLycM0CIxvrQWB8zQGisD431oTJASpIkSZIkMkAqeDkFL6cxQApeTsHLKTFA60NjfWisMEDLKXg5BS8wQFofGutDYy9ANNaHxvrQQ0AkSZIkSZJDQBW8nIKXU0NABS+n4OUUQ0D2obE+NNZCQOYUvJyCl0JA1ofG+tBYQkDG+tBYHxpCQLZt27Zt20FAp+DlFLycQUCXU\\u002fByCl5BQIfG+tBYH0FAeDkFL6fgQEBorA+N9aFAQFkfGutDY0BASZIkSZIkQEByCl5Owcs\\u002fQFPwcgpeTj9AM9aHxvrQPkAVvJyCl1M+QPWhsT401j1A1YfG+tBYPUC2bdu2bds8QJZT8HIKXjxAeDkFL6fgO0BYHxrrQ2M7QDgFL6fg5TpAGutDY31oOkD70FgfGus5QNy2bdu2bTlAvJyCl1PwOECdgpdT8HI4QH5orA+N9TdAXk7Byyl4N0A\\u002fNNaHxvo2QB8a60NjfTZAAAAAAAAANkDh5RS8nII1QMLLKXg5BTVAorE+NNaHNECCl1Pwcgo0QGN9aKwPjTNARGN9aKwPM0AlSZIkSZIyQAYvp+DlFDJA5hS8nIKXMUDG+tBYHxoxQKfg5RS8nDBAiMb60FgfMEDSWB8a60MvQJIkSZIkyUNAgpdT8HKKQ0BzCl5OwUtDQGN9aKwPDUNAVPByCl7OQkBEY31orI9CQDTWh8b6UEJAJUmSJEkSQkAVvJyCl9NBQAYvp+DllEFA9qGxPjRWQUDmFLycghdBQNaHxvrQ2EBAxvrQWB+aQEC3bdu2bVtAQKfg5RS8HEBALqfg5RS8P0AQjfWhsT4\\u002fQPByCl5OwT5A0lgfGutDPkCyPjTWh8Y9QJIkSZIkST1AcwpeTsHLPEBT8HIKXk48QDXWh8b60DtAFbycgpdTO0D1obE+NNY6QNaHxvrQWDpAuG3btm3bOUCYU\\u002fByCl45QHg5BS+n4DhAWR8a60NjOEA6BS+n4OU3QBrrQ2N9aDdA+9BYHxrrNkDbtm3btm02QLycgpdT8DVAnYKXU\\u002fByNUB+aKwPjfU0QF5OwcspeDRAPjTWh8b6M0AfGutDY30zQAAAAAAAADNA4eUUvJyCMkDCyyl4OQUyQKKxPjTWhzFAgpdT8HIKMUBjfWisD40wQERjfWisDzBASpIkSZIkL0DwcgpeTsFDQODlFLycgkNA0VgfGutDQ0DByyl4OQVDQLI+NNaHxkJAorE+NNaHQkCSJEmSJElCQIKXU\\u002fByCkJAcgpeTsHLQUBjfWisD41BQFPwcgpeTkFAQ2N9aKwPQUA01ofG+tBAQCRJkiRJkkBAFbycgpdTQEAFL6fg5RRAQOpDY31orD9Ayyl4OQUvP0CrD431obE+QI31obE+ND5Abdu2bdu2PUBNwcspeDk9QC6n4OUUvDxADo31obE+PEDwcgpeTsE7QNBYHxrrQztAsD401ofGOkCSJEmSJEk6QHMKXk7ByzlAVPByCl5OOUA01ofG+tA4QBW8nIKXUzhA9qGxPjTWN0DWh8b60Fg3QLdt27Zt2zZAl1PwcgpeNkB4OQUvp+A1QFkfGutDYzVAOgUvp+DlNEAa60NjfWg0QPrQWB8a6zNA27Zt27ZtM0C8nIKXU\\u002fAyQJ2Cl1PwcjJAfmisD431MUBeTsHLKXgxQD401ofG+jBAHxrrQ2N9MEAAAAAAAAAwQMLLKXg5BS9ATsHLKXi5Q0A+NNaHxnpDQC+n4OUUPENAHxrrQ2P9QkAQjfWhsb5CQAAAAAAAgEJA8HIKXk5BQkDh5RS8nAJCQNFYHxrrw0FAwsspeDmFQUCyPjTWh0ZBQKKxPjTWB0FAkiRJkiTJQECCl1PwcopAQHMKXk7BS0BAY31orA8NQECm4OUUvJw\\u002fQIjG+tBYHz9AaKwPjfWhPkBKkiRJkiQ+QCp4OQUvpz1ACl5OwcspPUDrQ2N9aKw8QMspeDkFLzxArQ+N9aGxO0CN9aGxPjQ7QG3btm3btjpATsHLKXg5OkAwp+DlFLw5QBCN9aGxPjlA8HIKXk7BOEDRWB8a60M4QLI+NNaHxjdAkiRJkiRJN0BzCl5Owcs2QFPwcgpeTjZANNaHxvrQNUAVvJyCl1M1QPahsT401jRA1ofG+tBYNEC2bdu2bdszQJdT8HIKXjNAeDkFL6fgMkBZHxrrQ2MyQDoFL6fg5TFAGutDY31oMUD60FgfGuswQNu2bdu2bTBAeDkFL6fgL0A6BS+n4OUuQK0PjfWhsUNAnYKXU\\u002fByQ0CN9aGxPjRDQH1orA+N9UJAbtu2bdu2QkBeTsHLKXhCQE7Byyl4OUJAPjTWh8b6QUAup+DlFLxBQCAa60NjfUFAEI31obE+QUAAAAAAAABBQPByCl5OwUBA4OUUvJyCQEDSWB8a60NAQMLLKXg5BUBAY31orA+NP0BDY31orA8\\u002fQCNJkiRJkj5ABi+n4OUUPkDmFLycgpc9QMb60FgfGj1ApuDlFLycPECGxvrQWB88QGqsD431oTtASpIkSZIkO0AqeDkFL6c6QApeTsHLKTpA7UNjfWisOUDMKXg5BS85QKwPjfWhsThAjfWhsT40OEBu27Zt27Y3QE7Byyl4OTdAL6fg5RS8NkAPjfWhsT42QPByCl5OwTVA0VgfGutDNUCyPjTWh8Y0QJIkSZIkSTRAcgpeTsHLM0BT8HIKXk4zQDTWh8b60DJAFbycgpdTMkD2obE+NNYxQNaHxvrQWDFAtm3btm3bMECXU\\u002fByCl4wQPByCl5OwS9Asj401ofGLkAKXk7By6lDQPrQWB8aa0NA60NjfWgsQ0Dbtm3btu1CQMwpeDkFr0JAvJyCl1NwQkCsD431oTFCQJ2Cl1Pw8kFAjfWhsT60QUB+aKwPjXVBQG7btm3bNkFAXk7Byyn4QEBOwcspeLlAQD401ofGekBAL6fg5RQ8QEA+NNaHxvo\\u002fQB4a60NjfT9AAAAAAAAAP0Dg5RS8nII+QMLLKXg5BT5AorE+NNaHPUCCl1Pwcgo9QGN9aKwPjTxAQ2N9aKwPPEAlSZIkSZI7QAUvp+DlFDtA5RS8nIKXOkDG+tBYHxo6QKjg5RS8nDlAiMb60FgfOUBorA+N9aE4QEmSJEmSJDhAKng5BS+nN0AKXk7Byyk3QOtDY31orDZAyyl4OQUvNkCsD431obE1QI31obE+NDVAbtu2bdu2NEBOwcspeDk0QC6n4OUUvDNAD431obE+M0DwcgpeTsEyQNFYHxrrQzJAsj401ofGMUCSJEmSJEkxQHIKXk7ByzBAU\\u002fByCl5OMEBorA+N9aEvQCp4OQUvpy5AaawPjfWhQ0BZHxrrQ2NDQEqSJEmSJENAOgUvp+DlQkAqeDkFL6dCQBrrQ2N9aEJACl5OwcspQkD70FgfGutBQOtDY31orEFA3LZt27ZtQUDMKXg5BS9BQLycgpdT8EBArQ+N9aGxQECdgpdT8HJAQI71obE+NEBA+9BYHxrrP0Dbtm3btm0\\u002fQL2cgpdT8D5AnYKXU\\u002fByPkB+aKwPjfU9QF5OwcspeD1APjTWh8b6PEAgGutDY308QAAAAAAAADxA4uUUvJyCO0DCyyl4OQU7QKKxPjTWhzpAg5dT8HIKOkBkfWisD405QERjfWisDzlAJEmSJEmSOEAFL6fg5RQ4QOYUvJyClzdAxvrQWB8aN0Cn4OUUvJw2QIfG+tBYHzZAaKwPjfWhNUBJkiRJkiQ1QCp4OQUvpzRACl5OwcspNEDqQ2N9aKwzQMspeDkFLzNArA+N9aGxMkCN9aGxPjQyQG7btm3btjFATsHLKXg5MUAup+DlFLwwQA+N9aGxPjBA4OUUvJyCL0CisT401ocuQMb60FgfmkNAtm3btm1bQ0Cn4OUUvBxDQJdT8HIK3kJAiMb60FifQkB4OQUvp2BCQGisD431IUJAWR8a60PjQUBJkiRJkqRBQDoFL6fgZUFAKng5BS8nQUAa60NjfehAQApeTsHLqUBA+tBYHxprQEDrQ2N9aCxAQLZt27Zt2z9AllPwcgpeP0B4OQUvp+A+QFgfGutDYz5AOgUvp+DlPUAa60NjfWg9QPrQWB8a6zxA27Zt27ZtPEC7nIKXU\\u002fA7QJ2Cl1PwcjtAfWisD431OkBdTsHLKXg6QD401ofG+jlAIBrrQ2N9OUAAAAAAAAA5QODlFLycgjhAwcspeDkFOECisT401oc3QIKXU\\u002fByCjdAY31orA+NNkBDY31orA82QCRJkiRJkjVABS+n4OUUNUDmFLycgpc0QMb60FgfGjRApuDlFLycM0CHxvrQWB8zQGisD431oTJASZIkSZIkMkAqeDkFL6cxQApeTsHLKTFA6kNjfWisMEDLKXg5BS8wQFgfGutDYy9AGutDY31oLkAlSZIkSZJDQBW8nIKXU0NABi+n4OUUQ0D2obE+NNZCQOYUvJyCl0JA1ofG+tBYQkDG+tBYHxpCQLdt27Zt20FAp+DlFLycQUCYU\\u002fByCl5BQIjG+tBYH0FAeDkFL6fgQEBprA+N9aFAQFkfGutDY0BASpIkSZIkQEBzCl5Owcs\\u002fQFPwcgpeTj9ANdaHxvrQPkAVvJyCl1M+QPahsT401j1A1ofG+tBYPUC2bdu2bds8QJhT8HIKXjxAeDkFL6fgO0BaHxrrQ2M7QDoFL6fg5TpAGutDY31oOkD70FgfGus5QNy2bdu2bTlAvJyCl1PwOECcgpdT8HI4QH1orA+N9TdAXk7Byyl4N0A+NNaHxvo2QB8a60NjfTZA\\u002f\\u002f\\u002f\\u002f\\u002f\\u002f\\u002f\\u002fNUDg5RS8nII1QMHLKXg5BTVAorE+NNaHNECCl1Pwcgo0QGJ9aKwPjTNAQ2N9aKwPM0AkSZIkSZIyQAUvp+DlFDJA5hS8nIKXMUDG+tBYHxoxQKbg5RS8nDBAh8b60FgfMEDQWB8a60MvQJIkSZIkSS5AgpdT8HKKQ0ByCl5OwUtDQGN9aKwPDUNAU\\u002fByCl7OQkBEY31orI9CQDTWh8b6UEJAJEmSJEkSQkAVvJyCl9NBQAUvp+DllEFA9qGxPjRWQUDmFLycghdBQNaHxvrQ2EBAxvrQWB+aQEC2bdu2bVtAQKfg5RS8HEBALqfg5RS8P0AOjfWhsT4\\u002fQPByCl5OwT5A0FgfGutDPkCyPjTWh8Y9QJIkSZIkST1AcgpeTsHLPEBT8HIKXk48QDPWh8b60DtAFbycgpdTO0D1obE+NNY6QNWHxvrQWDpAtm3btm3bOUCYU\\u002fByCl45QHg5BS+n4DhAWB8a60NjOEA6BS+n4OU3QBrrQ2N9aDdA+9BYHxrrNkDbtm3btm02QLucgpdT8DVAnYKXU\\u002fByNUB9aKwPjfU0QF5OwcspeDRAPjTWh8b6M0AeGutDY30zQAAAAAAAADNA4OUUvJyCMkDCyyl4OQUyQKKxPjTWhzFAg5dT8HIKMUBjfWisD40wQENjfWisDzBASpIkSZIkL0AKXk7ByykuQOHlFLycgkNA0VgfGutDQ0DCyyl4OQVDQLI+NNaHxkJAorE+NNaHQkCSJEmSJElCQIKXU\\u002fByCkJAcwpeTsHLQUBjfWisD41BQFTwcgpeTkFARGN9aKwPQUA01ofG+tBAQCVJkiRJkkBAFbycgpdTQEAGL6fg5RRAQOtDY31orD9Ayyl4OQUvP0CtD431obE+QI31obE+ND5Abtu2bdu2PUBOwcspeDk9QC6n4OUUvDxAEI31obE+PEDwcgpeTsE7QNJYHxrrQztAsj401ofGOkCSJEmSJEk6QHMKXk7ByzlAVfByCl5OOUA11ofG+tA4QBW8nIKXUzhA9qGxPjTWN0DWh8b60Fg3QLdt27Zt2zZAmFPwcgpeNkB4OQUvp+A1QFkfGutDYzVAOgUvp+DlNEAa60NjfWg0QPvQWB8a6zNA27Zt27ZtM0C8nIKXU\\u002fAyQJ2Cl1PwcjJAfmisD431MUBeTsHLKXgxQD801ofG+jBAHxrrQ2N9MEAAAAAAAAAwQMLLKXg5BS9Ag5dT8HIKLkA+NNaHxnpDQC6n4OUUPENAHxrrQ2P9QkAPjfWhsb5CQAAAAAAAgEJA8HIKXk5BQkDg5RS8nAJCQNFYHxrrw0FAwcspeDmFQUCyPjTWh0ZBQKKxPjTWB0FAkiRJkiTJQECCl1PwcopAQHIKXk7BS0BAY31orA8NQECm4OUUvJw\\u002fQIbG+tBYHz9AaKwPjfWhPkBIkiRJkiQ+QCp4OQUvpz1ACl5OwcspPUDqQ2N9aKw8QMspeDkFLzxAqw+N9aGxO0CN9aGxPjQ7QG3btm3btjpATcHLKXg5OkAup+DlFLw5QBGN9aGxPjlA8XIKXk7BOEDRWB8a60M4QLI+NNaHxjdAkiRJkiRJN0BzCl5Owcs2QFTwcgpeTjZANNaHxvrQNUAVvJyCl1M1QPahsT401jRA1ofG+tBYNEC3bdu2bdszQJdT8HIKXjNAeDkFL6fgMkBZHxrrQ2MyQDoFL6fg5TFAGutDY31oMUD70FgfGuswQNu2bdu2bTBAeDkFL6fgL0A6BS+n4OUuQPvQWB8a6y1AnYKXU\\u002fByQ0CN9aGxPjRDQH5orA+N9UJAbtu2bdu2QkBeTsHLKXhCQE7Byyl4OUJAPjTWh8b6QUAvp+DlFLxBQB8a60NjfUFAEI31obE+QUAAAAAAAABBQPByCl5OwUBA4eUUvJyCQEDRWB8a60NAQMLLKXg5BUBAY31orA+NP0BDY31orA8\\u002fQCVJkiRJkj5ABS+n4OUUPkDmFLycgpc9QMb60FgfGj1ApuDlFLycPECIxvrQWB88QGisD431oTtASpIkSZIkO0AqeDkFL6c6QApeTsHLKTpA60NjfWisOUDNKXg5BS85QK0PjfWhsThAjfWhsT40OEBu27Zt27Y3QE7Byyl4OTdAL6fg5RS8NkAQjfWhsT42QPByCl5OwTVA0VgfGutDNUCyPjTWh8Y0QJIkSZIkSTRAcwpeTsHLM0BT8HIKXk4zQDTWh8b60DJAFbycgpdTMkD2obE+NNYxQNaHxvrQWDFAt23btm3bMECXU\\u002fByCl4wQPByCl5OwS9Asj401ofGLkBzCl5OwcstQPrQWB8aa0NA6kNjfWgsQ0Dbtm3btu1CQMspeDkFr0JAvJyCl1NwQkCsD431oTFCQJyCl1Pw8kFAjfWhsT60QUB9aKwPjXVBQG7btm3bNkFAXk7Byyn4QEBOwcspeLlAQD401ofGekBALqfg5RQ8QEA+NNaHxvo\\u002fQB4a60NjfT9A\\u002fv\\u002f\\u002f\\u002f\\u002f\\u002f\\u002fPkDg5RS8nII+QMDLKXg5BT5AorE+NNaHPUCCl1Pwcgo9QGJ9aKwPjTxAQ2N9aKwPPEAjSZIkSZI7QAUvp+DlFDtA5RS8nIKXOkDF+tBYHxo6QKbg5RS8nDlAicb60FgfOUBprA+N9aE4QEmSJEmSJDhAKng5BS+nN0AKXk7Byyk3QOtDY31orDZAzCl4OQUvNkCsD431obE1QI31obE+NDVAbtu2bdu2NEBOwcspeDk0QC+n4OUUvDNAD431obE+M0DwcgpeTsEyQNFYHxrrQzJAsj401ofGMUCSJEmSJEkxQHMKXk7ByzBAU\\u002fByCl5OMEBorA+N9aEvQCp4OQUvpy5A60NjfWisLUBZHxrrQ2NDQEmSJEmSJENAOgUvp+DlQkAqeDkFL6dCQBrrQ2N9aEJACl5OwcspQkD60FgfGutBQOtDY31orEFA27Zt27ZtQUDMKXg5BS9BQLycgpdT8EBArA+N9aGxQECdgpdT8HJAQI31obE+NEBA+9BYHxrrP0Dbtm3btm0\\u002fQLucgpdT8D5AnYKXU\\u002fByPkB9aKwPjfU9QF5OwcspeD1APjTWh8b6PEAeGutDY308QAAAAAAAADxA4OUUvJyCO0DCyyl4OQU7QKKxPjTWhzpAgpdT8HIKOkBjfWisD405QEVjfWisDzlAJUmSJEmSOEAFL6fg5RQ4QOYUvJyClzdAxvrQWB8aN0Cn4OUUvJw2QIjG+tBYHzZAaKwPjfWhNUBJkiRJkiQ1QCp4OQUvpzRACl5OwcspNEDrQ2N9aKwzQMspeDkFLzNArA+N9aGxMkCN9aGxPjQyQG7btm3btjFATsHLKXg5MUAvp+DlFLwwQA+N9aGxPjBA4OUUvJyCL0CisT401ocuQGN9aKwPjS1At23btm1bQ0Cn4OUUvBxDQJhT8HIK3kJAiMb60FifQkB5OQUvp2BCQGmsD431IUJAWR8a60PjQUBKkiRJkqRBQDoFL6fgZUFAKng5BS8nQUAa60NjfehAQApeTsHLqUBA+9BYHxprQEDrQ2N9aCxAQLht27Zt2z9AmFPwcgpeP0B4OQUvp+A+QFofGutDYz5AOgUvp+DlPUAb60NjfWg9QPvQWB8a6zxA27Zt27ZtPEC9nIKXU\\u002fA7QJ2Cl1PwcjtAfmisD431OkBeTsHLKXg6QD401ofG+jlAHxrrQ2N9OUABAAAAAAA5QOHlFLycgjhAwcspeDkFOECisT401oc3QIKXU\\u002fByCjdAY31orA+NNkBEY31orA82QCRJkiRJkjVABS+n4OUUNUDmFLycgpc0QMb60FgfGjRAp+DlFLycM0CHxvrQWB8zQGisD431oTJASZIkSZIkMkAqeDkFL6cxQApeTsHLKTFA60NjfWisMEDLKXg5BS8wQFgfGutDYy9AGutDY31oLkDbtm3btm0tQBW8nIKXU0NABS+n4OUUQ0D2obE+NNZCQOYUvJyCl0JA1ofG+tBYQkDG+tBYHxpCQLZt27Zt20FAp+DlFLycQUCXU\\u002fByCl5BQIjG+tBYH0FAeDkFL6fgQEBorA+N9aFAQFkfGutDY0BASZIkSZIkQEBzCl5Owcs\\u002fQFPwcgpeTj9AM9aHxvrQPkAVvJyCl1M+QPWhsT401j1A1ofG+tBYPUC2bdu2bds8QJZT8HIKXjxAeDkFL6fgO0BYHxrrQ2M7QDoFL6fg5TpAGutDY31oOkD60FgfGus5QNu2bdu2bTlAvZyCl1PwOECdgpdT8HI4QH1orA+N9TdAXk7Byyl4N0A+NNaHxvo2QB8a60NjfTZAAAAAAAAANkDg5RS8nII1QMHLKXg5BTVAorE+NNaHNECCl1Pwcgo0QGN9aKwPjTNAQ2N9aKwPM0AkSZIkSZIyQAUvp+DlFDJA5hS8nIKXMUDG+tBYHxoxQKfg5RS8nDBAh8b60FgfMEDQWB8a60MvQJIkSZIkSS5AU\\u002fByCl5OLUBzCl5OwUtDQGN9aKwPDUNAVPByCl7OQkBEY31orI9CQDXWh8b6UEJAJUmSJEkSQkAVvJyCl9NBQAYvp+DllEFA9qGxPjRWQUDmFLycghdBQNaHxvrQ2EBAxvrQWB+aQEC3bdu2bVtAQKfg5RS8HEBAMKfg5RS8P0AQjfWhsT4\\u002fQPByCl5OwT5A0lgfGutDPkCyPjTWh8Y9QJMkSZIkST1AcwpeTsHLPEBT8HIKXk48QDXWh8b60DtAFbycgpdTO0D2obE+NNY6QNaHxvrQWDpAtm3btm3bOUCXU\\u002fByCl45QHk5BS+n4DhAWR8a60NjOEA5BS+n4OU3QBrrQ2N9aDdA+tBYHxrrNkDbtm3btm02QLycgpdT8DVAnIKXU\\u002fByNUB9aKwPjfU0QF5OwcspeDRAPjTWh8b6M0AfGutDY30zQP\\u002f\\u002f\\u002f\\u002f\\u002f\\u002f\\u002fzJA4OUUvJyCMkDByyl4OQUyQKKxPjTWhzFAgpdT8HIKMUBjfWisD40wQENjfWisDzBASJIkSZIkL0AKXk7ByykuQMspeDkFLy1A0VgfGutDQ0DByyl4OQVDQLI+NNaHxkJAorE+NNaHQkCSJEmSJElCQIKXU\\u002fByCkJAcgpeTsHLQUBjfWisD41BQFPwcgpeTkFARGN9aKwPQUA01ofG+tBAQCRJkiRJkkBAFbycgpdTQEAFL6fg5RRAQOtDY31orD9Ayyl4OQUvP0CrD431obE+QI31obE+ND5Abdu2bdu2PUBOwcspeDk9QC6n4OUUvDxADo31obE+PEDwcgpeTsE7QNBYHxrrQztAsj401ofGOkCSJEmSJEk6QHIKXk7ByzlAU\\u002fByCl5OOUA11ofG+tA4QBW8nIKXUzhA9aGxPjTWN0DWh8b60Fg3QLZt27Zt2zZAl1PwcgpeNkB4OQUvp+A1QFgfGutDYzVAOQUvp+DlNEAa60NjfWg0QPrQWB8a6zNA27Zt27ZtM0C7nIKXU\\u002fAyQJyCl1PwcjJAfWisD431MUBeTsHLKXgxQD401ofG+jBAHxrrQ2N9MED+\\u002f\\u002f\\u002f\\u002f\\u002f\\u002f8vQMDLKXg5BS9AgpdT8HIKLkBDY31orA8tQC+n4OUUPENAHxrrQ2P9QkAQjfWhsb5CQAAAAAAAgEJA8XIKXk5BQkDh5RS8nAJCQNFYHxrrw0FAwsspeDmFQUCyPjTWh0ZBQKKxPjTWB0FAkiRJkiTJQECCl1PwcopAQHMKXk7BS0BAY31orA8NQECo4OUUvJw\\u002fQIjG+tBYHz9AaKwPjfWhPkBKkiRJkiQ+QCp4OQUvpz1AC15OwcspPUDrQ2N9aKw8QMspeDkFLzxArQ+N9aGxO0CN9aGxPjQ7QG7btm3btjpATsHLKXg5OkAup+DlFLw5QBCN9aGxPjlA8nIKXk7BOEDSWB8a60M4QLI+NNaHxjdAkiRJkiRJN0BzCl5Owcs2QFTwcgpeTjZANdaHxvrQNUAVvJyCl1M1QPahsT401jRA1ofG+tBYNEC3bdu2bdszQJhT8HIKXjNAeDkFL6fgMkBZHxrrQ2MyQDoFL6fg5TFAGutDY31oMUD70FgfGuswQNy2bdu2bTBAeDkFL6fgL0A6BS+n4OUuQPvQWB8a6y1AvZyCl1PwLECN9aGxPjRDQH1orA+N9UJAbtu2bdu2QkBeTsHLKXhCQE7Byyl4OUJAPjTWh8b6QUAup+DlFLxBQB8a60NjfUFAD431obE+QUAAAAAAAABBQPByCl5OwUBA4OUUvJyCQEDRWB8a60NAQMHLKXg5BUBAY31orA+NP0BDY31orA8\\u002fQCNJkiRJkj5ABS+n4OUUPkDlFLycgpc9QMb60FgfGj1ApuDlFLycPECGxvrQWB88QGisD431oTtASJIkSZIkO0AqeDkFL6c6QApeTsHLKTpA6kNjfWisOUDMKXg5BS85QK4PjfWhsThAjvWhsT40OEBu27Zt27Y3QE7Byyl4OTdAL6fg5RS8NkAQjfWhsT42QPFyCl5OwTVA0VgfGutDNUCyPjTWh8Y0QJIkSZIkSTRAcwpeTsHLM0BU8HIKXk4zQDTWh8b60DJAFbycgpdTMkD2obE+NNYxQNaHxvrQWDFAt23btm3bMECYU\\u002fByCl4wQPByCl5OwS9Asj401ofGLkBzCl5OwcstQDXWh8b60CxA60NjfWgsQ0Dbtm3btu1CQMwpeDkFr0JAvJyCl1NwQkCtD431oTFCQJ2Cl1Pw8kFAjfWhsT60QUB+aKwPjXVBQG7btm3bNkFAXk7Byyn4QEBOwcspeLlAQD401ofGekBAL6fg5RQ8QEA+NNaHxvo\\u002fQCAa60NjfT9AAAAAAAAAP0Dg5RS8nII+QMLLKXg5BT5AorE+NNaHPUCDl1Pwcgo9QGN9aKwPjTxAQ2N9aKwPPEAlSZIkSZI7QAUvp+DlFDtA5hS8nIKXOkDG+tBYHxo6QKbg5RS8nDlAiMb60FgfOUBqrA+N9aE4QEqSJEmSJDhAKng5BS+nN0AKXk7Byyk3QOtDY31orDZAzCl4OQUvNkCtD431obE1QI31obE+NDVAbtu2bdu2NEBOwcspeDk0QC+n4OUUvDNAEI31obE+M0DwcgpeTsEyQNFYHxrrQzJAsj401ofGMUCSJEmSJEkxQHMKXk7ByzBAVPByCl5OMEBorA+N9aEvQCp4OQUvpy5A60NjfWisLUCtD431obEsQEmSJEmSJENAOQUvp+DlQkAqeDkFL6dCQBrrQ2N9aEJACl5OwcspQkD60FgfGutBQOpDY31orEFA27Zt27ZtQUDLKXg5BS9BQLycgpdT8EBArA+N9aGxQECcgpdT8HJAQI31obE+NEBA+tBYHxrrP0Dbtm3btm0\\u002fQLucgpdT8D5Am4KXU\\u002fByPkB9aKwPjfU9QF1OwcspeD1APjTWh8b6PEAeGutDY308QP7\\u002f\\u002f\\u002f\\u002f\\u002f\\u002fztA4OUUvJyCO0DAyyl4OQU7QKKxPjTWhzpAgpdT8HIKOkBifWisD405QERjfWisDzlAJkmSJEmSOEAGL6fg5RQ4QOYUvJyClzdAxvrQWB8aN0Cn4OUUvJw2QIjG+tBYHzZAaawPjfWhNUBJkiRJkiQ1QCp4OQUvpzRACl5OwcspNEDrQ2N9aKwzQMwpeDkFLzNArA+N9aGxMkCN9aGxPjQyQG7btm3btjFATsHLKXg5MUAvp+DlFLwwQBCN9aGxPjBA4OUUvJyCL0CisT401ocuQGN9aKwPjS1AJUmSJEmSLECn4OUUvBxDQJdT8HIK3kJAiMb60FifQkB4OQUvp2BCQGmsD431IUJAWR8a60PjQUBJkiRJkqRBQDoFL6fgZUFAKng5BS8nQUAa60NjfehAQApeTsHLqUBA+tBYHxprQEDrQ2N9aCxAQLZt27Zt2z9AmFPwcgpeP0B4OQUvp+A+QFgfGutDYz5AOgUvp+DlPUAa60NjfWg9QPvQWB8a6zxA27Zt27ZtPEC7nIKXU\\u002fA7QJ2Cl1PwcjtAfWisD431OkBeTsHLKXg6QD401ofG+jlAHhrrQ2N9OUAAAAAAAAA5QOLlFLycgjhAwsspeDkFOECisT401oc3QIKXU\\u002fByCjdAY31orA+NNkBEY31orA82QCVJkiRJkjVABS+n4OUUNUDmFLycgpc0QMb60FgfGjRAp+DlFLycM0CIxvrQWB8zQGisD431oTJASZIkSZIkMkAqeDkFL6cxQApeTsHLKTFA60NjfWisMEDMKXg5BS8wQFgfGutDYy9AGutDY31oLkDbtm3btm0tQJ2Cl1PwcixABS+n4OUUQ0D1obE+NNZCQOYUvJyCl0JA1ofG+tBYQkDG+tBYHxpCQLZt27Zt20FApuDlFLycQUCYU\\u002fByCl5BQIjG+tBYH0FAeDkFL6fgQEBorA+N9aFAQFgfGutDY0BASpIkSZIkQEBzCl5Owcs\\u002fQFPwcgpeTj9AM9aHxvrQPkATvJyCl1M+QPahsT401j1A1ofG+tBYPUC2bdu2bds8QJZT8HIKXjxAdjkFL6fgO0BaHxrrQ2M7QDoFL6fg5TpAGutDY31oOkD60FgfGus5QNq2bdu2bTlAvJyCl1PwOECegpdT8HI4QH5orA+N9TdAXk7Byyl4N0A+NNaHxvo2QB8a60NjfTZAAAAAAAAANkDh5RS8nII1QMHLKXg5BTVAorE+NNaHNECCl1Pwcgo0QGN9aKwPjTNARGN9aKwPM0AkSZIkSZIyQAUvp+DlFDJA5hS8nIKXMUDG+tBYHxoxQKfg5RS8nDBAiMb60FgfMEDQWB8a60MvQJIkSZIkSS5AU\\u002fByCl5OLUAVvJyCl1MsQGN9aKwPDUNAU\\u002fByCl7OQkBEY31orI9CQDTWh8b6UEJAJUmSJEkSQkAVvJyCl9NBQAUvp+DllEFA9qGxPjRWQUDmFLycghdBQNaHxvrQ2EBAxvrQWB+aQEC2bdu2bVtAQKfg5RS8HEBALqfg5RS8P0AQjfWhsT4\\u002fQPByCl5OwT5A0FgfGutDPkCyPjTWh8Y9QJIkSZIkST1AcwpeTsHLPEBT8HIKXk48QDPWh8b60DtAFbycgpdTO0D1obE+NNY6QNaHxvrQWDpAtm3btm3bOUCWU\\u002fByCl45QHg5BS+n4DhAWh8a60NjOEA6BS+n4OU3QBrrQ2N9aDdA+tBYHxrrNkDbtm3btm02QLycgpdT8DVAnYKXU\\u002fByNUB9aKwPjfU0QF5OwcspeDRAPjTWh8b6M0AfGutDY30zQAAAAAAAADNA4OUUvJyCMkDByyl4OQUyQKKxPjTWhzFAgpdT8HIKMUBjfWisD40wQERjfWisDzBASJIkSZIkL0AKXk7ByykuQMspeDkFLy1AjfWhsT40LEDCyyl4OQVDQLI+NNaHxkJAorE+NNaHQkCSJEmSJElCQIOXU\\u002fByCkJAcwpeTsHLQUBjfWisD41BQFTwcgpeTkFARGN9aKwPQUA11ofG+tBAQCVJkiRJkkBAFbycgpdTQEAGL6fg5RRAQOtDY31orD9AzSl4OQUvP0CtD431obE+QI31obE+ND5Abtu2bdu2PUBOwcspeDk9QDCn4OUUvDxAEI31obE+PEDwcgpeTsE7QNJYHxrrQztAsj401ofGOkCTJEmSJEk6QHMKXk7ByzlAUvByCl5OOUA01ofG+tA4QBa8nIKXUzhA9qGxPjTWN0DWh8b60Fg3QLZt27Zt2zZAl1PwcgpeNkB4OQUvp+A1QFkfGutDYzVAOQUvp+DlNEAa60NjfWg0QPrQWB8a6zNA27Zt27ZtM0C8nIKXU\\u002fAyQJyCl1PwcjJAfWisD431MUBeTsHLKXgxQD401ofG+jBAHxrrQ2N9MEAAAAAAAAAwQMDLKXg5BS9AgpdT8HIKLkBDY31orA8tQAUvp+DlFCxAHxrrQ2P9QkAPjfWhsb5CQAAAAAAAgEJA8HIKXk5BQkDh5RS8nAJCQNFYHxrrw0FAwcspeDmFQUCyPjTWh0ZBQKKxPjTWB0FAkiRJkiTJQECCl1PwcopAQHIKXk7BS0BAY31orA8NQECm4OUUvJw\\u002fQIjG+tBYHz9AaKwPjfWhPkBIkiRJkiQ+QCp4OQUvpz1ACl5OwcspPUDrQ2N9aKw8QMspeDkFLzxAqw+N9aGxO0CN9aGxPjQ7QG3btm3btjpATsHLKXg5OkAup+DlFLw5QA6N9aGxPjlA8HIKXk7BOEDSWB8a60M4QLI+NNaHxjdAkiRJkiRJN0ByCl5Owcs2QFPwcgpeTjZANNaHxvrQNUAVvJyCl1M1QPWhsT401jRA1ofG+tBYNEC2bdu2bdszQJdT8HIKXjNAeDkFL6fgMkBYHxrrQ2MyQDkFL6fg5TFAGutDY31oMUD60FgfGuswQNu2bdu2bTBAeDkFL6fgL0A4BS+n4OUuQPrQWB8a6y1Au5yCl1PwLEB9aKwPjfUrQH5orA+N9UJAbtu2bdu2QkBeTsHLKXhCQE7Byyl4OUJAPzTWh8b6QUAvp+DlFLxBQB8a60NjfUFAEI31obE+QUAAAAAAAABBQPFyCl5OwUBA4eUUvJyCQEDRWB8a60NAQMLLKXg5BUBAY31orA+NP0BFY31orA8\\u002fQCVJkiRJkj5ABS+n4OUUPkDmFLycgpc9QMb60FgfGj1AqODlFLycPECIxvrQWB88QGisD431oTtASpIkSZIkO0AqeDkFL6c6QAteTsHLKTpA60NjfWisOUDLKXg5BS85QK0PjfWhsThAjvWhsT40OEBu27Zt27Y3QE7Byyl4OTdALqfg5RS8NkAQjfWhsT42QPByCl5OwTVA0lgfGutDNUCyPjTWh8Y0QJIkSZIkSTRAcwpeTsHLM0BT8HIKXk4zQDXWh8b60DJAFbycgpdTMkD1obE+NNYxQNaHxvrQWDFAtm3btm3bMECYU\\u002fByCl4wQPByCl5OwS9AsD401ofGLkBzCl5OwcstQDPWh8b60CxA9qGxPjTWK0Dbtm3btu1CQMspeDkFr0JAvJyCl1NwQkCsD431oTFCQJ2Cl1Pw8kFAjfWhsT60QUB9aKwPjXVBQG7btm3bNkFAXk7Byyn4QEBOwcspeLlAQD401ofGekBALqfg5RQ8QEA+NNaHxvo\\u002fQB4a60NjfT9AAAAAAAAAP0Dg5RS8nII+QMDLKXg5BT5AorE+NNaHPUCCl1Pwcgo9QGN9aKwPjTxAQ2N9aKwPPEAjSZIkSZI7QAUvp+DlFDtA5RS8nIKXOkDG+tBYHxo6QKbg5RS8nDlAhsb60FgfOUBorA+N9aE4QEqSJEmSJDhAKng5BS+nN0AKXk7Byyk3QOtDY31orDZAyyl4OQUvNkCtD431obE1QI31obE+NDVAbdu2bdu2NEBOwcspeDk0QC6n4OUUvDNAEI31obE+M0DwcgpeTsEyQNBYHxrrQzJAsj401ofGMUCSJEmSJEkxQHMKXk7ByzBAU\\u002fByCl5OMEBqrA+N9aEvQCp4OQUvpy5A6kNjfWisLUCtD431obEsQG3btm3btitAOgUvp+DlQkAqeDkFL6dCQBrrQ2N9aEJACl5OwcspQkD70FgfGutBQOtDY31orEFA27Zt27ZtQUDMKXg5BS9BQLycgpdT8EBArQ+N9aGxQECdgpdT8HJAQI31obE+NEBA+9BYHxrrP0Dbtm3btm0\\u002fQL2cgpdT8D5AnYKXU\\u002fByPkB9aKwPjfU9QF5OwcspeD1APjTWh8b6PEAgGutDY308QAAAAAAAADxA4OUUvJyCO0DCyyl4OQU7QKKxPjTWhzpAg5dT8HIKOkBjfWisD405QENjfWisDzlAJUmSJEmSOEAGL6fg5RQ4QOYUvJyClzdAxvrQWB8aN0Cn4OUUvJw2QIjG+tBYHzZAaawPjfWhNUBKkiRJkiQ1QCp4OQUvpzRACl5OwcspNEDrQ2N9aKwzQMwpeDkFLzNArQ+N9aGxMkCN9aGxPjQyQG7btm3btjFATsHLKXg5MUAvp+DlFLwwQBCN9aGxPjBA4uUUvJyCL0CisT401ocuQGN9aKwPjS1AJUmSJEmSLEDmFLycgpcrQJdT8HIK3kJAh8b60FifQkB4OQUvp2BCQGisD431IUJAWR8a60PjQUBJkiRJkqRBQDkFL6fgZUFAKng5BS8nQUAa60NjfehAQApeTsHLqUBA+tBYHxprQEDqQ2N9aCxAQLZt27Zt2z9AllPwcgpeP0B4OQUvp+A+QFgfGutDYz5AOAUvp+DlPUAa60NjfWg9QPrQWB8a6zxA27Zt27ZtPEC7nIKXU\\u002fA7QJuCl1PwcjtAfWisD431OkBdTsHLKXg6QD401ofG+jlAHxrrQ2N9OUD\\u002f\\u002f\\u002f\\u002f\\u002f\\u002f\\u002f84QOHlFLycgjhAwsspeDkFOECisT401oc3QIKXU\\u002fByCjdAY31orA+NNkBEY31orA82QCVJkiRJkjVABi+n4OUUNUDmFLycgpc0QMb60FgfGjRAp+DlFLycM0CIxvrQWB8zQGmsD431oTJASZIkSZIkMkAqeDkFL6cxQApeTsHLKTFA60NjfWisMEDMKXg5BS8wQFofGutDYy9AGutDY31oLkDbtm3btm0tQJ2Cl1PwcixAXk7Byyl4K0D2obE+NNZCQOYUvJyCl0JA1ofG+tBYQkDG+tBYHxpCQLdt27Zt20FAp+DlFLycQUCXU\\u002fByCl5BQIjG+tBYH0FAeDkFL6fgQEBprA+N9aFAQFkfGutDY0BASZIkSZIkQEBzCl5Owcs\\u002fQFPwcgpeTj9ANdaHxvrQPkAVvJyCl1M+QPWhsT401j1A1ofG+tBYPUC2bdu2bds8QJhT8HIKXjxAeDkFL6fgO0BYHxrrQ2M7QDoFL6fg5TpAGutDY31oOkD70FgfGus5QNu2bdu2bTlAu5yCl1PwOECdgpdT8HI4QH5orA+N9TdAXk7Byyl4N0A+NNaHxvo2QB8a60NjfTZAAAAAAAAANkDh5RS8nII1QMLLKXg5BTVAorE+NNaHNECCl1Pwcgo0QGN9aKwPjTNARGN9aKwPM0AlSZIkSZIyQAUvp+DlFDJA5hS8nIKXMUDG+tBYHxoxQKfg5RS8nDBAiMb60FgfMEDSWB8a60MvQJIkSZIkSS5AU\\u002fByCl5OLUAVvJyCl1MsQNaHxvrQWCtAU\\u002fByCl7OQkBDY31orI9CQDXWh8b6UEJAJUmSJEkSQkAVvJyCl9NBQAUvp+DllEFA9aGxPjRWQUDmFLycghdBQNaHxvrQ2EBAxvrQWB+aQEC2bdu2bVtAQKbg5RS8HEBAMKfg5RS8P0AQjfWhsT4\\u002fQPByCl5OwT5A0FgfGutDPkCwPjTWh8Y9QJMkSZIkST1AcwpeTsHLPEBT8HIKXk48QDPWh8b60DtAE7ycgpdTO0D2obE+NNY6QNaHxvrQWDpAtm3btm3bOUCXU\\u002fByCl45QHc5BS+n4DhAWR8a60NjOEA6BS+n4OU3QBrrQ2N9aDdA+tBYHxrrNkDbtm3btm02QLycgpdT8DVAnYKXU\\u002fByNUB+aKwPjfU0QF5OwcspeDRAPjTWh8b6M0AfGutDY30zQAAAAAAAADNA4eUUvJyCMkDByyl4OQUyQKKxPjTWhzFAgpdT8HIKMUBjfWisD40wQERjfWisDzBASpIkSZIkL0AKXk7ByykuQMspeDkFLy1AjfWhsT40LEBOwcspeDkrQLI+NNaHxkJAorE+NNaHQkCSJEmSJElCQIKXU\\u002fByCkJAcwpeTsHLQUBjfWisD41BQFPwcgpeTkFARGN9aKwPQUA01ofG+tBAQCVJkiRJkkBAFbycgpdTQEAFL6fg5RRAQOtDY31orD9Ayyl4OQUvP0CtD431obE+QI31obE+ND5Abdu2bdu2PUBOwcspeDk9QC6n4OUUvDxAEI31obE+PEDwcgpeTsE7QNBYHxrrQztAsj401ofGOkCSJEmSJEk6QHMKXk7ByzlAU\\u002fByCl5OOUAz1ofG+tA4QBW8nIKXUzhA9qGxPjTWN0DWh8b60Fg3QLZt27Zt2zZAl1PwcgpeNkB4OQUvp+A1QFkfGutDYzVAOgUvp+DlNEAa60NjfWg0QPrQWB8a6zNA27Zt27ZtM0C8nIKXU\\u002fAyQJ2Cl1PwcjJAfWisD431MUBeTsHLKXgxQD401ofG+jBAHxrrQ2N9MEAAAAAAAAAwQMLLKXg5BS9AgpdT8HIKLkBDY31orA8tQAUvp+DlFCxAxvrQWB8aK0AQjfWhsb5CQAAAAAAAgEJA8XIKXk5BQkDh5RS8nAJCQNJYHxrrw0FAwsspeDmFQUCyPjTWh0ZBQKKxPjTWB0FAkiRJkiTJQECDl1PwcopAQHMKXk7BS0BAY31orA8NQECo4OUUvJw\\u002fQIjG+tBYHz9AaqwPjfWhPkBKkiRJkiQ+QCp4OQUvpz1AC15OwcspPUDrQ2N9aKw8QM0peDkFLzxArQ+N9aGxO0CN9aGxPjQ7QG7btm3btjpATsHLKXg5OkAwp+DlFLw5QA+N9aGxPjlA73IKXk7BOEDRWB8a60M4QLI+NNaHxjdAkiRJkiRJN0ByCl5Owcs2QFPwcgpeTjZANNaHxvrQNUAVvJyCl1M1QPahsT401jRA1ofG+tBYNEC2bdu2bdszQJdT8HIKXjNAeDkFL6fgMkBZHxrrQ2MyQDkFL6fg5TFAGutDY31oMUD60FgfGuswQNu2bdu2bTBAeDkFL6fgL0A6BS+n4OUuQPrQWB8a6y1Au5yCl1PwLEB9aKwPjfUrQD401ofG+ipAbtu2bdu2QkBeTsHLKXhCQE7Byyl4OUJAPjTWh8b6QUAvp+DlFLxBQB8a60NjfUFAD431obE+QUAAAAAAAABBQPByCl5OwUBA4eUUvJyCQEDRWB8a60NAQMHLKXg5BUBAY31orA+NP0BDY31orA8\\u002fQCVJkiRJkj5ABS+n4OUUPkDlFLycgpc9QMb60FgfGj1ApuDlFLycPECIxvrQWB88QGisD431oTtASJIkSZIkO0AqeDkFL6c6QApeTsHLKTpA60NjfWisOUDLKXg5BS85QKsPjfWhsThAjfWhsT40OEBu27Zt27Y3QE7Byyl4OTdALqfg5RS8NkAPjfWhsT42QPByCl5OwTVA0VgfGutDNUCyPjTWh8Y0QJIkSZIkSTRAcgpeTsHLM0BT8HIKXk4zQDTWh8b60DJAFbycgpdTMkD1obE+NNYxQNaHxvrQWDFAtm3btm3bMECXU\\u002fByCl4wQPByCl5OwS9Asj401ofGLkByCl5OwcstQDPWh8b60CxA9aGxPjTWK0C2bdu2bdsqQMwpeDkFr0JAvJyCl1NwQkCtD431oTFCQJ2Cl1Pw8kFAjvWhsT60QUB+aKwPjXVBQG7btm3bNkFAXk7Byyn4QEBOwcspeLlAQD801ofGekBAL6fg5RQ8QEA+NNaHxvo\\u002fQCAa60NjfT9AAAAAAAAAP0Di5RS8nII+QMLLKXg5BT5AorE+NNaHPUCDl1Pwcgo9QGN9aKwPjTxARWN9aKwPPEAlSZIkSZI7QAUvp+DlFDtA5hS8nIKXOkDG+tBYHxo6QKjg5RS8nDlAh8b60FgfOUBnrA+N9aE4QEmSJEmSJDhAKng5BS+nN0AKXk7Byyk3QOpDY31orDZAyyl4OQUvNkCsD431obE1QI31obE+NDVAbtu2bdu2NEBOwcspeDk0QC6n4OUUvDNAD431obE+M0DwcgpeTsEyQNFYHxrrQzJAsT401ofGMUCSJEmSJEkxQHIKXk7ByzBAU\\u002fByCl5OMEBorA+N9aEvQCp4OQUvpy5A6kNjfWisLUCrD431obEsQG3btm3btitALqfg5RS8KkAqeDkFL6dCQBrrQ2N9aEJACl5OwcspQkD60FgfGutBQOtDY31orEFA27Zt27ZtQUDLKXg5BS9BQLycgpdT8EBArA+N9aGxQECdgpdT8HJAQI31obE+NEBA+tBYHxrrP0Dbtm3btm0\\u002fQLucgpdT8D5AnYKXU\\u002fByPkB9aKwPjfU9QF1OwcspeD1APjTWh8b6PEAeGutDY308QAAAAAAAADxA4OUUvJyCO0DAyyl4OQU7QKKxPjTWhzpAgpdT8HIKOkBjfWisD405QENjfWisDzlAI0mSJEmSOEAFL6fg5RQ4QOYUvJyClzdAxvrQWB8aN0Cm4OUUvJw2QIjG+tBYHzZAaKwPjfWhNUBKkiRJkiQ1QCp4OQUvpzRACl5OwcspNEDrQ2N9aKwzQMspeDkFLzNArQ+N9aGxMkCN9aGxPjQyQG3btm3btjFATsHLKXg5MUAup+DlFLwwQBCN9aGxPjBA4OUUvJyCL0CjsT401ocuQGN9aKwPjS1AI0mSJEmSLEDmFLycgpcrQKbg5RS8nCpAiMb60FifQkB4OQUvp2BCQGmsD431IUJAWR8a60PjQUBKkiRJkqRBQDoFL6fgZUFAKng5BS8nQUAa60NjfehAQApeTsHLqUBA+9BYHxprQEDrQ2N9aCxAQLZt27Zt2z9AmFPwcgpeP0B4OQUvp+A+QFofGutDYz5AOgUvp+DlPUAa60NjfWg9QPvQWB8a6zxA27Zt27ZtPEC9nIKXU\\u002fA7QJ2Cl1PwcjtAfWisD431OkBeTsHLKXg6QD401ofG+jlAIBrrQ2N9OUAAAAAAAAA5QODlFLycgjhAwsspeDkFOECjsT401oc3QIOXU\\u002fByCjdAY31orA+NNkBEY31orA82QCVJkiRJkjVABi+n4OUUNUDmFLycgpc0QMb60FgfGjRAp+DlFLycM0CIxvrQWB8zQGmsD431oTJASpIkSZIkMkAqeDkFL6cxQApeTsHLKTFA60NjfWisMEDMKXg5BS8wQFofGutDYy9AG+tDY31oLkDbtm3btm0tQJ2Cl1PwcixAXk7Byyl4K0AgGutDY30qQOYUvJyCl0JA1ofG+tBYQkDG+tBYHxpCQLZt27Zt20FAp+DlFLycQUCXU\\u002fByCl5BQIfG+tBYH0FAeDkFL6fgQEBorA+N9aFAQFkfGutDY0BASZIkSZIkQEByCl5Owcs\\u002fQFPwcgpeTj9AM9aHxvrQPkAVvJyCl1M+QPWhsT401j1A1YfG+tBYPUC2bdu2bds8QJZT8HIKXjxAeDkFL6fgO0BYHxrrQ2M7QDgFL6fg5TpAGutDY31oOkD60FgfGus5QNy2bdu2bTlAvJyCl1PwOECcgpdT8HI4QH5orA+N9TdAX07Byyl4N0A\\u002fNNaHxvo2QB8a60NjfTZAAAAAAAAANkDh5RS8nII1QMLLKXg5BTVAorE+NNaHNECCl1Pwcgo0QGN9aKwPjTNARGN9aKwPM0AlSZIkSZIyQAYvp+DlFDJA5hS8nIKXMUDG+tBYHxoxQKfg5RS8nDBAiMb60FgfMEDSWB8a60MvQJMkSZIkSS5AU\\u002fByCl5OLUAVvJyCl1MsQNaHxvrQWCtAmFPwcgpeKkBEY31orI9CQDTWh8b6UEJAJUmSJEkSQkAVvJyCl9NBQAYvp+DllEFA9qGxPjRWQUDmFLycghdBQNaHxvrQ2EBAxvrQWB+aQEC3bdu2bVtAQKfg5RS8HEBALqfg5RS8P0AQjfWhsT4\\u002fQPByCl5OwT5A0lgfGutDPkCyPjTWh8Y9QJIkSZIkST1AcwpeTsHLPEBT8HIKXk48QDXWh8b60DtAFbycgpdTO0D1obE+NNY6QNaHxvrQWDpAtm3btm3bOUCYU\\u002fByCl45QHg5BS+n4DhAWB8a60NjOEA6BS+n4OU3QBvrQ2N9aDdA+9BYHxrrNkDbtm3btm02QLycgpdT8DVAnYKXU\\u002fByNUB+aKwPjfU0QF5OwcspeDRAPjTWh8b6M0AfGutDY30zQAAAAAAAADNA4eUUvJyCMkDCyyl4OQUyQKKxPjTWhzFAgpdT8HIKMUBjfWisD40wQERjfWisDzBASpIkSZIkL0ALXk7ByykuQMspeDkFLy1AjfWhsT40LEBOwcspeDkrQBCN9aGxPipAorE+NNaHQkCSJEmSJElCQIKXU\\u002fByCkJAcgpeTsHLQUBjfWisD41BQFPwcgpeTkFAQ2N9aKwPQUA01ofG+tBAQCRJkiRJkkBAFbycgpdTQEAFL6fg5RRAQOpDY31orD9Ayyl4OQUvP0CrD431obE+QI31obE+ND5Abdu2bdu2PUBNwcspeDk9QC6n4OUUvDxADo31obE+PEDwcgpeTsE7QNBYHxrrQztAsD401ofGOkCSJEmSJEk6QHIKXk7ByzlAVPByCl5OOUA01ofG+tA4QBS8nIKXUzhA9qGxPjTWN0DXh8b60Fg3QLdt27Zt2zZAl1PwcgpeNkB4OQUvp+A1QFkfGutDYzVAOgUvp+DlNEAa60NjfWg0QPrQWB8a6zNA27Zt27ZtM0C8nIKXU\\u002fAyQJ2Cl1PwcjJAfmisD431MUBeTsHLKXgxQD401ofG+jBAHxrrQ2N9MEAAAAAAAAAwQMLLKXg5BS9Ag5dT8HIKLkBDY31orA8tQAUvp+DlFCxAxvrQWB8aK0CIxvrQWB8qQAAAAAAAgEJA8HIKXk5BQkDh5RS8nAJCQNFYHxrrw0FAwsspeDmFQUCyPjTWh0ZBQKKxPjTWB0FAkiRJkiTJQECCl1PwcopAQHMKXk7BS0BAY31orA8NQECm4OUUvJw\\u002fQIjG+tBYHz9AaKwPjfWhPkBKkiRJkiQ+QCp4OQUvpz1ACl5OwcspPUDrQ2N9aKw8QMspeDkFLzxArQ+N9aGxO0CN9aGxPjQ7QG3btm3btjpATsHLKXg5OkAup+DlFLw5QBCN9aGxPjlA8HIKXk7BOEDQWB8a60M4QLI+NNaHxjdAkyRJkiRJN0BzCl5Owcs2QFPwcgpeTjZANNaHxvrQNUAVvJyCl1M1QPahsT401jRA1ofG+tBYNEC2bdu2bdszQJdT8HIKXjNAeDkFL6fgMkBZHxrrQ2MyQDoFL6fg5TFAGutDY31oMUD60FgfGuswQNu2bdu2bTBAeDkFL6fgL0A6BS+n4OUuQPvQWB8a6y1Au5yCl1PwLEB9aKwPjfUrQD401ofG+ipAAAAAAAAAKkA=\",\"shape\":\"50, 50\"},\"type\":\"surface\"},{\"colorscale\":[[0.0,\"rgb(255,245,235)\"],[0.125,\"rgb(254,230,206)\"],[0.25,\"rgb(253,208,162)\"],[0.375,\"rgb(253,174,107)\"],[0.5,\"rgb(253,141,60)\"],[0.625,\"rgb(241,105,19)\"],[0.75,\"rgb(217,72,1)\"],[0.875,\"rgb(166,54,3)\"],[1.0,\"rgb(127,39,4)\"]],\"name\":\"Rubber\",\"opacity\":0.5,\"x\":{\"dtype\":\"f8\",\"bdata\":\"AAAAAAAAAADmFLycgpfjP+YUvJyCl\\u002fM\\u002fWR8a60Nj\\u002fT\\u002fmFLycgpcDQCAa60NjfQhAWR8a60NjDUBJkiRJkiQRQOYUvJyClxNAg5dT8HIKFkAgGutDY30YQLycgpdT8BpAWR8a60NjHUD2obE+NNYfQEmSJEmSJCFAmFPwcgpeIkDmFLycgpcjQDTWh8b60CRAg5dT8HIKJkDRWB8a60MnQCAa60NjfShAbtu2bdu2KUC8nIKXU\\u002fAqQAteTsHLKSxAWR8a60NjLUCn4OUUvJwuQPahsT401i9AorE+NNaHMEBJkiRJkiQxQPByCl5OwTFAmFPwcgpeMkA\\u002fNNaHxvoyQOYUvJyClzNAjfWhsT40NEA01ofG+tA0QNy2bdu2bTVAg5dT8HIKNkAqeDkFL6c2QNFYHxrrQzdAeDkFL6fgN0AgGutDY304QMf60FgfGjlAbtu2bdu2OUAVvJyCl1M6QLycgpdT8DpAY31orA+NO0ALXk7Byyk8QLI+NNaHxjxAWR8a60NjPUAAAAAAAAA+QA==\"},\"y\":{\"dtype\":\"f8\",\"bdata\":\"AAAAAAAAAADmFLycgpfjP+YUvJyCl\\u002fM\\u002fWR8a60Nj\\u002fT\\u002fmFLycgpcDQCAa60NjfQhAWR8a60NjDUBJkiRJkiQRQOYUvJyClxNAg5dT8HIKFkAgGutDY30YQLycgpdT8BpAWR8a60NjHUD2obE+NNYfQEmSJEmSJCFAmFPwcgpeIkDmFLycgpcjQDTWh8b60CRAg5dT8HIKJkDRWB8a60MnQCAa60NjfShAbtu2bdu2KUC8nIKXU\\u002fAqQAteTsHLKSxAWR8a60NjLUCn4OUUvJwuQPahsT401i9AorE+NNaHMEBJkiRJkiQxQPByCl5OwTFAmFPwcgpeMkA\\u002fNNaHxvoyQOYUvJyClzNAjfWhsT40NEA01ofG+tA0QNy2bdu2bTVAg5dT8HIKNkAqeDkFL6c2QNFYHxrrQzdAeDkFL6fgN0AgGutDY304QMf60FgfGjlAbtu2bdu2OUAVvJyCl1M6QLycgpdT8DpAY31orA+NO0ALXk7Byyk8QLI+NNaHxjxAWR8a60NjPUAAAAAAAAA+QA==\"},\"z\":{\"dtype\":\"f8\",\"bdata\":\"9aY3velNQEDbDUWwSEBAQMF0UqOnMkBAqNtflgYlQECOQm2JZRdAQHWpenzECUBAtiAQ30b4P0CD7irFBN0\\u002fQE+8RavCwT9AHIpgkYCmP0DoV3t3Pos\\u002fQLUlll38bz9AgfOwQ7pUP0BOwcspeDk\\u002fQBqP5g82Hj9A51wB9vMCP0C1Khzcsec+QIH4NsJvzD5ATsZRqC2xPkAalGyO65U+QOdhh3Spej5Asy+iWmdfPkCA\\u002fbxAJUQ+QE3L1ybjKD5AGZnyDKENPkDnZg3zXvI9QLM0KNkc1z1AgAJDv9q7PUBN0F2lmKA9QBmeeItWhT1A5muTcRRqPUCyOa5X0k49QH8HyT2QMz1AS9XjI04YPUAZo\\u002f4JDP08QORwGfDJ4TxAsj401ofGPEB\\u002fDE+8Ras8QEvaaaIDkDxAGKiEiMF0PEDkdZ9uf1k8QLFDulQ9PjxAfRHVOvsiPEBK3+8guQc8QBatCgd37DtA5Hol7TTRO0CxSEDT8rU7QH0WW7mwmjtASuR1n25\\u002fO0AWspCFLGQ7QK8A+3mBSkBAlWcIbeA8QEB7zhVgPy9AQGE1I1OeIUBASJwwRv0TQEAvAz45XAZAQCrUllh28T9A9qGxPjTWP0DDb8wk8ro\\u002fQI895wqwnz9AXAsC8W2EP0Ao2RzXK2k\\u002fQPWmN73pTT9AwXRSo6cyP0COQm2JZRc\\u002fQFoQiG8j\\u002fD5AKN6iVeHgPkD1q707n8U+QMF52CFdqj5AjkfzBxuPPkBaFQ7u2HM+QCfjKNSWWD5A87BDulQ9PkDAfl6gEiI+QI1MeYbQBj5AWhqUbI7rPUAn6K5STNA9QPO1yTgKtT1AwIPkHsiZPUCNUf8Ehn49QFkfGutDYz1AJu000QFIPUDyuk+3vyw9QL+Iap19ET1AjVaFgzv2PEBYJKBp+do8QCbyuk+3vzxA8r\\u002fVNXWkPEC\\u002fjfAbM4k8QItbCwLxbTxAWCkm6K5SPEAk90DObDc8QPHEW7QqHDxAvZJ2mugAPECKYJGApuU7QFgurGZkyjtAJPzGTCKvO0DxyeEy4JM7QL2X\\u002fBieeDtAimUX\\u002f1tdO0BoWr42GUdAQE\\u002fByyl4OUBANSjZHNcrQEAbj+YPNh5AQAH28wKVEEBA6FwB9vMCQECdhx3Speo\\u002fQGpVOLhjzz9ANiNTniG0P0AD8W2E35g\\u002fQM++iGqdfT9AnIyjUFtiP0BoWr42GUc\\u002fQDUo2RzXKz9AAfbzApUQP0DOww7pUvU+QJyRKc8Q2j5AaF9Etc6+PkA1LV+bjKM+QAH7eYFKiD5AzsiUZwhtPkCalq9NxlE+QGdkyjOENj5AMzLlGUIbPkAAAAAAAAA+QM7NGua95D1Amps1zHvJPUBnaVCyOa49QDM3a5j3kj1AAAWGfrV3PUDN0qBkc1w9QJmgu0oxQT1AZm7WMO8lPUAyPPEWrQo9QAAKDP1q7zxAy9cm4yjUPECZpUHJ5rg8QGZzXK+knTxAMkF3lWKCPED\\u002fDpJ7IGc8QMvcrGHeSzxAmKrHR5wwPEBkeOItWhU8QDFG\\u002fRMY+jtA\\u002fRMY+tXeO0DL4TLgk8M7QJivTcZRqDtAZH1orA+NO0AxS4OSzXE7QP0YnniLVjtAIbSB87BDQEAIG4\\u002fmDzZAQO6BnNluKEBA1OipzM0aQEC6T7e\\u002fLA1AQENtiWUX\\u002fz9ADzukS9XjP0DcCL8xk8g\\u002fQKjW2RdRrT9AdaT0\\u002fQ6SP0BBcg\\u002fkzHY\\u002fQA5AKsqKWz9A2g1FsEhAP0Cn21+WBiU\\u002fQHOpenzECT9AQHeVYoLuPkAORbBIQNM+QNoSyy7+tz5Ap+DlFLycPkBzrgD7eYE+QEB8G+E3Zj5ADUo2x\\u002fVKPkDZF1Gtsy8+QKbla5NxFD5AcrOGeS\\u002f5PUBAgaFf7d09QA1PvEWrwj1A2RzXK2mnPUCm6vERJ4w9QHK4DPjkcD1AP4Yn3qJVPUALVELEYDo9QNghXaoeHz1ApO93kNwDPUByvZJ2mug8QD2LrVxYzTxAC1nIQhayPEDYJuMo1JY8QKT0\\u002fQ6SezxAccIY9U9gPEA9kDPbDUU8QApeTsHLKTxA1itpp4kOPECj+YONR\\u002fM7QG\\u002fHnnMF2DtAPZW5WcO8O0AKY9Q\\u002fgaE7QNYw7yU\\u002fhjtAo\\u002f4JDP1qO0BvzCTyuk87QNsNRbBIQEBAwXRSo6cyQECo21+WBiVAQI5CbYllF0BAdKl6fMQJQEC2IBDfRvg\\u002fQIPuKsUE3T9AT7xFq8LBP0AcimCRgKY\\u002fQOhXe3c+iz9AtSWWXfxvP0CB87BDulQ\\u002fQE7Byyl4OT9AGo\\u002fmDzYeP0DnXAH28wI\\u002fQLMqHNyx5z5Agfg2wm\\u002fMPkBOxlGoLbE+QBqUbI7rlT5A52GHdKl6PkCzL6JaZ18+QID9vEAlRD5ATcvXJuMoPkAZmfIMoQ0+QOZmDfNe8j1AszQo2RzXPUCAAkO\\u002f2rs9QE3QXaWYoD1AGZ54i1aFPUDma5NxFGo9QLI5rlfSTj1AfwfJPZAzPUBL1eMjThg9QBij\\u002fgkM\\u002fTxA5nAZ8MnhPECxPjTWh8Y8QH8MT7xFqzxAS9ppogOQPEAYqISIwXQ8QOR1n25\\u002fWTxAsUO6VD0+PEB9EdU6+yI8QErf7yC5BzxAFq0KB3fsO0DjeiXtNNE7QLFIQNPytTtAfRZbubCaO0BK5HWfbn87QBaykIUsZDtA43+ra+pIO0CVZwht4DxAQHvOFWA\\u002fL0BAYTUjU54hQEBInDBG\\u002fRNAQC4DPjlcBkBAKtSWWHbxP0D2obE+NNY\\u002fQMNvzCTyuj9Ajz3nCrCfP0BcCwLxbYQ\\u002fQCjZHNcraT9A9aY3velNP0DBdFKjpzI\\u002fQI5CbYllFz9AWhCIbyP8PkAn3qJV4eA+QPWrvTufxT5AwXnYIV2qPkCOR\\u002fMHG48+QFoVDu7Ycz5AJ+Mo1JZYPkDzsEO6VD0+QMB+XqASIj5AjUx5htAGPkBZGpRsjus9QCforlJM0D1A87XJOAq1PUDAg+QeyJk9QI1R\\u002fwSGfj1AWR8a60NjPUAm7TTRAUg9QPK6T7e\\u002fLD1Av4hqnX0RPUCLVoWDO\\u002fY8QFkkoGn52jxAJPK6T7e\\u002fPEDyv9U1daQ8QL+N8BsziTxAi1sLAvFtPEBYKSborlI8QCT3QM5sNzxA8cRbtCocPEC9knaa6AA8QIpgkYCm5TtAVi6sZmTKO0Ak\\u002fMZMIq87QPHJ4TLgkztAvZf8GJ54O0CKZRf\\u002fW107QFYzMuUZQjtAT8HLKXg5QEA1KNkc1ytAQBuP5g82HkBAAfbzApUQQEDoXAH28wJAQJ2HHdKl6j9AalU4uGPPP0A2I1OeIbQ\\u002fQAPxbYTfmD9Az76Iap19P0CcjKNQW2I\\u002fQGhavjYZRz9ANSjZHNcrP0AB9vMClRA\\u002fQM7DDulS9T5AmpEpzxDaPkBoX0S1zr4+QDUtX5uMoz5AAft5gUqIPkDOyJRnCG0+QJqWr03GUT5AZ2TKM4Q2PkAzMuUZQhs+QAAAAAAAAD5Azc0a5r3kPUCamzXMe8k9QGdpULI5rj1AMzdrmPeSPUAABYZ+tXc9QM3SoGRzXD1AmaC7SjFBPUBmbtYw7yU9QDI88RatCj1A\\u002fwkM\\u002fWrvPEDN1ybjKNQ8QJilQcnmuDxAZnNcr6SdPEAyQXeVYoI8QP8OknsgZzxAy9ysYd5LPECYqsdHnDA8QGR44i1aFTxAMUb9Exj6O0D9Exj61d47QMrhMuCTwztAmK9NxlGoO0BkfWisD407QDFLg5LNcTtA\\u002fRieeItWO0DK5rheSTs7QAgbj+YPNkBA7oGc2W4oQEDU6KnMzRpAQLpPt78sDUBAQW2JZRf\\u002fP0APO6RL1eM\\u002fQNwIvzGTyD9AqNbZF1GtP0B1pPT9DpI\\u002fQEFyD+TMdj9ADkAqyopbP0DaDUWwSEA\\u002fQKfbX5YGJT9Ac6l6fMQJP0BAd5Vigu4+QA1FsEhA0z5A2hLLLv63PkCn4OUUvJw+QHOuAPt5gT5AQHwb4TdmPkANSjbH9Uo+QNkXUa2zLz5ApuVrk3EUPkBys4Z5L\\u002fk9QD+BoV\\u002ft3T1ADU+8RavCPUDZHNcraac9QKbq8REnjD1AcrgM+ORwPUA\\u002fhifeolU9QAtUQsRgOj1A2CFdqh4fPUCk73eQ3AM9QHG9knaa6DxAP4utXFjNPEAKWchCFrI8QNgm4yjUljxApPT9DpJ7PEBxwhj1T2A8QD2QM9sNRTxACl5OwcspPEDWK2mniQ48QKP5g41H8ztAb8eecwXYO0A8lblZw7w7QApj1D+BoTtA1jDvJT+GO0Cj\\u002fgkM\\u002fWo7QG\\u002fMJPK6TztAPJo\\u002f2Hg0O0DBdFKjpzJAQKjbX5YGJUBAjkJtiWUXQEB0qXp8xAlAQLUgEN9G+D9Ag+4qxQTdP0BPvEWrwsE\\u002fQByKYJGApj9A6Fd7dz6LP0C1JZZd\\u002fG8\\u002fQIHzsEO6VD9ATsHLKXg5P0Aaj+YPNh4\\u002fQOdcAfbzAj9Asyoc3LHnPkCA+DbCb8w+QE7GUagtsT5AGpRsjuuVPkDnYYd0qXo+QLMvolpnXz5AgP28QCVEPkBNy9cm4yg+QBmZ8gyhDT5A5mYN817yPUCyNCjZHNc9QIACQ7\\u002fauz1ATdBdpZigPUAZnniLVoU9QOZrk3EUaj1AsjmuV9JOPUB\\u002fB8k9kDM9QEvV4yNOGD1AGKP+CQz9PEDkcBnwyeE8QLI+NNaHxjxAfQxPvEWrPEBL2mmiA5A8QBiohIjBdDxA5HWfbn9ZPECxQ7pUPT48QH0R1Tr7IjxASt\\u002fvILkHPEAWrQoHd+w7QON6Je000TtAr0hA0\\u002fK1O0B9Flu5sJo7QErkdZ9ufztAFrKQhSxkO0Djf6tr6kg7QK9NxlGoLTtAe84VYD8vQEBhNSNTniFAQEicMEb9E0BALgM+OVwGQEAo1JZYdvE\\u002fQPahsT401j9Aw2\\u002fMJPK6P0CPPecKsJ8\\u002fQFwLAvFthD9AKNkc1ytpP0D1pje96U0\\u002fQMF0UqOnMj9AjkJtiWUXP0BaEIhvI\\u002fw+QCfeolXh4D5A86u9O5\\u002fFPkDBedghXao+QI5H8wcbjz5AWhUO7thzPkAn4yjUllg+QPOwQ7pUPT5AwH5eoBIiPkCNTHmG0AY+QFkalGyO6z1AJuiuUkzQPUDztck4CrU9QMCD5B7ImT1AjVH\\u002fBIZ+PUBZHxrrQ2M9QCbtNNEBSD1A8rpPt78sPUC\\u002fiGqdfRE9QItWhYM79jxAWCSgafnaPEAm8rpPt788QPG\\u002f1TV1pDxAv43wGzOJPECLWwsC8W08QFgpJuiuUjxAJPdAzmw3PEDxxFu0Khw8QL2SdproADxAimCRgKblO0BWLqxmZMo7QCP8xkwirztA8cnhMuCTO0C9l\\u002fwYnng7QIplF\\u002f9bXTtAVjMy5RlCO0AjAU3L1yY7QDUo2RzXK0BAG4\\u002fmDzYeQEAB9vMClRBAQOhcAfbzAkBAnIcd0qXqP0BqVTi4Y88\\u002fQDYjU54htD9AA\\u002fFthN+YP0DPvohqnX0\\u002fQJyMo1BbYj9AaFq+NhlHP0A1KNkc1ys\\u002fQAH28wKVED9AzsMO6VL1PkCakSnPENo+QGdfRLXOvj5ANS1fm4yjPkAB+3mBSog+QM7IlGcIbT5AmpavTcZRPkBnZMozhDY+QDMy5RlCGz5AAAAAAAAAPkDNzRrmveQ9QJmbNcx7yT1AZ2lQsjmuPUAzN2uY95I9QAAFhn61dz1AzdKgZHNcPUCZoLtKMUE9QGZu1jDvJT1AMjzxFq0KPUD\\u002fCQz9au88QMvXJuMo1DxAmaVByea4PEBkc1yvpJ08QDJBd5VigjxA\\u002fw6SeyBnPEDL3Kxh3ks8QJiqx0ecMDxAZHjiLVoVPEAxRv0TGPo7QP0TGPrV3jtAyuEy4JPDO0CWr03GUag7QGR9aKwPjTtAMUuDks1xO0D9GJ54i1Y7QMrmuF5JOztAlrTTRAcgO0DvgZzZbihAQNXoqczNGkBAu0+3vywNQEBDbYllF\\u002f8\\u002fQA87pEvV4z9A3Qi\\u002fMZPIP0Cq1tkXUa0\\u002fQHak9P0Okj9AQ3IP5Mx2P0APQCrKils\\u002fQNwNRbBIQD9AqNtflgYlP0B1qXp8xAk\\u002fQEF3lWKC7j5ADkWwSEDTPkDaEssu\\u002frc+QKjg5RS8nD5Ada4A+3mBPkBBfBvhN2Y+QA5KNsf1Sj5A2hdRrbMvPkCn5WuTcRQ+QHOzhnkv+T1AQIGhX+3dPUANT7xFq8I9QNoc1ytppz1Ap+rxESeMPUBzuAz45HA9QECGJ96iVT1ADVRCxGA6PUDZIV2qHh89QKbvd5DcAz1Acr2SdproPEA\\u002fi61cWM08QA1ZyEIWsjxA2CbjKNSWPECm9P0Okns8QHLCGPVPYDxAP5Az2w1FPEALXk7Byyk8QNgraaeJDjxApPmDjUfzO0Bxx55zBdg7QD2VuVnDvDtACmPUP4GhO0DYMO8lP4Y7QKT+CQz9ajtAccwk8rpPO0A9mj\\u002fYeDQ7QApoWr42GTtAqNtflgYlQECOQm2JZRdAQHSpenzECUBAtSAQ30b4P0CB7irFBN0\\u002fQE+8RavCwT9AHIpgkYCmP0DoV3t3Pos\\u002fQLUlll38bz9AgfOwQ7pUP0BOwcspeDk\\u002fQBqP5g82Hj9A51wB9vMCP0CzKhzcsec+QID4NsJvzD5ATcZRqC2xPkAalGyO65U+QOdhh3Spej5Asy+iWmdfPkCA\\u002fbxAJUQ+QE3L1ybjKD5AGZnyDKENPkDmZg3zXvI9QLI0KNkc1z1AfwJDv9q7PUBN0F2lmKA9QBmeeItWhT1A5muTcRRqPUCyOa5X0k49QH8HyT2QMz1AS9XjI04YPUAYo\\u002f4JDP08QORwGfDJ4TxAsT401ofGPEB\\u002fDE+8Ras8QEraaaIDkDxAGKiEiMF0PEDkdZ9uf1k8QLFDulQ9PjxAfRHVOvsiPEBK3+8guQc8QBatCgd37DtA43ol7TTRO0CvSEDT8rU7QHwWW7mwmjtASuR1n25\\u002fO0AWspCFLGQ7QON\\u002fq2vqSDtAr03GUagtO0B8G+E3ZhI7QGE1I1OeIUBASJwwRv0TQEAuAz45XAZAQCjUllh28T9A9aGxPjTWP0DDb8wk8ro\\u002fQI895wqwnz9AXAsC8W2EP0Ao2RzXK2k\\u002fQPWmN73pTT9AwXRSo6cyP0COQm2JZRc\\u002fQFoQiG8j\\u002fD5AJ96iVeHgPkDzq707n8U+QMB52CFdqj5AjkfzBxuPPkBaFQ7u2HM+QCfjKNSWWD5A87BDulQ9PkDAfl6gEiI+QI1MeYbQBj5AWRqUbI7rPUAm6K5STNA9QPK1yTgKtT1AwIPkHsiZPUCNUf8Ehn49QFkfGutDYz1AJu000QFIPUDyuk+3vyw9QL+Iap19ET1Ai1aFgzv2PEBYJKBp+do8QCTyuk+3vzxA8r\\u002fVNXWkPEC9jfAbM4k8QItbCwLxbTxAWCkm6K5SPEAk90DObDc8QPHEW7QqHDxAvZJ2mugAPECKYJGApuU7QFYurGZkyjtAI\\u002fzGTCKvO0DvyeEy4JM7QL2X\\u002fBieeDtAimUX\\u002f1tdO0BWMzLlGUI7QCMBTcvXJjtA785nsZULO0Abj+YPNh5AQAH28wKVEEBA6FwB9vMCQECchx3Speo\\u002fQGhVOLhjzz9ANiNTniG0P0AD8W2E35g\\u002fQM++iGqdfT9AnIyjUFtiP0BoWr42GUc\\u002fQDUo2RzXKz9AAfbzApUQP0DOww7pUvU+QJqRKc8Q2j5AZ19Etc6+PkAzLV+bjKM+QAH7eYFKiD5AzsiUZwhtPkCalq9NxlE+QGdkyjOENj5AMzLlGUIbPkAAAAAAAAA+QM3NGua95D1AmZs1zHvJPUBmaVCyOa49QDM3a5j3kj1AAAWGfrV3PUDN0qBkc1w9QJmgu0oxQT1AZm7WMO8lPUAyPPEWrQo9QP8JDP1q7zxAy9cm4yjUPECYpUHJ5rg8QGZzXK+knTxAMUF3lWKCPED\\u002fDpJ7IGc8QMvcrGHeSzxAmKrHR5wwPEBkeOItWhU8QDFG\\u002fRMY+jtA\\u002fRMY+tXeO0DK4TLgk8M7QJavTcZRqDtAY31orA+NO0AxS4OSzXE7QP0YnniLVjtAyua4Xkk7O0CWtNNEByA7QGOC7irFBDtA1eipzM0aQEC7T7e\\u002fLA1AQENtiWUX\\u002fz9ADzukS9XjP0DcCL8xk8g\\u002fQKrW2RdRrT9AdqT0\\u002fQ6SP0BDcg\\u002fkzHY\\u002fQA9AKsqKWz9A3A1FsEhAP0Co21+WBiU\\u002fQHWpenzECT9AQXeVYoLuPkAORbBIQNM+QNoSyy7+tz5Ap+DlFLycPkB1rgD7eYE+QEF8G+E3Zj5ADko2x\\u002fVKPkDaF1Gtsy8+QKfla5NxFD5Ac7OGeS\\u002f5PUBAgaFf7d09QA1PvEWrwj1A2RzXK2mnPUCn6vERJ4w9QHO4DPjkcD1AQIYn3qJVPUANVELEYDo9QNkhXaoeHz1Apu93kNwDPUByvZJ2mug8QD+LrVxYzTxAC1nIQhayPEDZJuMo1JY8QKT0\\u002fQ6SezxAcsIY9U9gPEA\\u002fkDPbDUU8QAteTsHLKTxA2Ctpp4kOPECk+YONR\\u002fM7QHHHnnMF2DtAPZW5WcO8O0AKY9Q\\u002fgaE7QNYw7yU\\u002fhjtApP4JDP1qO0BxzCTyuk87QD2aP9h4NDtACmhavjYZO0DWNXWk9P06QI5CbYllF0BAdKl6fMQJQEC1IBDfRvg\\u002fQIHuKsUE3T9ATrxFq8LBP0AcimCRgKY\\u002fQOhXe3c+iz9AtSWWXfxvP0CB87BDulQ\\u002fQE7Byyl4OT9AGo\\u002fmDzYeP0DnXAH28wI\\u002fQLMqHNyx5z5AgPg2wm\\u002fMPkBNxlGoLbE+QBmUbI7rlT5A52GHdKl6PkCzL6JaZ18+QID9vEAlRD5ATcvXJuMoPkAZmfIMoQ0+QOZmDfNe8j1AsjQo2RzXPUB\\u002fAkO\\u002f2rs9QEvQXaWYoD1AGZ54i1aFPUDma5NxFGo9QLI5rlfSTj1AfwfJPZAzPUBL1eMjThg9QBij\\u002fgkM\\u002fTxA5HAZ8MnhPECxPjTWh8Y8QH0MT7xFqzxAS9ppogOQPEAWqISIwXQ8QOR1n25\\u002fWTxAsUO6VD0+PEB9EdU6+yI8QErf7yC5BzxAFq0KB3fsO0DjeiXtNNE7QK9IQNPytTtAfBZbubCaO0BI5HWfbn87QBaykIUsZDtA43+ra+pIO0CvTcZRqC07QHwb4TdmEjtASOn7HST3OkBInDBG\\u002fRNAQC4DPjlcBkBAKNSWWHbxP0D1obE+NNY\\u002fQMFvzCTyuj9Ajz3nCrCfP0BcCwLxbYQ\\u002fQCjZHNcraT9A9aY3velNP0DBdFKjpzI\\u002fQI5CbYllFz9AWhCIbyP8PkAn3qJV4eA+QPOrvTufxT5AwHnYIV2qPkCNR\\u002fMHG48+QFoVDu7Ycz5AJ+Mo1JZYPkDzsEO6VD0+QMB+XqASIj5AjUx5htAGPkBZGpRsjus9QCborlJM0D1A8rXJOAq1PUC\\u002fg+QeyJk9QI1R\\u002fwSGfj1AWR8a60NjPUAm7TTRAUg9QPK6T7e\\u002fLD1Av4hqnX0RPUCLVoWDO\\u002fY8QFgkoGn52jxAJPK6T7e\\u002fPEDxv9U1daQ8QL+N8BsziTxAilsLAvFtPEBYKSborlI8QCT3QM5sNzxA8cRbtCocPEC9knaa6AA8QIpgkYCm5TtAVi6sZmTKO0Aj\\u002fMZMIq87QO\\u002fJ4TLgkztAvJf8GJ54O0CKZRf\\u002fW107QFYzMuUZQjtAIwFNy9cmO0DvzmexlQs7QLycgpdT8DpAAfbzApUQQEDoXAH28wJAQJyHHdKl6j9AaFU4uGPPP0A1I1OeIbQ\\u002fQAPxbYTfmD9Az76Iap19P0CcjKNQW2I\\u002fQGhavjYZRz9ANSjZHNcrP0AB9vMClRA\\u002fQM7DDulS9T5AmpEpzxDaPkBnX0S1zr4+QDMtX5uMoz5AAPt5gUqIPkDOyJRnCG0+QJqWr03GUT5AZ2TKM4Q2PkAzMuUZQhs+QAAAAAAAAD5Azc0a5r3kPUCZmzXMe8k9QGZpULI5rj1AMjdrmPeSPUAABYZ+tXc9QM3SoGRzXD1AmaC7SjFBPUBmbtYw7yU9QDI88RatCj1A\\u002fwkM\\u002fWrvPEDL1ybjKNQ8QJilQcnmuDxAZHNcr6SdPEAyQXeVYoI8QP0OknsgZzxAy9ysYd5LPECYqsdHnDA8QGR44i1aFTxAMUb9Exj6O0D9Exj61d47QMrhMuCTwztAlq9NxlGoO0BjfWisD407QC9Lg5LNcTtA\\u002fRieeItWO0DK5rheSTs7QJa000QHIDtAY4LuKsUEO0AvUAkRg+k6QLtPt78sDUBAQ22JZRf\\u002fP0APO6RL1eM\\u002fQNwIvzGTyD9AqNbZF1GtP0B2pPT9DpI\\u002fQENyD+TMdj9AD0AqyopbP0DcDUWwSEA\\u002fQKjbX5YGJT9Adal6fMQJP0BBd5Vigu4+QA5FsEhA0z5A2hLLLv63PkCn4OUUvJw+QHOuAPt5gT5AQXwb4TdmPkAOSjbH9Uo+QNoXUa2zLz5Ap+Vrk3EUPkBzs4Z5L\\u002fk9QECBoV\\u002ft3T1ADU+8RavCPUDZHNcraac9QKbq8REnjD1Ac7gM+ORwPUBAhifeolU9QA1UQsRgOj1A2SFdqh4fPUCm73eQ3AM9QHK9knaa6DxAP4utXFjNPEALWchCFrI8QNgm4yjUljxApvT9DpJ7PEBxwhj1T2A8QD+QM9sNRTxAC15OwcspPEDYK2mniQ48QKT5g41H8ztAcceecwXYO0A9lblZw7w7QApj1D+BoTtA1jDvJT+GO0Cj\\u002fgkM\\u002fWo7QHHMJPK6TztAPZo\\u002f2Hg0O0AKaFq+Nhk7QNY1daT0\\u002fTpAowOQirLiOkB1qXp8xAlAQLUgEN9G+D9Ag+4qxQTdP0BOvEWrwsE\\u002fQByKYJGApj9A6ld7dz6LP0C1JZZd\\u002fG8\\u002fQIPzsEO6VD9ATsHLKXg5P0Acj+YPNh4\\u002fQOdcAfbzAj9AtSoc3LHnPkCA+DbCb8w+QE7GUagtsT5AGZRsjuuVPkDnYYd0qXo+QLUvolpnXz5AgP28QCVEPkBOy9cm4yg+QBmZ8gyhDT5A52YN817yPUCyNCjZHNc9QIACQ7\\u002fauz1AS9BdpZigPUAZnniLVoU9QOdrk3EUaj1AsjmuV9JOPUCAB8k9kDM9QEvV4yNOGD1AGaP+CQz9PEDkcBnwyeE8QLI+NNaHxjxAfQxPvEWrPEBL2mmiA5A8QBmohIjBdDxA5HWfbn9ZPECyQ7pUPT48QH0R1Tr7IjxAS9\\u002fvILkHPEAWrQoHd+w7QOR6Je000TtAr0hA0\\u002fK1O0B9Flu5sJo7QEjkdZ9ufztAFrKQhSxkO0Dkf6tr6kg7QK9NxlGoLTtAfRvhN2YSO0BI6fsdJPc6QBa3FgTi2zpALgM+OVwGQEAo1JZYdvE\\u002fQPWhsT401j9AwW\\u002fMJPK6P0COPecKsJ8\\u002fQFwLAvFthD9AKNkc1ytpP0D1pje96U0\\u002fQMF0UqOnMj9AjkJtiWUXP0BaEIhvI\\u002fw+QCfeolXh4D5A86u9O5\\u002fFPkDAedghXao+QI1H8wcbjz5AWRUO7thzPkAn4yjUllg+QPOwQ7pUPT5AwH5eoBIiPkCNTHmG0AY+QFkalGyO6z1AJuiuUkzQPUDytck4CrU9QL+D5B7ImT1Ai1H\\u002fBIZ+PUBZHxrrQ2M9QCbtNNEBSD1A8rpPt78sPUC\\u002fiGqdfRE9QItWhYM79jxAWCSgafnaPEAk8rpPt788QPG\\u002f1TV1pDxAvY3wGzOJPECLWwsC8W08QFYpJuiuUjxAJPdAzmw3PEDxxFu0Khw8QL2SdproADxAimCRgKblO0BWLqxmZMo7QCP8xkwirztA78nhMuCTO0C8l\\u002fwYnng7QIhlF\\u002f9bXTtAVjMy5RlCO0AjAU3L1yY7QO\\u002fOZ7GVCztAvJyCl1PwOkCIap19EdU6QOhcAfbzAkBAnIcd0qXqP0BoVTi4Y88\\u002fQDUjU54htD9AAfFthN+YP0DPvohqnX0\\u002fQJyMo1BbYj9AaFq+NhlHP0A1KNkc1ys\\u002fQAH28wKVED9AzsMO6VL1PkCakSnPENo+QGdfRLXOvj5AMy1fm4yjPkAA+3mBSog+QM3IlGcIbT5AmpavTcZRPkBnZMozhDY+QDMy5RlCGz5AAAAAAAAAPkDNzRrmveQ9QJmbNcx7yT1AZmlQsjmuPUAyN2uY95I9QP8Ehn61dz1AzdKgZHNcPUCZoLtKMUE9QGZu1jDvJT1AMjzxFq0KPUD\\u002fCQz9au88QMvXJuMo1DxAmKVByea4PEBkc1yvpJ08QDFBd5VigjxA\\u002fw6SeyBnPEDK3Kxh3ks8QJiqx0ecMDxAZHjiLVoVPEAxRv0TGPo7QP0TGPrV3jtAyuEy4JPDO0CWr03GUag7QGN9aKwPjTtAL0uDks1xO0D8GJ54i1Y7QMrmuF5JOztAlrTTRAcgO0Bjgu4qxQQ7QC9QCRGD6TpA\\u002fB0k90DOOkBDbYllF\\u002f8\\u002fQA87pEvV4z9A3Ai\\u002fMZPIP0Co1tkXUa0\\u002fQHWk9P0Okj9AQ3IP5Mx2P0APQCrKils\\u002fQNwNRbBIQD9AqNtflgYlP0B1qXp8xAk\\u002fQEF3lWKC7j5ADkWwSEDTPkDaEssu\\u002frc+QKfg5RS8nD5Ac64A+3mBPkBAfBvhN2Y+QA5KNsf1Sj5A2hdRrbMvPkCn5WuTcRQ+QHOzhnkv+T1AQIGhX+3dPUANT7xFq8I9QNkc1ytppz1ApurxESeMPUByuAz45HA9QECGJ96iVT1ADVRCxGA6PUDZIV2qHh89QKbvd5DcAz1Acr2SdproPEA\\u002fi61cWM08QAtZyEIWsjxA2CbjKNSWPECk9P0Okns8QHLCGPVPYDxAPZAz2w1FPEALXk7Byyk8QNgraaeJDjxApPmDjUfzO0Bxx55zBdg7QD2VuVnDvDtACmPUP4GhO0DWMO8lP4Y7QKP+CQz9ajtAb8wk8rpPO0A9mj\\u002fYeDQ7QApoWr42GTtA1jV1pPT9OkCjA5CKsuI6QG\\u002fRqnBwxzpAtiAQ30b4P0CD7irFBN0\\u002fQE+8RavCwT9AHIpgkYCmP0DoV3t3Pos\\u002fQLYlll38bz9Ag\\u002fOwQ7pUP0BPwcspeDk\\u002fQByP5g82Hj9A6FwB9vMCP0C1Khzcsec+QIH4NsJvzD5ATsZRqC2xPkAalGyO65U+QOdhh3Spej5Asy+iWmdfPkCB\\u002fbxAJUQ+QE7L1ybjKD5AGpnyDKENPkDnZg3zXvI9QLM0KNkc1z1AgAJDv9q7PUBN0F2lmKA9QBmeeItWhT1A5muTcRRqPUCzOa5X0k49QIAHyT2QMz1ATdXjI04YPUAZo\\u002f4JDP08QOZwGfDJ4TxAsj401ofGPEB\\u002fDE+8Ras8QEvaaaIDkDxAGKiEiMF0PEDmdZ9uf1k8QLFDulQ9PjxAfxHVOvsiPEBL3+8guQc8QBitCgd37DtA5Hol7TTRO0CxSEDT8rU7QH0WW7mwmjtASuR1n25\\u002fO0AWspCFLGQ7QON\\u002fq2vqSDtAsU3GUagtO0B9G+E3ZhI7QErp+x0k9zpAFrcWBOLbOkDjhDHqn8A6QCjUllh28T9A9aGxPjTWP0DBb8wk8ro\\u002fQI495wqwnz9AWgsC8W2EP0Ao2RzXK2k\\u002fQPWmN73pTT9AwXRSo6cyP0COQm2JZRc\\u002fQFoQiG8j\\u002fD5AJ96iVeHgPkDzq707n8U+QMB52CFdqj5AjUfzBxuPPkBZFQ7u2HM+QCbjKNSWWD5A87BDulQ9PkDAfl6gEiI+QI1MeYbQBj5AWRqUbI7rPUAm6K5STNA9QPK1yTgKtT1Av4PkHsiZPUCLUf8Ehn49QFgfGutDYz1AJu000QFIPUDyuk+3vyw9QL+Iap19ET1Ai1aFgzv2PEBYJKBp+do8QCTyuk+3vzxA8b\\u002fVNXWkPEC9jfAbM4k8QIpbCwLxbTxAWCkm6K5SPEAj90DObDc8QPHEW7QqHDxAvZJ2mugAPECKYJGApuU7QFYurGZkyjtAI\\u002fzGTCKvO0DvyeEy4JM7QLyX\\u002fBieeDtAiGUX\\u002f1tdO0BVMzLlGUI7QCMBTcvXJjtA785nsZULO0C8nIKXU\\u002fA6QIhqnX0R1TpAVTi4Y8+5OkCchx3Speo\\u002fQGhVOLhjzz9ANSNTniG0P0AB8W2E35g\\u002fQM6+iGqdfT9AnIyjUFtiP0BoWr42GUc\\u002fQDUo2RzXKz9AAfbzApUQP0DOww7pUvU+QJqRKc8Q2j5AZ19Etc6+PkAzLV+bjKM+QAD7eYFKiD5AzciUZwhtPkCZlq9NxlE+QGdkyjOENj5AMzLlGUIbPkAAAAAAAAA+QM3NGua95D1AmZs1zHvJPUBmaVCyOa49QDI3a5j3kj1A\\u002fwSGfrV3PUDL0qBkc1w9QJmgu0oxQT1AZm7WMO8lPUAyPPEWrQo9QP8JDP1q7zxAy9cm4yjUPECYpUHJ5rg8QGRzXK+knTxAMUF3lWKCPED9DpJ7IGc8QMvcrGHeSzxAlqrHR5wwPEBkeOItWhU8QDFG\\u002fRMY+jtA\\u002fRMY+tXeO0DK4TLgk8M7QJavTcZRqDtAY31orA+NO0AvS4OSzXE7QPwYnniLVjtAyOa4Xkk7O0CWtNNEByA7QGOC7irFBDtAL1AJEYPpOkD8HST3QM46QMjrPt3+sjpADzukS9XjP0DcCL8xk8g\\u002fQKjW2RdRrT9AdaT0\\u002fQ6SP0BBcg\\u002fkzHY\\u002fQA9AKsqKWz9A3A1FsEhAP0Co21+WBiU\\u002fQHWpenzECT9AQXeVYoLuPkAORbBIQNM+QNoSyy7+tz5Ap+DlFLycPkBzrgD7eYE+QEB8G+E3Zj5ADUo2x\\u002fVKPkDaF1Gtsy8+QKfla5NxFD5Ac7OGeS\\u002f5PUBAgaFf7d09QA1PvEWrwj1A2RzXK2mnPUCm6vERJ4w9QHK4DPjkcD1AP4Yn3qJVPUANVELEYDo9QNkhXaoeHz1Apu93kNwDPUByvZJ2mug8QD+LrVxYzTxAC1nIQhayPEDYJuMo1JY8QKT0\\u002fQ6SezxAccIY9U9gPEA\\u002fkDPbDUU8QApeTsHLKTxA2Ctpp4kOPECk+YONR\\u002fM7QHHHnnMF2DtAPZW5WcO8O0AKY9Q\\u002fgaE7QNYw7yU\\u002fhjtAo\\u002f4JDP1qO0BvzCTyuk87QDyaP9h4NDtACmhavjYZO0DWNXWk9P06QKMDkIqy4jpAb9GqcHDHOkA8n8VWLqw6QIPuKsUE3T9AT7xFq8LBP0AcimCRgKY\\u002fQOhXe3c+iz9AtSWWXfxvP0CD87BDulQ\\u002fQE\\u002fByyl4OT9AHI\\u002fmDzYeP0DoXAH28wI\\u002fQLUqHNyx5z5Agfg2wm\\u002fMPkBOxlGoLbE+QBqUbI7rlT5A52GHdKl6PkCzL6JaZ18+QID9vEAlRD5ATsvXJuMoPkAamfIMoQ0+QOdmDfNe8j1AszQo2RzXPUCAAkO\\u002f2rs9QE3QXaWYoD1AGZ54i1aFPUDma5NxFGo9QLI5rlfSTj1AgAfJPZAzPUBN1eMjThg9QBmj\\u002fgkM\\u002fTxA5nAZ8MnhPECyPjTWh8Y8QH8MT7xFqzxAS9ppogOQPEAYqISIwXQ8QOR1n25\\u002fWTxAskO6VD0+PEB9EdU6+yI8QEvf7yC5BzxAGK0KB3fsO0DkeiXtNNE7QLFIQNPytTtAfRZbubCaO0BK5HWfbn87QBaykIUsZDtA43+ra+pIO0CvTcZRqC07QH0b4TdmEjtASun7HST3OkAWtxYE4ts6QOOEMeqfwDpAr1JM0F2lOkD1obE+NNY\\u002fQMNvzCTyuj9Ajj3nCrCfP0BcCwLxbYQ\\u002fQCfZHNcraT9A9aY3velNP0DDdFKjpzI\\u002fQI5CbYllFz9AXBCIbyP8PkAn3qJV4eA+QPWrvTufxT5AwHnYIV2qPkCOR\\u002fMHG48+QFkVDu7Ycz5AJ+Mo1JZYPkDysEO6VD0+QMB+XqASIj5Ajkx5htAGPkBZGpRsjus9QCforlJM0D1A8rXJOAq1PUDAg+QeyJk9QItR\\u002fwSGfj1AWR8a60NjPUAk7TTRAUg9QPK6T7e\\u002fLD1AwIhqnX0RPUCLVoWDO\\u002fY8QFkkoGn52jxAJPK6T7e\\u002fPEDyv9U1daQ8QL2N8BsziTxAi1sLAvFtPEBWKSborlI8QCT3QM5sNzxA78RbtCocPEC9knaa6AA8QItgkYCm5TtAVi6sZmTKO0Ak\\u002fMZMIq87QO\\u002fJ4TLgkztAvZf8GJ54O0CIZRf\\u002fW107QFYzMuUZQjtAIQFNy9cmO0DvzmexlQs7QL2cgpdT8DpAiGqdfRHVOkBWOLhjz7k6QCEG00mNnjpAaFU4uGPPP0A1I1OeIbQ\\u002fQAHxbYTfmD9Azr6Iap19P0CajKNQW2I\\u002fQGhavjYZRz9ANSjZHNcrP0AB9vMClRA\\u002fQM7DDulS9T5AmpEpzxDaPkBnX0S1zr4+QDMtX5uMoz5AAPt5gUqIPkDNyJRnCG0+QJmWr03GUT5AZmTKM4Q2PkAzMuUZQhs+QAAAAAAAAD5Azc0a5r3kPUCZmzXMe8k9QGZpULI5rj1AMjdrmPeSPUD\\u002fBIZ+tXc9QMvSoGRzXD1AmKC7SjFBPUBmbtYw7yU9QDI88RatCj1A\\u002fwkM\\u002fWrvPEDL1ybjKNQ8QJilQcnmuDxAZHNcr6SdPEAxQXeVYoI8QP0OknsgZzxAytysYd5LPECYqsdHnDA8QGN44i1aFTxAMUb9Exj6O0D9Exj61d47QMrhMuCTwztAlq9NxlGoO0BjfWisD407QC9Lg5LNcTtA\\u002fBieeItWO0DI5rheSTs7QJW000QHIDtAY4LuKsUEO0AvUAkRg+k6QPwdJPdAzjpAyOs+3f6yOkCVuVnDvJc6QNwIvzGTyD9AqNbZF1GtP0B1pPT9DpI\\u002fQEFyD+TMdj9ADkAqyopbP0DcDUWwSEA\\u002fQKjbX5YGJT9Adal6fMQJP0BBd5Vigu4+QA5FsEhA0z5A2hLLLv63PkCn4OUUvJw+QHOuAPt5gT5AQHwb4TdmPkANSjbH9Uo+QNkXUa2zLz5Ap+Vrk3EUPkBzs4Z5L\\u002fk9QECBoV\\u002ft3T1ADU+8RavCPUDZHNcraac9QKbq8REnjD1AcrgM+ORwPUA\\u002fhifeolU9QAtUQsRgOj1A2SFdqh4fPUCm73eQ3AM9QHK9knaa6DxAP4utXFjNPEALWchCFrI8QNgm4yjUljxApPT9DpJ7PEBxwhj1T2A8QD2QM9sNRTxAC15OwcspPEDWK2mniQ48QKT5g41H8ztAcceecwXYO0A9lblZw7w7QApj1D+BoTtA1jDvJT+GO0Cj\\u002fgkM\\u002fWo7QG\\u002fMJPK6TztAPJo\\u002f2Hg0O0AIaFq+Nhk7QNY1daT0\\u002fTpAowOQirLiOkBv0apwcMc6QDyfxVYurDpACG3gPOyQOkBPvEWrwsE\\u002fQByKYJGApj9A6Fd7dz6LP0C1JZZd\\u002fG8\\u002fQIHzsEO6VD9AT8HLKXg5P0Acj+YPNh4\\u002fQOhcAfbzAj9AtSoc3LHnPkCB+DbCb8w+QE7GUagtsT5AGpRsjuuVPkDnYYd0qXo+QLMvolpnXz5AgP28QCVEPkBNy9cm4yg+QBqZ8gyhDT5A52YN817yPUCzNCjZHNc9QIACQ7\\u002fauz1ATdBdpZigPUAZnniLVoU9QOZrk3EUaj1AsjmuV9JOPUB\\u002fB8k9kDM9QE3V4yNOGD1AGaP+CQz9PEDmcBnwyeE8QLI+NNaHxjxAfwxPvEWrPEBL2mmiA5A8QBiohIjBdDxA5HWfbn9ZPECxQ7pUPT48QH8R1Tr7IjxASt\\u002fvILkHPEAYrQoHd+w7QOR6Je000TtAsUhA0\\u002fK1O0B9Flu5sJo7QErkdZ9ufztAFrKQhSxkO0Djf6tr6kg7QK9NxlGoLTtAfBvhN2YSO0BK6fsdJPc6QBa3FgTi2zpA44Qx6p\\u002fAOkCvUkzQXaU6QHwgZ7YbijpAw2\\u002fMJPK6P0CPPecKsJ8\\u002fQFwLAvFthD9AKNkc1ytpP0D1pje96U0\\u002fQMN0UqOnMj9Aj0JtiWUXP0BcEIhvI\\u002fw+QCjeolXh4D5A9au9O5\\u002fFPkDBedghXao+QI5H8wcbjz5AWhUO7thzPkAn4yjUllg+QPOwQ7pUPT5AwH5eoBIiPkCOTHmG0AY+QFoalGyO6z1AJ+iuUkzQPUDztck4CrU9QMCD5B7ImT1AjVH\\u002fBIZ+PUBZHxrrQ2M9QCbtNNEBSD1A8rpPt78sPUDAiGqdfRE9QI1WhYM79jxAWSSgafnaPEAm8rpPt788QPK\\u002f1TV1pDxAv43wGzOJPECLWwsC8W08QFgpJuiuUjxAJPdAzmw3PEDyxFu0Khw8QL2SdproADxAi2CRgKblO0BYLqxmZMo7QCT8xkwirztA8cnhMuCTO0C9l\\u002fwYnng7QIplF\\u002f9bXTtAVjMy5RlCO0AjAU3L1yY7QO\\u002fOZ7GVCztAvZyCl1PwOkCKap19EdU6QFY4uGPPuTpAIwbTSY2eOkDv0+0vS4M6QDUjU54htD9AAfFthN+YP0DOvohqnX0\\u002fQJqMo1BbYj9AZ1q+NhlHP0A1KNkc1ys\\u002fQAH28wKVED9AzsMO6VL1PkCakSnPENo+QGdfRLXOvj5AMy1fm4yjPkAA+3mBSog+QM3IlGcIbT5AmZavTcZRPkBmZMozhDY+QDIy5RlCGz5AAAAAAAAAPkDNzRrmveQ9QJmbNcx7yT1AZmlQsjmuPUAyN2uY95I9QP8Ehn61dz1Ay9KgZHNcPUCYoLtKMUE9QGRu1jDvJT1AMjzxFq0KPUD\\u002fCQz9au88QMvXJuMo1DxAmKVByea4PEBkc1yvpJ08QDFBd5VigjxA\\u002fQ6SeyBnPEDK3Kxh3ks8QJaqx0ecMDxAZHjiLVoVPEAvRv0TGPo7QP0TGPrV3jtAyuEy4JPDO0CWr03GUag7QGN9aKwPjTtAL0uDks1xO0D8GJ54i1Y7QMjmuF5JOztAlbTTRAcgO0Bhgu4qxQQ7QC9QCRGD6TpA\\u002fB0k90DOOkDI6z7d\\u002frI6QJW5WcO8lzpAYYd0qXp8OkCo1tkXUa0\\u002fQHWk9P0Okj9AQXIP5Mx2P0AOQCrKils\\u002fQNoNRbBIQD9AqNtflgYlP0B1qXp8xAk\\u002fQEF3lWKC7j5ADkWwSEDTPkDaEssu\\u002frc+QKfg5RS8nD5Ac64A+3mBPkBAfBvhN2Y+QA1KNsf1Sj5A2RdRrbMvPkCm5WuTcRQ+QHOzhnkv+T1AQIGhX+3dPUANT7xFq8I9QNkc1ytppz1ApurxESeMPUByuAz45HA9QD+GJ96iVT1AC1RCxGA6PUDYIV2qHh89QKbvd5DcAz1Acr2SdproPEA\\u002fi61cWM08QAtZyEIWsjxA2CbjKNSWPECk9P0Okns8QHHCGPVPYDxAPZAz2w1FPEAKXk7Byyk8QNgraaeJDjxAo\\u002fmDjUfzO0Bxx55zBdg7QD2VuVnDvDtACmPUP4GhO0DWMO8lP4Y7QKP+CQz9ajtAb8wk8rpPO0A8mj\\u002fYeDQ7QAhoWr42GTtA1TV1pPT9OkCjA5CKsuI6QG\\u002fRqnBwxzpAPJ\\u002fFVi6sOkAIbeA87JA6QNU6+yKqdTpAHIpgkYCmP0DoV3t3Pos\\u002fQLUlll38bz9AgfOwQ7pUP0BOwcspeDk\\u002fQByP5g82Hj9A6FwB9vMCP0C1Khzcsec+QIH4NsJvzD5ATsZRqC2xPkAalGyO65U+QOdhh3Spej5Asy+iWmdfPkCA\\u002fbxAJUQ+QE3L1ybjKD5AGZnyDKENPkDnZg3zXvI9QLM0KNkc1z1AgAJDv9q7PUBN0F2lmKA9QBmeeItWhT1A5muTcRRqPUCyOa5X0k49QH8HyT2QMz1AS9XjI04YPUAZo\\u002f4JDP08QOZwGfDJ4TxAsj401ofGPEB\\u002fDE+8Ras8QEvaaaIDkDxAGKiEiMF0PEDkdZ9uf1k8QLFDulQ9PjxAfRHVOvsiPEBL3+8guQc8QBatCgd37DtA5Hol7TTRO0CxSEDT8rU7QH0WW7mwmjtASuR1n25\\u002fO0AWspCFLGQ7QON\\u002fq2vqSDtAr03GUagtO0B8G+E3ZhI7QEjp+x0k9zpAFrcWBOLbOkDjhDHqn8A6QK9STNBdpTpAfCBnthuKOkBI7oGc2W46QI895wqwnz9AXAsC8W2EP0Ao2RzXK2k\\u002fQPWmN73pTT9AwXRSo6cyP0CPQm2JZRc\\u002fQFwQiG8j\\u002fD5AKN6iVeHgPkD1q707n8U+QMF52CFdqj5AjkfzBxuPPkBaFQ7u2HM+QCfjKNSWWD5A87BDulQ9PkDAfl6gEiI+QI1MeYbQBj5AWhqUbI7rPUAn6K5STNA9QPO1yTgKtT1AwIPkHsiZPUCNUf8Ehn49QFkfGutDYz1AJu000QFIPUDyuk+3vyw9QL+Iap19ET1AjVaFgzv2PEBZJKBp+do8QCbyuk+3vzxA8r\\u002fVNXWkPEC\\u002fjfAbM4k8QItbCwLxbTxAWCkm6K5SPEAk90DObDc8QPHEW7QqHDxAv5J2mugAPECKYJGApuU7QFgurGZkyjtAJPzGTCKvO0DxyeEy4JM7QL2X\\u002fBieeDtAimUX\\u002f1tdO0BWMzLlGUI7QCMBTcvXJjtA785nsZULO0C8nIKXU\\u002fA6QIpqnX0R1TpAVji4Y8+5OkAjBtNJjZ46QO\\u002fT7S9LgzpAvKEIFgloOkAB8W2E35g\\u002fQM6+iGqdfT9AmoyjUFtiP0BnWr42GUc\\u002fQDMo2RzXKz9AAfbzApUQP0DOww7pUvU+QJqRKc8Q2j5AZ19Etc6+PkAzLV+bjKM+QAD7eYFKiD5AzciUZwhtPkCZlq9NxlE+QGZkyjOENj5AMjLlGUIbPkD\\u002f\\u002f\\u002f\\u002f\\u002f\\u002f\\u002f89QM3NGua95D1AmZs1zHvJPUBmaVCyOa49QDI3a5j3kj1A\\u002fwSGfrV3PUDL0qBkc1w9QJigu0oxQT1AZG7WMO8lPUAxPPEWrQo9QP8JDP1q7zxAy9cm4yjUPECYpUHJ5rg8QGRzXK+knTxAMUF3lWKCPED9DpJ7IGc8QMrcrGHeSzxAlqrHR5wwPEBjeOItWhU8QDFG\\u002fRMY+jtA\\u002fBMY+tXeO0DK4TLgk8M7QJavTcZRqDtAY31orA+NO0AvS4OSzXE7QPwYnniLVjtAyOa4Xkk7O0CVtNNEByA7QGGC7irFBDtALlAJEYPpOkD8HST3QM46QMjrPt3+sjpAlblZw7yXOkBhh3Spenw6QC5Vj484YTpAdaT0\\u002fQ6SP0BBcg\\u002fkzHY\\u002fQA5AKsqKWz9A2g1FsEhAP0Cn21+WBiU\\u002fQHWpenzECT9AQXeVYoLuPkAORbBIQNM+QNoSyy7+tz5Ap+DlFLycPkBzrgD7eYE+QEB8G+E3Zj5ADUo2x\\u002fVKPkDZF1Gtsy8+QKbla5NxFD5AcrOGeS\\u002f5PUBAgaFf7d09QA1PvEWrwj1A2RzXK2mnPUCm6vERJ4w9QHK4DPjkcD1AP4Yn3qJVPUALVELEYDo9QNghXaoeHz1ApO93kNwDPUByvZJ2mug8QD+LrVxYzTxAC1nIQhayPEDYJuMo1JY8QKT0\\u002fQ6SezxAccIY9U9gPEA9kDPbDUU8QApeTsHLKTxA1itpp4kOPECk+YONR\\u002fM7QG\\u002fHnnMF2DtAPZW5WcO8O0AKY9Q\\u002fgaE7QNYw7yU\\u002fhjtAo\\u002f4JDP1qO0BvzCTyuk87QDyaP9h4NDtACGhavjYZO0DVNXWk9P06QKEDkIqy4jpAb9GqcHDHOkA8n8VWLqw6QAht4DzskDpA1Tr7Iqp1OkChCBYJaFo6QOhXe3c+iz9AtSWWXfxvP0CB87BDulQ\\u002fQE7Byyl4OT9AGo\\u002fmDzYeP0DoXAH28wI\\u002fQLUqHNyx5z5Agfg2wm\\u002fMPkBOxlGoLbE+QBqUbI7rlT5A52GHdKl6PkCzL6JaZ18+QID9vEAlRD5ATcvXJuMoPkAZmfIMoQ0+QOZmDfNe8j1AszQo2RzXPUCAAkO\\u002f2rs9QE3QXaWYoD1AGZ54i1aFPUDma5NxFGo9QLI5rlfSTj1AfwfJPZAzPUBL1eMjThg9QBij\\u002fgkM\\u002fTxA5nAZ8MnhPECyPjTWh8Y8QH8MT7xFqzxAS9ppogOQPEAYqISIwXQ8QOR1n25\\u002fWTxAsUO6VD0+PEB9EdU6+yI8QErf7yC5BzxAGK0KB3fsO0DjeiXtNNE7QLFIQNPytTtAfRZbubCaO0BK5HWfbn87QBaykIUsZDtA43+ra+pIO0CvTcZRqC07QHwb4TdmEjtASOn7HST3OkAVtxYE4ts6QOOEMeqfwDpAr1JM0F2lOkB8IGe2G4o6QEjugZzZbjpAFbycgpdTOkBcCwLxbYQ\\u002fQCjZHNcraT9A9aY3velNP0DBdFKjpzI\\u002fQI5CbYllFz9AXBCIbyP8PkAo3qJV4eA+QPWrvTufxT5AwXnYIV2qPkCOR\\u002fMHG48+QFoVDu7Ycz5AJ+Mo1JZYPkDzsEO6VD0+QMB+XqASIj5AjUx5htAGPkBZGpRsjus9QCforlJM0D1A87XJOAq1PUDAg+QeyJk9QI1R\\u002fwSGfj1AWR8a60NjPUAm7TTRAUg9QPK6T7e\\u002fLD1Av4hqnX0RPUCLVoWDO\\u002fY8QFkkoGn52jxAJvK6T7e\\u002fPEDyv9U1daQ8QL+N8BsziTxAi1sLAvFtPEBYKSborlI8QCT3QM5sNzxA8cRbtCocPEC9knaa6AA8QItgkYCm5TtAVi6sZmTKO0Ak\\u002fMZMIq87QPHJ4TLgkztAvZf8GJ54O0CKZRf\\u002fW107QFYzMuUZQjtAIwFNy9cmO0DvzmexlQs7QLycgpdT8DpAiGqdfRHVOkBWOLhjz7k6QCMG00mNnjpA79PtL0uDOkC8oQgWCWg6QIhvI\\u002fzGTDpAz76Iap19P0CcjKNQW2I\\u002fQGhavjYZRz9ANSjZHNcrP0AB9vMClRA\\u002fQM\\u002fDDulS9T5AnJEpzxDaPkBoX0S1zr4+QDUtX5uMoz5AAft5gUqIPkDOyJRnCG0+QJqWr03GUT5AZ2TKM4Q2PkAzMuUZQhs+QAAAAAAAAD5Azc0a5r3kPUCamzXMe8k9QGdpULI5rj1AMzdrmPeSPUAABYZ+tXc9QM3SoGRzXD1AmaC7SjFBPUBmbtYw7yU9QDI88RatCj1A\\u002fwkM\\u002fWrvPEDN1ybjKNQ8QJmlQcnmuDxAZnNcr6SdPEAyQXeVYoI8QP8OknsgZzxAy9ysYd5LPECYqsdHnDA8QGR44i1aFTxAMUb9Exj6O0D\\u002fExj61d47QMrhMuCTwztAmK9NxlGoO0BkfWisD407QDFLg5LNcTtA\\u002fRieeItWO0DK5rheSTs7QJa000QHIDtAY4LuKsUEO0AvUAkRg+k6QPwdJPdAzjpAyus+3f6yOkCWuVnDvJc6QGOHdKl6fDpAL1WPjzhhOkD8Iqp19kU6QEFyD+TMdj9ADkAqyopbP0DaDUWwSEA\\u002fQKfbX5YGJT9Ac6l6fMQJP0BBd5Vigu4+QA5FsEhA0z5A2hLLLv63PkCn4OUUvJw+QHOuAPt5gT5AQHwb4TdmPkANSjbH9Uo+QNkXUa2zLz5ApuVrk3EUPkBys4Z5L\\u002fk9QD+BoV\\u002ft3T1ADU+8RavCPUDZHNcraac9QKbq8REnjD1AcrgM+ORwPUA\\u002fhifeolU9QAtUQsRgOj1A2CFdqh4fPUCk73eQ3AM9QHG9knaa6DxAP4utXFjNPEALWchCFrI8QNgm4yjUljxApPT9DpJ7PEBxwhj1T2A8QD2QM9sNRTxACl5OwcspPEDWK2mniQ48QKP5g41H8ztAcceecwXYO0A8lblZw7w7QApj1D+BoTtA1jDvJT+GO0Cj\\u002fgkM\\u002fWo7QG\\u002fMJPK6TztAPJo\\u002f2Hg0O0AIaFq+Nhk7QNU1daT0\\u002fTpAoQOQirLiOkBu0apwcMc6QDyfxVYurDpACG3gPOyQOkDVOvsiqnU6QKEIFgloWjpAbtYw7yU\\u002fOkC1JZZd\\u002fG8\\u002fQIHzsEO6VD9ATsHLKXg5P0Aaj+YPNh4\\u002fQOdcAfbzAj9AtSoc3LHnPkCB+DbCb8w+QE7GUagtsT5AGpRsjuuVPkDnYYd0qXo+QLMvolpnXz5AgP28QCVEPkBNy9cm4yg+QBmZ8gyhDT5A5mYN817yPUCyNCjZHNc9QIACQ7\\u002fauz1ATdBdpZigPUAZnniLVoU9QOZrk3EUaj1AsjmuV9JOPUB\\u002fB8k9kDM9QEvV4yNOGD1AGKP+CQz9PEDkcBnwyeE8QLI+NNaHxjxAfwxPvEWrPEBL2mmiA5A8QBiohIjBdDxA5HWfbn9ZPECxQ7pUPT48QH0R1Tr7IjxASt\\u002fvILkHPEAWrQoHd+w7QOR6Je000TtAr0hA0\\u002fK1O0B9Flu5sJo7QErkdZ9ufztAFrKQhSxkO0Djf6tr6kg7QK9NxlGoLTtAfBvhN2YSO0BI6fsdJPc6QBW3FgTi2zpA4YQx6p\\u002fAOkCvUkzQXaU6QHwgZ7YbijpASO6BnNluOkAVvJyCl1M6QOGJt2hVODpAKNkc1ytpP0D1pje96U0\\u002fQMF0UqOnMj9AjkJtiWUXP0BaEIhvI\\u002fw+QCjeolXh4D5A9au9O5\\u002fFPkDBedghXao+QI5H8wcbjz5AWhUO7thzPkAn4yjUllg+QPOwQ7pUPT5AwH5eoBIiPkCNTHmG0AY+QFkalGyO6z1AJuiuUkzQPUDztck4CrU9QMCD5B7ImT1AjVH\\u002fBIZ+PUBZHxrrQ2M9QCbtNNEBSD1A8rpPt78sPUC\\u002fiGqdfRE9QItWhYM79jxAWCSgafnaPEAm8rpPt788QPK\\u002f1TV1pDxAv43wGzOJPECLWwsC8W08QFgpJuiuUjxAJPdAzmw3PEDxxFu0Khw8QL2SdproADxAimCRgKblO0BYLqxmZMo7QCP8xkwirztA8cnhMuCTO0C9l\\u002fwYnng7QIplF\\u002f9bXTtAVjMy5RlCO0AjAU3L1yY7QO\\u002fOZ7GVCztAvJyCl1PwOkCIap19EdU6QFU4uGPPuTpAIwbTSY2eOkDv0+0vS4M6QLyhCBYJaDpAiG8j\\u002fMZMOkBVPT7ihDE6QJyMo1BbYj9AaFq+NhlHP0A1KNkc1ys\\u002fQAH28wKVED9AzsMO6VL1PkCckSnPENo+QGhfRLXOvj5ANS1fm4yjPkAB+3mBSog+QM7IlGcIbT5AmpavTcZRPkBnZMozhDY+QDMy5RlCGz5AAAAAAAAAPkDNzRrmveQ9QJmbNcx7yT1AZ2lQsjmuPUAzN2uY95I9QAAFhn61dz1AzdKgZHNcPUCZoLtKMUE9QGZu1jDvJT1AMjzxFq0KPUD\\u002fCQz9au88QMvXJuMo1DxAmaVByea4PEBmc1yvpJ08QDJBd5VigjxA\\u002fw6SeyBnPEDL3Kxh3ks8QJiqx0ecMDxAZHjiLVoVPEAxRv0TGPo7QP0TGPrV3jtAy+Ey4JPDO0CWr03GUag7QGR9aKwPjTtAMUuDks1xO0D9GJ54i1Y7QMrmuF5JOztAlrTTRAcgO0Bjgu4qxQQ7QC9QCRGD6TpA\\u002fB0k90DOOkDI6z7d\\u002frI6QJa5WcO8lzpAY4d0qXp8OkAvVY+POGE6QPwiqnX2RTpAyPDEW7QqOkAOQCrKils\\u002fQNoNRbBIQD9Ap9tflgYlP0BzqXp8xAk\\u002fQEB3lWKC7j5ADkWwSEDTPkDaEssu\\u002frc+QKfg5RS8nD5Ac64A+3mBPkBAfBvhN2Y+QA1KNsf1Sj5A2RdRrbMvPkCm5WuTcRQ+QHKzhnkv+T1AP4GhX+3dPUALT7xFq8I9QNkc1ytppz1ApurxESeMPUByuAz45HA9QD+GJ96iVT1AC1RCxGA6PUDYIV2qHh89QKTvd5DcAz1Acb2SdproPEA9i61cWM08QAtZyEIWsjxA2CbjKNSWPECk9P0Okns8QHHCGPVPYDxAPZAz2w1FPEAKXk7Byyk8QNYraaeJDjxAo\\u002fmDjUfzO0Bvx55zBdg7QD2VuVnDvDtACGPUP4GhO0DWMO8lP4Y7QKP+CQz9ajtAb8wk8rpPO0A8mj\\u002fYeDQ7QAhoWr42GTtA1TV1pPT9OkChA5CKsuI6QG7RqnBwxzpAOp\\u002fFVi6sOkAIbeA87JA6QNU6+yKqdTpAoQgWCWhaOkBu1jDvJT86QDqkS9XjIzpAgfOwQ7pUP0BOwcspeDk\\u002fQBqP5g82Hj9A51wB9vMCP0CzKhzcsec+QIH4NsJvzD5ATsZRqC2xPkAalGyO65U+QOdhh3Spej5Asy+iWmdfPkCA\\u002fbxAJUQ+QE3L1ybjKD5AGZnyDKENPkDmZg3zXvI9QLI0KNkc1z1AfwJDv9q7PUBN0F2lmKA9QBmeeItWhT1A5muTcRRqPUCyOa5X0k49QH8HyT2QMz1AS9XjI04YPUAYo\\u002f4JDP08QORwGfDJ4TxAsT401ofGPEB\\u002fDE+8Ras8QEvaaaIDkDxAGKiEiMF0PEDkdZ9uf1k8QLFDulQ9PjxAfRHVOvsiPEBK3+8guQc8QBatCgd37DtA43ol7TTRO0CxSEDT8rU7QHwWW7mwmjtASuR1n25\\u002fO0AWspCFLGQ7QON\\u002fq2vqSDtAr03GUagtO0B8G+E3ZhI7QEjp+x0k9zpAFbcWBOLbOkDhhDHqn8A6QK5STNBdpTpAfCBnthuKOkBI7oGc2W46QBW8nIKXUzpA4Ym3aFU4OkCuV9JOEx06QPWmN73pTT9AwXRSo6cyP0COQm2JZRc\\u002fQFoQiG8j\\u002fD5AJ96iVeHgPkD1q707n8U+QMF52CFdqj5AjkfzBxuPPkBaFQ7u2HM+QCfjKNSWWD5A87BDulQ9PkDAfl6gEiI+QI1MeYbQBj5AWRqUbI7rPUAm6K5STNA9QPK1yTgKtT1AwIPkHsiZPUCNUf8Ehn49QFkfGutDYz1AJu000QFIPUDyuk+3vyw9QL+Iap19ET1Ai1aFgzv2PEBYJKBp+do8QCTyuk+3vzxA8r\\u002fVNXWkPEC\\u002fjfAbM4k8QItbCwLxbTxAWCkm6K5SPEAk90DObDc8QPHEW7QqHDxAvZJ2mugAPECKYJGApuU7QFYurGZkyjtAJPzGTCKvO0DvyeEy4JM7QL2X\\u002fBieeDtAimUX\\u002f1tdO0BWMzLlGUI7QCMBTcvXJjtA785nsZULO0C8nIKXU\\u002fA6QIhqnX0R1TpAVTi4Y8+5OkAhBtNJjZ46QO\\u002fT7S9LgzpAvKEIFgloOkCIbyP8xkw6QFU9PuKEMTpAIQtZyEIWOkA=\",\"shape\":\"50, 50\"},\"type\":\"surface\"},{\"colorscale\":[[0.0,\"rgb(247,252,245)\"],[0.125,\"rgb(229,245,224)\"],[0.25,\"rgb(199,233,192)\"],[0.375,\"rgb(161,217,155)\"],[0.5,\"rgb(116,196,118)\"],[0.625,\"rgb(65,171,93)\"],[0.75,\"rgb(35,139,69)\"],[0.875,\"rgb(0,109,44)\"],[1.0,\"rgb(0,68,27)\"]],\"name\":\"Paint\",\"opacity\":0.5,\"x\":{\"dtype\":\"f8\",\"bdata\":\"AAAAAAAAAADmFLycgpfjP+YUvJyCl\\u002fM\\u002fWR8a60Nj\\u002fT\\u002fmFLycgpcDQCAa60NjfQhAWR8a60NjDUBJkiRJkiQRQOYUvJyClxNAg5dT8HIKFkAgGutDY30YQLycgpdT8BpAWR8a60NjHUD2obE+NNYfQEmSJEmSJCFAmFPwcgpeIkDmFLycgpcjQDTWh8b60CRAg5dT8HIKJkDRWB8a60MnQCAa60NjfShAbtu2bdu2KUC8nIKXU\\u002fAqQAteTsHLKSxAWR8a60NjLUCn4OUUvJwuQPahsT401i9AorE+NNaHMEBJkiRJkiQxQPByCl5OwTFAmFPwcgpeMkA\\u002fNNaHxvoyQOYUvJyClzNAjfWhsT40NEA01ofG+tA0QNy2bdu2bTVAg5dT8HIKNkAqeDkFL6c2QNFYHxrrQzdAeDkFL6fgN0AgGutDY304QMf60FgfGjlAbtu2bdu2OUAVvJyCl1M6QLycgpdT8DpAY31orA+NO0ALXk7Byyk8QLI+NNaHxjxAWR8a60NjPUAAAAAAAAA+QA==\"},\"y\":{\"dtype\":\"f8\",\"bdata\":\"AAAAAAAAAADmFLycgpfjP+YUvJyCl\\u002fM\\u002fWR8a60Nj\\u002fT\\u002fmFLycgpcDQCAa60NjfQhAWR8a60NjDUBJkiRJkiQRQOYUvJyClxNAg5dT8HIKFkAgGutDY30YQLycgpdT8BpAWR8a60NjHUD2obE+NNYfQEmSJEmSJCFAmFPwcgpeIkDmFLycgpcjQDTWh8b60CRAg5dT8HIKJkDRWB8a60MnQCAa60NjfShAbtu2bdu2KUC8nIKXU\\u002fAqQAteTsHLKSxAWR8a60NjLUCn4OUUvJwuQPahsT401i9AorE+NNaHMEBJkiRJkiQxQPByCl5OwTFAmFPwcgpeMkA\\u002fNNaHxvoyQOYUvJyClzNAjfWhsT40NEA01ofG+tA0QNy2bdu2bTVAg5dT8HIKNkAqeDkFL6c2QNFYHxrrQzdAeDkFL6fgN0AgGutDY304QMf60FgfGjlAbtu2bdu2OUAVvJyCl1M6QLycgpdT8DpAY31orA+NO0ALXk7Byyk8QLI+NNaHxjxAWR8a60NjPUAAAAAAAAA+QA==\"},\"z\":{\"dtype\":\"f8\",\"bdata\":\"AAAAAAAAREDwcgpeTsFDQOHlFLycgkNA0VgfGutDQ0DCyyl4OQVDQLI+NNaHxkJAorE+NNaHQkCSJEmSJElCQIKXU\\u002fByCkJAcwpeTsHLQUBjfWisD41BQFPwcgpeTkFARGN9aKwPQUA01ofG+tBAQCVJkiRJkkBAFbycgpdTQEAFL6fg5RRAQOtDY31orD9Ayyl4OQUvP0CtD431obE+QI31obE+ND5Abdu2bdu2PUBOwcspeDk9QC6n4OUUvDxAEI31obE+PEDwcgpeTsE7QNBYHxrrQztAsj401ofGOkCTJEmSJEk6QHMKXk7ByzlAU\\u002fByCl5OOUA01ofG+tA4QBW8nIKXUzhA9qGxPjTWN0DWh8b60Fg3QLZt27Zt2zZAl1PwcgpeNkB4OQUvp+A1QFkfGutDYzVAOgUvp+DlNEAa60NjfWg0QPrQWB8a6zNA27Zt27ZtM0C8nIKXU\\u002fAyQJ2Cl1PwcjJAfmisD431MUBeTsHLKXgxQD401ofG+jBAHxrrQ2N9MEAAAAAAAAAwQLycgpdT8ENArA+N9aGxQ0CdgpdT8HJDQI31obE+NENAfmisD431QkBu27Zt27ZCQF5OwcspeEJATsHLKXg5QkA+NNaHxvpBQC+n4OUUvEFAHxrrQ2N9QUAPjfWhsT5BQAAAAAAAAEFA8HIKXk7BQEDh5RS8nIJAQNFYHxrrQ0BAwcspeDkFQEBjfWisD40\\u002fQENjfWisDz9AJUmSJEmSPkAFL6fg5RQ+QOUUvJyClz1AxvrQWB8aPUCm4OUUvJw8QIjG+tBYHzxAaKwPjfWhO0BIkiRJkiQ7QCp4OQUvpzpAC15OwcspOkDrQ2N9aKw5QMspeDkFLzlArA+N9aGxOECN9aGxPjQ4QG7btm3btjdATsHLKXg5N0Aup+DlFLw2QA+N9aGxPjZA8HIKXk7BNUDRWB8a60M1QLI+NNaHxjRAkiRJkiRJNEByCl5OwcszQFPwcgpeTjNANNaHxvrQMkAVvJyCl1MyQPahsT401jFA1ofG+tBYMUC2bdu2bdswQJdT8HIKXjBA8HIKXk7BL0B4OQUvp+BDQGisD431oUNAWR8a60NjQ0BJkiRJkiRDQDoFL6fg5UJAKng5BS+nQkAa60NjfWhCQApeTsHLKUJA+tBYHxrrQUDrQ2N9aKxBQNu2bdu2bUFAyyl4OQUvQUC8nIKXU\\u002fBAQKwPjfWhsUBAnYKXU\\u002fByQECN9aGxPjRAQPrQWB8a6z9A27Zt27ZtP0C7nIKXU\\u002fA+QJ2Cl1Pwcj5AfWisD431PUBdTsHLKXg9QD401ofG+jxAHhrrQ2N9PEAAAAAAAAA8QODlFLycgjtAwMspeDkFO0CisT401oc6QIOXU\\u002fByCjpAY31orA+NOUBDY31orA85QCRJkiRJkjhABS+n4OUUOEDmFLycgpc3QMb60FgfGjdApuDlFLycNkCHxvrQWB82QGisD431oTVASZIkSZIkNUAqeDkFL6c0QApeTsHLKTRA6kNjfWisM0DLKXg5BS8zQKwPjfWhsTJAjfWhsT40MkBu27Zt27YxQE7Byyl4OTFALqfg5RS8MEAPjfWhsT4wQODlFLycgi9ANNaHxvrQQ0AkSZIkSZJDQBW8nIKXU0NABS+n4OUUQ0D2obE+NNZCQOYUvJyCl0JA1ofG+tBYQkDG+tBYHxpCQLZt27Zt20FAp+DlFLycQUCXU\\u002fByCl5BQIfG+tBYH0FAeDkFL6fgQEBorA+N9aFAQFkfGutDY0BASZIkSZIkQEByCl5Owcs\\u002fQFPwcgpeTj9AM9aHxvrQPkAVvJyCl1M+QPWhsT401j1A1YfG+tBYPUC2bdu2bds8QJZT8HIKXjxAeDkFL6fgO0BYHxrrQ2M7QDgFL6fg5TpAGutDY31oOkD70FgfGus5QNy2bdu2bTlAvJyCl1PwOECdgpdT8HI4QH5orA+N9TdAXk7Byyl4N0A\\u002fNNaHxvo2QB8a60NjfTZAAAAAAAAANkDh5RS8nII1QMLLKXg5BTVAorE+NNaHNECCl1Pwcgo0QGN9aKwPjTNARGN9aKwPM0AlSZIkSZIyQAYvp+DlFDJA5hS8nIKXMUDG+tBYHxoxQKfg5RS8nDBAiMb60FgfMEDSWB8a60MvQPByCl5OwUNA4OUUvJyCQ0DRWB8a60NDQMHLKXg5BUNAsj401ofGQkCisT401odCQJIkSZIkSUJAgpdT8HIKQkByCl5OwctBQGN9aKwPjUFAU\\u002fByCl5OQUBDY31orA9BQDTWh8b60EBAJEmSJEmSQEAVvJyCl1NAQAUvp+DlFEBA6kNjfWisP0DLKXg5BS8\\u002fQKsPjfWhsT5AjfWhsT40PkBt27Zt27Y9QE3Byyl4OT1ALqfg5RS8PEAOjfWhsT48QPByCl5OwTtA0FgfGutDO0CwPjTWh8Y6QJIkSZIkSTpAcwpeTsHLOUBU8HIKXk45QDTWh8b60DhAFbycgpdTOED2obE+NNY3QNaHxvrQWDdAt23btm3bNkCXU\\u002fByCl42QHg5BS+n4DVAWR8a60NjNUA6BS+n4OU0QBrrQ2N9aDRA+tBYHxrrM0Dbtm3btm0zQLycgpdT8DJAnYKXU\\u002fByMkB+aKwPjfUxQF5OwcspeDFAPjTWh8b6MEAfGutDY30wQAAAAAAAADBAwsspeDkFL0CtD431obFDQJ2Cl1PwckNAjfWhsT40Q0B9aKwPjfVCQG7btm3btkJAXk7Byyl4QkBOwcspeDlCQD401ofG+kFALqfg5RS8QUAgGutDY31BQBCN9aGxPkFAAAAAAAAAQUDwcgpeTsFAQODlFLycgkBA0lgfGutDQEDCyyl4OQVAQGN9aKwPjT9AQ2N9aKwPP0AjSZIkSZI+QAYvp+DlFD5A5hS8nIKXPUDG+tBYHxo9QKbg5RS8nDxAhsb60FgfPEBqrA+N9aE7QEqSJEmSJDtAKng5BS+nOkAKXk7Byyk6QO1DY31orDlAzCl4OQUvOUCsD431obE4QI31obE+NDhAbtu2bdu2N0BOwcspeDk3QC+n4OUUvDZAD431obE+NkDwcgpeTsE1QNFYHxrrQzVAsj401ofGNECSJEmSJEk0QHIKXk7ByzNAU\\u002fByCl5OM0A01ofG+tAyQBW8nIKXUzJA9qGxPjTWMUDWh8b60FgxQLZt27Zt2zBAl1PwcgpeMEDwcgpeTsEvQLI+NNaHxi5AaawPjfWhQ0BZHxrrQ2NDQEqSJEmSJENAOgUvp+DlQkAqeDkFL6dCQBrrQ2N9aEJACl5OwcspQkD70FgfGutBQOtDY31orEFA3LZt27ZtQUDMKXg5BS9BQLycgpdT8EBArQ+N9aGxQECdgpdT8HJAQI71obE+NEBA+9BYHxrrP0Dbtm3btm0\\u002fQL2cgpdT8D5AnYKXU\\u002fByPkB+aKwPjfU9QF5OwcspeD1APjTWh8b6PEAgGutDY308QAAAAAAAADxA4uUUvJyCO0DCyyl4OQU7QKKxPjTWhzpAg5dT8HIKOkBkfWisD405QERjfWisDzlAJEmSJEmSOEAFL6fg5RQ4QOYUvJyClzdAxvrQWB8aN0Cn4OUUvJw2QIfG+tBYHzZAaKwPjfWhNUBJkiRJkiQ1QCp4OQUvpzRACl5OwcspNEDqQ2N9aKwzQMspeDkFLzNArA+N9aGxMkCN9aGxPjQyQG7btm3btjFATsHLKXg5MUAup+DlFLwwQA+N9aGxPjBA4OUUvJyCL0CisT401ocuQCVJkiRJkkNAFbycgpdTQ0AGL6fg5RRDQPahsT401kJA5hS8nIKXQkDWh8b60FhCQMb60FgfGkJAt23btm3bQUCn4OUUvJxBQJhT8HIKXkFAiMb60FgfQUB4OQUvp+BAQGmsD431oUBAWR8a60NjQEBKkiRJkiRAQHMKXk7Byz9AU\\u002fByCl5OP0A11ofG+tA+QBW8nIKXUz5A9qGxPjTWPUDWh8b60Fg9QLZt27Zt2zxAmFPwcgpePEB4OQUvp+A7QFofGutDYztAOgUvp+DlOkAa60NjfWg6QPvQWB8a6zlA3LZt27ZtOUC8nIKXU\\u002fA4QJyCl1PwcjhAfWisD431N0BeTsHLKXg3QD401ofG+jZAHxrrQ2N9NkD\\u002f\\u002f\\u002f\\u002f\\u002f\\u002f\\u002f81QODlFLycgjVAwcspeDkFNUCisT401oc0QIKXU\\u002fByCjRAYn1orA+NM0BDY31orA8zQCRJkiRJkjJABS+n4OUUMkDmFLycgpcxQMb60FgfGjFApuDlFLycMECHxvrQWB8wQNBYHxrrQy9AkiRJkiRJLkDh5RS8nIJDQNFYHxrrQ0NAwsspeDkFQ0CyPjTWh8ZCQKKxPjTWh0JAkiRJkiRJQkCCl1PwcgpCQHMKXk7By0FAY31orA+NQUBU8HIKXk5BQERjfWisD0FANNaHxvrQQEAlSZIkSZJAQBW8nIKXU0BABi+n4OUUQEDrQ2N9aKw\\u002fQMspeDkFLz9ArQ+N9aGxPkCN9aGxPjQ+QG7btm3btj1ATsHLKXg5PUAup+DlFLw8QBCN9aGxPjxA8HIKXk7BO0DSWB8a60M7QLI+NNaHxjpAkiRJkiRJOkBzCl5Owcs5QFXwcgpeTjlANdaHxvrQOEAVvJyCl1M4QPahsT401jdA1ofG+tBYN0C3bdu2bds2QJhT8HIKXjZAeDkFL6fgNUBZHxrrQ2M1QDoFL6fg5TRAGutDY31oNED70FgfGuszQNu2bdu2bTNAvJyCl1PwMkCdgpdT8HIyQH5orA+N9TFAXk7Byyl4MUA\\u002fNNaHxvowQB8a60NjfTBAAAAAAAAAMEDCyyl4OQUvQIOXU\\u002fByCi5AnYKXU\\u002fByQ0CN9aGxPjRDQH5orA+N9UJAbtu2bdu2QkBeTsHLKXhCQE7Byyl4OUJAPjTWh8b6QUAvp+DlFLxBQB8a60NjfUFAEI31obE+QUAAAAAAAABBQPByCl5OwUBA4eUUvJyCQEDRWB8a60NAQMLLKXg5BUBAY31orA+NP0BDY31orA8\\u002fQCVJkiRJkj5ABS+n4OUUPkDmFLycgpc9QMb60FgfGj1ApuDlFLycPECIxvrQWB88QGisD431oTtASpIkSZIkO0AqeDkFL6c6QApeTsHLKTpA60NjfWisOUDNKXg5BS85QK0PjfWhsThAjfWhsT40OEBu27Zt27Y3QE7Byyl4OTdAL6fg5RS8NkAQjfWhsT42QPByCl5OwTVA0VgfGutDNUCyPjTWh8Y0QJIkSZIkSTRAcwpeTsHLM0BT8HIKXk4zQDTWh8b60DJAFbycgpdTMkD2obE+NNYxQNaHxvrQWDFAt23btm3bMECXU\\u002fByCl4wQPByCl5OwS9Asj401ofGLkBzCl5OwcstQFkfGutDY0NASZIkSZIkQ0A6BS+n4OVCQCp4OQUvp0JAGutDY31oQkAKXk7ByylCQPrQWB8a60FA60NjfWisQUDbtm3btm1BQMwpeDkFL0FAvJyCl1PwQECsD431obFAQJ2Cl1PwckBAjfWhsT40QED70FgfGus\\u002fQNu2bdu2bT9Au5yCl1PwPkCdgpdT8HI+QH1orA+N9T1AXk7Byyl4PUA+NNaHxvo8QB4a60NjfTxAAAAAAAAAPEDg5RS8nII7QMLLKXg5BTtAorE+NNaHOkCCl1Pwcgo6QGN9aKwPjTlARWN9aKwPOUAlSZIkSZI4QAUvp+DlFDhA5hS8nIKXN0DG+tBYHxo3QKfg5RS8nDZAiMb60FgfNkBorA+N9aE1QEmSJEmSJDVAKng5BS+nNEAKXk7Byyk0QOtDY31orDNAyyl4OQUvM0CsD431obEyQI31obE+NDJAbtu2bdu2MUBOwcspeDkxQC+n4OUUvDBAD431obE+MEDg5RS8nIIvQKKxPjTWhy5AY31orA+NLUAVvJyCl1NDQAUvp+DlFENA9qGxPjTWQkDmFLycgpdCQNaHxvrQWEJAxvrQWB8aQkC2bdu2bdtBQKfg5RS8nEFAl1PwcgpeQUCIxvrQWB9BQHg5BS+n4EBAaKwPjfWhQEBZHxrrQ2NAQEmSJEmSJEBAcwpeTsHLP0BT8HIKXk4\\u002fQDPWh8b60D5AFbycgpdTPkD1obE+NNY9QNaHxvrQWD1Atm3btm3bPECWU\\u002fByCl48QHg5BS+n4DtAWB8a60NjO0A6BS+n4OU6QBrrQ2N9aDpA+tBYHxrrOUDbtm3btm05QL2cgpdT8DhAnYKXU\\u002fByOEB9aKwPjfU3QF5OwcspeDdAPjTWh8b6NkAfGutDY302QAAAAAAAADZA4OUUvJyCNUDByyl4OQU1QKKxPjTWhzRAgpdT8HIKNEBjfWisD40zQENjfWisDzNAJEmSJEmSMkAFL6fg5RQyQOYUvJyClzFAxvrQWB8aMUCn4OUUvJwwQIfG+tBYHzBA0FgfGutDL0CSJEmSJEkuQFPwcgpeTi1A0VgfGutDQ0DByyl4OQVDQLI+NNaHxkJAorE+NNaHQkCSJEmSJElCQIKXU\\u002fByCkJAcgpeTsHLQUBjfWisD41BQFPwcgpeTkFARGN9aKwPQUA01ofG+tBAQCRJkiRJkkBAFbycgpdTQEAFL6fg5RRAQOtDY31orD9Ayyl4OQUvP0CrD431obE+QI31obE+ND5Abdu2bdu2PUBOwcspeDk9QC6n4OUUvDxADo31obE+PEDwcgpeTsE7QNBYHxrrQztAsj401ofGOkCSJEmSJEk6QHIKXk7ByzlAU\\u002fByCl5OOUA11ofG+tA4QBW8nIKXUzhA9aGxPjTWN0DWh8b60Fg3QLZt27Zt2zZAl1PwcgpeNkB4OQUvp+A1QFgfGutDYzVAOQUvp+DlNEAa60NjfWg0QPrQWB8a6zNA27Zt27ZtM0C7nIKXU\\u002fAyQJyCl1PwcjJAfWisD431MUBeTsHLKXgxQD401ofG+jBAHxrrQ2N9MED+\\u002f\\u002f\\u002f\\u002f\\u002f\\u002f8vQMDLKXg5BS9AgpdT8HIKLkBDY31orA8tQI31obE+NENAfWisD431QkBu27Zt27ZCQF5OwcspeEJATsHLKXg5QkA+NNaHxvpBQC6n4OUUvEFAHxrrQ2N9QUAPjfWhsT5BQAAAAAAAAEFA8HIKXk7BQEDg5RS8nIJAQNFYHxrrQ0BAwcspeDkFQEBjfWisD40\\u002fQENjfWisDz9AI0mSJEmSPkAFL6fg5RQ+QOUUvJyClz1AxvrQWB8aPUCm4OUUvJw8QIbG+tBYHzxAaKwPjfWhO0BIkiRJkiQ7QCp4OQUvpzpACl5OwcspOkDqQ2N9aKw5QMwpeDkFLzlArg+N9aGxOECO9aGxPjQ4QG7btm3btjdATsHLKXg5N0Avp+DlFLw2QBCN9aGxPjZA8XIKXk7BNUDRWB8a60M1QLI+NNaHxjRAkiRJkiRJNEBzCl5OwcszQFTwcgpeTjNANNaHxvrQMkAVvJyCl1MyQPahsT401jFA1ofG+tBYMUC3bdu2bdswQJhT8HIKXjBA8HIKXk7BL0CyPjTWh8YuQHMKXk7Byy1ANdaHxvrQLEBJkiRJkiRDQDkFL6fg5UJAKng5BS+nQkAa60NjfWhCQApeTsHLKUJA+tBYHxrrQUDqQ2N9aKxBQNu2bdu2bUFAyyl4OQUvQUC8nIKXU\\u002fBAQKwPjfWhsUBAnIKXU\\u002fByQECN9aGxPjRAQPrQWB8a6z9A27Zt27ZtP0C7nIKXU\\u002fA+QJuCl1Pwcj5AfWisD431PUBdTsHLKXg9QD401ofG+jxAHhrrQ2N9PED+\\u002f\\u002f\\u002f\\u002f\\u002f\\u002f87QODlFLycgjtAwMspeDkFO0CisT401oc6QIKXU\\u002fByCjpAYn1orA+NOUBEY31orA85QCZJkiRJkjhABi+n4OUUOEDmFLycgpc3QMb60FgfGjdAp+DlFLycNkCIxvrQWB82QGmsD431oTVASZIkSZIkNUAqeDkFL6c0QApeTsHLKTRA60NjfWisM0DMKXg5BS8zQKwPjfWhsTJAjfWhsT40MkBu27Zt27YxQE7Byyl4OTFAL6fg5RS8MEAQjfWhsT4wQODlFLycgi9AorE+NNaHLkBjfWisD40tQCVJkiRJkixABS+n4OUUQ0D1obE+NNZCQOYUvJyCl0JA1ofG+tBYQkDG+tBYHxpCQLZt27Zt20FApuDlFLycQUCYU\\u002fByCl5BQIjG+tBYH0FAeDkFL6fgQEBorA+N9aFAQFgfGutDY0BASpIkSZIkQEBzCl5Owcs\\u002fQFPwcgpeTj9AM9aHxvrQPkATvJyCl1M+QPahsT401j1A1ofG+tBYPUC2bdu2bds8QJZT8HIKXjxAdjkFL6fgO0BaHxrrQ2M7QDoFL6fg5TpAGutDY31oOkD60FgfGus5QNq2bdu2bTlAvJyCl1PwOECegpdT8HI4QH5orA+N9TdAXk7Byyl4N0A+NNaHxvo2QB8a60NjfTZAAAAAAAAANkDh5RS8nII1QMHLKXg5BTVAorE+NNaHNECCl1Pwcgo0QGN9aKwPjTNARGN9aKwPM0AkSZIkSZIyQAUvp+DlFDJA5hS8nIKXMUDG+tBYHxoxQKfg5RS8nDBAiMb60FgfMEDQWB8a60MvQJIkSZIkSS5AU\\u002fByCl5OLUAVvJyCl1MsQMLLKXg5BUNAsj401ofGQkCisT401odCQJIkSZIkSUJAg5dT8HIKQkBzCl5OwctBQGN9aKwPjUFAVPByCl5OQUBEY31orA9BQDXWh8b60EBAJUmSJEmSQEAVvJyCl1NAQAYvp+DlFEBA60NjfWisP0DNKXg5BS8\\u002fQK0PjfWhsT5AjfWhsT40PkBu27Zt27Y9QE7Byyl4OT1AMKfg5RS8PEAQjfWhsT48QPByCl5OwTtA0lgfGutDO0CyPjTWh8Y6QJMkSZIkSTpAcwpeTsHLOUBS8HIKXk45QDTWh8b60DhAFrycgpdTOED2obE+NNY3QNaHxvrQWDdAtm3btm3bNkCXU\\u002fByCl42QHg5BS+n4DVAWR8a60NjNUA5BS+n4OU0QBrrQ2N9aDRA+tBYHxrrM0Dbtm3btm0zQLycgpdT8DJAnIKXU\\u002fByMkB9aKwPjfUxQF5OwcspeDFAPjTWh8b6MEAfGutDY30wQAAAAAAAADBAwMspeDkFL0CCl1PwcgouQENjfWisDy1ABS+n4OUULEB+aKwPjfVCQG7btm3btkJAXk7Byyl4QkBOwcspeDlCQD801ofG+kFAL6fg5RS8QUAfGutDY31BQBCN9aGxPkFAAAAAAAAAQUDxcgpeTsFAQOHlFLycgkBA0VgfGutDQEDCyyl4OQVAQGN9aKwPjT9ARWN9aKwPP0AlSZIkSZI+QAUvp+DlFD5A5hS8nIKXPUDG+tBYHxo9QKjg5RS8nDxAiMb60FgfPEBorA+N9aE7QEqSJEmSJDtAKng5BS+nOkALXk7Byyk6QOtDY31orDlAyyl4OQUvOUCtD431obE4QI71obE+NDhAbtu2bdu2N0BOwcspeDk3QC6n4OUUvDZAEI31obE+NkDwcgpeTsE1QNJYHxrrQzVAsj401ofGNECSJEmSJEk0QHMKXk7ByzNAU\\u002fByCl5OM0A11ofG+tAyQBW8nIKXUzJA9aGxPjTWMUDWh8b60FgxQLZt27Zt2zBAmFPwcgpeMEDwcgpeTsEvQLA+NNaHxi5AcwpeTsHLLUAz1ofG+tAsQPahsT401itAOgUvp+DlQkAqeDkFL6dCQBrrQ2N9aEJACl5OwcspQkD70FgfGutBQOtDY31orEFA27Zt27ZtQUDMKXg5BS9BQLycgpdT8EBArQ+N9aGxQECdgpdT8HJAQI31obE+NEBA+9BYHxrrP0Dbtm3btm0\\u002fQL2cgpdT8D5AnYKXU\\u002fByPkB9aKwPjfU9QF5OwcspeD1APjTWh8b6PEAgGutDY308QAAAAAAAADxA4OUUvJyCO0DCyyl4OQU7QKKxPjTWhzpAg5dT8HIKOkBjfWisD405QENjfWisDzlAJUmSJEmSOEAGL6fg5RQ4QOYUvJyClzdAxvrQWB8aN0Cn4OUUvJw2QIjG+tBYHzZAaawPjfWhNUBKkiRJkiQ1QCp4OQUvpzRACl5OwcspNEDrQ2N9aKwzQMwpeDkFLzNArQ+N9aGxMkCN9aGxPjQyQG7btm3btjFATsHLKXg5MUAvp+DlFLwwQBCN9aGxPjBA4uUUvJyCL0CisT401ocuQGN9aKwPjS1AJUmSJEmSLEDmFLycgpcrQPahsT401kJA5hS8nIKXQkDWh8b60FhCQMb60FgfGkJAt23btm3bQUCn4OUUvJxBQJdT8HIKXkFAiMb60FgfQUB4OQUvp+BAQGmsD431oUBAWR8a60NjQEBJkiRJkiRAQHMKXk7Byz9AU\\u002fByCl5OP0A11ofG+tA+QBW8nIKXUz5A9aGxPjTWPUDWh8b60Fg9QLZt27Zt2zxAmFPwcgpePEB4OQUvp+A7QFgfGutDYztAOgUvp+DlOkAa60NjfWg6QPvQWB8a6zlA27Zt27ZtOUC7nIKXU\\u002fA4QJ2Cl1PwcjhAfmisD431N0BeTsHLKXg3QD401ofG+jZAHxrrQ2N9NkAAAAAAAAA2QOHlFLycgjVAwsspeDkFNUCisT401oc0QIKXU\\u002fByCjRAY31orA+NM0BEY31orA8zQCVJkiRJkjJABS+n4OUUMkDmFLycgpcxQMb60FgfGjFAp+DlFLycMECIxvrQWB8wQNJYHxrrQy9AkiRJkiRJLkBT8HIKXk4tQBW8nIKXUyxA1ofG+tBYK0CyPjTWh8ZCQKKxPjTWh0JAkiRJkiRJQkCCl1PwcgpCQHMKXk7By0FAY31orA+NQUBT8HIKXk5BQERjfWisD0FANNaHxvrQQEAlSZIkSZJAQBW8nIKXU0BABS+n4OUUQEDrQ2N9aKw\\u002fQMspeDkFLz9ArQ+N9aGxPkCN9aGxPjQ+QG3btm3btj1ATsHLKXg5PUAup+DlFLw8QBCN9aGxPjxA8HIKXk7BO0DQWB8a60M7QLI+NNaHxjpAkiRJkiRJOkBzCl5Owcs5QFPwcgpeTjlAM9aHxvrQOEAVvJyCl1M4QPahsT401jdA1ofG+tBYN0C2bdu2bds2QJdT8HIKXjZAeDkFL6fgNUBZHxrrQ2M1QDoFL6fg5TRAGutDY31oNED60FgfGuszQNu2bdu2bTNAvJyCl1PwMkCdgpdT8HIyQH1orA+N9TFAXk7Byyl4MUA+NNaHxvowQB8a60NjfTBAAAAAAAAAMEDCyyl4OQUvQIKXU\\u002fByCi5AQ2N9aKwPLUAFL6fg5RQsQMb60FgfGitAbtu2bdu2QkBeTsHLKXhCQE7Byyl4OUJAPjTWh8b6QUAvp+DlFLxBQB8a60NjfUFAD431obE+QUAAAAAAAABBQPByCl5OwUBA4eUUvJyCQEDRWB8a60NAQMHLKXg5BUBAY31orA+NP0BDY31orA8\\u002fQCVJkiRJkj5ABS+n4OUUPkDlFLycgpc9QMb60FgfGj1ApuDlFLycPECIxvrQWB88QGisD431oTtASJIkSZIkO0AqeDkFL6c6QApeTsHLKTpA60NjfWisOUDLKXg5BS85QKsPjfWhsThAjfWhsT40OEBu27Zt27Y3QE7Byyl4OTdALqfg5RS8NkAPjfWhsT42QPByCl5OwTVA0VgfGutDNUCyPjTWh8Y0QJIkSZIkSTRAcgpeTsHLM0BT8HIKXk4zQDTWh8b60DJAFbycgpdTMkD1obE+NNYxQNaHxvrQWDFAtm3btm3bMECXU\\u002fByCl4wQPByCl5OwS9Asj401ofGLkByCl5OwcstQDPWh8b60CxA9aGxPjTWK0C2bdu2bdsqQCp4OQUvp0JAGutDY31oQkAKXk7ByylCQPrQWB8a60FA60NjfWisQUDbtm3btm1BQMspeDkFL0FAvJyCl1PwQECsD431obFAQJ2Cl1PwckBAjfWhsT40QED60FgfGus\\u002fQNu2bdu2bT9Au5yCl1PwPkCdgpdT8HI+QH1orA+N9T1AXU7Byyl4PUA+NNaHxvo8QB4a60NjfTxAAAAAAAAAPEDg5RS8nII7QMDLKXg5BTtAorE+NNaHOkCCl1Pwcgo6QGN9aKwPjTlAQ2N9aKwPOUAjSZIkSZI4QAUvp+DlFDhA5hS8nIKXN0DG+tBYHxo3QKbg5RS8nDZAiMb60FgfNkBorA+N9aE1QEqSJEmSJDVAKng5BS+nNEAKXk7Byyk0QOtDY31orDNAyyl4OQUvM0CtD431obEyQI31obE+NDJAbdu2bdu2MUBOwcspeDkxQC6n4OUUvDBAEI31obE+MEDg5RS8nIIvQKOxPjTWhy5AY31orA+NLUAjSZIkSZIsQOYUvJyClytApuDlFLycKkDmFLycgpdCQNaHxvrQWEJAxvrQWB8aQkC2bdu2bdtBQKfg5RS8nEFAl1PwcgpeQUCHxvrQWB9BQHg5BS+n4EBAaKwPjfWhQEBZHxrrQ2NAQEmSJEmSJEBAcgpeTsHLP0BT8HIKXk4\\u002fQDPWh8b60D5AFbycgpdTPkD1obE+NNY9QNWHxvrQWD1Atm3btm3bPECWU\\u002fByCl48QHg5BS+n4DtAWB8a60NjO0A4BS+n4OU6QBrrQ2N9aDpA+tBYHxrrOUDctm3btm05QLycgpdT8DhAnIKXU\\u002fByOEB+aKwPjfU3QF9OwcspeDdAPzTWh8b6NkAfGutDY302QAAAAAAAADZA4eUUvJyCNUDCyyl4OQU1QKKxPjTWhzRAgpdT8HIKNEBjfWisD40zQERjfWisDzNAJUmSJEmSMkAGL6fg5RQyQOYUvJyClzFAxvrQWB8aMUCn4OUUvJwwQIjG+tBYHzBA0lgfGutDL0CTJEmSJEkuQFPwcgpeTi1AFbycgpdTLEDWh8b60FgrQJhT8HIKXipAorE+NNaHQkCSJEmSJElCQIKXU\\u002fByCkJAcgpeTsHLQUBjfWisD41BQFPwcgpeTkFAQ2N9aKwPQUA01ofG+tBAQCRJkiRJkkBAFbycgpdTQEAFL6fg5RRAQOpDY31orD9Ayyl4OQUvP0CrD431obE+QI31obE+ND5Abdu2bdu2PUBNwcspeDk9QC6n4OUUvDxADo31obE+PEDwcgpeTsE7QNBYHxrrQztAsD401ofGOkCSJEmSJEk6QHIKXk7ByzlAVPByCl5OOUA01ofG+tA4QBS8nIKXUzhA9qGxPjTWN0DXh8b60Fg3QLdt27Zt2zZAl1PwcgpeNkB4OQUvp+A1QFkfGutDYzVAOgUvp+DlNEAa60NjfWg0QPrQWB8a6zNA27Zt27ZtM0C8nIKXU\\u002fAyQJ2Cl1PwcjJAfmisD431MUBeTsHLKXgxQD401ofG+jBAHxrrQ2N9MEAAAAAAAAAwQMLLKXg5BS9Ag5dT8HIKLkBDY31orA8tQAUvp+DlFCxAxvrQWB8aK0CIxvrQWB8qQF5OwcspeEJATsHLKXg5QkA\\u002fNNaHxvpBQC+n4OUUvEFAIBrrQ2N9QUAQjfWhsT5BQAAAAAAAAEFA8XIKXk7BQEDh5RS8nIJAQNJYHxrrQ0BAwsspeDkFQEBjfWisD40\\u002fQEVjfWisDz9AJUmSJEmSPkAGL6fg5RQ+QOYUvJyClz1AxvrQWB8aPUCo4OUUvJw8QIjG+tBYHzxAaqwPjfWhO0BKkiRJkiQ7QCp4OQUvpzpAC15OwcspOkDrQ2N9aKw5QMwpeDkFLzlArA+N9aGxOECM9aGxPjQ4QG7btm3btjdAT8HLKXg5N0Avp+DlFLw2QA+N9aGxPjZA8HIKXk7BNUDRWB8a60M1QLI+NNaHxjRAkiRJkiRJNEByCl5OwcszQFPwcgpeTjNANNaHxvrQMkAVvJyCl1MyQPahsT401jFA1ofG+tBYMUC2bdu2bdswQJdT8HIKXjBA8HIKXk7BL0CyPjTWh8YuQHMKXk7Byy1AM9aHxvrQLED1obE+NNYrQLZt27Zt2ypAeDkFL6fgKUAa60NjfWhCQApeTsHLKUJA+9BYHxrrQUDrQ2N9aKxBQNy2bdu2bUFAzCl4OQUvQUC8nIKXU\\u002fBAQK0PjfWhsUBAnYKXU\\u002fByQECO9aGxPjRAQPvQWB8a6z9A27Zt27ZtP0C9nIKXU\\u002fA+QJ2Cl1Pwcj5AfmisD431PUBeTsHLKXg9QD401ofG+jxAIBrrQ2N9PEAAAAAAAAA8QOLlFLycgjtAwsspeDkFO0CisT401oc6QIOXU\\u002fByCjpAYn1orA+NOUBEY31orA85QCRJkiRJkjhABC+n4OUUOEDmFLycgpc3QMf60FgfGjdAp+DlFLycNkCHxvrQWB82QGisD431oTVASZIkSZIkNUAqeDkFL6c0QApeTsHLKTRA6kNjfWisM0DLKXg5BS8zQKwPjfWhsTJAjfWhsT40MkBu27Zt27YxQE7Byyl4OTFALqfg5RS8MEAPjfWhsT4wQODlFLycgi9AorE+NNaHLkBjfWisD40tQCNJkiRJkixA5RS8nIKXK0Cm4OUUvJwqQGisD431oSlA1ofG+tBYQkDG+tBYHxpCQLdt27Zt20FAp+DlFLycQUCYU\\u002fByCl5BQIjG+tBYH0FAeDkFL6fgQEBprA+N9aFAQFkfGutDY0BASpIkSZIkQEBzCl5Owcs\\u002fQFPwcgpeTj9ANdaHxvrQPkAVvJyCl1M+QPahsT401j1A1ofG+tBYPUC2bdu2bds8QJhT8HIKXjxAeDkFL6fgO0BaHxrrQ2M7QDoFL6fg5TpAGutDY31oOkD70FgfGus5QNu2bdu2bTlAvZyCl1PwOECdgpdT8HI4QH1orA+N9TdAXk7Byyl4N0BANNaHxvo2QCAa60NjfTZAAAAAAAAANkDg5RS8nII1QMLLKXg5BTVAorE+NNaHNECDl1Pwcgo0QGN9aKwPjTNAQ2N9aKwPM0AlSZIkSZIyQAUvp+DlFDJA5hS8nIKXMUDG+tBYHxoxQKbg5RS8nDBAiMb60FgfMEDQWB8a60MvQJMkSZIkSS5AU\\u002fByCl5OLUATvJyCl1MsQNaHxvrQWCtAllPwcgpeKkBZHxrrQ2MpQJIkSZIkSUJAgpdT8HIKQkBzCl5OwctBQGN9aKwPjUFAVPByCl5OQUBEY31orA9BQDTWh8b60EBAJUmSJEmSQEAVvJyCl1NAQAYvp+DlFEBA60NjfWisP0DLKXg5BS8\\u002fQK0PjfWhsT5AjfWhsT40PkBu27Zt27Y9QE7Byyl4OT1ALqfg5RS8PEAQjfWhsT48QPByCl5OwTtA0lgfGutDO0CyPjTWh8Y6QJIkSZIkSTpAcwpeTsHLOUBT8HIKXk45QDXWh8b60DhAFbycgpdTOED1obE+NNY3QNaHxvrQWDdAuG3btm3bNkCYU\\u002fByCl42QHg5BS+n4DVAWR8a60NjNUA6BS+n4OU0QBrrQ2N9aDRA+9BYHxrrM0Dbtm3btm0zQLycgpdT8DJAnYKXU\\u002fByMkB+aKwPjfUxQF5OwcspeDFAPjTWh8b6MEAfGutDY30wQAAAAAAAADBAwsspeDkFL0CDl1PwcgouQEVjfWisDy1ABS+n4OUULEDG+tBYHxorQIjG+tBYHypASpIkSZIkKUBOwcspeDlCQD401ofG+kFAL6fg5RS8QUAfGutDY31BQBCN9aGxPkFAAAAAAAAAQUDwcgpeTsFAQOHlFLycgkBA0VgfGutDQEDCyyl4OQVAQGN9aKwPjT9AQ2N9aKwPP0AlSZIkSZI+QAUvp+DlFD5A5hS8nIKXPUDG+tBYHxo9QKbg5RS8nDxAiMb60FgfPEBorA+N9aE7QEqSJEmSJDtAKng5BS+nOkAKXk7Byyk6QOtDY31orDlAyyl4OQUvOUCtD431obE4QI31obE+NDhAbdu2bdu2N0BOwcspeDk3QDCn4OUUvDZAEI31obE+NkDwcgpeTsE1QNFYHxrrQzVAsj401ofGNECSJEmSJEk0QHMKXk7ByzNAU\\u002fByCl5OM0A01ofG+tAyQBW8nIKXUzJA9qGxPjTWMUDWh8b60FgxQLZt27Zt2zBAl1PwcgpeMEDwcgpeTsEvQLI+NNaHxi5AcwpeTsHLLUA11ofG+tAsQPWhsT401itAtm3btm3bKkB4OQUvp+ApQDoFL6fg5ShACl5OwcspQkD60FgfGutBQOtDY31orEFA27Zt27ZtQUDMKXg5BS9BQLycgpdT8EBArA+N9aGxQECdgpdT8HJAQI31obE+NEBA+9BYHxrrP0Dbtm3btm0\\u002fQLucgpdT8D5AnYKXU\\u002fByPkB9aKwPjfU9QF5OwcspeD1APjTWh8b6PEAeGutDY308QAAAAAAAADxA4OUUvJyCO0DCyyl4OQU7QKKxPjTWhzpAgpdT8HIKOkBjfWisD405QENjfWisDzlAJUmSJEmSOEAFL6fg5RQ4QOUUvJyClzdAxvrQWB8aN0Co4OUUvJw2QIjG+tBYHzZAaKwPjfWhNUBJkiRJkiQ1QCp4OQUvpzRACl5OwcspNEDrQ2N9aKwzQMspeDkFLzNArA+N9aGxMkCN9aGxPjQyQG7btm3btjFATsHLKXg5MUAup+DlFLwwQA+N9aGxPjBA4OUUvJyCL0CisT401ocuQGN9aKwPjS1AJUmSJEmSLEDlFLycgpcrQKbg5RS8nCpAaKwPjfWhKUAqeDkFL6coQMb60FgfGkJAtm3btm3bQUCn4OUUvJxBQJdT8HIKXkFAiMb60FgfQUB4OQUvp+BAQGisD431oUBAWR8a60NjQEBJkiRJkiRAQHMKXk7Byz9AU\\u002fByCl5OP0Az1ofG+tA+QBW8nIKXUz5A9aGxPjTWPUDWh8b60Fg9QLZt27Zt2zxAllPwcgpePEB4OQUvp+A7QFgfGutDYztAOgUvp+DlOkAa60NjfWg6QPrQWB8a6zlA27Zt27ZtOUC7nIKXU\\u002fA4QJ2Cl1PwcjhAfWisD431N0BdTsHLKXg3QD401ofG+jZAIBrrQ2N9NkAAAAAAAAA2QODlFLycgjVAwcspeDkFNUCisT401oc0QIKXU\\u002fByCjRAY31orA+NM0BDY31orA8zQCRJkiRJkjJABS+n4OUUMkDmFLycgpcxQMb60FgfGjFApuDlFLycMECHxvrQWB8wQNBYHxrrQy9AkiRJkiRJLkBT8HIKXk4tQBW8nIKXUyxA1YfG+tBYK0CWU\\u002fByCl4qQFgfGutDYylAGutDY31oKECCl1PwcgpCQHIKXk7By0FAY31orA+NQUBT8HIKXk5BQERjfWisD0FANNaHxvrQQEAkSZIkSZJAQBW8nIKXU0BABS+n4OUUQEDrQ2N9aKw\\u002fQMspeDkFLz9Aqw+N9aGxPkCN9aGxPjQ+QG3btm3btj1ATsHLKXg5PUAup+DlFLw8QA6N9aGxPjxA8HIKXk7BO0DQWB8a60M7QLI+NNaHxjpAkiRJkiRJOkByCl5Owcs5QFPwcgpeTjlAM9aHxvrQOEAVvJyCl1M4QPWhsT401jdA1YfG+tBYN0C2bdu2bds2QJhT8HIKXjZAeDkFL6fgNUBYHxrrQ2M1QDoFL6fg5TRAGutDY31oNED70FgfGuszQNu2bdu2bTNAu5yCl1PwMkCdgpdT8HIyQH1orA+N9TFAXk7Byyl4MUA+NNaHxvowQB4a60NjfTBAAAAAAAAAMEDAyyl4OQUvQIOXU\\u002fByCi5AQ2N9aKwPLUAGL6fg5RQsQMb60FgfGitAhsb60FgfKkBJkiRJkiQpQApeTsHLKShAPjTWh8b6QUAup+DlFLxBQB8a60NjfUFAD431obE+QUAAAAAAAABBQPByCl5OwUBA4OUUvJyCQEDRWB8a60NAQMHLKXg5BUBAY31orA+NP0BDY31orA8\\u002fQCNJkiRJkj5ABS+n4OUUPkDlFLycgpc9QMb60FgfGj1ApuDlFLycPECGxvrQWB88QGisD431oTtASJIkSZIkO0AqeDkFL6c6QApeTsHLKTpA6kNjfWisOUDMKXg5BS85QKwPjfWhsThAjvWhsT40OEBu27Zt27Y3QE7Byyl4OTdAL6fg5RS8NkARjfWhsT42QPFyCl5OwTVA0VgfGutDNUCyPjTWh8Y0QJIkSZIkSTRAcwpeTsHLM0BU8HIKXk4zQDTWh8b60DJAFbycgpdTMkD2obE+NNYxQNaHxvrQWDFAt23btm3bMECXU\\u002fByCl4wQPByCl5OwS9Asj401ofGLkBzCl5OwcstQDXWh8b60CxA9qGxPjTWK0C2bdu2bdsqQHg5BS+n4ClAOgUvp+DlKED70FgfGusnQPvQWB8a60FA60NjfWisQUDbtm3btm1BQMspeDkFL0FAvZyCl1PwQECtD431obFAQJ2Cl1PwckBAjfWhsT40QED60FgfGus\\u002fQN22bdu2bT9AvZyCl1PwPkCdgpdT8HI+QH1orA+N9T1AXU7Byyl4PUBANNaHxvo8QCAa60NjfTxAAAAAAAAAPEDg5RS8nII7QMDLKXg5BTtAo7E+NNaHOkCDl1Pwcgo6QGJ9aKwPjTlARGN9aKwPOUAkSZIkSZI4QAYvp+DlFDhA5hS8nIKXN0DG+tBYHxo3QKfg5RS8nDZAicb60FgfNkBprA+N9aE1QEmSJEmSJDVAKng5BS+nNEAKXk7Byyk0QOtDY31orDNAzCl4OQUvM0CsD431obEyQI31obE+NDJAbtu2bdu2MUBOwcspeDkxQC+n4OUUvDBAD431obE+MEDg5RS8nIIvQKKxPjTWhy5AY31orA+NLUAlSZIkSZIsQOYUvJyClytApuDlFLycKkBorA+N9aEpQCp4OQUvpyhA60NjfWisJ0C2bdu2bdtBQKbg5RS8nEFAmFPwcgpeQUCIxvrQWB9BQHg5BS+n4EBAaKwPjfWhQEBYHxrrQ2NAQEqSJEmSJEBAcwpeTsHLP0BT8HIKXk4\\u002fQDPWh8b60D5AE7ycgpdTPkD2obE+NNY9QNaHxvrQWD1Atm3btm3bPECWU\\u002fByCl48QHY5BS+n4DtAWh8a60NjO0A6BS+n4OU6QBrrQ2N9aDpA+tBYHxrrOUDatm3btm05QLycgpdT8DhAnIKXU\\u002fByOEB+aKwPjfU3QF5OwcspeDdAPjTWh8b6NkAfGutDY302QAEAAAAAADZA4eUUvJyCNUDByyl4OQU1QKKxPjTWhzRAgpdT8HIKNEBjfWisD40zQERjfWisDzNAJEmSJEmSMkAFL6fg5RQyQOYUvJyClzFAxvrQWB8aMUCn4OUUvJwwQIfG+tBYHzBA0FgfGutDL0CSJEmSJEkuQFPwcgpeTi1AFbycgpdTLEDWh8b60FgrQJZT8HIKXipAWB8a60NjKUAa60NjfWgoQNu2bdu2bSdAcwpeTsHLQUBjfWisD41BQFTwcgpeTkFARGN9aKwPQUA11ofG+tBAQCVJkiRJkkBAFbycgpdTQEAGL6fg5RRAQOtDY31orD9AzSl4OQUvP0CtD431obE+QI31obE+ND5Abtu2bdu2PUBOwcspeDk9QDCn4OUUvDxAEI31obE+PEDwcgpeTsE7QNJYHxrrQztAsj401ofGOkCTJEmSJEk6QHMKXk7ByzlAUvByCl5OOUA01ofG+tA4QBS8nIKXUzhA9qGxPjTWN0DWh8b60Fg3QLZt27Zt2zZAl1PwcgpeNkB5OQUvp+A1QFkfGutDYzVAOQUvp+DlNEAa60NjfWg0QPrQWB8a6zNA27Zt27ZtM0C8nIKXU\\u002fAyQJyCl1PwcjJAfWisD431MUBeTsHLKXgxQD401ofG+jBAHxrrQ2N9MED+\\u002f\\u002f\\u002f\\u002f\\u002f\\u002f8vQMDLKXg5BS9AgpdT8HIKLkBDY31orA8tQAUvp+DlFCxAxvrQWB8aK0CGxvrQWB8qQEiSJEmSJClACl5OwcspKEDLKXg5BS8nQC+n4OUUvEFAHxrrQ2N9QUAQjfWhsT5BQAAAAAAAAEFA8XIKXk7BQEDh5RS8nIJAQNFYHxrrQ0BAwsspeDkFQEBjfWisD40\\u002fQEVjfWisDz9AJUmSJEmSPkAFL6fg5RQ+QOYUvJyClz1AxvrQWB8aPUCo4OUUvJw8QIjG+tBYHzxAaKwPjfWhO0BKkiRJkiQ7QCp4OQUvpzpAC15OwcspOkDrQ2N9aKw5QMspeDkFLzlArQ+N9aGxOECN9aGxPjQ4QG7btm3btjdATsHLKXg5N0Aup+DlFLw2QBCN9aGxPjZA8nIKXk7BNUDSWB8a60M1QLI+NNaHxjRAkiRJkiRJNEBzCl5OwcszQFPwcgpeTjNANdaHxvrQMkAVvJyCl1MyQPWhsT401jFA1ofG+tBYMUC2bdu2bdswQJhT8HIKXjBA8HIKXk7BL0CwPjTWh8YuQHMKXk7Byy1AM9aHxvrQLED2obE+NNYrQLZt27Zt2ypAdjkFL6fgKUA5BS+n4OUoQPrQWB8a6ydAvJyCl1PwJkDrQ2N9aKxBQNu2bdu2bUFAzCl4OQUvQUC8nIKXU\\u002fBAQK0PjfWhsUBAnYKXU\\u002fByQECN9aGxPjRAQPvQWB8a6z9A27Zt27ZtP0C9nIKXU\\u002fA+QJ2Cl1Pwcj5AfWisD431PUBeTsHLKXg9QD401ofG+jxAIBrrQ2N9PEAAAAAAAAA8QODlFLycgjtAwsspeDkFO0CisT401oc6QIOXU\\u002fByCjpAY31orA+NOUBDY31orA85QCVJkiRJkjhABS+n4OUUOEDmFLycgpc3QMb60FgfGjdApuDlFLycNkCIxvrQWB82QGqsD431oTVASpIkSZIkNUAqeDkFL6c0QApeTsHLKTRA60NjfWisM0DMKXg5BS8zQK0PjfWhsTJAjfWhsT40MkBu27Zt27YxQE7Byyl4OTFAL6fg5RS8MEAQjfWhsT4wQODlFLycgi9AorE+NNaHLkBjfWisD40tQCVJkiRJkixA5hS8nIKXK0Co4OUUvJwqQGisD431oSlAKng5BS+nKEDrQ2N9aKwnQK0PjfWhsSZAp+DlFLycQUCXU\\u002fByCl5BQIjG+tBYH0FAeDkFL6fgQEBprA+N9aFAQFkfGutDY0BASZIkSZIkQEBzCl5Owcs\\u002fQFPwcgpeTj9ANdaHxvrQPkAVvJyCl1M+QPWhsT401j1A1ofG+tBYPUC2bdu2bds8QJhT8HIKXjxAeDkFL6fgO0BYHxrrQ2M7QDoFL6fg5TpAGutDY31oOkD70FgfGus5QNu2bdu2bTlAu5yCl1PwOECdgpdT8HI4QH1orA+N9TdAXk7Byyl4N0A+NNaHxvo2QB4a60NjfTZAAAAAAAAANkDi5RS8nII1QMLLKXg5BTVAorE+NNaHNECCl1Pwcgo0QGN9aKwPjTNARGN9aKwPM0AlSZIkSZIyQAUvp+DlFDJA5hS8nIKXMUDG+tBYHxoxQKfg5RS8nDBAiMb60FgfMEDQWB8a60MvQJIkSZIkSS5AU\\u002fByCl5OLUAVvJyCl1MsQNaHxvrQWCtAmFPwcgpeKkBYHxrrQ2MpQBrrQ2N9aChA27Zt27ZtJ0CdgpdT8HImQGN9aKwPjUFAU\\u002fByCl5OQUBEY31orA9BQDTWh8b60EBAJUmSJEmSQEAVvJyCl1NAQAUvp+DlFEBA60NjfWisP0DLKXg5BS8\\u002fQK0PjfWhsT5AjfWhsT40PkBt27Zt27Y9QE7Byyl4OT1ALqfg5RS8PEAQjfWhsT48QPByCl5OwTtA0FgfGutDO0CyPjTWh8Y6QJIkSZIkSTpAcwpeTsHLOUBT8HIKXk45QDPWh8b60DhAFbycgpdTOED1obE+NNY3QNaHxvrQWDdAtm3btm3bNkCWU\\u002fByCl42QHg5BS+n4DVAWh8a60NjNUA6BS+n4OU0QBrrQ2N9aDRA+tBYHxrrM0Dbtm3btm0zQLycgpdT8DJAnYKXU\\u002fByMkB9aKwPjfUxQF5OwcspeDFAPjTWh8b6MEAfGutDY30wQAAAAAAAADBAwMspeDkFL0CCl1PwcgouQENjfWisDy1ABS+n4OUULEDG+tBYHxorQIjG+tBYHypASJIkSZIkKUAKXk7ByykoQMspeDkFLydAjfWhsT40JkAfGutDY31BQA+N9aGxPkFAAAAAAAAAQUDwcgpeTsFAQOHlFLycgkBA0VgfGutDQEDByyl4OQVAQGN9aKwPjT9AQ2N9aKwPP0AlSZIkSZI+QAUvp+DlFD5A5RS8nIKXPUDG+tBYHxo9QKbg5RS8nDxAiMb60FgfPEBorA+N9aE7QEiSJEmSJDtAKng5BS+nOkAKXk7Byyk6QOtDY31orDlAyyl4OQUvOUCrD431obE4QI31obE+NDhAbdu2bdu2N0BOwcspeDk3QC6n4OUUvDZADo31obE+NkDwcgpeTsE1QNJYHxrrQzVAsj401ofGNECSJEmSJEk0QHIKXk7ByzNAU\\u002fByCl5OM0A01ofG+tAyQBW8nIKXUzJA9aGxPjTWMUDWh8b60FgxQLZt27Zt2zBAl1PwcgpeMEDwcgpeTsEvQLA+NNaHxi5AcgpeTsHLLUAz1ofG+tAsQPWhsT401itAtm3btm3bKkB4OQUvp+ApQDgFL6fg5ShA+tBYHxrrJ0C7nIKXU\\u002fAmQH1orA+N9SVA27Zt27ZtQUDLKXg5BS9BQLycgpdT8EBArA+N9aGxQECdgpdT8HJAQI31obE+NEBA+tBYHxrrP0Dbtm3btm0\\u002fQLucgpdT8D5AnYKXU\\u002fByPkB9aKwPjfU9QF1OwcspeD1APjTWh8b6PEAeGutDY308QAAAAAAAADxA4OUUvJyCO0DAyyl4OQU7QKKxPjTWhzpAgpdT8HIKOkBjfWisD405QENjfWisDzlAI0mSJEmSOEAFL6fg5RQ4QOUUvJyClzdAxvrQWB8aN0Cm4OUUvJw2QIbG+tBYHzZAaKwPjfWhNUBKkiRJkiQ1QCp4OQUvpzRACl5OwcspNEDrQ2N9aKwzQMspeDkFLzNArQ+N9aGxMkCN9aGxPjQyQG3btm3btjFATsHLKXg5MUAup+DlFLwwQBCN9aGxPjBA4OUUvJyCL0CgsT401ocuQGN9aKwPjS1AI0mSJEmSLEDmFLycgpcrQKbg5RS8nCpAaqwPjfWhKUApeDkFL6coQOpDY31orCdArA+N9aGxJkBu27Zt27YlQJdT8HIKXkFAh8b60FgfQUB4OQUvp+BAQGisD431oUBAWR8a60NjQEBJkiRJkiRAQHIKXk7Byz9AU\\u002fByCl5OP0Az1ofG+tA+QBW8nIKXUz5A9aGxPjTWPUDVh8b60Fg9QLZt27Zt2zxAllPwcgpePEB4OQUvp+A7QFgfGutDYztAOAUvp+DlOkAa60NjfWg6QPrQWB8a6zlA3LZt27ZtOUC8nIKXU\\u002fA4QJyCl1PwcjhAfmisD431N0BeTsHLKXg3QD801ofG+jZAHxrrQ2N9NkD\\u002f\\u002f\\u002f\\u002f\\u002f\\u002f\\u002f81QOHlFLycgjVAwsspeDkFNUCisT401oc0QIKXU\\u002fByCjRAY31orA+NM0BEY31orA8zQCVJkiRJkjJABi+n4OUUMkDmFLycgpcxQMb60FgfGjFAp+DlFLycMECIxvrQWB8wQNJYHxrrQy9AkiRJkiRJLkBT8HIKXk4tQBW8nIKXUyxA1ofG+tBYK0CYU\\u002fByCl4qQFofGutDYylAGutDY31oKEDbtm3btm0nQJ2Cl1PwciZAXk7Byyl4JUBT8HIKXk5BQENjfWisD0FANdaHxvrQQEAlSZIkSZJAQBW8nIKXU0BABS+n4OUUQEDqQ2N9aKw\\u002fQM0peDkFLz9ArQ+N9aGxPkCN9aGxPjQ+QG3btm3btj1ATcHLKXg5PUAwp+DlFLw8QBCN9aGxPjxA8HIKXk7BO0DQWB8a60M7QLA+NNaHxjpAkyRJkiRJOkBzCl5Owcs5QFTwcgpeTjlANNaHxvrQOEAUvJyCl1M4QPahsT401jdA1ofG+tBYN0C3bdu2bds2QJdT8HIKXjZAdzkFL6fgNUBZHxrrQ2M1QDoFL6fg5TRAGutDY31oNED60FgfGuszQNu2bdu2bTNAvJyCl1PwMkCdgpdT8HIyQH5orA+N9TFAXk7Byyl4MUA+NNaHxvowQB8a60NjfTBAAAAAAAAAMEDCyyl4OQUvQIKXU\\u002fByCi5AQ2N9aKwPLUAFL6fg5RQsQMb60FgfGitAiMb60FgfKkBKkiRJkiQpQApeTsHLKShAyyl4OQUvJ0CN9aGxPjQmQE7Byyl4OSVAEI31obE+QUAAAAAAAABBQPFyCl5OwUBA4eUUvJyCQEDSWB8a60NAQMLLKXg5BUBAY31orA+NP0BFY31orA8\\u002fQCVJkiRJkj5ABi+n4OUUPkDmFLycgpc9QMb60FgfGj1AqODlFLycPECIxvrQWB88QGqsD431oTtASpIkSZIkO0AqeDkFL6c6QAteTsHLKTpA60NjfWisOUDMKXg5BS85QKwPjfWhsThAjPWhsT40OEBu27Zt27Y3QE7Byyl4OTdAL6fg5RS8NkAPjfWhsT42QO9yCl5OwTVA0VgfGutDNUCyPjTWh8Y0QJIkSZIkSTRAcgpeTsHLM0BT8HIKXk4zQDTWh8b60DJAFbycgpdTMkD2obE+NNYxQNaHxvrQWDFAtm3btm3bMECXU\\u002fByCl4wQPByCl5OwS9Asj401ofGLkByCl5OwcstQDPWh8b60CxA9aGxPjTWK0C2bdu2bdsqQHg5BS+n4ClAOgUvp+DlKED60FgfGusnQLucgpdT8CZAfWisD431JUA+NNaHxvokQMwpeDkFL0FAvJyCl1PwQECtD431obFAQJ2Cl1PwckBAjvWhsT40QED70FgfGus\\u002fQNu2bdu2bT9AvZyCl1PwPkCdgpdT8HI+QH5orA+N9T1AXk7Byyl4PUA+NNaHxvo8QCAa60NjfTxAAAAAAAAAPEDi5RS8nII7QMLLKXg5BTtAorE+NNaHOkCDl1Pwcgo6QGJ9aKwPjTlARGN9aKwPOUAkSZIkSZI4QAQvp+DlFDhA5hS8nIKXN0DG+tBYHxo3QKfg5RS8nDZAh8b60FgfNkBnrA+N9aE1QEmSJEmSJDVAKng5BS+nNEAKXk7Byyk0QOpDY31orDNAyyl4OQUvM0CsD431obEyQI31obE+NDJAbtu2bdu2MUBOwcspeDkxQC6n4OUUvDBAD431obE+MEDg5RS8nIIvQKKxPjTWhy5AYn1orA+NLUAjSZIkSZIsQOUUvJyClytApuDlFLycKkBorA+N9aEpQCp4OQUvpyhA6kNjfWisJ0CrD431obEmQG3btm3btiVALqfg5RS8JECIxvrQWB9BQHg5BS+n4EBAaawPjfWhQEBZHxrrQ2NAQEqSJEmSJEBAcwpeTsHLP0BT8HIKXk4\\u002fQDXWh8b60D5AFbycgpdTPkD2obE+NNY9QNaHxvrQWD1Atm3btm3bPECYU\\u002fByCl48QHg5BS+n4DtAWh8a60NjO0A6BS+n4OU6QBrrQ2N9aDpA+9BYHxrrOUDbtm3btm05QL2cgpdT8DhAnYKXU\\u002fByOEB9aKwPjfU3QF5OwcspeDdAPjTWh8b6NkAgGutDY302QAAAAAAAADZA4OUUvJyCNUDCyyl4OQU1QKOxPjTWhzRAg5dT8HIKNEBjfWisD40zQENjfWisDzNAJUmSJEmSMkAFL6fg5RQyQOYUvJyClzFAxvrQWB8aMUCm4OUUvJwwQIjG+tBYHzBA0FgfGutDL0CTJEmSJEkuQFPwcgpeTi1AE7ycgpdTLEDWh8b60FgrQJZT8HIKXipAWR8a60NjKUAa60NjfWgoQNq2bdu2bSdAnIKXU\\u002fByJkBeTsHLKXglQB8a60NjfSRARGN9aKwPQUA01ofG+tBAQCVJkiRJkkBAFbycgpdTQEAGL6fg5RRAQOtDY31orD9Ayyl4OQUvP0CtD431obE+QI31obE+ND5Abtu2bdu2PUBOwcspeDk9QC6n4OUUvDxAEI31obE+PEDwcgpeTsE7QNJYHxrrQztAsj401ofGOkCSJEmSJEk6QHMKXk7ByzlAU\\u002fByCl5OOUA11ofG+tA4QBW8nIKXUzhA9aGxPjTWN0DWh8b60Fg3QLZt27Zt2zZAmFPwcgpeNkB4OQUvp+A1QFgfGutDYzVAOgUvp+DlNEAb60NjfWg0QPvQWB8a6zNA27Zt27ZtM0C8nIKXU\\u002fAyQJ2Cl1PwcjJAfmisD431MUBeTsHLKXgxQD401ofG+jBAHxrrQ2N9MEAAAAAAAAAwQMLLKXg5BS9Ag5dT8HIKLkBDY31orA8tQAUvp+DlFCxAxvrQWB8aK0CIxvrQWB8qQEqSJEmSJClAC15OwcspKEDLKXg5BS8nQI31obE+NCZATsHLKXg5JUAQjfWhsT4kQAAAAAAAAEFA8HIKXk7BQEDh5RS8nIJAQNFYHxrrQ0BAwsspeDkFQEBjfWisD40\\u002fQENjfWisDz9AJUmSJEmSPkAFL6fg5RQ+QOYUvJyClz1AxvrQWB8aPUCm4OUUvJw8QIjG+tBYHzxAaKwPjfWhO0BKkiRJkiQ7QCp4OQUvpzpACl5OwcspOkDrQ2N9aKw5QMspeDkFLzlArQ+N9aGxOECN9aGxPjQ4QG3btm3btjdATsHLKXg5N0Aup+DlFLw2QBCN9aGxPjZA8HIKXk7BNUDQWB8a60M1QLI+NNaHxjRAkyRJkiRJNEBzCl5OwcszQFPwcgpeTjNANNaHxvrQMkAVvJyCl1MyQPahsT401jFA1ofG+tBYMUC2bdu2bdswQJdT8HIKXjBA8HIKXk7BL0CyPjTWh8YuQHMKXk7Byy1AM9aHxvrQLED1obE+NNYrQLZt27Zt2ypAeDkFL6fgKUA6BS+n4OUoQPvQWB8a6ydAu5yCl1PwJkB9aKwPjfUlQD401ofG+iRAAAAAAAAAJEA=\",\"shape\":\"50, 50\"},\"type\":\"surface\"},{\"marker\":{\"color\":\"red\",\"size\":6},\"mode\":\"markers\",\"name\":\"Solution\",\"x\":[11.805555555555557],\"y\":[0.0],\"z\":[30.555555555555557],\"type\":\"scatter3d\"}],                        {\"template\":{\"data\":{\"histogram2dcontour\":[{\"type\":\"histogram2dcontour\",\"colorbar\":{\"outlinewidth\":0,\"ticks\":\"\"},\"colorscale\":[[0.0,\"#0d0887\"],[0.1111111111111111,\"#46039f\"],[0.2222222222222222,\"#7201a8\"],[0.3333333333333333,\"#9c179e\"],[0.4444444444444444,\"#bd3786\"],[0.5555555555555556,\"#d8576b\"],[0.6666666666666666,\"#ed7953\"],[0.7777777777777778,\"#fb9f3a\"],[0.8888888888888888,\"#fdca26\"],[1.0,\"#f0f921\"]]}],\"choropleth\":[{\"type\":\"choropleth\",\"colorbar\":{\"outlinewidth\":0,\"ticks\":\"\"}}],\"histogram2d\":[{\"type\":\"histogram2d\",\"colorbar\":{\"outlinewidth\":0,\"ticks\":\"\"},\"colorscale\":[[0.0,\"#0d0887\"],[0.1111111111111111,\"#46039f\"],[0.2222222222222222,\"#7201a8\"],[0.3333333333333333,\"#9c179e\"],[0.4444444444444444,\"#bd3786\"],[0.5555555555555556,\"#d8576b\"],[0.6666666666666666,\"#ed7953\"],[0.7777777777777778,\"#fb9f3a\"],[0.8888888888888888,\"#fdca26\"],[1.0,\"#f0f921\"]]}],\"heatmap\":[{\"type\":\"heatmap\",\"colorbar\":{\"outlinewidth\":0,\"ticks\":\"\"},\"colorscale\":[[0.0,\"#0d0887\"],[0.1111111111111111,\"#46039f\"],[0.2222222222222222,\"#7201a8\"],[0.3333333333333333,\"#9c179e\"],[0.4444444444444444,\"#bd3786\"],[0.5555555555555556,\"#d8576b\"],[0.6666666666666666,\"#ed7953\"],[0.7777777777777778,\"#fb9f3a\"],[0.8888888888888888,\"#fdca26\"],[1.0,\"#f0f921\"]]}],\"contourcarpet\":[{\"type\":\"contourcarpet\",\"colorbar\":{\"outlinewidth\":0,\"ticks\":\"\"}}],\"contour\":[{\"type\":\"contour\",\"colorbar\":{\"outlinewidth\":0,\"ticks\":\"\"},\"colorscale\":[[0.0,\"#0d0887\"],[0.1111111111111111,\"#46039f\"],[0.2222222222222222,\"#7201a8\"],[0.3333333333333333,\"#9c179e\"],[0.4444444444444444,\"#bd3786\"],[0.5555555555555556,\"#d8576b\"],[0.6666666666666666,\"#ed7953\"],[0.7777777777777778,\"#fb9f3a\"],[0.8888888888888888,\"#fdca26\"],[1.0,\"#f0f921\"]]}],\"surface\":[{\"type\":\"surface\",\"colorbar\":{\"outlinewidth\":0,\"ticks\":\"\"},\"colorscale\":[[0.0,\"#0d0887\"],[0.1111111111111111,\"#46039f\"],[0.2222222222222222,\"#7201a8\"],[0.3333333333333333,\"#9c179e\"],[0.4444444444444444,\"#bd3786\"],[0.5555555555555556,\"#d8576b\"],[0.6666666666666666,\"#ed7953\"],[0.7777777777777778,\"#fb9f3a\"],[0.8888888888888888,\"#fdca26\"],[1.0,\"#f0f921\"]]}],\"mesh3d\":[{\"type\":\"mesh3d\",\"colorbar\":{\"outlinewidth\":0,\"ticks\":\"\"}}],\"scatter\":[{\"fillpattern\":{\"fillmode\":\"overlay\",\"size\":10,\"solidity\":0.2},\"type\":\"scatter\"}],\"parcoords\":[{\"type\":\"parcoords\",\"line\":{\"colorbar\":{\"outlinewidth\":0,\"ticks\":\"\"}}}],\"scatterpolargl\":[{\"type\":\"scatterpolargl\",\"marker\":{\"colorbar\":{\"outlinewidth\":0,\"ticks\":\"\"}}}],\"bar\":[{\"error_x\":{\"color\":\"#2a3f5f\"},\"error_y\":{\"color\":\"#2a3f5f\"},\"marker\":{\"line\":{\"color\":\"#E5ECF6\",\"width\":0.5},\"pattern\":{\"fillmode\":\"overlay\",\"size\":10,\"solidity\":0.2}},\"type\":\"bar\"}],\"scattergeo\":[{\"type\":\"scattergeo\",\"marker\":{\"colorbar\":{\"outlinewidth\":0,\"ticks\":\"\"}}}],\"scatterpolar\":[{\"type\":\"scatterpolar\",\"marker\":{\"colorbar\":{\"outlinewidth\":0,\"ticks\":\"\"}}}],\"histogram\":[{\"marker\":{\"pattern\":{\"fillmode\":\"overlay\",\"size\":10,\"solidity\":0.2}},\"type\":\"histogram\"}],\"scattergl\":[{\"type\":\"scattergl\",\"marker\":{\"colorbar\":{\"outlinewidth\":0,\"ticks\":\"\"}}}],\"scatter3d\":[{\"type\":\"scatter3d\",\"line\":{\"colorbar\":{\"outlinewidth\":0,\"ticks\":\"\"}},\"marker\":{\"colorbar\":{\"outlinewidth\":0,\"ticks\":\"\"}}}],\"scattermap\":[{\"type\":\"scattermap\",\"marker\":{\"colorbar\":{\"outlinewidth\":0,\"ticks\":\"\"}}}],\"scattermapbox\":[{\"type\":\"scattermapbox\",\"marker\":{\"colorbar\":{\"outlinewidth\":0,\"ticks\":\"\"}}}],\"scatterternary\":[{\"type\":\"scatterternary\",\"marker\":{\"colorbar\":{\"outlinewidth\":0,\"ticks\":\"\"}}}],\"scattercarpet\":[{\"type\":\"scattercarpet\",\"marker\":{\"colorbar\":{\"outlinewidth\":0,\"ticks\":\"\"}}}],\"carpet\":[{\"aaxis\":{\"endlinecolor\":\"#2a3f5f\",\"gridcolor\":\"white\",\"linecolor\":\"white\",\"minorgridcolor\":\"white\",\"startlinecolor\":\"#2a3f5f\"},\"baxis\":{\"endlinecolor\":\"#2a3f5f\",\"gridcolor\":\"white\",\"linecolor\":\"white\",\"minorgridcolor\":\"white\",\"startlinecolor\":\"#2a3f5f\"},\"type\":\"carpet\"}],\"table\":[{\"cells\":{\"fill\":{\"color\":\"#EBF0F8\"},\"line\":{\"color\":\"white\"}},\"header\":{\"fill\":{\"color\":\"#C8D4E3\"},\"line\":{\"color\":\"white\"}},\"type\":\"table\"}],\"barpolar\":[{\"marker\":{\"line\":{\"color\":\"#E5ECF6\",\"width\":0.5},\"pattern\":{\"fillmode\":\"overlay\",\"size\":10,\"solidity\":0.2}},\"type\":\"barpolar\"}],\"pie\":[{\"automargin\":true,\"type\":\"pie\"}]},\"layout\":{\"autotypenumbers\":\"strict\",\"colorway\":[\"#636efa\",\"#EF553B\",\"#00cc96\",\"#ab63fa\",\"#FFA15A\",\"#19d3f3\",\"#FF6692\",\"#B6E880\",\"#FF97FF\",\"#FECB52\"],\"font\":{\"color\":\"#2a3f5f\"},\"hovermode\":\"closest\",\"hoverlabel\":{\"align\":\"left\"},\"paper_bgcolor\":\"white\",\"plot_bgcolor\":\"#E5ECF6\",\"polar\":{\"bgcolor\":\"#E5ECF6\",\"angularaxis\":{\"gridcolor\":\"white\",\"linecolor\":\"white\",\"ticks\":\"\"},\"radialaxis\":{\"gridcolor\":\"white\",\"linecolor\":\"white\",\"ticks\":\"\"}},\"ternary\":{\"bgcolor\":\"#E5ECF6\",\"aaxis\":{\"gridcolor\":\"white\",\"linecolor\":\"white\",\"ticks\":\"\"},\"baxis\":{\"gridcolor\":\"white\",\"linecolor\":\"white\",\"ticks\":\"\"},\"caxis\":{\"gridcolor\":\"white\",\"linecolor\":\"white\",\"ticks\":\"\"}},\"coloraxis\":{\"colorbar\":{\"outlinewidth\":0,\"ticks\":\"\"}},\"colorscale\":{\"sequential\":[[0.0,\"#0d0887\"],[0.1111111111111111,\"#46039f\"],[0.2222222222222222,\"#7201a8\"],[0.3333333333333333,\"#9c179e\"],[0.4444444444444444,\"#bd3786\"],[0.5555555555555556,\"#d8576b\"],[0.6666666666666666,\"#ed7953\"],[0.7777777777777778,\"#fb9f3a\"],[0.8888888888888888,\"#fdca26\"],[1.0,\"#f0f921\"]],\"sequentialminus\":[[0.0,\"#0d0887\"],[0.1111111111111111,\"#46039f\"],[0.2222222222222222,\"#7201a8\"],[0.3333333333333333,\"#9c179e\"],[0.4444444444444444,\"#bd3786\"],[0.5555555555555556,\"#d8576b\"],[0.6666666666666666,\"#ed7953\"],[0.7777777777777778,\"#fb9f3a\"],[0.8888888888888888,\"#fdca26\"],[1.0,\"#f0f921\"]],\"diverging\":[[0,\"#8e0152\"],[0.1,\"#c51b7d\"],[0.2,\"#de77ae\"],[0.3,\"#f1b6da\"],[0.4,\"#fde0ef\"],[0.5,\"#f7f7f7\"],[0.6,\"#e6f5d0\"],[0.7,\"#b8e186\"],[0.8,\"#7fbc41\"],[0.9,\"#4d9221\"],[1,\"#276419\"]]},\"xaxis\":{\"gridcolor\":\"white\",\"linecolor\":\"white\",\"ticks\":\"\",\"title\":{\"standoff\":15},\"zerolinecolor\":\"white\",\"automargin\":true,\"zerolinewidth\":2},\"yaxis\":{\"gridcolor\":\"white\",\"linecolor\":\"white\",\"ticks\":\"\",\"title\":{\"standoff\":15},\"zerolinecolor\":\"white\",\"automargin\":true,\"zerolinewidth\":2},\"scene\":{\"xaxis\":{\"backgroundcolor\":\"#E5ECF6\",\"gridcolor\":\"white\",\"linecolor\":\"white\",\"showbackground\":true,\"ticks\":\"\",\"zerolinecolor\":\"white\",\"gridwidth\":2},\"yaxis\":{\"backgroundcolor\":\"#E5ECF6\",\"gridcolor\":\"white\",\"linecolor\":\"white\",\"showbackground\":true,\"ticks\":\"\",\"zerolinecolor\":\"white\",\"gridwidth\":2},\"zaxis\":{\"backgroundcolor\":\"#E5ECF6\",\"gridcolor\":\"white\",\"linecolor\":\"white\",\"showbackground\":true,\"ticks\":\"\",\"zerolinecolor\":\"white\",\"gridwidth\":2}},\"shapedefaults\":{\"line\":{\"color\":\"#2a3f5f\"}},\"annotationdefaults\":{\"arrowcolor\":\"#2a3f5f\",\"arrowhead\":0,\"arrowwidth\":1},\"geo\":{\"bgcolor\":\"white\",\"landcolor\":\"#E5ECF6\",\"subunitcolor\":\"white\",\"showland\":true,\"showlakes\":true,\"lakecolor\":\"white\"},\"title\":{\"x\":0.05},\"mapbox\":{\"style\":\"light\"},\"margin\":{\"b\":0,\"l\":0,\"r\":0,\"t\":30}}},\"scene\":{\"xaxis\":{\"title\":{\"text\":\"Handlebars\"}},\"yaxis\":{\"title\":{\"text\":\"Brakes\"}},\"zaxis\":{\"title\":{\"text\":\"Wheels\"}}}},                        {\"responsive\": true}                    ).then(function(){\n",
              "                            \n",
              "var gd = document.getElementById('2c86eb25-cea9-461d-9c38-9c5211943c14');\n",
              "var x = new MutationObserver(function (mutations, observer) {{\n",
              "        var display = window.getComputedStyle(gd).display;\n",
              "        if (!display || display === 'none') {{\n",
              "            console.log([gd, 'removed!']);\n",
              "            Plotly.purge(gd);\n",
              "            observer.disconnect();\n",
              "        }}\n",
              "}});\n",
              "\n",
              "// Listen for the removal of the full notebook cells\n",
              "var notebookContainer = gd.closest('#notebook-container');\n",
              "if (notebookContainer) {{\n",
              "    x.observe(notebookContainer, {childList: true});\n",
              "}}\n",
              "\n",
              "// Listen for the clearing of the current output cell\n",
              "var outputEl = gd.closest('.output');\n",
              "if (outputEl) {{\n",
              "    x.observe(outputEl, {childList: true});\n",
              "}}\n",
              "\n",
              "                        })                };            </script>        </div>"
            ]
          }
        }
      ],
      "source": [
        "# Define grid for x1 (handlebars) and x2 (brakes)\n",
        "x1 = np.linspace(0, 30, 50)\n",
        "x2 = np.linspace(0, 30, 50)\n",
        "X1, X2 = np.meshgrid(x1, x2)\n",
        "\n",
        "# Constraint surfaces (solving for x3 = wheels)\n",
        "Z_al = (b[0] - 8*X1 - 1*X2) / 10 # from aluminium\n",
        "Z_rb = (b[1] - 4*X1 - 1*X2) / 23 # from rubber\n",
        "Z_pn = (b[2] - 4*X1 - 1*X2) / 5 # from paint\n",
        "\n",
        "# Interactive 3D plot\n",
        "fig = go.Figure()\n",
        "\n",
        "fig.add_surface(x=x1, y=x2, z=Z_al, opacity=0.5, colorscale=\"Blues\", name=\"Aluminium\")\n",
        "fig.add_surface(x=x1, y=x2, z=Z_rb, opacity=0.5, colorscale=\"Oranges\", name=\"Rubber\")\n",
        "fig.add_surface(x=x1, y=x2, z=Z_pn, opacity=0.5, colorscale=\"Greens\", name=\"Paint\")\n",
        "\n",
        "# Add solution point\n",
        "fig.add_trace(go.Scatter3d(x=[x[0]], y=[x[1]], z=[x[2]],\n",
        "mode=\"markers\", marker=dict(size=6, color=\"red\"),\n",
        "name=\"Solution\"))\n",
        "\n",
        "fig.update_layout(\n",
        "scene=dict(\n",
        "xaxis_title=\"Handlebars\",\n",
        "yaxis_title=\"Brakes\",\n",
        "zaxis_title=\"Wheels\"\n",
        "))\n",
        "\n",
        "fig.show()"
      ],
      "id": "7afb70b3"
    },
    {
      "cell_type": "markdown",
      "metadata": {},
      "source": [
        "And now we can plot the intersecting planes.\n",
        "\n",
        "## Conclusions\n",
        "\n",
        "Here we solved a set of linear equations using algebra. Solving sets of\n",
        "liunear equations is closely related to regression, a topic we will\n",
        "learn about in week 6.\n",
        "\n",
        "## Extension\n",
        "\n",
        "If you have time you can explore implementing an ordinary least squares\n",
        "regression.\n",
        "\n",
        "We have data from the factory - every day for a year they recorded how\n",
        "many handlebars, brakes and wheels they made and the corresponding\n",
        "amount of each resource used. We can load the data as:"
      ],
      "id": "93c7a654-2c0e-47a7-8679-4c27b9751fc6"
    },
    {
      "cell_type": "code",
      "execution_count": 10,
      "metadata": {},
      "outputs": [
        {
          "output_type": "display_data",
          "metadata": {},
          "data": {
            "text/html": [
              "\n",
              "</div>"
            ]
          }
        }
      ],
      "source": [
        "import pandas as pd \n",
        "\n",
        "df = pd.read_csv('L4_data/factory_data.csv')\n",
        "\n",
        "df.head()"
      ],
      "id": "0884d1bc"
    },
    {
      "cell_type": "markdown",
      "metadata": {},
      "source": [
        "You might want to use `statsmodels` OLS package which you can read about\n",
        "[here](https://www.statsmodels.org/dev/generated/statsmodels.regression.linear_model.OLS.html).\n",
        "\n",
        "## You’re Done!\n",
        "\n",
        "Congratulations on completing the linear algebra practical! If you are\n",
        "still working on it, take your time.\n",
        "\n",
        "Don’t worry here about understanding every detail of the maths - focus\n",
        "on each of the operations we looked at. Do you know what is being\n",
        "calculated here? Why is that a useful thing to calculate? If you’re\n",
        "struggling to understand this just ask!\n",
        "\n",
        "It takes time to learn - remember practice makes perfect!"
      ],
      "id": "a48422ee-92fd-4002-aaa9-62c052c3bd05"
    }
  ],
  "nbformat": 4,
  "nbformat_minor": 5,
  "metadata": {
    "kernelspec": {
      "name": "python3",
      "display_name": "Python 3 (ipykernel)",
      "language": "python",
      "path": "/opt/hostedtoolcache/Python/3.10.18/x64/share/jupyter/kernels/python3"
    },
    "language_info": {
      "name": "python",
      "codemirror_mode": {
        "name": "ipython",
        "version": "3"
      },
      "file_extension": ".py",
      "mimetype": "text/x-python",
      "nbconvert_exporter": "python",
      "pygments_lexer": "ipython3",
      "version": "3.10.18"
    }
  }
}