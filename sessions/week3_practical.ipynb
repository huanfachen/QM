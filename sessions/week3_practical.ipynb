{
  "cells": [
    {
      "cell_type": "markdown",
      "metadata": {},
      "source": [
        "# Practical 3: Establishing and testing the hypothesis\n",
        "\n",
        "This week is focussed on defining research hypotheses, and using\n",
        "statistical tests to evaluate them. In particular we will use the\n",
        "Student’s T-test, and the KS distribution test.\n",
        "\n",
        "## To add a callout-note\n",
        "\n",
        "> **Note**\n",
        ">\n",
        "> This practical follows on from practical 2, so if you haven’t done\n",
        "> that yet I suggest going back and working through that first!\n",
        "\n",
        "## Loading the data\n",
        "\n",
        "We are going to look at schools perfomance data in England once again.\n",
        "\n",
        "The data is sourced from []() and is downloadable [here]().\n",
        "\n",
        "We have saved a copy of this dataset to the Github repo, in case that\n",
        "the dataset is removed from the website."
      ],
      "id": "d18a1a64-a861-43fb-b3cc-da8ad3351ca1"
    },
    {
      "cell_type": "code",
      "execution_count": 1,
      "metadata": {},
      "outputs": [
        {
          "output_type": "stream",
          "name": "stderr",
          "text": [
            "/tmp/ipykernel_12617/485655404.py:8: DtypeWarning: Columns (75,77,78,79,80,81,82,83,84,85,86,87,88,89,90,91,92,93,94,144,145,146,147,148,149,150,151,152,177,178,179,180,181,182,183,186,187,188,189,190,191,192,194,195,196,198,199,200,202,203,204,206,207,208,210,211,212,214,215,216,218,219,220,222,223,224,230,233,234,235,236,237,238,239,242,243,244,245,246,247,248,251,252,253,254,255,256,257,266,267,268,269,270,271,272,281,282,283,284,285,286,287,296,297,298,299,300,301,302,311,312,313,314,315,316,317,335,336,337,340,341,342,345,346,347,366,367,368,369,370,371,372,373,374,375,376,377,378,379,380,381,382,383,384,385,386,387,388,389,390,391,392,393,394,395,396,397,398,399,400,401,402,403,404,405,406,407,408,409,410) have mixed types. Specify dtype option on import or set low_memory=False.\n",
            "  df_ks4 = pd.read_csv("
          ]
        },
        {
          "output_type": "display_data",
          "metadata": {},
          "data": {
            "text/html": [
              "\n",
              "</div>"
            ]
          }
        }
      ],
      "source": [
        "import pandas as pd\n",
        "import matplotlib.pyplot as plt\n",
        "import scipy.stats as sps\n",
        "import numpy as np \n",
        "\n",
        "# Read CSV file, handling common missing value entries\n",
        "na_vals = [\"\", \"NA\", \"SUPP\", \"NP\", \"NE\", \"SP\", \"SN\", \"SUPPMAT\"]\n",
        "df_ks4 = pd.read_csv(\n",
        "    'L2_data/england_ks4final.csv',\n",
        "    na_values = na_vals\n",
        ")\n",
        "\n",
        "info_cols = ['RECTYPE', 'LEA', 'SCHNAME', 'TOTPUPS', 'TOWN']\n",
        "ebaccs_cols = ['EBACCAPS', 'EBACCAPS_LO', 'EBACCAPS_MID', 'EBACCAPS_HI']\n",
        "\n",
        "df_ks4 = df_ks4[info_cols + ebaccs_cols]\n",
        "\n",
        "df_ks4[['TOTPUPS']+ebaccs_cols] = df_ks4[['TOTPUPS']+ebaccs_cols].apply(pd.to_numeric, errors='coerce')\n",
        "\n",
        "df_ks4 = df_ks4[df_ks4['RECTYPE'].isin([1, 2])].copy()\n",
        "\n",
        "df_ks4.head()"
      ],
      "id": "f5d2186c"
    },
    {
      "cell_type": "markdown",
      "metadata": {},
      "source": [
        "Looking at the metadata (which you can see in ‘L2_data/ks4_meta.xlsx’)\n",
        "we can see the full meaning of each column header:\n",
        "\n",
        "-   ‘RECTYPE’ = Record type (1=mainstream school; 2=special school;\n",
        "    4=local authority; 5=National (all schools); 7=National (maintained\n",
        "    schools))\n",
        "-   ‘LEA’ = Local authority\n",
        "-   ‘SCHNAME’ = School name\n",
        "-   ‘TOTPUPS’ = Number of pupils on roll (all ages)\n",
        "-   ‘TOWN’ = School town\n",
        "-   ‘EBACCAPS’ = Average EBacc APS score per pupil\n",
        "-   ‘EBACCAPS_LO’ = Average EBacc APS score per pupil with low prior\n",
        "    attainment\n",
        "-   ‘EBACCAPS_MID’ = Average EBacc APS score per pupil with middle prior\n",
        "    attainment\n",
        "-   ‘EBACCAPS_HI’ = Average EBacc APS score per pupil with high prior\n",
        "    attainment\n",
        "\n",
        "## Research question\n",
        "\n",
        "The department for education is worried about regional inequality in\n",
        "school grades. With this in mind they’ve come up with a research\n",
        "question they’d like to address.\n",
        "\n",
        "**Research question:** Is average pupil attainment on the EBacc\n",
        "significantly different in London compared to the rest of England?\n",
        "\n",
        "To do this we’re going to use the mean comparison test to compare the\n",
        "schools in London to those outside of London.\n",
        "\n",
        "## Preparing the data\n",
        "\n",
        "### Splitting the groups"
      ],
      "id": "e1b8fdff-46b6-486a-9c70-6efa23483f76"
    },
    {
      "cell_type": "code",
      "execution_count": 2,
      "metadata": {},
      "outputs": [],
      "source": [
        "df_London = df_ks4[df_ks4['TOWN'] == 'London']\n",
        "df_London = df_London[df_London['EBACCAPS'].notna()]\n",
        "\n",
        "df_notLondon = df_ks4[df_ks4['TOWN'] != 'London']\n",
        "df_notLondon = df_notLondon[df_notLondon['EBACCAPS'].notna()]"
      ],
      "id": "37931bb6"
    },
    {
      "cell_type": "markdown",
      "metadata": {},
      "source": [
        "And lets look at the summary statistics for each group."
      ],
      "id": "876a9e65-dafe-4106-a1ba-800f86b026d0"
    },
    {
      "cell_type": "code",
      "execution_count": 3,
      "metadata": {},
      "outputs": [
        {
          "output_type": "display_data",
          "metadata": {},
          "data": {
            "text/plain": [
              "count    385.000000\n",
              "mean       3.788260\n",
              "std        1.851894\n",
              "min        0.000000\n",
              "25%        3.020000\n",
              "50%        4.290000\n",
              "75%        4.970000\n",
              "max        8.700000\n",
              "Name: EBACCAPS, dtype: float64"
            ]
          }
        }
      ],
      "source": [
        "df_London['EBACCAPS'].describe()"
      ],
      "id": "50cb3170"
    },
    {
      "cell_type": "code",
      "execution_count": 4,
      "metadata": {},
      "outputs": [
        {
          "output_type": "display_data",
          "metadata": {},
          "data": {
            "text/plain": [
              "count    4246.000000\n",
              "mean        3.395921\n",
              "std         1.659090\n",
              "min         0.000000\n",
              "25%         2.820000\n",
              "50%         3.670000\n",
              "75%         4.380000\n",
              "max         8.560000\n",
              "Name: EBACCAPS, dtype: float64"
            ]
          }
        }
      ],
      "source": [
        "df_notLondon['EBACCAPS'].describe()"
      ],
      "id": "885e5e9d"
    },
    {
      "cell_type": "markdown",
      "metadata": {},
      "source": [
        "So from looking at their summary statistics the two groups are different\n",
        "sizes. The two groups also have different means - but we want to test if\n",
        "these means are statistically significantly different.\n",
        "\n",
        "## The hypothesis test\n",
        "\n",
        "We’re now going to work through the steps of the hypothesis test\n",
        "according to the five steps discussed in the lecture:\n",
        "\n",
        "1.  Define the null and alternative hypothesis\n",
        "2.  Set you significance level\n",
        "3.  Identify the evidence\n",
        "4.  Calculate the p-value\n",
        "5.  Compare p-value with hypothesis level\n",
        "\n",
        "### Step 1\n",
        "\n",
        "What is the null and alternative hypothesis?\n",
        "\n",
        "#### Question"
      ],
      "id": "52d4cc00-a58d-4cf9-a4e0-529f9da3f420"
    },
    {
      "cell_type": "code",
      "execution_count": null,
      "metadata": {},
      "outputs": [],
      "source": [
        "H_0 = '??'\n",
        "H_1 = '??'\n",
        "\n",
        "print(f'The null hypothesis is {H_0}')\n",
        "print(f'The alternative hypothesis is {H_1}')"
      ],
      "id": "6a7afd2c-ac78-493d-87d6-d8f108d0d93a"
    },
    {
      "cell_type": "markdown",
      "metadata": {},
      "source": [
        "### Step 2"
      ],
      "id": "88601aba-171a-486b-a35b-c2b455ceb789"
    },
    {
      "cell_type": "code",
      "execution_count": 6,
      "metadata": {},
      "outputs": [],
      "source": [
        "# Set the level of statistical significance \n",
        "\n",
        "alpha = 0.05"
      ],
      "id": "c7e6e4f6"
    },
    {
      "cell_type": "markdown",
      "metadata": {},
      "source": [
        "### Step 3\n",
        "\n",
        "We already have the evidence - it’s our datasets `df_London['EBACCAPS']`\n",
        "and `df_notLondon['EBACCAPS']`.\n",
        "\n",
        "### Step 4\n",
        "\n",
        "We can use a built in function from `scipy.stats` called `ttest_ind` to\n",
        "do step 4 for us. You can read more about this function\n",
        "[here](https://docs.scipy.org/doc/scipy/reference/generated/scipy.stats.ttest_ind.html).\n",
        "\n",
        "First we need to check whether we can assume that the samples are drawn\n",
        "from populations with the same standard deviation or not. (Provided\n",
        "neither standard deviation is double the other, this should be ok)."
      ],
      "id": "f4913271-d950-413b-bf99-f144785d9b50"
    },
    {
      "cell_type": "code",
      "execution_count": 7,
      "metadata": {},
      "outputs": [
        {
          "output_type": "stream",
          "name": "stdout",
          "text": [
            "std ratio = 1.115532395766086\n",
            "Can assume equal population standard deviations."
          ]
        }
      ],
      "source": [
        "London_std = df_London['EBACCAPS'].mean()\n",
        "notLondon_std = df_notLondon['EBACCAPS'].mean()\n",
        "\n",
        "# Calculate the ratio of standard deviations \n",
        "std_ratio = London_std/notLondon_std\n",
        "\n",
        "print(\"std ratio =\", std_ratio)\n",
        "\n",
        "if std_ratio > 0.5 and std_ratio < 2:\n",
        "    print(\"Can assume equal population standard deviations.\")\n",
        "    equal_stds = True\n",
        "else:\n",
        "    print(\"Cannot assume equal population standard deviations.\")\n",
        "    equal_stds = False"
      ],
      "id": "6e3feb04"
    },
    {
      "cell_type": "markdown",
      "metadata": {},
      "source": [
        "There are two outputs from the function `scipy.stats.ttest_ind`: the\n",
        "**test statistic** and the **p value**."
      ],
      "id": "f530e54e-2965-49c0-a48f-ea68db4d53fc"
    },
    {
      "cell_type": "code",
      "execution_count": 8,
      "metadata": {},
      "outputs": [
        {
          "output_type": "stream",
          "name": "stdout",
          "text": [
            "test statistic =  4.398340904538903\n",
            "p-value = 1.1153058452679495e-05"
          ]
        }
      ],
      "source": [
        "test_stat, p_value = sps.ttest_ind(df_London['EBACCAPS'], df_notLondon['EBACCAPS'], equal_var = equal_stds)\n",
        "\n",
        "print(\"test statistic = \", test_stat)\n",
        "print(\"p-value =\", p_value)"
      ],
      "id": "7d8cac3e"
    },
    {
      "cell_type": "markdown",
      "metadata": {},
      "source": [
        "### Step 5\n",
        "\n",
        "For the final step we compare the p-value to the significance value in\n",
        "order to reach a decision.\n",
        "\n",
        "#### Question"
      ],
      "id": "4b6fac82-01d5-44c4-8cee-b5eafd27b7e0"
    },
    {
      "cell_type": "code",
      "execution_count": null,
      "metadata": {},
      "outputs": [],
      "source": [
        "if p_value ?? ?? :\n",
        "    print(f\"Reject the null hypothesis ({H_0}). Accept the alternative hypothesis ({H_1}).\")\n",
        "    print(\"Conclude that samples are drawn from populations with different means.\")\n",
        "elif p_value ?? ?? :\n",
        "    print(f\"No significant evidence to reject the null hypothesis ({H_0}).\")\n",
        "    print(\"Assume samples are drawn from populations with the same mean.\")"
      ],
      "id": "9016cf9f-377d-43ad-a47e-230a1f5711cf"
    },
    {
      "cell_type": "markdown",
      "metadata": {},
      "source": [
        "Hence we can conclude that the evidence supports there is a\n",
        "statistically significant differnece between the mean student attainment\n",
        "on the EBacc in London, versus outside of London.\n",
        "\n",
        "## A more complicated research question\n",
        "\n",
        "Now I’d also like to know: Are the distribution of EBacc scores in\n",
        "London drawn from a normal distribution?\n",
        "\n",
        "## You’re Done!\n",
        "\n",
        "Well done you’ve completed this weeks practical on establishing and\n",
        "evaluating hypothesis questions. If you are still working on it, take\n",
        "your time. And if you have any questions just ask!"
      ],
      "id": "87bc26c2-ff84-4802-9c64-49830ce1f8df"
    }
  ],
  "nbformat": 4,
  "nbformat_minor": 5,
  "metadata": {
    "kernelspec": {
      "name": "python3",
      "display_name": "Python 3 (ipykernel)",
      "language": "python",
      "path": "/opt/hostedtoolcache/Python/3.10.18/x64/share/jupyter/kernels/python3"
    },
    "language_info": {
      "name": "python",
      "codemirror_mode": {
        "name": "ipython",
        "version": "3"
      },
      "file_extension": ".py",
      "mimetype": "text/x-python",
      "nbconvert_exporter": "python",
      "pygments_lexer": "ipython3",
      "version": "3.10.18"
    }
  }
}