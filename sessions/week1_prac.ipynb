{
 "cells": [
  {
   "cell_type": "code",
   "execution_count": 2,
   "metadata": {},
   "outputs": [],
   "source": [
    "import pandas as pd\n",
    "\n",
    "# Read CSV file, skipping first 5 rows, using row 6 as header, and handling comma as thousands separator\n",
    "df_pop = pd.read_csv(\n",
    "    'L1_data/UK_census_population.csv',\n",
    "    skiprows=5,        # Skip first 5 rows. Wnhy?\n",
    "    thousands=',',     # Interpret commas as thousands separators\n",
    "    header=0          # After skipping, the first row becomes the header\n",
    ")"
   ]
  },
  {
   "cell_type": "code",
   "execution_count": 4,
   "metadata": {},
   "outputs": [
    {
     "name": "stdout",
     "output_type": "stream",
     "text": [
      "   Area code          Area name Area type  Population 2011  Population 2021  \\\n",
      "0  K04000001  England and Wales  National       56075912.0       59597542.0   \n",
      "1  E92000001            England   Country       53012456.0       56490048.0   \n",
      "2  W92000004              Wales   Country        3063456.0        3107494.0   \n",
      "3  E12000001         North East    Region        2596886.0        2647013.0   \n",
      "4  E12000002         North West    Region        7052177.0        7417397.0   \n",
      "\n",
      "   Percentage change  \n",
      "0                6.3  \n",
      "1                6.6  \n",
      "2                1.4  \n",
      "3                1.9  \n",
      "4                5.2  \n"
     ]
    }
   ],
   "source": [
    "print(df_pop.head())"
   ]
  },
  {
   "cell_type": "code",
   "execution_count": 7,
   "metadata": {},
   "outputs": [
    {
     "data": {
      "text/plain": [
       "['Area code',\n",
       " 'Area name',\n",
       " 'Area type',\n",
       " 'Population 2011',\n",
       " 'Population 2021',\n",
       " 'Percentage change']"
      ]
     },
     "execution_count": 7,
     "metadata": {},
     "output_type": "execute_result"
    }
   ],
   "source": [
    "list(df_pop.columns)"
   ]
  },
  {
   "cell_type": "code",
   "execution_count": 6,
   "metadata": {},
   "outputs": [
    {
     "name": "stdout",
     "output_type": "stream",
     "text": [
      "       Population 2011  Population 2021  Percentage change\n",
      "count     3.670000e+02     3.670000e+02         367.000000\n",
      "mean      6.563517e+05     6.981750e+05           6.063488\n",
      "std       4.108409e+06     4.372456e+06           4.550581\n",
      "min       2.203000e+03     2.054000e+03          -9.600000\n",
      "25%       1.016095e+05     1.075035e+05           3.000000\n",
      "50%       1.402020e+05     1.501580e+05           5.900000\n",
      "75%       2.563950e+05     2.788290e+05           8.850000\n",
      "max       5.607591e+07     5.959754e+07          22.100000\n"
     ]
    }
   ],
   "source": [
    "print(df_pop.describe())"
   ]
  },
  {
   "cell_type": "code",
   "execution_count": 8,
   "metadata": {},
   "outputs": [
    {
     "name": "stdout",
     "output_type": "stream",
     "text": [
      "['Area_code', 'Area_name', 'Area_type', 'Population_2011', 'Population_2021', 'Percentage_change']\n"
     ]
    }
   ],
   "source": [
    "df_pop.columns = df_pop.columns.str.replace(r'\\s+', '_', regex=True)\n",
    "print(list(df_pop.columns)) # check again"
   ]
  },
  {
   "cell_type": "code",
   "execution_count": 9,
   "metadata": {},
   "outputs": [
    {
     "data": {
      "text/plain": [
       "Local Authority    355\n",
       "Region               9\n",
       "Country              2\n",
       "National             1\n",
       "Name: Area_type, dtype: int64"
      ]
     },
     "execution_count": 9,
     "metadata": {},
     "output_type": "execute_result"
    }
   ],
   "source": [
    "df_pop.Area_type.value_counts()"
   ]
  },
  {
   "cell_type": "code",
   "execution_count": 10,
   "metadata": {},
   "outputs": [
    {
     "name": "stdout",
     "output_type": "stream",
     "text": [
      "<class 'pandas.core.frame.DataFrame'>\n",
      "RangeIndex: 369 entries, 0 to 368\n",
      "Data columns (total 6 columns):\n",
      " #   Column             Non-Null Count  Dtype  \n",
      "---  ------             --------------  -----  \n",
      " 0   Area_code          368 non-null    object \n",
      " 1   Area_name          367 non-null    object \n",
      " 2   Area_type          367 non-null    object \n",
      " 3   Population_2011    367 non-null    float64\n",
      " 4   Population_2021    367 non-null    float64\n",
      " 5   Percentage_change  367 non-null    float64\n",
      "dtypes: float64(3), object(3)\n",
      "memory usage: 17.4+ KB\n"
     ]
    }
   ],
   "source": [
    "df_pop.info()"
   ]
  },
  {
   "cell_type": "code",
   "execution_count": 14,
   "metadata": {},
   "outputs": [
    {
     "name": "stdout",
     "output_type": "stream",
     "text": [
      "        Area_code          Area_name        Area_type  Population_2011  \\\n",
      "count         368                367              367     3.670000e+02   \n",
      "unique        368                367                4              NaN   \n",
      "top     K04000001  England and Wales  Local Authority              NaN   \n",
      "freq            1                  1              355              NaN   \n",
      "mean          NaN                NaN              NaN     6.563517e+05   \n",
      "std           NaN                NaN              NaN     4.108409e+06   \n",
      "min           NaN                NaN              NaN     2.203000e+03   \n",
      "25%           NaN                NaN              NaN     1.016095e+05   \n",
      "50%           NaN                NaN              NaN     1.402020e+05   \n",
      "75%           NaN                NaN              NaN     2.563950e+05   \n",
      "max           NaN                NaN              NaN     5.607591e+07   \n",
      "\n",
      "        Population_2021  Percentage_change  \n",
      "count      3.670000e+02         367.000000  \n",
      "unique              NaN                NaN  \n",
      "top                 NaN                NaN  \n",
      "freq                NaN                NaN  \n",
      "mean       6.981750e+05           6.063488  \n",
      "std        4.372456e+06           4.550581  \n",
      "min        2.054000e+03          -9.600000  \n",
      "25%        1.075035e+05           3.000000  \n",
      "50%        1.501580e+05           5.900000  \n",
      "75%        2.788290e+05           8.850000  \n",
      "max        5.959754e+07          22.100000  \n"
     ]
    }
   ],
   "source": [
    "print(df_pop.describe(include='all'))"
   ]
  },
  {
   "cell_type": "code",
   "execution_count": 5,
   "metadata": {},
   "outputs": [
    {
     "name": "stdout",
     "output_type": "stream",
     "text": [
      "       Population 2011  Population 2021  Percentage change\n",
      "count     3.670000e+02     3.670000e+02         367.000000\n",
      "mean      6.563517e+05     6.981750e+05           6.063488\n",
      "std       4.108409e+06     4.372456e+06           4.550581\n",
      "min       2.203000e+03     2.054000e+03          -9.600000\n",
      "25%       1.016095e+05     1.075035e+05           3.000000\n",
      "50%       1.402020e+05     1.501580e+05           5.900000\n",
      "75%       2.563950e+05     2.788290e+05           8.850000\n",
      "max       5.607591e+07     5.959754e+07          22.100000\n"
     ]
    }
   ],
   "source": [
    "print(df_pop.describe())"
   ]
  },
  {
   "cell_type": "code",
   "execution_count": 15,
   "metadata": {},
   "outputs": [],
   "source": [
    "df_pop.columns = df_pop.columns.str.replace(r'\\s+', '_', regex=True)"
   ]
  },
  {
   "cell_type": "code",
   "execution_count": 16,
   "metadata": {},
   "outputs": [
    {
     "name": "stdout",
     "output_type": "stream",
     "text": [
      "<class 'pandas.core.frame.DataFrame'>\n",
      "RangeIndex: 369 entries, 0 to 368\n",
      "Data columns (total 6 columns):\n",
      " #   Column             Non-Null Count  Dtype  \n",
      "---  ------             --------------  -----  \n",
      " 0   Area_code          368 non-null    object \n",
      " 1   Area_name          367 non-null    object \n",
      " 2   Area_type          367 non-null    object \n",
      " 3   Population_2011    367 non-null    float64\n",
      " 4   Population_2021    367 non-null    float64\n",
      " 5   Percentage_change  367 non-null    float64\n",
      "dtypes: float64(3), object(3)\n",
      "memory usage: 17.4+ KB\n"
     ]
    }
   ],
   "source": [
    "df_pop.info()"
   ]
  },
  {
   "cell_type": "code",
   "execution_count": 18,
   "metadata": {},
   "outputs": [],
   "source": [
    "df_pop_la = df_pop[df_pop['Area_type'] == 'Local Authority']"
   ]
  },
  {
   "cell_type": "code",
   "execution_count": 20,
   "metadata": {},
   "outputs": [
    {
     "name": "stdout",
     "output_type": "stream",
     "text": [
      "Lower bound: -130408.0\n",
      "Upper bound: 498868.0\n",
      "How many outliers? 33\n",
      "Outliers:\n",
      "      Area_code        Area_name        Area_type  Population_2011  \\\n",
      "56   E06000047    County Durham  Local Authority         513242.0   \n",
      "60   E06000052         Cornwall  Local Authority         532273.0   \n",
      "62   E06000054        Wiltshire  Local Authority         470981.0   \n",
      "68   E06000060  Buckinghamshire  Local Authority         505283.0   \n",
      "254  E08000003       Manchester  Local Authority         503127.0   \n",
      "270  E08000019        Sheffield  Local Authority         552698.0   \n",
      "275  E08000025       Birmingham  Local Authority        1073045.0   \n",
      "282  E08000032         Bradford  Local Authority         522452.0   \n",
      "285  E08000035            Leeds  Local Authority         751485.0   \n",
      "321  E10000003   Cambridgeshire  Local Authority         621210.0   \n",
      "322  E10000006          Cumbria  Local Authority         499858.0   \n",
      "323  E10000007       Derbyshire  Local Authority         769686.0   \n",
      "324  E10000008            Devon  Local Authority         746399.0   \n",
      "325  E10000011      East Sussex  Local Authority         526671.0   \n",
      "326  E10000012            Essex  Local Authority        1393587.0   \n",
      "327  E10000013  Gloucestershire  Local Authority         596984.0   \n",
      "328  E10000014        Hampshire  Local Authority        1317788.0   \n",
      "329  E10000015    Hertfordshire  Local Authority        1116062.0   \n",
      "330  E10000016             Kent  Local Authority        1463740.0   \n",
      "331  E10000017       Lancashire  Local Authority        1171339.0   \n",
      "332  E10000018   Leicestershire  Local Authority         650489.0   \n",
      "333  E10000019     Lincolnshire  Local Authority         713653.0   \n",
      "334  E10000020          Norfolk  Local Authority         857888.0   \n",
      "335  E10000023  North Yorkshire  Local Authority         598376.0   \n",
      "336  E10000024  Nottinghamshire  Local Authority         785802.0   \n",
      "337  E10000025      Oxfordshire  Local Authority         653798.0   \n",
      "338  E10000027         Somerset  Local Authority         529972.0   \n",
      "339  E10000028    Staffordshire  Local Authority         848489.0   \n",
      "340  E10000029          Suffolk  Local Authority         728163.0   \n",
      "341  E10000030           Surrey  Local Authority        1132390.0   \n",
      "342  E10000031     Warwickshire  Local Authority         545474.0   \n",
      "343  E10000032      West Sussex  Local Authority         806892.0   \n",
      "344  E10000034   Worcestershire  Local Authority         566169.0   \n",
      "\n",
      "     Population_2021  Percentage_change  \n",
      "56          522068.0                1.7  \n",
      "60          570305.0                7.1  \n",
      "62          510330.0                8.4  \n",
      "68          553078.0                9.5  \n",
      "254         551938.0                9.7  \n",
      "270         556521.0                0.7  \n",
      "275        1144919.0                6.7  \n",
      "282         546412.0                4.6  \n",
      "285         811953.0                8.0  \n",
      "321         678849.0                9.3  \n",
      "322         499846.0                0.0  \n",
      "323         794636.0                3.2  \n",
      "324         811640.0                8.7  \n",
      "325         545847.0                3.6  \n",
      "326        1503521.0                7.9  \n",
      "327         645076.0                8.1  \n",
      "328        1400899.0                6.3  \n",
      "329        1198798.0                7.4  \n",
      "330        1576069.0                7.7  \n",
      "331        1235354.0                5.5  \n",
      "332         712366.0                9.5  \n",
      "333         768364.0                7.7  \n",
      "334         916120.0                6.8  \n",
      "335         615491.0                2.9  \n",
      "336         824822.0                5.0  \n",
      "337         725291.0               10.9  \n",
      "338         571547.0                7.8  \n",
      "339         876104.0                3.3  \n",
      "340         760688.0                4.5  \n",
      "341        1203108.0                6.2  \n",
      "342         596773.0                9.4  \n",
      "343         882676.0                9.4  \n",
      "344         603676.0                6.6  \n"
     ]
    }
   ],
   "source": [
    "# Calculate Q1, Q3, and IQR\n",
    "Q1 = df_pop_la['Population_2021'].quantile(0.25)\n",
    "Q3 = df_pop_la['Population_2021'].quantile(0.75)\n",
    "IQR = Q3 - Q1\n",
    "\n",
    "# Tukey's fences\n",
    "lower_bound = Q1 - 1.5 * IQR\n",
    "upper_bound = Q3 + 1.5 * IQR\n",
    "\n",
    "# Detect outliers\n",
    "outliers = df_pop_la[\n",
    "    (df_pop_la['Population_2021'] < lower_bound) |\n",
    "    (df_pop_la['Population_2021'] > upper_bound)\n",
    "]\n",
    "\n",
    "print(\"Lower bound:\", lower_bound)\n",
    "print(\"Upper bound:\", upper_bound)\n",
    "print(\"How many outliers?\", outliers.shape[0])\n",
    "print(\"Outliers:\\n\", outliers)"
   ]
  }
 ],
 "metadata": {
  "kernelspec": {
   "display_name": "sds2021",
   "language": "python",
   "name": "python3"
  },
  "language_info": {
   "codemirror_mode": {
    "name": "ipython",
    "version": 3
   },
   "file_extension": ".py",
   "mimetype": "text/x-python",
   "name": "python",
   "nbconvert_exporter": "python",
   "pygments_lexer": "ipython3",
   "version": "3.9.6"
  }
 },
 "nbformat": 4,
 "nbformat_minor": 2
}
