{
  "cells": [
    {
      "cell_type": "markdown",
      "metadata": {},
      "source": [
        "# Practical XXX: XXX\n",
        "\n",
        "XXX\n",
        "\n",
        "This week is focussed on XXX.\n",
        "\n",
        "## To add a callout-note\n",
        "\n",
        "> **Note**\n",
        ">\n",
        "> Suggestions for a Better Learning Experience:\n",
        ">\n",
        "> -   XXX\n",
        "\n",
        "## To add Python code without running them …\n",
        "\n",
        "``` python\n",
        "import pandas as pd\n",
        "\n",
        "# Read CSV file, skipping first 5 rows, using row 6 as header, and handling comma as thousands separator\n",
        "df_pop = pd.read_csv(\n",
        "    'L1_data/UK_census_population.csv',\n",
        "    skiprows=5,        # Skip first 5 rows. Wnhy?\n",
        "    thousands=',',     # Interpret commas as thousands separators\n",
        "    header=0           # After skipping, the first row becomes the header\n",
        ")\n",
        "\n",
        "print(df_pop.head())\n",
        "```\n",
        "\n",
        "## To add and run Python code"
      ],
      "id": "877d0779-a983-4d62-84ad-7954e8eda647"
    },
    {
      "cell_type": "code",
      "execution_count": 1,
      "metadata": {},
      "outputs": [
        {
          "output_type": "stream",
          "name": "stdout",
          "text": [
            "   Area code          Area name Area type  Population 2011  Population 2021  \\\n",
            "0  K04000001  England and Wales  National       56075912.0       59597542.0   \n",
            "1  E92000001            England   Country       53012456.0       56490048.0   \n",
            "2  W92000004              Wales   Country        3063456.0        3107494.0   \n",
            "3  E12000001         North East    Region        2596886.0        2647013.0   \n",
            "4  E12000002         North West    Region        7052177.0        7417397.0   \n",
            "\n",
            "   Percentage change  \n",
            "0                6.3  \n",
            "1                6.6  \n",
            "2                1.4  \n",
            "3                1.9  \n",
            "4                5.2  "
          ]
        }
      ],
      "source": [
        "import pandas as pd\n",
        "\n",
        "# Read CSV file, skipping first 5 rows, using row 6 as header, and handling comma as thousands separator\n",
        "df_pop = pd.read_csv(\n",
        "    'L1_data/UK_census_population.csv',\n",
        "    skiprows=5,        # Skip first 5 rows. Wnhy?\n",
        "    thousands=',',     # Interpret commas as thousands separators\n",
        "    header=0           # After skipping, the first row becomes the header\n",
        ")\n",
        "\n",
        "print(df_pop.head())"
      ],
      "id": "c39f178e"
    },
    {
      "cell_type": "markdown",
      "metadata": {},
      "source": [
        "## To add a photo - replace the path. Using relative path is also okay.\n",
        "\n",
        "![](https://huanfachen.github.io/QM/sessions/L1_images/uk_pop_csv_screenshot.jpg)"
      ],
      "id": "328ab77e-0a18-457e-aa9a-d8344a0bb2b1"
    },
    {
      "cell_type": "raw",
      "metadata": {
        "raw_mimetype": "text/html"
      },
      "source": [
        "<!-- ![](L1_images/uk_pop_csv_screenshot.jpg){width=600} -->"
      ],
      "id": "628cfac9-915a-4113-9274-e8f325e99acc"
    },
    {
      "cell_type": "markdown",
      "metadata": {},
      "source": [
        "## To add some “questions”\n",
        "\n",
        "The qmd file will be rendered as two files in sessions folder, including\n",
        "a html and ipynb format. The html file will contain both *question* and\n",
        "*answer*, while the ipynb file will contain only the *question*.\n",
        "\n",
        "For the effect, please check\n",
        "[HTML](https://huanfachen.github.io/QM/sessions/weekX_practical.html)\n",
        "and\n",
        "[ipynb](https://huanfachen.github.io/QM/sessions/weekX_practical.ipynb).\n",
        "\n",
        "### Question\n",
        "\n",
        "``` python\n",
        "if ??\n",
        "    ??\n",
        "else:\n",
        "    ??\n",
        "```\n",
        "\n",
        "### Answer\n",
        "\n",
        "``` python\n",
        "if 'Moscow' in ['Moscow', 'Beijing']:\n",
        "    print(\"Moscow is in the cities list.\")\n",
        "else:\n",
        "    print(\"Moscow is not in the cities list.\")\n",
        "```\n",
        "\n",
        "    Moscow is in the cities list.\n",
        "\n",
        "## You’re Done!\n",
        "\n",
        "Congratulations on completing the first QM practical session! If you are\n",
        "still working on it, take you time.\n",
        "\n",
        "Don’t worry about understanding every detail of the Python code — what\n",
        "matters most is knowing which functions to use for a specific task, like\n",
        "checking minimum and maximum values or generating boxplots, and knowing\n",
        "how to debug when it goes wrong. Remember, practice makes perfect."
      ],
      "id": "16f7110c-af1e-462f-bb01-f45c4d566eee"
    }
  ],
  "nbformat": 4,
  "nbformat_minor": 5,
  "metadata": {
    "kernelspec": {
      "name": "python3",
      "display_name": "Python 3 (ipykernel)",
      "language": "python",
      "path": "/opt/hostedtoolcache/Python/3.10.18/x64/share/jupyter/kernels/python3"
    },
    "language_info": {
      "name": "python",
      "codemirror_mode": {
        "name": "ipython",
        "version": "3"
      },
      "file_extension": ".py",
      "mimetype": "text/x-python",
      "nbconvert_exporter": "python",
      "pygments_lexer": "ipython3",
      "version": "3.10.18"
    }
  }
}