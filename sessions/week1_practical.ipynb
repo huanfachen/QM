{
  "cells": [
    {
      "cell_type": "markdown",
      "metadata": {},
      "source": [
        "# Practical 1: describing and representing data\n",
        "\n",
        "Starting with the ‘Basics’\n",
        "\n",
        "This week is focussed on ensuring that you’re able to access the\n",
        "teaching materials and to run Jupyter notebooks locally, as well as\n",
        "describing a dataset in Python.\n",
        "\n",
        "## Learning Outcomes\n",
        "\n",
        "-   You have familiarised yourself with how to access the lecture notes\n",
        "    and Python notebook of this module.\n",
        "-   You have familiarised yourself with running the Python notebooks\n",
        "    locally.\n",
        "-   You have familiarised yourself with describing a dataset in Python.\n",
        "\n",
        "# Starting the Practical\n",
        "\n",
        "The process for every week will be the same: download the notebook to\n",
        "your `QM` folder, switch over to `JupyterLab` (which will be running in\n",
        "Podman/Docker) and get to work. If you want to save the completed\n",
        "notebook to your Github repo, you can `add`, `commit`, and `push` the\n",
        "notebook in Git after you download it. When you’re done for the day,\n",
        "save your changes to the file (This is very important!), then `add`,\n",
        "`commit`, and `push` your work to save the completed notebook.\n",
        "\n",
        "### \n",
        "\n",
        "Suggestions for a Better Learning Experience:\n",
        "\n",
        "-   **Set your operating system and software language to English**: this\n",
        "    will make it easier to follow tutorials, search for solutions\n",
        "    online, and understand error messages.\n",
        "\n",
        "-   **Save all files to a cloud storage service**: use platforms like\n",
        "    Google Drive, OneDrive, Dropbox, or Git to ensure your work is\n",
        "    backed up and can be restored easily when the laptop gets stolen or\n",
        "    broken.\n",
        "\n",
        "-   **Avoid whitespace in file names and column names in datasets**\n",
        "\n",
        "## Set up the tools\n",
        "\n",
        "Please follow [the Setup page of\n",
        "CASA0013](https://jreades.github.io/fsds/setup/) to install and\n",
        "configure the computing platform, and [this\n",
        "page](https://jreades.github.io/fsds/sessions/week1.html) to get started\n",
        "on using the container & JupyterLab.\n",
        "\n",
        "## Download the Notebook\n",
        "\n",
        "So for this week, visit the [Week 1 of QM\n",
        "page](https://huanfachen.github.io/QM/sessions/week1.html#practical),\n",
        "you’ll see that there is a ‘preview’ link and a a ‘download’ link. If\n",
        "you click the `preview` link you will be taken to the GitHub page for\n",
        "the notebook where it has been ‘rendered’ as a web page, which is not\n",
        "editable. To make the notebook useable on *your* computer, you need to\n",
        "`download` the IPYNB file.\n",
        "\n",
        "So now:\n",
        "\n",
        "1.  Click on the `Download` link.\n",
        "2.  The file should download automatically, but *if* you see a page of\n",
        "    raw code, select `File` then `Save Page As...`.\n",
        "3.  Make sure you know where to find the file (e.g. Downloads or\n",
        "    Desktop).\n",
        "4.  Move the file to your Git repository folder\n",
        "    (e.g. `~/Documents/CASA/QM/`)\n",
        "5.  Check to see if your browser has added `.txt` to the file name:\n",
        "    -   If no, then you can move to adding the file.\n",
        "    -   If yes, then you can either fix the name in the Finder/Windows\n",
        "        Explore, or you can do this in the Terminal using\n",
        "        `mv <name_of_practical>.ipynb.txt <name_of_practical>.ipynb`\n",
        "        (you can even do this in JupyterLab’s terminal if it’s already\n",
        "        running).\n",
        "\n",
        "## Running notebooks on JupyterLab\n",
        "\n",
        "I am assuming that most of you are already running JupyterLab via Podman\n",
        "using the command.\n",
        "\n",
        "If you are a bit confused with *container*, *JupyterLab*, *terminal*, or\n",
        "*Git*, please feel free to ask any questions.\n",
        "\n",
        "## Loading data\n",
        "\n",
        "We are going to describe the population of local authorities in the UK.\n",
        "\n",
        "The data is sourced from [Office for National\n",
        "Statistics](https://www.ons.gov.uk/peoplepopulationandcommunity/populationandmigration/populationestimates/articles/howyourareahaschangedin10yearscensus2021/2022-11-08)\n",
        "and is donwloadable\n",
        "[here](https://www.ons.gov.uk/visualisations/censusareachanges/data/mapdatadownload.csv).\n",
        "\n",
        "We have saved a copy of this dataset to the Github repo, in case that\n",
        "the dataset is removed from the website."
      ],
      "id": "05181fc9-5428-41de-9534-336ddd4d306f"
    },
    {
      "cell_type": "code",
      "execution_count": 1,
      "metadata": {},
      "outputs": [
        {
          "output_type": "stream",
          "name": "stdout",
          "text": [
            "   Area code          Area name Area type  Population 2011  Population 2021  \\\n",
            "0  K04000001  England and Wales  National       56075912.0       59597542.0   \n",
            "1  E92000001            England   Country       53012456.0       56490048.0   \n",
            "2  W92000004              Wales   Country        3063456.0        3107494.0   \n",
            "3  E12000001         North East    Region        2596886.0        2647013.0   \n",
            "4  E12000002         North West    Region        7052177.0        7417397.0   \n",
            "\n",
            "   Percentage change  \n",
            "0                6.3  \n",
            "1                6.6  \n",
            "2                1.4  \n",
            "3                1.9  \n",
            "4                5.2  "
          ]
        }
      ],
      "source": [
        "import pandas as pd\n",
        "\n",
        "# Read CSV file, skipping first 5 rows, using row 6 as header, and handling comma as thousands separator\n",
        "df_pop = pd.read_csv(\n",
        "    'L1_data/UK_census_population.csv',\n",
        "    skiprows=5,        # Skip first 5 rows. Wnhy?\n",
        "    thousands=',',     # Interpret commas as thousands separators\n",
        "    header=0           # After skipping, the first row becomes the header\n",
        ")\n",
        "\n",
        "print(df_pop.head())"
      ],
      "id": "cbfb6aed"
    },
    {
      "cell_type": "markdown",
      "metadata": {},
      "source": [
        "You might wonder why skipping the first 5 rows and setting\n",
        "*thousands=‘,’*. I learnt this after opening this csv file in a text\n",
        "editor and lots of trial-and-errors.\n",
        "\n",
        "![](https://huanfachen.github.io/QM/sessions/L1_images/uk_pop_csv_screenshot.jpg)"
      ],
      "id": "d5d89413-d17d-4b8e-9b8b-f8e7b8d10283"
    },
    {
      "cell_type": "raw",
      "metadata": {
        "raw_mimetype": "text/html"
      },
      "source": [
        "<!-- ![](L1_images/uk_pop_csv_screenshot.jpg){width=600} -->"
      ],
      "id": "bfa63477-829a-42f3-b258-b5367eea88ff"
    },
    {
      "cell_type": "markdown",
      "metadata": {},
      "source": [
        "Then, we printed the first few rows of this dataset using\n",
        "*df_pop.head()*.\n",
        "\n",
        "## Describing the dataframe\n",
        "\n",
        "### Which columns are included?"
      ],
      "id": "1ec97ead-067b-4c47-a5d0-6c5ddd6bfe5b"
    },
    {
      "cell_type": "code",
      "execution_count": 2,
      "metadata": {},
      "outputs": [
        {
          "output_type": "display_data",
          "metadata": {},
          "data": {
            "text/plain": [
              "['Area code',\n",
              " 'Area name',\n",
              " 'Area type',\n",
              " 'Population 2011',\n",
              " 'Population 2021',\n",
              " 'Percentage change']"
            ]
          }
        }
      ],
      "source": [
        "list(df_pop.columns)"
      ],
      "id": "2c18c884"
    },
    {
      "cell_type": "markdown",
      "metadata": {},
      "source": [
        "It is a pain to deal with whitespaces in a column, so good practice is\n",
        "to replace the whitespaces (eg tabs, multiple spaces) within column\n",
        "names with *underscore*."
      ],
      "id": "d414676f-4fed-4228-b5d7-bbf082b13f84"
    },
    {
      "cell_type": "code",
      "execution_count": 3,
      "metadata": {},
      "outputs": [
        {
          "output_type": "stream",
          "name": "stdout",
          "text": [
            "['Area_code', 'Area_name', 'Area_type', 'Population_2011', 'Population_2021', 'Percentage_change']"
          ]
        }
      ],
      "source": [
        "df_pop.columns = df_pop.columns.str.replace(r'\\s+', '_', regex=True)\n",
        "print(list(df_pop.columns)) # check again"
      ],
      "id": "9b0cfc9c"
    },
    {
      "cell_type": "markdown",
      "metadata": {},
      "source": [
        "### How many rows & cols are included?"
      ],
      "id": "309a1242-006e-46a9-aafc-56b336d53a89"
    },
    {
      "cell_type": "code",
      "execution_count": 4,
      "metadata": {},
      "outputs": [
        {
          "output_type": "stream",
          "name": "stdout",
          "text": [
            "Rows: 369, Columns: 6"
          ]
        }
      ],
      "source": [
        "rows, cols = df_pop.shape\n",
        "print(f\"Rows: {rows}, Columns: {cols}\")"
      ],
      "id": "0ee17562"
    },
    {
      "cell_type": "markdown",
      "metadata": {},
      "source": [
        "### Geography matters\n",
        "\n",
        "This dataset contains multiple geographies of UK and different\n",
        "geographies are incomparable. We can check the *Area_type* column:"
      ],
      "id": "4a1161d0-9b1a-43a3-a9fc-49b2a5569314"
    },
    {
      "cell_type": "code",
      "execution_count": 5,
      "metadata": {},
      "outputs": [
        {
          "output_type": "stream",
          "name": "stdout",
          "text": [
            "Area_type\n",
            "Local Authority    355\n",
            "Region               9\n",
            "Country              2\n",
            "National             1\n",
            "Name: count, dtype: int64"
          ]
        }
      ],
      "source": [
        "print(df_pop.Area_type.value_counts())"
      ],
      "id": "8d1c84f2"
    },
    {
      "cell_type": "markdown",
      "metadata": {},
      "source": [
        "So there are 355 records of *Local Authority*， 9 records of *Region*, 2\n",
        "of *Country*, and 1 of ‘National’. For an introduction to these terms,\n",
        "see [this article on\n",
        "ONS](https://www.ons.gov.uk/methodology/geography/ukgeographies/administrativegeography/england).\n",
        "\n",
        "We will focus on the local authorities, so we apply a filter:"
      ],
      "id": "61c39ab1-21d7-4f0f-89fe-5e092619754a"
    },
    {
      "cell_type": "code",
      "execution_count": 6,
      "metadata": {},
      "outputs": [],
      "source": [
        "df_pop_la = df_pop[df_pop['Area_type'] == 'Local Authority']"
      ],
      "id": "3dcd7a45"
    },
    {
      "cell_type": "markdown",
      "metadata": {},
      "source": [
        "### Overview of the columns\n",
        "\n",
        "There are two pandas functions that give overview of a dataframe. -\n",
        "`info()`: shows column data types, non‑null counts, and memory usage. -\n",
        "`describe()`: shows summary statistics for numeric data (count, mean,\n",
        "std, min, quartiles, max) - `describe(include='all')`: for both numeric\n",
        "data and non‑numeric data (count, unique, top value, frequency)."
      ],
      "id": "0786a843-4b60-4319-adf6-20afb885f192"
    },
    {
      "cell_type": "code",
      "execution_count": 7,
      "metadata": {},
      "outputs": [
        {
          "output_type": "stream",
          "name": "stdout",
          "text": [
            "<class 'pandas.core.frame.DataFrame'>\n",
            "Index: 355 entries, 12 to 366\n",
            "Data columns (total 6 columns):\n",
            " #   Column             Non-Null Count  Dtype  \n",
            "---  ------             --------------  -----  \n",
            " 0   Area_code          355 non-null    object \n",
            " 1   Area_name          355 non-null    object \n",
            " 2   Area_type          355 non-null    object \n",
            " 3   Population_2011    355 non-null    float64\n",
            " 4   Population_2021    355 non-null    float64\n",
            " 5   Percentage_change  355 non-null    float64\n",
            "dtypes: float64(3), object(3)\n",
            "memory usage: 19.4+ KB\n",
            "None\n",
            "       Population_2011  Population_2021  Percentage_change\n",
            "count     3.550000e+02     3.550000e+02         355.000000\n",
            "mean      2.132867e+05     2.268876e+05           6.070423\n",
            "std       2.099628e+05     2.245442e+05           4.608338\n",
            "min       2.203000e+03     2.054000e+03          -9.600000\n",
            "25%       1.000530e+05     1.055705e+05           2.950000\n",
            "50%       1.382650e+05     1.477760e+05           5.800000\n",
            "75%       2.487865e+05     2.628895e+05           9.000000\n",
            "max       1.463740e+06     1.576069e+06          22.100000"
          ]
        }
      ],
      "source": [
        "print(df_pop_la.info())\n",
        "print(df_pop_la.describe())"
      ],
      "id": "a15acbca"
    },
    {
      "cell_type": "markdown",
      "metadata": {},
      "source": [
        "## Describing census 2021 population\n",
        "\n",
        "Now, we focus on describing the local authority population from census\n",
        "2021. The first question is, what data type is this variable -\n",
        "*nominal*, *ordinal*, *interval*, or *ratio*？\n",
        "\n",
        "### \n",
        "\n",
        "Note: The data type of a variable is different from how it’s stored in\n",
        "memory. For example, the *Area_type* variable can be encoded for\n",
        "convenience as 0 (“national”), 1 (“country”), and 2 (“local authority”).\n",
        "Although these are stored as numbers, Area_type is not truly numeric\n",
        "data — it’s an *nominal* variable.\n",
        "\n",
        "Does it make sense to say ‘The population of LA AAA is twice of LA BBB’?\n",
        "Yes. So, this variable is of *ratio* type.\n",
        "\n",
        "### max and min\n",
        "\n",
        "What is the maximum population size in census 2021?\n",
        "\n",
        "``` {Python}\n",
        "print(\"Max population: \", df_pop_la['Population_2021'].max(skipna=True))\n",
        "```\n",
        "\n",
        "Which LAs have the maximum population size? *The code above is a bit\n",
        "complicated*."
      ],
      "id": "1111e832-65ac-4ec5-a125-49cd4689bf76"
    },
    {
      "cell_type": "code",
      "execution_count": 8,
      "metadata": {},
      "outputs": [],
      "source": [
        "# print(\"{} have the maximum population of {}\".format(\", \".join(df_pop_la.loc[df_pop_la['Population_2021'] == df_pop_la['Population_2021'].max(skipna=True), 'Area_name']), df_pop_la['Population_2021'].max(skipna=True)))"
      ],
      "id": "c066b6bc"
    },
    {
      "cell_type": "markdown",
      "metadata": {},
      "source": [
        "What it does: - Finds the max population while ignoring NaNs. - Selects\n",
        "all rows with that population. - Joins their Area_name values into a\n",
        "comma-separated string.\n",
        "\n",
        "Two new Python functions here: - *format()*: Inserts variables into a\n",
        "string by replacing {} placeholders in order with provided arguments. -\n",
        "*join()*: Combines the elements of an iterable into one string using the\n",
        "given separator before .join().\n",
        "\n",
        "Which LA has the minimum population?"
      ],
      "id": "498f9e13-ce7f-4f46-be92-51cb03c874cf"
    },
    {
      "cell_type": "code",
      "execution_count": 9,
      "metadata": {},
      "outputs": [],
      "source": [
        "# print(\"{} have the minimum population of {}\".format(\", \".join(df_pop_la.loc[df_pop_la['Population_2021'] == df_pop_la['Population_2021'].min(skipna=True), 'Area_name']), df_pop_la['Population_2021'].min(skipna=True)))"
      ],
      "id": "0631fc1a"
    },
    {
      "cell_type": "markdown",
      "metadata": {},
      "source": [
        "### NA value and outliers?\n",
        "\n",
        "Are there NA values or outliers in this variable? From results of\n",
        "`info()`, there are no NA values.\n",
        "\n",
        "To detect outliers, we will implement the Tukey Fences method using\n",
        "pandas function, as pandas does not provide a built-in function for this\n",
        "method.\n",
        "\n",
        "``` {Python}\n",
        "# Calculate Q1, Q3, and IQR\n",
        "Q1 = df_pop_la['Population_2021'].quantile(0.25)\n",
        "Q3 = df_pop_la['Population_2021'].quantile(0.75)\n",
        "IQR = Q3 - Q1\n",
        "\n",
        "# Tukey's fences\n",
        "lower_bound = Q1 - 1.5 * IQR\n",
        "upper_bound = Q3 + 1.5 * IQR\n",
        "\n",
        "# Detect outliers\n",
        "outliers = df_pop_la[\n",
        "    (df_pop_la['Population_2021'] < lower_bound) |\n",
        "    (df_pop_la['Population_2021'] > upper_bound)\n",
        "]\n",
        "\n",
        "print(\"Lower bound:\", lower_bound)\n",
        "print(\"Upper bound:\", upper_bound)\n",
        "print(\"How many outliers?\", outliers.shape[0])\n",
        "print(\"Outliers:\\n\", outliers)\n",
        "```\n",
        "\n",
        "There are 33 outliers in this dataset.\n",
        "\n",
        "### Boxplot\n",
        "\n",
        "To create a boxplot of this variable:"
      ],
      "id": "ade542ae-fc75-427d-83a2-825cb043336b"
    },
    {
      "cell_type": "code",
      "execution_count": 10,
      "metadata": {},
      "outputs": [],
      "source": [
        "import matplotlib.pyplot as plt\n",
        "\n",
        "# Create boxplot\n",
        "# df_pop_la['Population_2021'].plot(kind='box', title='LA Population 2021 Boxplot')\n",
        "\n",
        "# plt.ylabel('Population')\n",
        "# plt.grid(axis='y', linestyle='--', alpha=0.6)\n",
        "# plt.show()"
      ],
      "id": "6dc94b23"
    },
    {
      "cell_type": "markdown",
      "metadata": {},
      "source": [
        "What do you observe from this boxplot?\n",
        "\n",
        "## Exploring Percentage_change\n",
        "\n",
        "*Now*, we turn to explore the variable *Percentage_change*, which\n",
        "represents the relative change from the 2011 census to 2021 census.\n",
        "\n",
        "Try completing the code below on your own. Practice makes perfect!\n",
        "\n",
        "### Checking Lists\n",
        "\n",
        "Finally, how can you check if the city of Moscow is in the list and let\n",
        "the user know if it is or is not?\n",
        "\n",
        "#### Question"
      ],
      "id": "47d56e85-2fbe-4645-9bca-2895bb5b8e56"
    },
    {
      "cell_type": "code",
      "execution_count": null,
      "metadata": {},
      "outputs": [],
      "source": [
        "if ??\n",
        "    ??\n",
        "else:\n",
        "    ??"
      ],
      "id": "b136a38e-f017-4f0f-a03b-0f5a3ae4286a"
    },
    {
      "cell_type": "markdown",
      "metadata": {},
      "source": [
        "## You’re Done!\n",
        "\n",
        "This is quite a lot to get through. If you’ve managed it in under 2\n",
        "hours then *congratulations*! Either you must have paid a lot of\n",
        "attention when doing Code Camp, or you might want to check in with us as\n",
        "to whether you should really be doing this module…\n",
        "\n",
        "### No Wait, One More Thing…\n",
        "\n",
        "You now want to add/commit/push your completed notebook to your GitHub\n",
        "reposistory. Using the Terminal you need to:\n",
        "\n",
        "1.  Navigate to your repository\n",
        "    (e.g.`$HOME/Documents/CASA/<your repository>`).\n",
        "2.  Check the status of your notebooks using `git status` (you should\n",
        "    see that `Practical-02-Foundations_1.ipynb has been modified`).\n",
        "3.  Add the *changes* to Git using\n",
        "    `git add  Practical-02-Foundations_1.ipynb`\n",
        "4.  Commit this changed notebook with a message using\n",
        "    `git commit -m \"<your message here...>\"`\n",
        "5.  Push this change to GitHub using: `git push`\n",
        "\n",
        "You should now be able to visit your repository on\n",
        "[GitHub](https://github.com/) and see that your changes are now stored\n",
        "there as well!"
      ],
      "id": "9ca5f9fc-0e40-45fe-9987-a902bcb4fd6b"
    }
  ],
  "nbformat": 4,
  "nbformat_minor": 5,
  "metadata": {
    "kernelspec": {
      "name": "python3",
      "display_name": "Python 3 (ipykernel)",
      "language": "python",
      "path": "/opt/hostedtoolcache/Python/3.10.18/x64/share/jupyter/kernels/python3"
    },
    "language_info": {
      "name": "python",
      "codemirror_mode": {
        "name": "ipython",
        "version": "3"
      },
      "file_extension": ".py",
      "mimetype": "text/x-python",
      "nbconvert_exporter": "python",
      "pygments_lexer": "ipython3",
      "version": "3.10.18"
    }
  }
}